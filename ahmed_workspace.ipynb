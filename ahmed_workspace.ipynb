{
 "cells": [
  {
   "cell_type": "markdown",
   "id": "5a2b22e0",
   "metadata": {},
   "source": [
    "# I hate my life"
   ]
  },
  {
   "cell_type": "code",
   "execution_count": 1,
   "id": "ad074937",
   "metadata": {},
   "outputs": [],
   "source": [
    "import numpy as np\n",
    "import pandas as pd\n",
    "import plotly.express as px"
   ]
  },
  {
   "cell_type": "code",
   "execution_count": 2,
   "id": "7e2abc14",
   "metadata": {},
   "outputs": [],
   "source": [
    "df = pd.read_csv('all_cornell.csv')"
   ]
  },
  {
   "cell_type": "code",
   "execution_count": 3,
   "id": "a0660bcf",
   "metadata": {},
   "outputs": [
    {
     "data": {
      "text/html": [
       "<div>\n",
       "<style scoped>\n",
       "    .dataframe tbody tr th:only-of-type {\n",
       "        vertical-align: middle;\n",
       "    }\n",
       "\n",
       "    .dataframe tbody tr th {\n",
       "        vertical-align: top;\n",
       "    }\n",
       "\n",
       "    .dataframe thead th {\n",
       "        text-align: right;\n",
       "    }\n",
       "</style>\n",
       "<table border=\"1\" class=\"dataframe\">\n",
       "  <thead>\n",
       "    <tr style=\"text-align: right;\">\n",
       "      <th></th>\n",
       "      <th>username</th>\n",
       "      <th>id</th>\n",
       "      <th>title</th>\n",
       "      <th>artist</th>\n",
       "      <th>explicit</th>\n",
       "      <th>popularity</th>\n",
       "      <th>danceability</th>\n",
       "      <th>energy</th>\n",
       "      <th>loudness</th>\n",
       "      <th>speechiness</th>\n",
       "      <th>acousticness</th>\n",
       "      <th>instrumentalness</th>\n",
       "      <th>liveness</th>\n",
       "      <th>valence</th>\n",
       "      <th>tempo</th>\n",
       "    </tr>\n",
       "  </thead>\n",
       "  <tbody>\n",
       "    <tr>\n",
       "      <th>0</th>\n",
       "      <td>6cjzkudbvmwfe963clvemzwkj</td>\n",
       "      <td>3N0gL4EypJfzJ6txDnIrDS</td>\n",
       "      <td>I Know Where The Rainbow has Fallen</td>\n",
       "      <td>JANNABI</td>\n",
       "      <td>False</td>\n",
       "      <td>43</td>\n",
       "      <td>0.456</td>\n",
       "      <td>0.660</td>\n",
       "      <td>-5.480</td>\n",
       "      <td>0.0280</td>\n",
       "      <td>0.4440</td>\n",
       "      <td>0.000094</td>\n",
       "      <td>0.1120</td>\n",
       "      <td>0.246</td>\n",
       "      <td>144.014</td>\n",
       "    </tr>\n",
       "    <tr>\n",
       "      <th>1</th>\n",
       "      <td>6cjzkudbvmwfe963clvemzwkj</td>\n",
       "      <td>2d87kHwM5YByBhsU8qCDWg</td>\n",
       "      <td>land of night</td>\n",
       "      <td>JANNABI</td>\n",
       "      <td>False</td>\n",
       "      <td>32</td>\n",
       "      <td>0.347</td>\n",
       "      <td>0.482</td>\n",
       "      <td>-8.947</td>\n",
       "      <td>0.0306</td>\n",
       "      <td>0.8420</td>\n",
       "      <td>0.048400</td>\n",
       "      <td>0.2110</td>\n",
       "      <td>0.109</td>\n",
       "      <td>147.900</td>\n",
       "    </tr>\n",
       "    <tr>\n",
       "      <th>2</th>\n",
       "      <td>6cjzkudbvmwfe963clvemzwkj</td>\n",
       "      <td>2XdyebP7KxClMOse2C5iyA</td>\n",
       "      <td>Your Dog Loves You</td>\n",
       "      <td>Colde, Crush</td>\n",
       "      <td>False</td>\n",
       "      <td>2</td>\n",
       "      <td>0.667</td>\n",
       "      <td>0.233</td>\n",
       "      <td>-11.862</td>\n",
       "      <td>0.0302</td>\n",
       "      <td>0.9280</td>\n",
       "      <td>0.000027</td>\n",
       "      <td>0.1540</td>\n",
       "      <td>0.131</td>\n",
       "      <td>101.865</td>\n",
       "    </tr>\n",
       "    <tr>\n",
       "      <th>3</th>\n",
       "      <td>6cjzkudbvmwfe963clvemzwkj</td>\n",
       "      <td>2BkpDA0AyGPHzyae6wWtZW</td>\n",
       "      <td>Sigh (Feat. GIRIBOY)</td>\n",
       "      <td>BIG Naughty, GIRIBOY</td>\n",
       "      <td>False</td>\n",
       "      <td>40</td>\n",
       "      <td>0.697</td>\n",
       "      <td>0.437</td>\n",
       "      <td>-7.731</td>\n",
       "      <td>0.0491</td>\n",
       "      <td>0.6740</td>\n",
       "      <td>0.000000</td>\n",
       "      <td>0.0778</td>\n",
       "      <td>0.326</td>\n",
       "      <td>119.724</td>\n",
       "    </tr>\n",
       "    <tr>\n",
       "      <th>4</th>\n",
       "      <td>6cjzkudbvmwfe963clvemzwkj</td>\n",
       "      <td>0BFtp5qYodX3PCaSwYPa0G</td>\n",
       "      <td>NAPPA 나빠</td>\n",
       "      <td>Crush</td>\n",
       "      <td>False</td>\n",
       "      <td>0</td>\n",
       "      <td>0.561</td>\n",
       "      <td>0.542</td>\n",
       "      <td>-7.947</td>\n",
       "      <td>0.2580</td>\n",
       "      <td>0.3940</td>\n",
       "      <td>0.000000</td>\n",
       "      <td>0.1730</td>\n",
       "      <td>0.536</td>\n",
       "      <td>161.867</td>\n",
       "    </tr>\n",
       "    <tr>\n",
       "      <th>...</th>\n",
       "      <td>...</td>\n",
       "      <td>...</td>\n",
       "      <td>...</td>\n",
       "      <td>...</td>\n",
       "      <td>...</td>\n",
       "      <td>...</td>\n",
       "      <td>...</td>\n",
       "      <td>...</td>\n",
       "      <td>...</td>\n",
       "      <td>...</td>\n",
       "      <td>...</td>\n",
       "      <td>...</td>\n",
       "      <td>...</td>\n",
       "      <td>...</td>\n",
       "      <td>...</td>\n",
       "    </tr>\n",
       "    <tr>\n",
       "      <th>48637</th>\n",
       "      <td>kaybae.</td>\n",
       "      <td>7Lbxvt42JsNSKVCaN63qhD</td>\n",
       "      <td>Wonderful Christmastime [Edited Version] - Rem...</td>\n",
       "      <td>Paul McCartney</td>\n",
       "      <td>False</td>\n",
       "      <td>26</td>\n",
       "      <td>0.774</td>\n",
       "      <td>0.511</td>\n",
       "      <td>-8.914</td>\n",
       "      <td>0.0319</td>\n",
       "      <td>0.3220</td>\n",
       "      <td>0.000000</td>\n",
       "      <td>0.0672</td>\n",
       "      <td>0.771</td>\n",
       "      <td>94.736</td>\n",
       "    </tr>\n",
       "    <tr>\n",
       "      <th>48638</th>\n",
       "      <td>kaybae.</td>\n",
       "      <td>6tjituizSxwSmBB5vtgHZE</td>\n",
       "      <td>Holly Jolly Christmas</td>\n",
       "      <td>Michael Bublé</td>\n",
       "      <td>False</td>\n",
       "      <td>47</td>\n",
       "      <td>0.647</td>\n",
       "      <td>0.465</td>\n",
       "      <td>-8.308</td>\n",
       "      <td>0.0428</td>\n",
       "      <td>0.8650</td>\n",
       "      <td>0.000000</td>\n",
       "      <td>0.0882</td>\n",
       "      <td>0.699</td>\n",
       "      <td>151.251</td>\n",
       "    </tr>\n",
       "    <tr>\n",
       "      <th>48639</th>\n",
       "      <td>kaybae.</td>\n",
       "      <td>3hK0tQgnfjXwaCd0oHV0u2</td>\n",
       "      <td>K For Christmas</td>\n",
       "      <td>Lil Mosey</td>\n",
       "      <td>True</td>\n",
       "      <td>38</td>\n",
       "      <td>0.707</td>\n",
       "      <td>0.530</td>\n",
       "      <td>-9.471</td>\n",
       "      <td>0.0789</td>\n",
       "      <td>0.2340</td>\n",
       "      <td>0.004400</td>\n",
       "      <td>0.1120</td>\n",
       "      <td>0.471</td>\n",
       "      <td>189.008</td>\n",
       "    </tr>\n",
       "    <tr>\n",
       "      <th>48640</th>\n",
       "      <td>kaybae.</td>\n",
       "      <td>1ADjWm8QNhgNV8yCNNgQ1T</td>\n",
       "      <td>Santa Tell Me</td>\n",
       "      <td>Ariana Grande</td>\n",
       "      <td>False</td>\n",
       "      <td>0</td>\n",
       "      <td>0.464</td>\n",
       "      <td>0.630</td>\n",
       "      <td>-7.337</td>\n",
       "      <td>0.1820</td>\n",
       "      <td>0.0464</td>\n",
       "      <td>0.000000</td>\n",
       "      <td>0.2950</td>\n",
       "      <td>0.527</td>\n",
       "      <td>132.960</td>\n",
       "    </tr>\n",
       "    <tr>\n",
       "      <th>48641</th>\n",
       "      <td>kaybae.</td>\n",
       "      <td>4z8sz6E4YyFuEkv5o7IJni</td>\n",
       "      <td>Mary, Did You Know?</td>\n",
       "      <td>Pentatonix</td>\n",
       "      <td>False</td>\n",
       "      <td>57</td>\n",
       "      <td>0.497</td>\n",
       "      <td>0.312</td>\n",
       "      <td>-9.088</td>\n",
       "      <td>0.0269</td>\n",
       "      <td>0.3020</td>\n",
       "      <td>0.000000</td>\n",
       "      <td>0.0968</td>\n",
       "      <td>0.177</td>\n",
       "      <td>105.036</td>\n",
       "    </tr>\n",
       "  </tbody>\n",
       "</table>\n",
       "<p>48642 rows × 15 columns</p>\n",
       "</div>"
      ],
      "text/plain": [
       "                        username                      id  \\\n",
       "0      6cjzkudbvmwfe963clvemzwkj  3N0gL4EypJfzJ6txDnIrDS   \n",
       "1      6cjzkudbvmwfe963clvemzwkj  2d87kHwM5YByBhsU8qCDWg   \n",
       "2      6cjzkudbvmwfe963clvemzwkj  2XdyebP7KxClMOse2C5iyA   \n",
       "3      6cjzkudbvmwfe963clvemzwkj  2BkpDA0AyGPHzyae6wWtZW   \n",
       "4      6cjzkudbvmwfe963clvemzwkj  0BFtp5qYodX3PCaSwYPa0G   \n",
       "...                          ...                     ...   \n",
       "48637                    kaybae.  7Lbxvt42JsNSKVCaN63qhD   \n",
       "48638                    kaybae.  6tjituizSxwSmBB5vtgHZE   \n",
       "48639                    kaybae.  3hK0tQgnfjXwaCd0oHV0u2   \n",
       "48640                    kaybae.  1ADjWm8QNhgNV8yCNNgQ1T   \n",
       "48641                    kaybae.  4z8sz6E4YyFuEkv5o7IJni   \n",
       "\n",
       "                                                   title  \\\n",
       "0                    I Know Where The Rainbow has Fallen   \n",
       "1                                          land of night   \n",
       "2                                     Your Dog Loves You   \n",
       "3                                   Sigh (Feat. GIRIBOY)   \n",
       "4                                               NAPPA 나빠   \n",
       "...                                                  ...   \n",
       "48637  Wonderful Christmastime [Edited Version] - Rem...   \n",
       "48638                              Holly Jolly Christmas   \n",
       "48639                                    K For Christmas   \n",
       "48640                                      Santa Tell Me   \n",
       "48641                                Mary, Did You Know?   \n",
       "\n",
       "                     artist  explicit  popularity  danceability  energy  \\\n",
       "0                   JANNABI     False          43         0.456   0.660   \n",
       "1                   JANNABI     False          32         0.347   0.482   \n",
       "2              Colde, Crush     False           2         0.667   0.233   \n",
       "3      BIG Naughty, GIRIBOY     False          40         0.697   0.437   \n",
       "4                     Crush     False           0         0.561   0.542   \n",
       "...                     ...       ...         ...           ...     ...   \n",
       "48637        Paul McCartney     False          26         0.774   0.511   \n",
       "48638         Michael Bublé     False          47         0.647   0.465   \n",
       "48639             Lil Mosey      True          38         0.707   0.530   \n",
       "48640         Ariana Grande     False           0         0.464   0.630   \n",
       "48641            Pentatonix     False          57         0.497   0.312   \n",
       "\n",
       "       loudness  speechiness  acousticness  instrumentalness  liveness  \\\n",
       "0        -5.480       0.0280        0.4440          0.000094    0.1120   \n",
       "1        -8.947       0.0306        0.8420          0.048400    0.2110   \n",
       "2       -11.862       0.0302        0.9280          0.000027    0.1540   \n",
       "3        -7.731       0.0491        0.6740          0.000000    0.0778   \n",
       "4        -7.947       0.2580        0.3940          0.000000    0.1730   \n",
       "...         ...          ...           ...               ...       ...   \n",
       "48637    -8.914       0.0319        0.3220          0.000000    0.0672   \n",
       "48638    -8.308       0.0428        0.8650          0.000000    0.0882   \n",
       "48639    -9.471       0.0789        0.2340          0.004400    0.1120   \n",
       "48640    -7.337       0.1820        0.0464          0.000000    0.2950   \n",
       "48641    -9.088       0.0269        0.3020          0.000000    0.0968   \n",
       "\n",
       "       valence    tempo  \n",
       "0        0.246  144.014  \n",
       "1        0.109  147.900  \n",
       "2        0.131  101.865  \n",
       "3        0.326  119.724  \n",
       "4        0.536  161.867  \n",
       "...        ...      ...  \n",
       "48637    0.771   94.736  \n",
       "48638    0.699  151.251  \n",
       "48639    0.471  189.008  \n",
       "48640    0.527  132.960  \n",
       "48641    0.177  105.036  \n",
       "\n",
       "[48642 rows x 15 columns]"
      ]
     },
     "execution_count": 3,
     "metadata": {},
     "output_type": "execute_result"
    }
   ],
   "source": [
    "df #af"
   ]
  },
  {
   "cell_type": "code",
   "execution_count": 9,
   "id": "6a5369c3",
   "metadata": {},
   "outputs": [],
   "source": [
    "df_dem = pd.read_csv('all_cornell_demographics_042623.csv')"
   ]
  },
  {
   "cell_type": "code",
   "execution_count": 7,
   "id": "098ed25b",
   "metadata": {},
   "outputs": [],
   "source": [
    "# Everyone Must Enjoy This Much, Much Better Way To Do Profile Averages\n",
    "# https://i.redd.it/8cqet3pe6n951.jpg\n",
    "profile_avg = df.groupby(['username']).mean()"
   ]
  },
  {
   "cell_type": "code",
   "execution_count": 10,
   "id": "12ec0c7b",
   "metadata": {},
   "outputs": [],
   "source": [
    "profile_avg_merged = pd.merge(profile_avg, df_dem, on='username')"
   ]
  },
  {
   "cell_type": "code",
   "execution_count": 18,
   "id": "0953d75b",
   "metadata": {},
   "outputs": [],
   "source": [
    "values_of_interest = ['popularity', 'danceability', 'energy', 'loudness', 'speechiness', 'acousticness', 'instrumentalness', 'liveness', 'valence', 'tempo']\n",
    "\n",
    "for v in values_of_interest:\n",
    "    profile_avg_merged[v] = profile_avg_merged[v] / np.linalg.norm(profile_avg_merged[v])"
   ]
  },
  {
   "cell_type": "code",
   "execution_count": 19,
   "id": "870f6c96",
   "metadata": {},
   "outputs": [],
   "source": [
    "melted = pd.melt(\n",
    "    profile_avg_merged,\n",
    "    id_vars=['username', 'Q1', 'Q2', 'Q3', 'Q4'],\n",
    "    value_vars=['popularity', 'danceability', 'energy', 'loudness', 'speechiness', 'acousticness', 'instrumentalness', 'liveness', 'valence', 'tempo']\n",
    ")"
   ]
  },
  {
   "cell_type": "code",
   "execution_count": 20,
   "id": "71264a87",
   "metadata": {},
   "outputs": [
    {
     "data": {
      "text/html": [
       "<div>\n",
       "<style scoped>\n",
       "    .dataframe tbody tr th:only-of-type {\n",
       "        vertical-align: middle;\n",
       "    }\n",
       "\n",
       "    .dataframe tbody tr th {\n",
       "        vertical-align: top;\n",
       "    }\n",
       "\n",
       "    .dataframe thead th {\n",
       "        text-align: right;\n",
       "    }\n",
       "</style>\n",
       "<table border=\"1\" class=\"dataframe\">\n",
       "  <thead>\n",
       "    <tr style=\"text-align: right;\">\n",
       "      <th></th>\n",
       "      <th>username</th>\n",
       "      <th>Q1</th>\n",
       "      <th>Q2</th>\n",
       "      <th>Q3</th>\n",
       "      <th>Q4</th>\n",
       "      <th>variable</th>\n",
       "      <th>value</th>\n",
       "    </tr>\n",
       "  </thead>\n",
       "  <tbody>\n",
       "    <tr>\n",
       "      <th>0</th>\n",
       "      <td>12124545665</td>\n",
       "      <td>(ENG) College of Engineering</td>\n",
       "      <td>Computer Science</td>\n",
       "      <td>Undergraduate, 3rd year (2024)</td>\n",
       "      <td>Female</td>\n",
       "      <td>popularity</td>\n",
       "      <td>0.165105</td>\n",
       "    </tr>\n",
       "    <tr>\n",
       "      <th>1</th>\n",
       "      <td>12139305999</td>\n",
       "      <td>(HUMEC) College of Human Ecology</td>\n",
       "      <td>Human Biology, Health and Society</td>\n",
       "      <td>Undergraduate, 3rd year (2024)</td>\n",
       "      <td>Female</td>\n",
       "      <td>popularity</td>\n",
       "      <td>0.161916</td>\n",
       "    </tr>\n",
       "    <tr>\n",
       "      <th>2</th>\n",
       "      <td>1283949946</td>\n",
       "      <td>(AS) College of Arts and Sciences</td>\n",
       "      <td>Government</td>\n",
       "      <td>Undergraduate, 3rd year (2024)</td>\n",
       "      <td>Female</td>\n",
       "      <td>popularity</td>\n",
       "      <td>0.149882</td>\n",
       "    </tr>\n",
       "    <tr>\n",
       "      <th>3</th>\n",
       "      <td>1re58jm2ppu8vkex6p2lqkyvt</td>\n",
       "      <td>(ENG) College of Engineering</td>\n",
       "      <td>Biomedical Engineering</td>\n",
       "      <td>Undergraduate, 1st year (2026)</td>\n",
       "      <td>Female</td>\n",
       "      <td>popularity</td>\n",
       "      <td>0.173218</td>\n",
       "    </tr>\n",
       "    <tr>\n",
       "      <th>4</th>\n",
       "      <td>31m3onadeh4wxucgckv3fhcyeoqu</td>\n",
       "      <td>(ENG) College of Engineering</td>\n",
       "      <td>Operations Research and Engineering</td>\n",
       "      <td>Undergraduate, 3rd year (2024)</td>\n",
       "      <td>Male</td>\n",
       "      <td>popularity</td>\n",
       "      <td>0.194114</td>\n",
       "    </tr>\n",
       "    <tr>\n",
       "      <th>...</th>\n",
       "      <td>...</td>\n",
       "      <td>...</td>\n",
       "      <td>...</td>\n",
       "      <td>...</td>\n",
       "      <td>...</td>\n",
       "      <td>...</td>\n",
       "      <td>...</td>\n",
       "    </tr>\n",
       "    <tr>\n",
       "      <th>425</th>\n",
       "      <td>t4llwr7d08bca91rqn1ro2aau</td>\n",
       "      <td>(ILR) School of Industrial and Labor Relations</td>\n",
       "      <td>Industrial and Labor Relations</td>\n",
       "      <td>Undergraduate, 3rd year (2024)</td>\n",
       "      <td>Female</td>\n",
       "      <td>tempo</td>\n",
       "      <td>0.156851</td>\n",
       "    </tr>\n",
       "    <tr>\n",
       "      <th>426</th>\n",
       "      <td>tiffxny.lee</td>\n",
       "      <td>(AS) College of Arts and Sciences</td>\n",
       "      <td>Information Science</td>\n",
       "      <td>Undergraduate, 2nd year (2025)</td>\n",
       "      <td>Female</td>\n",
       "      <td>tempo</td>\n",
       "      <td>0.153767</td>\n",
       "    </tr>\n",
       "    <tr>\n",
       "      <th>427</th>\n",
       "      <td>vbvb101</td>\n",
       "      <td>(ENG) College of Engineering</td>\n",
       "      <td>Electrical and Computer Engineering</td>\n",
       "      <td>Undergraduate, 3rd year (2024)</td>\n",
       "      <td>Female</td>\n",
       "      <td>tempo</td>\n",
       "      <td>0.153592</td>\n",
       "    </tr>\n",
       "    <tr>\n",
       "      <th>428</th>\n",
       "      <td>vqlx3sn88fh9295cpn4z7toip</td>\n",
       "      <td>(AS) College of Arts and Sciences</td>\n",
       "      <td>Government</td>\n",
       "      <td>Undergraduate, 1st year (2026)</td>\n",
       "      <td>Female</td>\n",
       "      <td>tempo</td>\n",
       "      <td>0.168200</td>\n",
       "    </tr>\n",
       "    <tr>\n",
       "      <th>429</th>\n",
       "      <td>whc30ixinkb9qw5xkfcn6pg5z</td>\n",
       "      <td>(ENG) College of Engineering</td>\n",
       "      <td>Electrical and Computer Engineering</td>\n",
       "      <td>Graduate student</td>\n",
       "      <td>Female</td>\n",
       "      <td>tempo</td>\n",
       "      <td>0.149624</td>\n",
       "    </tr>\n",
       "  </tbody>\n",
       "</table>\n",
       "<p>430 rows × 7 columns</p>\n",
       "</div>"
      ],
      "text/plain": [
       "                         username  \\\n",
       "0                     12124545665   \n",
       "1                     12139305999   \n",
       "2                      1283949946   \n",
       "3       1re58jm2ppu8vkex6p2lqkyvt   \n",
       "4    31m3onadeh4wxucgckv3fhcyeoqu   \n",
       "..                            ...   \n",
       "425     t4llwr7d08bca91rqn1ro2aau   \n",
       "426                   tiffxny.lee   \n",
       "427                       vbvb101   \n",
       "428     vqlx3sn88fh9295cpn4z7toip   \n",
       "429     whc30ixinkb9qw5xkfcn6pg5z   \n",
       "\n",
       "                                                 Q1  \\\n",
       "0                      (ENG) College of Engineering   \n",
       "1                  (HUMEC) College of Human Ecology   \n",
       "2                 (AS) College of Arts and Sciences   \n",
       "3                      (ENG) College of Engineering   \n",
       "4                      (ENG) College of Engineering   \n",
       "..                                              ...   \n",
       "425  (ILR) School of Industrial and Labor Relations   \n",
       "426               (AS) College of Arts and Sciences   \n",
       "427                    (ENG) College of Engineering   \n",
       "428               (AS) College of Arts and Sciences   \n",
       "429                    (ENG) College of Engineering   \n",
       "\n",
       "                                      Q2                              Q3  \\\n",
       "0                       Computer Science  Undergraduate, 3rd year (2024)   \n",
       "1      Human Biology, Health and Society  Undergraduate, 3rd year (2024)   \n",
       "2                             Government  Undergraduate, 3rd year (2024)   \n",
       "3                 Biomedical Engineering  Undergraduate, 1st year (2026)   \n",
       "4    Operations Research and Engineering  Undergraduate, 3rd year (2024)   \n",
       "..                                   ...                             ...   \n",
       "425       Industrial and Labor Relations  Undergraduate, 3rd year (2024)   \n",
       "426                  Information Science  Undergraduate, 2nd year (2025)   \n",
       "427  Electrical and Computer Engineering  Undergraduate, 3rd year (2024)   \n",
       "428                           Government  Undergraduate, 1st year (2026)   \n",
       "429  Electrical and Computer Engineering                Graduate student   \n",
       "\n",
       "         Q4    variable     value  \n",
       "0    Female  popularity  0.165105  \n",
       "1    Female  popularity  0.161916  \n",
       "2    Female  popularity  0.149882  \n",
       "3    Female  popularity  0.173218  \n",
       "4      Male  popularity  0.194114  \n",
       "..      ...         ...       ...  \n",
       "425  Female       tempo  0.156851  \n",
       "426  Female       tempo  0.153767  \n",
       "427  Female       tempo  0.153592  \n",
       "428  Female       tempo  0.168200  \n",
       "429  Female       tempo  0.149624  \n",
       "\n",
       "[430 rows x 7 columns]"
      ]
     },
     "execution_count": 20,
     "metadata": {},
     "output_type": "execute_result"
    }
   ],
   "source": [
    "melted"
   ]
  },
  {
   "cell_type": "code",
   "execution_count": 43,
   "id": "50f94769",
   "metadata": {},
   "outputs": [
    {
     "name": "stderr",
     "output_type": "stream",
     "text": [
      "/Users/ahmed/anaconda3/lib/python3.9/site-packages/plotly/express/_core.py:271: FutureWarning:\n",
      "\n",
      "The frame.append method is deprecated and will be removed from pandas in a future version. Use pandas.concat instead.\n",
      "\n",
      "/Users/ahmed/anaconda3/lib/python3.9/site-packages/plotly/express/_core.py:271: FutureWarning:\n",
      "\n",
      "The frame.append method is deprecated and will be removed from pandas in a future version. Use pandas.concat instead.\n",
      "\n",
      "/Users/ahmed/anaconda3/lib/python3.9/site-packages/plotly/express/_core.py:271: FutureWarning:\n",
      "\n",
      "The frame.append method is deprecated and will be removed from pandas in a future version. Use pandas.concat instead.\n",
      "\n",
      "/Users/ahmed/anaconda3/lib/python3.9/site-packages/plotly/express/_core.py:271: FutureWarning:\n",
      "\n",
      "The frame.append method is deprecated and will be removed from pandas in a future version. Use pandas.concat instead.\n",
      "\n",
      "/Users/ahmed/anaconda3/lib/python3.9/site-packages/plotly/express/_core.py:271: FutureWarning:\n",
      "\n",
      "The frame.append method is deprecated and will be removed from pandas in a future version. Use pandas.concat instead.\n",
      "\n",
      "/Users/ahmed/anaconda3/lib/python3.9/site-packages/plotly/express/_core.py:271: FutureWarning:\n",
      "\n",
      "The frame.append method is deprecated and will be removed from pandas in a future version. Use pandas.concat instead.\n",
      "\n"
     ]
    },
    {
     "data": {
      "application/vnd.plotly.v1+json": {
       "config": {
        "plotlyServerURL": "https://plot.ly"
       },
       "data": [
        {
         "hovertemplate": "Q3=Undergraduate, 3rd year (2024)<br>value=%{r}<br>variable=%{theta}<extra></extra>",
         "legendgroup": "Undergraduate, 3rd year (2024)",
         "line": {
          "color": "#f0f921",
          "dash": "solid"
         },
         "marker": {
          "symbol": "circle"
         },
         "mode": "lines",
         "name": "Undergraduate, 3rd year (2024)",
         "r": [
          0.1651054894320999,
          0.1619155312910495,
          0.1498820034406962,
          0.19411449193645955,
          0.12758281533218088,
          0.1607310711923919,
          0.166830066748183,
          0.2024566754004442,
          0.15941911142355095,
          0.1363765030130345,
          0.15164734974410596,
          0.16023644643643592,
          0.1473627726541975,
          0.13784088360477512,
          0.13556906778720443,
          0.16975206806532167,
          0.1637993700054907,
          0.16987938861231697,
          0.16605429749356942,
          0.16563248794603908,
          0.14716831082947013,
          0.154814067043173,
          0.13404159626336615,
          0.16439853521434453,
          0.17108109102949004,
          0.15269470863601117,
          0.11986827296892677,
          0.15451330722418272,
          0.13628444992469088,
          0.17464087086170313,
          0.15902649946423528,
          0.16233082797095175,
          0.14984516585465904,
          0.16637973680901366,
          0.16709627649087488,
          0.16235524396057918,
          -0.1258765210819852,
          -0.1645547928020908,
          -0.19535586817932807,
          -0.1299332459132501,
          -0.14509180092530644,
          -0.11414607671931584,
          -0.1234884322245029,
          -0.12529651986010015,
          -0.12825509174671745,
          -0.11320502433781159,
          -0.1368253768078537,
          -0.11910995004474953,
          0.14510589652499414,
          0.10441518724321364,
          0.06907464382303079,
          0.24415099753964853,
          0.15394820649879792,
          0.15857643064635818,
          0.17183277238625577,
          0.12107335797634651,
          0.10687222454740508,
          0.11167437373313388,
          0.08874415013897742,
          0.16312866374366788,
          0.09266126711601566,
          0.1325856476387526,
          0.21589307771399333,
          0.10890210277910872,
          0.15271755009651494,
          0.07095368082924232,
          0.10721606724826786,
          0.13435551301510745,
          0.14483506638891064,
          0.13152440801862256,
          0.11146998401526034,
          0.10354362972678373,
          0.13744627524363515,
          0.22073422752818167,
          0.0847583253115188,
          0.06152041962503165,
          0.0223385918940926,
          0.03374304151514978,
          0.03870726578851285,
          0.16827059197222977,
          0.01812252796478113,
          0.04809700501471472,
          0.1140195021612007,
          0.014134646617013278,
          0.1632461177259684,
          0.15386831228985184,
          0.14738686662862263,
          0.1826735828398165,
          0.13550588050416876,
          0.1522669256527336,
          0.14969860997984696,
          0.14771640496293195,
          0.1399621231521562,
          0.14870806808725584,
          0.16977722805649667,
          0.14266753424470732,
          0.14410239780741804,
          0.13987822780850964,
          0.17226937479110216,
          0.1362169368416005,
          0.14440257497046904,
          0.1776737251585965,
          0.15192852972856896,
          0.17490066668804452,
          0.14526192716068306,
          0.16428515510294212,
          0.16974799490798256,
          0.16176889366890376,
          0.15989095882506135,
          0.1530441321151169,
          0.14621181412442993,
          0.15236534426970397,
          0.1515026083453073,
          0.15226541336653696,
          0.15393803441502976,
          0.14730231846897932,
          0.1528940994002518,
          0.15310608917857504,
          0.15685147656244366,
          0.15359214501994495,
          0.1651054894320999
         ],
         "showlegend": true,
         "subplot": "polar",
         "theta": [
          "popularity",
          "popularity",
          "popularity",
          "popularity",
          "popularity",
          "popularity",
          "popularity",
          "popularity",
          "popularity",
          "popularity",
          "popularity",
          "popularity",
          "danceability",
          "danceability",
          "danceability",
          "danceability",
          "danceability",
          "danceability",
          "danceability",
          "danceability",
          "danceability",
          "danceability",
          "danceability",
          "danceability",
          "energy",
          "energy",
          "energy",
          "energy",
          "energy",
          "energy",
          "energy",
          "energy",
          "energy",
          "energy",
          "energy",
          "energy",
          "loudness",
          "loudness",
          "loudness",
          "loudness",
          "loudness",
          "loudness",
          "loudness",
          "loudness",
          "loudness",
          "loudness",
          "loudness",
          "loudness",
          "speechiness",
          "speechiness",
          "speechiness",
          "speechiness",
          "speechiness",
          "speechiness",
          "speechiness",
          "speechiness",
          "speechiness",
          "speechiness",
          "speechiness",
          "speechiness",
          "acousticness",
          "acousticness",
          "acousticness",
          "acousticness",
          "acousticness",
          "acousticness",
          "acousticness",
          "acousticness",
          "acousticness",
          "acousticness",
          "acousticness",
          "acousticness",
          "instrumentalness",
          "instrumentalness",
          "instrumentalness",
          "instrumentalness",
          "instrumentalness",
          "instrumentalness",
          "instrumentalness",
          "instrumentalness",
          "instrumentalness",
          "instrumentalness",
          "instrumentalness",
          "instrumentalness",
          "liveness",
          "liveness",
          "liveness",
          "liveness",
          "liveness",
          "liveness",
          "liveness",
          "liveness",
          "liveness",
          "liveness",
          "liveness",
          "liveness",
          "valence",
          "valence",
          "valence",
          "valence",
          "valence",
          "valence",
          "valence",
          "valence",
          "valence",
          "valence",
          "valence",
          "valence",
          "tempo",
          "tempo",
          "tempo",
          "tempo",
          "tempo",
          "tempo",
          "tempo",
          "tempo",
          "tempo",
          "tempo",
          "tempo",
          "tempo",
          "popularity"
         ],
         "type": "scatterpolar"
        },
        {
         "hovertemplate": "Q3=Undergraduate, 1st year (2026)<br>value=%{r}<br>variable=%{theta}<extra></extra>",
         "legendgroup": "Undergraduate, 1st year (2026)",
         "line": {
          "color": "#fdca26",
          "dash": "solid"
         },
         "marker": {
          "symbol": "circle"
         },
         "mode": "lines",
         "name": "Undergraduate, 1st year (2026)",
         "r": [
          0.17321841049118505,
          0.09753499004839805,
          0.13991211525255817,
          0.12608947532766027,
          0.13290422329601265,
          0.18213924708204426,
          0.13136406346177668,
          0.18618177792764976,
          0.1472949082063796,
          0.13038413607239496,
          0.1641206064746178,
          0.12107493709397046,
          0.15523919889428608,
          0.17109150709784168,
          0.12849632585170706,
          0.17296956022427978,
          0.16669082589185472,
          0.09819520266876354,
          0.15662731510228553,
          0.2113762239531346,
          0.1544227179953238,
          0.1555429982978394,
          0.12369673920239349,
          0.20700526212920767,
          -0.12997064851019013,
          -0.20014348895543968,
          -0.12871860988767717,
          -0.1014263948174359,
          -0.1362375726529508,
          -0.12877018739414559,
          -0.18627926829410496,
          -0.09258966214824159,
          0.14357009621955086,
          0.11849844077088427,
          0.12362207986961178,
          0.14567406480007172,
          0.140829498752428,
          0.19925387126345703,
          0.09315125760473829,
          0.27229165386067194,
          0.11037483996159199,
          0.3048992132634361,
          0.11776882072050066,
          0.03703931463540574,
          0.13616848332091352,
          0.10870825494420426,
          0.21779007100275347,
          0.032216510353604025,
          0.055841441532335376,
          0.2723648426402399,
          0.03049497772656338,
          0.18850936521246772,
          0.08295841648456141,
          0.03200784463234601,
          0.20656186311717234,
          0.0019593655049645145,
          0.167976323388158,
          0.13922919321680496,
          0.15268598965180893,
          0.17321695582342614,
          0.14431308592287756,
          0.15673922611237218,
          0.14417007207130492,
          0.21480393809487403,
          0.16345089727167428,
          0.11360545845074944,
          0.17519128483218602,
          0.15239281560652138,
          0.15022319485463026,
          0.14339388981075712,
          0.14187067099155715,
          0.1928879592684704,
          0.15955948621753605,
          0.14085501659095154,
          0.15008181396268286,
          0.16339626930075976,
          0.15249497028576023,
          0.15892807041180448,
          0.14930049446068788,
          0.1682003172550735,
          0.17321841049118505
         ],
         "showlegend": true,
         "subplot": "polar",
         "theta": [
          "popularity",
          "popularity",
          "popularity",
          "popularity",
          "popularity",
          "popularity",
          "popularity",
          "popularity",
          "danceability",
          "danceability",
          "danceability",
          "danceability",
          "danceability",
          "danceability",
          "danceability",
          "danceability",
          "energy",
          "energy",
          "energy",
          "energy",
          "energy",
          "energy",
          "energy",
          "energy",
          "loudness",
          "loudness",
          "loudness",
          "loudness",
          "loudness",
          "loudness",
          "loudness",
          "loudness",
          "speechiness",
          "speechiness",
          "speechiness",
          "speechiness",
          "speechiness",
          "speechiness",
          "speechiness",
          "speechiness",
          "acousticness",
          "acousticness",
          "acousticness",
          "acousticness",
          "acousticness",
          "acousticness",
          "acousticness",
          "acousticness",
          "instrumentalness",
          "instrumentalness",
          "instrumentalness",
          "instrumentalness",
          "instrumentalness",
          "instrumentalness",
          "instrumentalness",
          "instrumentalness",
          "liveness",
          "liveness",
          "liveness",
          "liveness",
          "liveness",
          "liveness",
          "liveness",
          "liveness",
          "valence",
          "valence",
          "valence",
          "valence",
          "valence",
          "valence",
          "valence",
          "valence",
          "tempo",
          "tempo",
          "tempo",
          "tempo",
          "tempo",
          "tempo",
          "tempo",
          "tempo",
          "popularity"
         ],
         "type": "scatterpolar"
        },
        {
         "hovertemplate": "Q3=Undergraduate, 2nd year (2025)<br>value=%{r}<br>variable=%{theta}<extra></extra>",
         "legendgroup": "Undergraduate, 2nd year (2025)",
         "line": {
          "color": "#fb9f3a",
          "dash": "solid"
         },
         "marker": {
          "symbol": "circle"
         },
         "mode": "lines",
         "name": "Undergraduate, 2nd year (2025)",
         "r": [
          0.11455987759355134,
          0.13722572654498247,
          0.138356031294105,
          0.15440593181903678,
          0.17142993450369753,
          0.17372791558287617,
          0.16275272870263888,
          0.17009844076713942,
          0.1936201367254588,
          0.11765659440298817,
          0.16263571263585916,
          0.11025429722022816,
          0.14413936597120833,
          0.17861648379935074,
          0.15271173586920833,
          0.15121259559063172,
          0.1766753429969037,
          0.18435141204870287,
          0.14143911251814362,
          0.14133805837929275,
          0.14195424056255443,
          0.14406565132992102,
          0.1566561419509516,
          0.12537249014395635,
          0.17109625864954936,
          0.14644487793655594,
          0.1569494226271067,
          0.16561231229577522,
          0.13545523583862565,
          0.1448829735590317,
          0.16493786972195382,
          0.1482073809845772,
          0.13052590196080108,
          0.1324988228254807,
          0.14693676551289153,
          0.12953457737981675,
          0.14140561870630497,
          0.1683889532524245,
          0.16164680437760306,
          0.15388824997748987,
          0.17355953043566696,
          0.1668818446095809,
          -0.15257589669747343,
          -0.15621706220833903,
          -0.1255819912015929,
          -0.1372129807150721,
          -0.1911470603029248,
          -0.16766575809464054,
          -0.15977997475833153,
          -0.21193678478938474,
          -0.14144691472527587,
          -0.15140000934088563,
          -0.13331276506861162,
          -0.15813286204541815,
          -0.1104591305685129,
          -0.11241937636021859,
          0.11935732754336059,
          0.12168434098042204,
          0.26500182248098225,
          0.2629817484620177,
          0.10022352817718934,
          0.06555110112413326,
          0.12207695901004993,
          0.17515025183844338,
          0.16384238758872208,
          0.1153257386125376,
          0.19330027468788008,
          0.11775814538525436,
          0.11706468489499798,
          0.14877444602603565,
          0.1789673093138528,
          0.19450533704681705,
          0.07007801908214199,
          0.10515244061868925,
          0.1902444457147637,
          0.22285044242145102,
          0.16241322237310277,
          0.15952343044474127,
          0.15219937725141366,
          0.10226922914964387,
          0.086344389121045,
          0.14120668318555163,
          0.08591170148991331,
          0.10909678664212649,
          0.10912780517759085,
          0.2657934315523804,
          0.02377556667037997,
          0.012196476800948455,
          0.19268024229795863,
          0.06536651074799107,
          0.06018054440695766,
          0.17619773917346107,
          0.051400330372379795,
          0.23334466349722593,
          0.024665117450322172,
          0.16940306237057895,
          0.011012455111677331,
          0.014365269943354629,
          0.1407171465212871,
          0.13966951365603034,
          0.16090487012987253,
          0.16286573028030124,
          0.13729285143772146,
          0.1391030472026375,
          0.15284936691215828,
          0.13675952955434256,
          0.138953348532525,
          0.17012363788894674,
          0.1550113920350698,
          0.1521025196398142,
          0.1544802581584744,
          0.14427984754062723,
          0.13109549467885376,
          0.1437665910028953,
          0.14608732829109616,
          0.15477684316141704,
          0.14904217932309105,
          0.14909154168932598,
          0.17278996400833108,
          0.14053934516521951,
          0.13235347621042848,
          0.14467554605966326,
          0.15478020762119016,
          0.16125182774733351,
          0.1691649732199424,
          0.16368672329735337,
          0.15193153783409297,
          0.15508714371292723,
          0.15694549104758693,
          0.14498626149606342,
          0.14663197916061046,
          0.1529710704720798,
          0.1529809306472247,
          0.14219078989807515,
          0.14294714571968387,
          0.15737772169004383,
          0.16067207789033547,
          0.1536726601193451,
          0.15402635452790564,
          0.15376681392727193,
          0.11455987759355134
         ],
         "showlegend": true,
         "subplot": "polar",
         "theta": [
          "popularity",
          "popularity",
          "popularity",
          "popularity",
          "popularity",
          "popularity",
          "popularity",
          "popularity",
          "popularity",
          "popularity",
          "popularity",
          "popularity",
          "popularity",
          "popularity",
          "danceability",
          "danceability",
          "danceability",
          "danceability",
          "danceability",
          "danceability",
          "danceability",
          "danceability",
          "danceability",
          "danceability",
          "danceability",
          "danceability",
          "danceability",
          "danceability",
          "energy",
          "energy",
          "energy",
          "energy",
          "energy",
          "energy",
          "energy",
          "energy",
          "energy",
          "energy",
          "energy",
          "energy",
          "energy",
          "energy",
          "loudness",
          "loudness",
          "loudness",
          "loudness",
          "loudness",
          "loudness",
          "loudness",
          "loudness",
          "loudness",
          "loudness",
          "loudness",
          "loudness",
          "loudness",
          "loudness",
          "speechiness",
          "speechiness",
          "speechiness",
          "speechiness",
          "speechiness",
          "speechiness",
          "speechiness",
          "speechiness",
          "speechiness",
          "speechiness",
          "speechiness",
          "speechiness",
          "speechiness",
          "speechiness",
          "acousticness",
          "acousticness",
          "acousticness",
          "acousticness",
          "acousticness",
          "acousticness",
          "acousticness",
          "acousticness",
          "acousticness",
          "acousticness",
          "acousticness",
          "acousticness",
          "acousticness",
          "acousticness",
          "instrumentalness",
          "instrumentalness",
          "instrumentalness",
          "instrumentalness",
          "instrumentalness",
          "instrumentalness",
          "instrumentalness",
          "instrumentalness",
          "instrumentalness",
          "instrumentalness",
          "instrumentalness",
          "instrumentalness",
          "instrumentalness",
          "instrumentalness",
          "liveness",
          "liveness",
          "liveness",
          "liveness",
          "liveness",
          "liveness",
          "liveness",
          "liveness",
          "liveness",
          "liveness",
          "liveness",
          "liveness",
          "liveness",
          "liveness",
          "valence",
          "valence",
          "valence",
          "valence",
          "valence",
          "valence",
          "valence",
          "valence",
          "valence",
          "valence",
          "valence",
          "valence",
          "valence",
          "valence",
          "tempo",
          "tempo",
          "tempo",
          "tempo",
          "tempo",
          "tempo",
          "tempo",
          "tempo",
          "tempo",
          "tempo",
          "tempo",
          "tempo",
          "tempo",
          "tempo",
          "popularity"
         ],
         "type": "scatterpolar"
        },
        {
         "hovertemplate": "Q3=Undergraduate, 4th year (2023)<br>value=%{r}<br>variable=%{theta}<extra></extra>",
         "legendgroup": "Undergraduate, 4th year (2023)",
         "line": {
          "color": "#ed7953",
          "dash": "solid"
         },
         "marker": {
          "symbol": "circle"
         },
         "mode": "lines",
         "name": "Undergraduate, 4th year (2023)",
         "r": [
          0.1852506586948113,
          0.0863154180402017,
          0.1542695990974579,
          0.19383338141345538,
          0.08645852106742558,
          0.17271079443153545,
          0.11080250691006954,
          0.17642525238418427,
          0.1690034662873017,
          0.12270180143153311,
          0.1373699602368648,
          0.10454886879153219,
          0.15753587392024598,
          0.16343812483700237,
          0.11203818277761045,
          -0.1415696884402064,
          -0.2519304934261393,
          -0.11896986492738372,
          -0.1190648566813091,
          -0.22184505666259688,
          0.21000748358424465,
          0.12073589161676883,
          0.2189490344887173,
          0.18440400946912927,
          0.06355828659786435,
          0.1480889035379497,
          0.24976286426677652,
          0.09392778273201978,
          0.10414418113375094,
          0.23496709650847894,
          0.03587542979142564,
          0.44214689515451,
          0.002319402236869627,
          0.022332715016701404,
          0.20055375884039128,
          0.1518677317414467,
          0.14752190812636948,
          0.1376377350256551,
          0.15618141600702037,
          0.14284090495645105,
          0.15540664260901552,
          0.10828004510184945,
          0.15810596319294679,
          0.16132467391261623,
          0.12922820850378602,
          0.15210739140836865,
          0.1381846652551854,
          0.15179678459854767,
          0.15604358006512997,
          0.14697969271947972,
          0.1852506586948113
         ],
         "showlegend": true,
         "subplot": "polar",
         "theta": [
          "popularity",
          "popularity",
          "popularity",
          "popularity",
          "popularity",
          "danceability",
          "danceability",
          "danceability",
          "danceability",
          "danceability",
          "energy",
          "energy",
          "energy",
          "energy",
          "energy",
          "loudness",
          "loudness",
          "loudness",
          "loudness",
          "loudness",
          "speechiness",
          "speechiness",
          "speechiness",
          "speechiness",
          "speechiness",
          "acousticness",
          "acousticness",
          "acousticness",
          "acousticness",
          "acousticness",
          "instrumentalness",
          "instrumentalness",
          "instrumentalness",
          "instrumentalness",
          "instrumentalness",
          "liveness",
          "liveness",
          "liveness",
          "liveness",
          "liveness",
          "valence",
          "valence",
          "valence",
          "valence",
          "valence",
          "tempo",
          "tempo",
          "tempo",
          "tempo",
          "tempo",
          "popularity"
         ],
         "type": "scatterpolar"
        },
        {
         "hovertemplate": "Q3=Graduate student<br>value=%{r}<br>variable=%{theta}<extra></extra>",
         "legendgroup": "Graduate student",
         "line": {
          "color": "#d8576b",
          "dash": "solid"
         },
         "marker": {
          "symbol": "circle"
         },
         "mode": "lines",
         "name": "Graduate student",
         "r": [
          0.10939929616543306,
          0.12303124024221361,
          0.14354404267592272,
          0.12847898981587003,
          0.13469608135292577,
          0.14494428545629873,
          0.13311506565857464,
          0.13789290945474372,
          0.1299871824806185,
          -0.20453919574622478,
          -0.18660452532242622,
          -0.16734455067005138,
          0.09289357164133223,
          0.09497101585076331,
          0.07510412341458368,
          0.19078592826265423,
          0.17441935371223713,
          0.22224900241060566,
          0.2793317708447308,
          0.33979694183856546,
          0.036910226502526566,
          0.15594978744010202,
          0.13475599659851834,
          0.13659456919898452,
          0.15851848170899097,
          0.13252756381004158,
          0.14277065924612137,
          0.15190680557680447,
          0.15090356939061247,
          0.14962361426837215,
          0.10939929616543306
         ],
         "showlegend": true,
         "subplot": "polar",
         "theta": [
          "popularity",
          "popularity",
          "popularity",
          "danceability",
          "danceability",
          "danceability",
          "energy",
          "energy",
          "energy",
          "loudness",
          "loudness",
          "loudness",
          "speechiness",
          "speechiness",
          "speechiness",
          "acousticness",
          "acousticness",
          "acousticness",
          "instrumentalness",
          "instrumentalness",
          "instrumentalness",
          "liveness",
          "liveness",
          "liveness",
          "valence",
          "valence",
          "valence",
          "tempo",
          "tempo",
          "tempo",
          "popularity"
         ],
         "type": "scatterpolar"
        },
        {
         "hovertemplate": "Q3=Undergraduate, other<br>value=%{r}<br>variable=%{theta}<extra></extra>",
         "legendgroup": "Undergraduate, other",
         "line": {
          "color": "#bd3786",
          "dash": "solid"
         },
         "marker": {
          "symbol": "circle"
         },
         "mode": "lines",
         "name": "Undergraduate, other",
         "r": [
          0.11890433663904316,
          0.15118987589015753,
          0.16152754082734827,
          -0.13771161791449288,
          0.12332567513508944,
          0.1326800471074347,
          0.17709065843567953,
          0.15132174709364202,
          0.14344605128316834,
          0.15325068278503534,
          0.11890433663904316
         ],
         "showlegend": true,
         "subplot": "polar",
         "theta": [
          "popularity",
          "danceability",
          "energy",
          "loudness",
          "speechiness",
          "acousticness",
          "instrumentalness",
          "liveness",
          "valence",
          "tempo",
          "popularity"
         ],
         "type": "scatterpolar"
        }
       ],
       "layout": {
        "legend": {
         "title": {
          "text": "Q3"
         },
         "tracegroupgap": 0,
         "xanchor": "right",
         "y": -0.6,
         "yanchor": "bottom"
        },
        "margin": {
         "t": 60
        },
        "polar": {
         "angularaxis": {
          "direction": "clockwise",
          "rotation": 90
         },
         "domain": {
          "x": [
           0,
           1
          ],
          "y": [
           0,
           1
          ]
         }
        },
        "template": {
         "data": {
          "bar": [
           {
            "error_x": {
             "color": "#f2f5fa"
            },
            "error_y": {
             "color": "#f2f5fa"
            },
            "marker": {
             "line": {
              "color": "rgb(17,17,17)",
              "width": 0.5
             },
             "pattern": {
              "fillmode": "overlay",
              "size": 10,
              "solidity": 0.2
             }
            },
            "type": "bar"
           }
          ],
          "barpolar": [
           {
            "marker": {
             "line": {
              "color": "rgb(17,17,17)",
              "width": 0.5
             },
             "pattern": {
              "fillmode": "overlay",
              "size": 10,
              "solidity": 0.2
             }
            },
            "type": "barpolar"
           }
          ],
          "carpet": [
           {
            "aaxis": {
             "endlinecolor": "#A2B1C6",
             "gridcolor": "#506784",
             "linecolor": "#506784",
             "minorgridcolor": "#506784",
             "startlinecolor": "#A2B1C6"
            },
            "baxis": {
             "endlinecolor": "#A2B1C6",
             "gridcolor": "#506784",
             "linecolor": "#506784",
             "minorgridcolor": "#506784",
             "startlinecolor": "#A2B1C6"
            },
            "type": "carpet"
           }
          ],
          "choropleth": [
           {
            "colorbar": {
             "outlinewidth": 0,
             "ticks": ""
            },
            "type": "choropleth"
           }
          ],
          "contour": [
           {
            "colorbar": {
             "outlinewidth": 0,
             "ticks": ""
            },
            "colorscale": [
             [
              0,
              "#0d0887"
             ],
             [
              0.1111111111111111,
              "#46039f"
             ],
             [
              0.2222222222222222,
              "#7201a8"
             ],
             [
              0.3333333333333333,
              "#9c179e"
             ],
             [
              0.4444444444444444,
              "#bd3786"
             ],
             [
              0.5555555555555556,
              "#d8576b"
             ],
             [
              0.6666666666666666,
              "#ed7953"
             ],
             [
              0.7777777777777778,
              "#fb9f3a"
             ],
             [
              0.8888888888888888,
              "#fdca26"
             ],
             [
              1,
              "#f0f921"
             ]
            ],
            "type": "contour"
           }
          ],
          "contourcarpet": [
           {
            "colorbar": {
             "outlinewidth": 0,
             "ticks": ""
            },
            "type": "contourcarpet"
           }
          ],
          "heatmap": [
           {
            "colorbar": {
             "outlinewidth": 0,
             "ticks": ""
            },
            "colorscale": [
             [
              0,
              "#0d0887"
             ],
             [
              0.1111111111111111,
              "#46039f"
             ],
             [
              0.2222222222222222,
              "#7201a8"
             ],
             [
              0.3333333333333333,
              "#9c179e"
             ],
             [
              0.4444444444444444,
              "#bd3786"
             ],
             [
              0.5555555555555556,
              "#d8576b"
             ],
             [
              0.6666666666666666,
              "#ed7953"
             ],
             [
              0.7777777777777778,
              "#fb9f3a"
             ],
             [
              0.8888888888888888,
              "#fdca26"
             ],
             [
              1,
              "#f0f921"
             ]
            ],
            "type": "heatmap"
           }
          ],
          "heatmapgl": [
           {
            "colorbar": {
             "outlinewidth": 0,
             "ticks": ""
            },
            "colorscale": [
             [
              0,
              "#0d0887"
             ],
             [
              0.1111111111111111,
              "#46039f"
             ],
             [
              0.2222222222222222,
              "#7201a8"
             ],
             [
              0.3333333333333333,
              "#9c179e"
             ],
             [
              0.4444444444444444,
              "#bd3786"
             ],
             [
              0.5555555555555556,
              "#d8576b"
             ],
             [
              0.6666666666666666,
              "#ed7953"
             ],
             [
              0.7777777777777778,
              "#fb9f3a"
             ],
             [
              0.8888888888888888,
              "#fdca26"
             ],
             [
              1,
              "#f0f921"
             ]
            ],
            "type": "heatmapgl"
           }
          ],
          "histogram": [
           {
            "marker": {
             "pattern": {
              "fillmode": "overlay",
              "size": 10,
              "solidity": 0.2
             }
            },
            "type": "histogram"
           }
          ],
          "histogram2d": [
           {
            "colorbar": {
             "outlinewidth": 0,
             "ticks": ""
            },
            "colorscale": [
             [
              0,
              "#0d0887"
             ],
             [
              0.1111111111111111,
              "#46039f"
             ],
             [
              0.2222222222222222,
              "#7201a8"
             ],
             [
              0.3333333333333333,
              "#9c179e"
             ],
             [
              0.4444444444444444,
              "#bd3786"
             ],
             [
              0.5555555555555556,
              "#d8576b"
             ],
             [
              0.6666666666666666,
              "#ed7953"
             ],
             [
              0.7777777777777778,
              "#fb9f3a"
             ],
             [
              0.8888888888888888,
              "#fdca26"
             ],
             [
              1,
              "#f0f921"
             ]
            ],
            "type": "histogram2d"
           }
          ],
          "histogram2dcontour": [
           {
            "colorbar": {
             "outlinewidth": 0,
             "ticks": ""
            },
            "colorscale": [
             [
              0,
              "#0d0887"
             ],
             [
              0.1111111111111111,
              "#46039f"
             ],
             [
              0.2222222222222222,
              "#7201a8"
             ],
             [
              0.3333333333333333,
              "#9c179e"
             ],
             [
              0.4444444444444444,
              "#bd3786"
             ],
             [
              0.5555555555555556,
              "#d8576b"
             ],
             [
              0.6666666666666666,
              "#ed7953"
             ],
             [
              0.7777777777777778,
              "#fb9f3a"
             ],
             [
              0.8888888888888888,
              "#fdca26"
             ],
             [
              1,
              "#f0f921"
             ]
            ],
            "type": "histogram2dcontour"
           }
          ],
          "mesh3d": [
           {
            "colorbar": {
             "outlinewidth": 0,
             "ticks": ""
            },
            "type": "mesh3d"
           }
          ],
          "parcoords": [
           {
            "line": {
             "colorbar": {
              "outlinewidth": 0,
              "ticks": ""
             }
            },
            "type": "parcoords"
           }
          ],
          "pie": [
           {
            "automargin": true,
            "type": "pie"
           }
          ],
          "scatter": [
           {
            "marker": {
             "line": {
              "color": "#283442"
             }
            },
            "type": "scatter"
           }
          ],
          "scatter3d": [
           {
            "line": {
             "colorbar": {
              "outlinewidth": 0,
              "ticks": ""
             }
            },
            "marker": {
             "colorbar": {
              "outlinewidth": 0,
              "ticks": ""
             }
            },
            "type": "scatter3d"
           }
          ],
          "scattercarpet": [
           {
            "marker": {
             "colorbar": {
              "outlinewidth": 0,
              "ticks": ""
             }
            },
            "type": "scattercarpet"
           }
          ],
          "scattergeo": [
           {
            "marker": {
             "colorbar": {
              "outlinewidth": 0,
              "ticks": ""
             }
            },
            "type": "scattergeo"
           }
          ],
          "scattergl": [
           {
            "marker": {
             "line": {
              "color": "#283442"
             }
            },
            "type": "scattergl"
           }
          ],
          "scattermapbox": [
           {
            "marker": {
             "colorbar": {
              "outlinewidth": 0,
              "ticks": ""
             }
            },
            "type": "scattermapbox"
           }
          ],
          "scatterpolar": [
           {
            "marker": {
             "colorbar": {
              "outlinewidth": 0,
              "ticks": ""
             }
            },
            "type": "scatterpolar"
           }
          ],
          "scatterpolargl": [
           {
            "marker": {
             "colorbar": {
              "outlinewidth": 0,
              "ticks": ""
             }
            },
            "type": "scatterpolargl"
           }
          ],
          "scatterternary": [
           {
            "marker": {
             "colorbar": {
              "outlinewidth": 0,
              "ticks": ""
             }
            },
            "type": "scatterternary"
           }
          ],
          "surface": [
           {
            "colorbar": {
             "outlinewidth": 0,
             "ticks": ""
            },
            "colorscale": [
             [
              0,
              "#0d0887"
             ],
             [
              0.1111111111111111,
              "#46039f"
             ],
             [
              0.2222222222222222,
              "#7201a8"
             ],
             [
              0.3333333333333333,
              "#9c179e"
             ],
             [
              0.4444444444444444,
              "#bd3786"
             ],
             [
              0.5555555555555556,
              "#d8576b"
             ],
             [
              0.6666666666666666,
              "#ed7953"
             ],
             [
              0.7777777777777778,
              "#fb9f3a"
             ],
             [
              0.8888888888888888,
              "#fdca26"
             ],
             [
              1,
              "#f0f921"
             ]
            ],
            "type": "surface"
           }
          ],
          "table": [
           {
            "cells": {
             "fill": {
              "color": "#506784"
             },
             "line": {
              "color": "rgb(17,17,17)"
             }
            },
            "header": {
             "fill": {
              "color": "#2a3f5f"
             },
             "line": {
              "color": "rgb(17,17,17)"
             }
            },
            "type": "table"
           }
          ]
         },
         "layout": {
          "annotationdefaults": {
           "arrowcolor": "#f2f5fa",
           "arrowhead": 0,
           "arrowwidth": 1
          },
          "autotypenumbers": "strict",
          "coloraxis": {
           "colorbar": {
            "outlinewidth": 0,
            "ticks": ""
           }
          },
          "colorscale": {
           "diverging": [
            [
             0,
             "#8e0152"
            ],
            [
             0.1,
             "#c51b7d"
            ],
            [
             0.2,
             "#de77ae"
            ],
            [
             0.3,
             "#f1b6da"
            ],
            [
             0.4,
             "#fde0ef"
            ],
            [
             0.5,
             "#f7f7f7"
            ],
            [
             0.6,
             "#e6f5d0"
            ],
            [
             0.7,
             "#b8e186"
            ],
            [
             0.8,
             "#7fbc41"
            ],
            [
             0.9,
             "#4d9221"
            ],
            [
             1,
             "#276419"
            ]
           ],
           "sequential": [
            [
             0,
             "#0d0887"
            ],
            [
             0.1111111111111111,
             "#46039f"
            ],
            [
             0.2222222222222222,
             "#7201a8"
            ],
            [
             0.3333333333333333,
             "#9c179e"
            ],
            [
             0.4444444444444444,
             "#bd3786"
            ],
            [
             0.5555555555555556,
             "#d8576b"
            ],
            [
             0.6666666666666666,
             "#ed7953"
            ],
            [
             0.7777777777777778,
             "#fb9f3a"
            ],
            [
             0.8888888888888888,
             "#fdca26"
            ],
            [
             1,
             "#f0f921"
            ]
           ],
           "sequentialminus": [
            [
             0,
             "#0d0887"
            ],
            [
             0.1111111111111111,
             "#46039f"
            ],
            [
             0.2222222222222222,
             "#7201a8"
            ],
            [
             0.3333333333333333,
             "#9c179e"
            ],
            [
             0.4444444444444444,
             "#bd3786"
            ],
            [
             0.5555555555555556,
             "#d8576b"
            ],
            [
             0.6666666666666666,
             "#ed7953"
            ],
            [
             0.7777777777777778,
             "#fb9f3a"
            ],
            [
             0.8888888888888888,
             "#fdca26"
            ],
            [
             1,
             "#f0f921"
            ]
           ]
          },
          "colorway": [
           "#636efa",
           "#EF553B",
           "#00cc96",
           "#ab63fa",
           "#FFA15A",
           "#19d3f3",
           "#FF6692",
           "#B6E880",
           "#FF97FF",
           "#FECB52"
          ],
          "font": {
           "color": "#f2f5fa"
          },
          "geo": {
           "bgcolor": "rgb(17,17,17)",
           "lakecolor": "rgb(17,17,17)",
           "landcolor": "rgb(17,17,17)",
           "showlakes": true,
           "showland": true,
           "subunitcolor": "#506784"
          },
          "hoverlabel": {
           "align": "left"
          },
          "hovermode": "closest",
          "mapbox": {
           "style": "dark"
          },
          "paper_bgcolor": "rgb(17,17,17)",
          "plot_bgcolor": "rgb(17,17,17)",
          "polar": {
           "angularaxis": {
            "gridcolor": "#506784",
            "linecolor": "#506784",
            "ticks": ""
           },
           "bgcolor": "rgb(17,17,17)",
           "radialaxis": {
            "gridcolor": "#506784",
            "linecolor": "#506784",
            "ticks": ""
           }
          },
          "scene": {
           "xaxis": {
            "backgroundcolor": "rgb(17,17,17)",
            "gridcolor": "#506784",
            "gridwidth": 2,
            "linecolor": "#506784",
            "showbackground": true,
            "ticks": "",
            "zerolinecolor": "#C8D4E3"
           },
           "yaxis": {
            "backgroundcolor": "rgb(17,17,17)",
            "gridcolor": "#506784",
            "gridwidth": 2,
            "linecolor": "#506784",
            "showbackground": true,
            "ticks": "",
            "zerolinecolor": "#C8D4E3"
           },
           "zaxis": {
            "backgroundcolor": "rgb(17,17,17)",
            "gridcolor": "#506784",
            "gridwidth": 2,
            "linecolor": "#506784",
            "showbackground": true,
            "ticks": "",
            "zerolinecolor": "#C8D4E3"
           }
          },
          "shapedefaults": {
           "line": {
            "color": "#f2f5fa"
           }
          },
          "sliderdefaults": {
           "bgcolor": "#C8D4E3",
           "bordercolor": "rgb(17,17,17)",
           "borderwidth": 1,
           "tickwidth": 0
          },
          "ternary": {
           "aaxis": {
            "gridcolor": "#506784",
            "linecolor": "#506784",
            "ticks": ""
           },
           "baxis": {
            "gridcolor": "#506784",
            "linecolor": "#506784",
            "ticks": ""
           },
           "bgcolor": "rgb(17,17,17)",
           "caxis": {
            "gridcolor": "#506784",
            "linecolor": "#506784",
            "ticks": ""
           }
          },
          "title": {
           "x": 0.05
          },
          "updatemenudefaults": {
           "bgcolor": "#506784",
           "borderwidth": 0
          },
          "xaxis": {
           "automargin": true,
           "gridcolor": "#283442",
           "linecolor": "#506784",
           "ticks": "",
           "title": {
            "standoff": 15
           },
           "zerolinecolor": "#283442",
           "zerolinewidth": 2
          },
          "yaxis": {
           "automargin": true,
           "gridcolor": "#283442",
           "linecolor": "#506784",
           "ticks": "",
           "title": {
            "standoff": 15
           },
           "zerolinecolor": "#283442",
           "zerolinewidth": 2
          }
         }
        }
       }
      },
      "text/html": [
       "<div>                            <div id=\"4348e719-414f-4641-841a-151ba1c9bec1\" class=\"plotly-graph-div\" style=\"height:525px; width:100%;\"></div>            <script type=\"text/javascript\">                require([\"plotly\"], function(Plotly) {                    window.PLOTLYENV=window.PLOTLYENV || {};                                    if (document.getElementById(\"4348e719-414f-4641-841a-151ba1c9bec1\")) {                    Plotly.newPlot(                        \"4348e719-414f-4641-841a-151ba1c9bec1\",                        [{\"hovertemplate\":\"Q3=Undergraduate, 3rd year (2024)<br>value=%{r}<br>variable=%{theta}<extra></extra>\",\"legendgroup\":\"Undergraduate, 3rd year (2024)\",\"line\":{\"color\":\"#f0f921\",\"dash\":\"solid\"},\"marker\":{\"symbol\":\"circle\"},\"mode\":\"lines\",\"name\":\"Undergraduate, 3rd year (2024)\",\"r\":[0.1651054894320999,0.1619155312910495,0.1498820034406962,0.19411449193645955,0.12758281533218088,0.1607310711923919,0.166830066748183,0.2024566754004442,0.15941911142355095,0.1363765030130345,0.15164734974410596,0.16023644643643592,0.1473627726541975,0.13784088360477512,0.13556906778720443,0.16975206806532167,0.1637993700054907,0.16987938861231697,0.16605429749356942,0.16563248794603908,0.14716831082947013,0.154814067043173,0.13404159626336615,0.16439853521434453,0.17108109102949004,0.15269470863601117,0.11986827296892677,0.15451330722418272,0.13628444992469088,0.17464087086170313,0.15902649946423528,0.16233082797095175,0.14984516585465904,0.16637973680901366,0.16709627649087488,0.16235524396057918,-0.1258765210819852,-0.1645547928020908,-0.19535586817932807,-0.1299332459132501,-0.14509180092530644,-0.11414607671931584,-0.1234884322245029,-0.12529651986010015,-0.12825509174671745,-0.11320502433781159,-0.1368253768078537,-0.11910995004474953,0.14510589652499414,0.10441518724321364,0.06907464382303079,0.24415099753964853,0.15394820649879792,0.15857643064635818,0.17183277238625577,0.12107335797634651,0.10687222454740508,0.11167437373313388,0.08874415013897742,0.16312866374366788,0.09266126711601566,0.1325856476387526,0.21589307771399333,0.10890210277910872,0.15271755009651494,0.07095368082924232,0.10721606724826786,0.13435551301510745,0.14483506638891064,0.13152440801862256,0.11146998401526034,0.10354362972678373,0.13744627524363515,0.22073422752818167,0.0847583253115188,0.06152041962503165,0.0223385918940926,0.03374304151514978,0.03870726578851285,0.16827059197222977,0.01812252796478113,0.04809700501471472,0.1140195021612007,0.014134646617013278,0.1632461177259684,0.15386831228985184,0.14738686662862263,0.1826735828398165,0.13550588050416876,0.1522669256527336,0.14969860997984696,0.14771640496293195,0.1399621231521562,0.14870806808725584,0.16977722805649667,0.14266753424470732,0.14410239780741804,0.13987822780850964,0.17226937479110216,0.1362169368416005,0.14440257497046904,0.1776737251585965,0.15192852972856896,0.17490066668804452,0.14526192716068306,0.16428515510294212,0.16974799490798256,0.16176889366890376,0.15989095882506135,0.1530441321151169,0.14621181412442993,0.15236534426970397,0.1515026083453073,0.15226541336653696,0.15393803441502976,0.14730231846897932,0.1528940994002518,0.15310608917857504,0.15685147656244366,0.15359214501994495,0.1651054894320999],\"showlegend\":true,\"subplot\":\"polar\",\"theta\":[\"popularity\",\"popularity\",\"popularity\",\"popularity\",\"popularity\",\"popularity\",\"popularity\",\"popularity\",\"popularity\",\"popularity\",\"popularity\",\"popularity\",\"danceability\",\"danceability\",\"danceability\",\"danceability\",\"danceability\",\"danceability\",\"danceability\",\"danceability\",\"danceability\",\"danceability\",\"danceability\",\"danceability\",\"energy\",\"energy\",\"energy\",\"energy\",\"energy\",\"energy\",\"energy\",\"energy\",\"energy\",\"energy\",\"energy\",\"energy\",\"loudness\",\"loudness\",\"loudness\",\"loudness\",\"loudness\",\"loudness\",\"loudness\",\"loudness\",\"loudness\",\"loudness\",\"loudness\",\"loudness\",\"speechiness\",\"speechiness\",\"speechiness\",\"speechiness\",\"speechiness\",\"speechiness\",\"speechiness\",\"speechiness\",\"speechiness\",\"speechiness\",\"speechiness\",\"speechiness\",\"acousticness\",\"acousticness\",\"acousticness\",\"acousticness\",\"acousticness\",\"acousticness\",\"acousticness\",\"acousticness\",\"acousticness\",\"acousticness\",\"acousticness\",\"acousticness\",\"instrumentalness\",\"instrumentalness\",\"instrumentalness\",\"instrumentalness\",\"instrumentalness\",\"instrumentalness\",\"instrumentalness\",\"instrumentalness\",\"instrumentalness\",\"instrumentalness\",\"instrumentalness\",\"instrumentalness\",\"liveness\",\"liveness\",\"liveness\",\"liveness\",\"liveness\",\"liveness\",\"liveness\",\"liveness\",\"liveness\",\"liveness\",\"liveness\",\"liveness\",\"valence\",\"valence\",\"valence\",\"valence\",\"valence\",\"valence\",\"valence\",\"valence\",\"valence\",\"valence\",\"valence\",\"valence\",\"tempo\",\"tempo\",\"tempo\",\"tempo\",\"tempo\",\"tempo\",\"tempo\",\"tempo\",\"tempo\",\"tempo\",\"tempo\",\"tempo\",\"popularity\"],\"type\":\"scatterpolar\"},{\"hovertemplate\":\"Q3=Undergraduate, 1st year (2026)<br>value=%{r}<br>variable=%{theta}<extra></extra>\",\"legendgroup\":\"Undergraduate, 1st year (2026)\",\"line\":{\"color\":\"#fdca26\",\"dash\":\"solid\"},\"marker\":{\"symbol\":\"circle\"},\"mode\":\"lines\",\"name\":\"Undergraduate, 1st year (2026)\",\"r\":[0.17321841049118505,0.09753499004839805,0.13991211525255817,0.12608947532766027,0.13290422329601265,0.18213924708204426,0.13136406346177668,0.18618177792764976,0.1472949082063796,0.13038413607239496,0.1641206064746178,0.12107493709397046,0.15523919889428608,0.17109150709784168,0.12849632585170706,0.17296956022427978,0.16669082589185472,0.09819520266876354,0.15662731510228553,0.2113762239531346,0.1544227179953238,0.1555429982978394,0.12369673920239349,0.20700526212920767,-0.12997064851019013,-0.20014348895543968,-0.12871860988767717,-0.1014263948174359,-0.1362375726529508,-0.12877018739414559,-0.18627926829410496,-0.09258966214824159,0.14357009621955086,0.11849844077088427,0.12362207986961178,0.14567406480007172,0.140829498752428,0.19925387126345703,0.09315125760473829,0.27229165386067194,0.11037483996159199,0.3048992132634361,0.11776882072050066,0.03703931463540574,0.13616848332091352,0.10870825494420426,0.21779007100275347,0.032216510353604025,0.055841441532335376,0.2723648426402399,0.03049497772656338,0.18850936521246772,0.08295841648456141,0.03200784463234601,0.20656186311717234,0.0019593655049645145,0.167976323388158,0.13922919321680496,0.15268598965180893,0.17321695582342614,0.14431308592287756,0.15673922611237218,0.14417007207130492,0.21480393809487403,0.16345089727167428,0.11360545845074944,0.17519128483218602,0.15239281560652138,0.15022319485463026,0.14339388981075712,0.14187067099155715,0.1928879592684704,0.15955948621753605,0.14085501659095154,0.15008181396268286,0.16339626930075976,0.15249497028576023,0.15892807041180448,0.14930049446068788,0.1682003172550735,0.17321841049118505],\"showlegend\":true,\"subplot\":\"polar\",\"theta\":[\"popularity\",\"popularity\",\"popularity\",\"popularity\",\"popularity\",\"popularity\",\"popularity\",\"popularity\",\"danceability\",\"danceability\",\"danceability\",\"danceability\",\"danceability\",\"danceability\",\"danceability\",\"danceability\",\"energy\",\"energy\",\"energy\",\"energy\",\"energy\",\"energy\",\"energy\",\"energy\",\"loudness\",\"loudness\",\"loudness\",\"loudness\",\"loudness\",\"loudness\",\"loudness\",\"loudness\",\"speechiness\",\"speechiness\",\"speechiness\",\"speechiness\",\"speechiness\",\"speechiness\",\"speechiness\",\"speechiness\",\"acousticness\",\"acousticness\",\"acousticness\",\"acousticness\",\"acousticness\",\"acousticness\",\"acousticness\",\"acousticness\",\"instrumentalness\",\"instrumentalness\",\"instrumentalness\",\"instrumentalness\",\"instrumentalness\",\"instrumentalness\",\"instrumentalness\",\"instrumentalness\",\"liveness\",\"liveness\",\"liveness\",\"liveness\",\"liveness\",\"liveness\",\"liveness\",\"liveness\",\"valence\",\"valence\",\"valence\",\"valence\",\"valence\",\"valence\",\"valence\",\"valence\",\"tempo\",\"tempo\",\"tempo\",\"tempo\",\"tempo\",\"tempo\",\"tempo\",\"tempo\",\"popularity\"],\"type\":\"scatterpolar\"},{\"hovertemplate\":\"Q3=Undergraduate, 2nd year (2025)<br>value=%{r}<br>variable=%{theta}<extra></extra>\",\"legendgroup\":\"Undergraduate, 2nd year (2025)\",\"line\":{\"color\":\"#fb9f3a\",\"dash\":\"solid\"},\"marker\":{\"symbol\":\"circle\"},\"mode\":\"lines\",\"name\":\"Undergraduate, 2nd year (2025)\",\"r\":[0.11455987759355134,0.13722572654498247,0.138356031294105,0.15440593181903678,0.17142993450369753,0.17372791558287617,0.16275272870263888,0.17009844076713942,0.1936201367254588,0.11765659440298817,0.16263571263585916,0.11025429722022816,0.14413936597120833,0.17861648379935074,0.15271173586920833,0.15121259559063172,0.1766753429969037,0.18435141204870287,0.14143911251814362,0.14133805837929275,0.14195424056255443,0.14406565132992102,0.1566561419509516,0.12537249014395635,0.17109625864954936,0.14644487793655594,0.1569494226271067,0.16561231229577522,0.13545523583862565,0.1448829735590317,0.16493786972195382,0.1482073809845772,0.13052590196080108,0.1324988228254807,0.14693676551289153,0.12953457737981675,0.14140561870630497,0.1683889532524245,0.16164680437760306,0.15388824997748987,0.17355953043566696,0.1668818446095809,-0.15257589669747343,-0.15621706220833903,-0.1255819912015929,-0.1372129807150721,-0.1911470603029248,-0.16766575809464054,-0.15977997475833153,-0.21193678478938474,-0.14144691472527587,-0.15140000934088563,-0.13331276506861162,-0.15813286204541815,-0.1104591305685129,-0.11241937636021859,0.11935732754336059,0.12168434098042204,0.26500182248098225,0.2629817484620177,0.10022352817718934,0.06555110112413326,0.12207695901004993,0.17515025183844338,0.16384238758872208,0.1153257386125376,0.19330027468788008,0.11775814538525436,0.11706468489499798,0.14877444602603565,0.1789673093138528,0.19450533704681705,0.07007801908214199,0.10515244061868925,0.1902444457147637,0.22285044242145102,0.16241322237310277,0.15952343044474127,0.15219937725141366,0.10226922914964387,0.086344389121045,0.14120668318555163,0.08591170148991331,0.10909678664212649,0.10912780517759085,0.2657934315523804,0.02377556667037997,0.012196476800948455,0.19268024229795863,0.06536651074799107,0.06018054440695766,0.17619773917346107,0.051400330372379795,0.23334466349722593,0.024665117450322172,0.16940306237057895,0.011012455111677331,0.014365269943354629,0.1407171465212871,0.13966951365603034,0.16090487012987253,0.16286573028030124,0.13729285143772146,0.1391030472026375,0.15284936691215828,0.13675952955434256,0.138953348532525,0.17012363788894674,0.1550113920350698,0.1521025196398142,0.1544802581584744,0.14427984754062723,0.13109549467885376,0.1437665910028953,0.14608732829109616,0.15477684316141704,0.14904217932309105,0.14909154168932598,0.17278996400833108,0.14053934516521951,0.13235347621042848,0.14467554605966326,0.15478020762119016,0.16125182774733351,0.1691649732199424,0.16368672329735337,0.15193153783409297,0.15508714371292723,0.15694549104758693,0.14498626149606342,0.14663197916061046,0.1529710704720798,0.1529809306472247,0.14219078989807515,0.14294714571968387,0.15737772169004383,0.16067207789033547,0.1536726601193451,0.15402635452790564,0.15376681392727193,0.11455987759355134],\"showlegend\":true,\"subplot\":\"polar\",\"theta\":[\"popularity\",\"popularity\",\"popularity\",\"popularity\",\"popularity\",\"popularity\",\"popularity\",\"popularity\",\"popularity\",\"popularity\",\"popularity\",\"popularity\",\"popularity\",\"popularity\",\"danceability\",\"danceability\",\"danceability\",\"danceability\",\"danceability\",\"danceability\",\"danceability\",\"danceability\",\"danceability\",\"danceability\",\"danceability\",\"danceability\",\"danceability\",\"danceability\",\"energy\",\"energy\",\"energy\",\"energy\",\"energy\",\"energy\",\"energy\",\"energy\",\"energy\",\"energy\",\"energy\",\"energy\",\"energy\",\"energy\",\"loudness\",\"loudness\",\"loudness\",\"loudness\",\"loudness\",\"loudness\",\"loudness\",\"loudness\",\"loudness\",\"loudness\",\"loudness\",\"loudness\",\"loudness\",\"loudness\",\"speechiness\",\"speechiness\",\"speechiness\",\"speechiness\",\"speechiness\",\"speechiness\",\"speechiness\",\"speechiness\",\"speechiness\",\"speechiness\",\"speechiness\",\"speechiness\",\"speechiness\",\"speechiness\",\"acousticness\",\"acousticness\",\"acousticness\",\"acousticness\",\"acousticness\",\"acousticness\",\"acousticness\",\"acousticness\",\"acousticness\",\"acousticness\",\"acousticness\",\"acousticness\",\"acousticness\",\"acousticness\",\"instrumentalness\",\"instrumentalness\",\"instrumentalness\",\"instrumentalness\",\"instrumentalness\",\"instrumentalness\",\"instrumentalness\",\"instrumentalness\",\"instrumentalness\",\"instrumentalness\",\"instrumentalness\",\"instrumentalness\",\"instrumentalness\",\"instrumentalness\",\"liveness\",\"liveness\",\"liveness\",\"liveness\",\"liveness\",\"liveness\",\"liveness\",\"liveness\",\"liveness\",\"liveness\",\"liveness\",\"liveness\",\"liveness\",\"liveness\",\"valence\",\"valence\",\"valence\",\"valence\",\"valence\",\"valence\",\"valence\",\"valence\",\"valence\",\"valence\",\"valence\",\"valence\",\"valence\",\"valence\",\"tempo\",\"tempo\",\"tempo\",\"tempo\",\"tempo\",\"tempo\",\"tempo\",\"tempo\",\"tempo\",\"tempo\",\"tempo\",\"tempo\",\"tempo\",\"tempo\",\"popularity\"],\"type\":\"scatterpolar\"},{\"hovertemplate\":\"Q3=Undergraduate, 4th year (2023)<br>value=%{r}<br>variable=%{theta}<extra></extra>\",\"legendgroup\":\"Undergraduate, 4th year (2023)\",\"line\":{\"color\":\"#ed7953\",\"dash\":\"solid\"},\"marker\":{\"symbol\":\"circle\"},\"mode\":\"lines\",\"name\":\"Undergraduate, 4th year (2023)\",\"r\":[0.1852506586948113,0.0863154180402017,0.1542695990974579,0.19383338141345538,0.08645852106742558,0.17271079443153545,0.11080250691006954,0.17642525238418427,0.1690034662873017,0.12270180143153311,0.1373699602368648,0.10454886879153219,0.15753587392024598,0.16343812483700237,0.11203818277761045,-0.1415696884402064,-0.2519304934261393,-0.11896986492738372,-0.1190648566813091,-0.22184505666259688,0.21000748358424465,0.12073589161676883,0.2189490344887173,0.18440400946912927,0.06355828659786435,0.1480889035379497,0.24976286426677652,0.09392778273201978,0.10414418113375094,0.23496709650847894,0.03587542979142564,0.44214689515451,0.002319402236869627,0.022332715016701404,0.20055375884039128,0.1518677317414467,0.14752190812636948,0.1376377350256551,0.15618141600702037,0.14284090495645105,0.15540664260901552,0.10828004510184945,0.15810596319294679,0.16132467391261623,0.12922820850378602,0.15210739140836865,0.1381846652551854,0.15179678459854767,0.15604358006512997,0.14697969271947972,0.1852506586948113],\"showlegend\":true,\"subplot\":\"polar\",\"theta\":[\"popularity\",\"popularity\",\"popularity\",\"popularity\",\"popularity\",\"danceability\",\"danceability\",\"danceability\",\"danceability\",\"danceability\",\"energy\",\"energy\",\"energy\",\"energy\",\"energy\",\"loudness\",\"loudness\",\"loudness\",\"loudness\",\"loudness\",\"speechiness\",\"speechiness\",\"speechiness\",\"speechiness\",\"speechiness\",\"acousticness\",\"acousticness\",\"acousticness\",\"acousticness\",\"acousticness\",\"instrumentalness\",\"instrumentalness\",\"instrumentalness\",\"instrumentalness\",\"instrumentalness\",\"liveness\",\"liveness\",\"liveness\",\"liveness\",\"liveness\",\"valence\",\"valence\",\"valence\",\"valence\",\"valence\",\"tempo\",\"tempo\",\"tempo\",\"tempo\",\"tempo\",\"popularity\"],\"type\":\"scatterpolar\"},{\"hovertemplate\":\"Q3=Graduate student<br>value=%{r}<br>variable=%{theta}<extra></extra>\",\"legendgroup\":\"Graduate student\",\"line\":{\"color\":\"#d8576b\",\"dash\":\"solid\"},\"marker\":{\"symbol\":\"circle\"},\"mode\":\"lines\",\"name\":\"Graduate student\",\"r\":[0.10939929616543306,0.12303124024221361,0.14354404267592272,0.12847898981587003,0.13469608135292577,0.14494428545629873,0.13311506565857464,0.13789290945474372,0.1299871824806185,-0.20453919574622478,-0.18660452532242622,-0.16734455067005138,0.09289357164133223,0.09497101585076331,0.07510412341458368,0.19078592826265423,0.17441935371223713,0.22224900241060566,0.2793317708447308,0.33979694183856546,0.036910226502526566,0.15594978744010202,0.13475599659851834,0.13659456919898452,0.15851848170899097,0.13252756381004158,0.14277065924612137,0.15190680557680447,0.15090356939061247,0.14962361426837215,0.10939929616543306],\"showlegend\":true,\"subplot\":\"polar\",\"theta\":[\"popularity\",\"popularity\",\"popularity\",\"danceability\",\"danceability\",\"danceability\",\"energy\",\"energy\",\"energy\",\"loudness\",\"loudness\",\"loudness\",\"speechiness\",\"speechiness\",\"speechiness\",\"acousticness\",\"acousticness\",\"acousticness\",\"instrumentalness\",\"instrumentalness\",\"instrumentalness\",\"liveness\",\"liveness\",\"liveness\",\"valence\",\"valence\",\"valence\",\"tempo\",\"tempo\",\"tempo\",\"popularity\"],\"type\":\"scatterpolar\"},{\"hovertemplate\":\"Q3=Undergraduate, other<br>value=%{r}<br>variable=%{theta}<extra></extra>\",\"legendgroup\":\"Undergraduate, other\",\"line\":{\"color\":\"#bd3786\",\"dash\":\"solid\"},\"marker\":{\"symbol\":\"circle\"},\"mode\":\"lines\",\"name\":\"Undergraduate, other\",\"r\":[0.11890433663904316,0.15118987589015753,0.16152754082734827,-0.13771161791449288,0.12332567513508944,0.1326800471074347,0.17709065843567953,0.15132174709364202,0.14344605128316834,0.15325068278503534,0.11890433663904316],\"showlegend\":true,\"subplot\":\"polar\",\"theta\":[\"popularity\",\"danceability\",\"energy\",\"loudness\",\"speechiness\",\"acousticness\",\"instrumentalness\",\"liveness\",\"valence\",\"tempo\",\"popularity\"],\"type\":\"scatterpolar\"}],                        {\"template\":{\"data\":{\"barpolar\":[{\"marker\":{\"line\":{\"color\":\"rgb(17,17,17)\",\"width\":0.5},\"pattern\":{\"fillmode\":\"overlay\",\"size\":10,\"solidity\":0.2}},\"type\":\"barpolar\"}],\"bar\":[{\"error_x\":{\"color\":\"#f2f5fa\"},\"error_y\":{\"color\":\"#f2f5fa\"},\"marker\":{\"line\":{\"color\":\"rgb(17,17,17)\",\"width\":0.5},\"pattern\":{\"fillmode\":\"overlay\",\"size\":10,\"solidity\":0.2}},\"type\":\"bar\"}],\"carpet\":[{\"aaxis\":{\"endlinecolor\":\"#A2B1C6\",\"gridcolor\":\"#506784\",\"linecolor\":\"#506784\",\"minorgridcolor\":\"#506784\",\"startlinecolor\":\"#A2B1C6\"},\"baxis\":{\"endlinecolor\":\"#A2B1C6\",\"gridcolor\":\"#506784\",\"linecolor\":\"#506784\",\"minorgridcolor\":\"#506784\",\"startlinecolor\":\"#A2B1C6\"},\"type\":\"carpet\"}],\"choropleth\":[{\"colorbar\":{\"outlinewidth\":0,\"ticks\":\"\"},\"type\":\"choropleth\"}],\"contourcarpet\":[{\"colorbar\":{\"outlinewidth\":0,\"ticks\":\"\"},\"type\":\"contourcarpet\"}],\"contour\":[{\"colorbar\":{\"outlinewidth\":0,\"ticks\":\"\"},\"colorscale\":[[0.0,\"#0d0887\"],[0.1111111111111111,\"#46039f\"],[0.2222222222222222,\"#7201a8\"],[0.3333333333333333,\"#9c179e\"],[0.4444444444444444,\"#bd3786\"],[0.5555555555555556,\"#d8576b\"],[0.6666666666666666,\"#ed7953\"],[0.7777777777777778,\"#fb9f3a\"],[0.8888888888888888,\"#fdca26\"],[1.0,\"#f0f921\"]],\"type\":\"contour\"}],\"heatmapgl\":[{\"colorbar\":{\"outlinewidth\":0,\"ticks\":\"\"},\"colorscale\":[[0.0,\"#0d0887\"],[0.1111111111111111,\"#46039f\"],[0.2222222222222222,\"#7201a8\"],[0.3333333333333333,\"#9c179e\"],[0.4444444444444444,\"#bd3786\"],[0.5555555555555556,\"#d8576b\"],[0.6666666666666666,\"#ed7953\"],[0.7777777777777778,\"#fb9f3a\"],[0.8888888888888888,\"#fdca26\"],[1.0,\"#f0f921\"]],\"type\":\"heatmapgl\"}],\"heatmap\":[{\"colorbar\":{\"outlinewidth\":0,\"ticks\":\"\"},\"colorscale\":[[0.0,\"#0d0887\"],[0.1111111111111111,\"#46039f\"],[0.2222222222222222,\"#7201a8\"],[0.3333333333333333,\"#9c179e\"],[0.4444444444444444,\"#bd3786\"],[0.5555555555555556,\"#d8576b\"],[0.6666666666666666,\"#ed7953\"],[0.7777777777777778,\"#fb9f3a\"],[0.8888888888888888,\"#fdca26\"],[1.0,\"#f0f921\"]],\"type\":\"heatmap\"}],\"histogram2dcontour\":[{\"colorbar\":{\"outlinewidth\":0,\"ticks\":\"\"},\"colorscale\":[[0.0,\"#0d0887\"],[0.1111111111111111,\"#46039f\"],[0.2222222222222222,\"#7201a8\"],[0.3333333333333333,\"#9c179e\"],[0.4444444444444444,\"#bd3786\"],[0.5555555555555556,\"#d8576b\"],[0.6666666666666666,\"#ed7953\"],[0.7777777777777778,\"#fb9f3a\"],[0.8888888888888888,\"#fdca26\"],[1.0,\"#f0f921\"]],\"type\":\"histogram2dcontour\"}],\"histogram2d\":[{\"colorbar\":{\"outlinewidth\":0,\"ticks\":\"\"},\"colorscale\":[[0.0,\"#0d0887\"],[0.1111111111111111,\"#46039f\"],[0.2222222222222222,\"#7201a8\"],[0.3333333333333333,\"#9c179e\"],[0.4444444444444444,\"#bd3786\"],[0.5555555555555556,\"#d8576b\"],[0.6666666666666666,\"#ed7953\"],[0.7777777777777778,\"#fb9f3a\"],[0.8888888888888888,\"#fdca26\"],[1.0,\"#f0f921\"]],\"type\":\"histogram2d\"}],\"histogram\":[{\"marker\":{\"pattern\":{\"fillmode\":\"overlay\",\"size\":10,\"solidity\":0.2}},\"type\":\"histogram\"}],\"mesh3d\":[{\"colorbar\":{\"outlinewidth\":0,\"ticks\":\"\"},\"type\":\"mesh3d\"}],\"parcoords\":[{\"line\":{\"colorbar\":{\"outlinewidth\":0,\"ticks\":\"\"}},\"type\":\"parcoords\"}],\"pie\":[{\"automargin\":true,\"type\":\"pie\"}],\"scatter3d\":[{\"line\":{\"colorbar\":{\"outlinewidth\":0,\"ticks\":\"\"}},\"marker\":{\"colorbar\":{\"outlinewidth\":0,\"ticks\":\"\"}},\"type\":\"scatter3d\"}],\"scattercarpet\":[{\"marker\":{\"colorbar\":{\"outlinewidth\":0,\"ticks\":\"\"}},\"type\":\"scattercarpet\"}],\"scattergeo\":[{\"marker\":{\"colorbar\":{\"outlinewidth\":0,\"ticks\":\"\"}},\"type\":\"scattergeo\"}],\"scattergl\":[{\"marker\":{\"line\":{\"color\":\"#283442\"}},\"type\":\"scattergl\"}],\"scattermapbox\":[{\"marker\":{\"colorbar\":{\"outlinewidth\":0,\"ticks\":\"\"}},\"type\":\"scattermapbox\"}],\"scatterpolargl\":[{\"marker\":{\"colorbar\":{\"outlinewidth\":0,\"ticks\":\"\"}},\"type\":\"scatterpolargl\"}],\"scatterpolar\":[{\"marker\":{\"colorbar\":{\"outlinewidth\":0,\"ticks\":\"\"}},\"type\":\"scatterpolar\"}],\"scatter\":[{\"marker\":{\"line\":{\"color\":\"#283442\"}},\"type\":\"scatter\"}],\"scatterternary\":[{\"marker\":{\"colorbar\":{\"outlinewidth\":0,\"ticks\":\"\"}},\"type\":\"scatterternary\"}],\"surface\":[{\"colorbar\":{\"outlinewidth\":0,\"ticks\":\"\"},\"colorscale\":[[0.0,\"#0d0887\"],[0.1111111111111111,\"#46039f\"],[0.2222222222222222,\"#7201a8\"],[0.3333333333333333,\"#9c179e\"],[0.4444444444444444,\"#bd3786\"],[0.5555555555555556,\"#d8576b\"],[0.6666666666666666,\"#ed7953\"],[0.7777777777777778,\"#fb9f3a\"],[0.8888888888888888,\"#fdca26\"],[1.0,\"#f0f921\"]],\"type\":\"surface\"}],\"table\":[{\"cells\":{\"fill\":{\"color\":\"#506784\"},\"line\":{\"color\":\"rgb(17,17,17)\"}},\"header\":{\"fill\":{\"color\":\"#2a3f5f\"},\"line\":{\"color\":\"rgb(17,17,17)\"}},\"type\":\"table\"}]},\"layout\":{\"annotationdefaults\":{\"arrowcolor\":\"#f2f5fa\",\"arrowhead\":0,\"arrowwidth\":1},\"autotypenumbers\":\"strict\",\"coloraxis\":{\"colorbar\":{\"outlinewidth\":0,\"ticks\":\"\"}},\"colorscale\":{\"diverging\":[[0,\"#8e0152\"],[0.1,\"#c51b7d\"],[0.2,\"#de77ae\"],[0.3,\"#f1b6da\"],[0.4,\"#fde0ef\"],[0.5,\"#f7f7f7\"],[0.6,\"#e6f5d0\"],[0.7,\"#b8e186\"],[0.8,\"#7fbc41\"],[0.9,\"#4d9221\"],[1,\"#276419\"]],\"sequential\":[[0.0,\"#0d0887\"],[0.1111111111111111,\"#46039f\"],[0.2222222222222222,\"#7201a8\"],[0.3333333333333333,\"#9c179e\"],[0.4444444444444444,\"#bd3786\"],[0.5555555555555556,\"#d8576b\"],[0.6666666666666666,\"#ed7953\"],[0.7777777777777778,\"#fb9f3a\"],[0.8888888888888888,\"#fdca26\"],[1.0,\"#f0f921\"]],\"sequentialminus\":[[0.0,\"#0d0887\"],[0.1111111111111111,\"#46039f\"],[0.2222222222222222,\"#7201a8\"],[0.3333333333333333,\"#9c179e\"],[0.4444444444444444,\"#bd3786\"],[0.5555555555555556,\"#d8576b\"],[0.6666666666666666,\"#ed7953\"],[0.7777777777777778,\"#fb9f3a\"],[0.8888888888888888,\"#fdca26\"],[1.0,\"#f0f921\"]]},\"colorway\":[\"#636efa\",\"#EF553B\",\"#00cc96\",\"#ab63fa\",\"#FFA15A\",\"#19d3f3\",\"#FF6692\",\"#B6E880\",\"#FF97FF\",\"#FECB52\"],\"font\":{\"color\":\"#f2f5fa\"},\"geo\":{\"bgcolor\":\"rgb(17,17,17)\",\"lakecolor\":\"rgb(17,17,17)\",\"landcolor\":\"rgb(17,17,17)\",\"showlakes\":true,\"showland\":true,\"subunitcolor\":\"#506784\"},\"hoverlabel\":{\"align\":\"left\"},\"hovermode\":\"closest\",\"mapbox\":{\"style\":\"dark\"},\"paper_bgcolor\":\"rgb(17,17,17)\",\"plot_bgcolor\":\"rgb(17,17,17)\",\"polar\":{\"angularaxis\":{\"gridcolor\":\"#506784\",\"linecolor\":\"#506784\",\"ticks\":\"\"},\"bgcolor\":\"rgb(17,17,17)\",\"radialaxis\":{\"gridcolor\":\"#506784\",\"linecolor\":\"#506784\",\"ticks\":\"\"}},\"scene\":{\"xaxis\":{\"backgroundcolor\":\"rgb(17,17,17)\",\"gridcolor\":\"#506784\",\"gridwidth\":2,\"linecolor\":\"#506784\",\"showbackground\":true,\"ticks\":\"\",\"zerolinecolor\":\"#C8D4E3\"},\"yaxis\":{\"backgroundcolor\":\"rgb(17,17,17)\",\"gridcolor\":\"#506784\",\"gridwidth\":2,\"linecolor\":\"#506784\",\"showbackground\":true,\"ticks\":\"\",\"zerolinecolor\":\"#C8D4E3\"},\"zaxis\":{\"backgroundcolor\":\"rgb(17,17,17)\",\"gridcolor\":\"#506784\",\"gridwidth\":2,\"linecolor\":\"#506784\",\"showbackground\":true,\"ticks\":\"\",\"zerolinecolor\":\"#C8D4E3\"}},\"shapedefaults\":{\"line\":{\"color\":\"#f2f5fa\"}},\"sliderdefaults\":{\"bgcolor\":\"#C8D4E3\",\"bordercolor\":\"rgb(17,17,17)\",\"borderwidth\":1,\"tickwidth\":0},\"ternary\":{\"aaxis\":{\"gridcolor\":\"#506784\",\"linecolor\":\"#506784\",\"ticks\":\"\"},\"baxis\":{\"gridcolor\":\"#506784\",\"linecolor\":\"#506784\",\"ticks\":\"\"},\"bgcolor\":\"rgb(17,17,17)\",\"caxis\":{\"gridcolor\":\"#506784\",\"linecolor\":\"#506784\",\"ticks\":\"\"}},\"title\":{\"x\":0.05},\"updatemenudefaults\":{\"bgcolor\":\"#506784\",\"borderwidth\":0},\"xaxis\":{\"automargin\":true,\"gridcolor\":\"#283442\",\"linecolor\":\"#506784\",\"ticks\":\"\",\"title\":{\"standoff\":15},\"zerolinecolor\":\"#283442\",\"zerolinewidth\":2},\"yaxis\":{\"automargin\":true,\"gridcolor\":\"#283442\",\"linecolor\":\"#506784\",\"ticks\":\"\",\"title\":{\"standoff\":15},\"zerolinecolor\":\"#283442\",\"zerolinewidth\":2}}},\"polar\":{\"domain\":{\"x\":[0.0,1.0],\"y\":[0.0,1.0]},\"angularaxis\":{\"direction\":\"clockwise\",\"rotation\":90}},\"legend\":{\"title\":{\"text\":\"Q3\"},\"tracegroupgap\":0,\"yanchor\":\"bottom\",\"xanchor\":\"right\",\"y\":-0.6},\"margin\":{\"t\":60}},                        {\"responsive\": true}                    ).then(function(){\n",
       "                            \n",
       "var gd = document.getElementById('4348e719-414f-4641-841a-151ba1c9bec1');\n",
       "var x = new MutationObserver(function (mutations, observer) {{\n",
       "        var display = window.getComputedStyle(gd).display;\n",
       "        if (!display || display === 'none') {{\n",
       "            console.log([gd, 'removed!']);\n",
       "            Plotly.purge(gd);\n",
       "            observer.disconnect();\n",
       "        }}\n",
       "}});\n",
       "\n",
       "// Listen for the removal of the full notebook cells\n",
       "var notebookContainer = gd.closest('#notebook-container');\n",
       "if (notebookContainer) {{\n",
       "    x.observe(notebookContainer, {childList: true});\n",
       "}}\n",
       "\n",
       "// Listen for the clearing of the current output cell\n",
       "var outputEl = gd.closest('.output');\n",
       "if (outputEl) {{\n",
       "    x.observe(outputEl, {childList: true});\n",
       "}}\n",
       "\n",
       "                        })                };                });            </script>        </div>"
      ]
     },
     "metadata": {},
     "output_type": "display_data"
    }
   ],
   "source": [
    "fig = px.line_polar(\n",
    "    melted,\n",
    "    r='value',\n",
    "    theta='variable',\n",
    "    color='Q3',\n",
    "    line_close=True,\n",
    "    color_discrete_sequence=px.colors.sequential.Plasma_r,\n",
    "    template='plotly_dark',\n",
    ")\n",
    "\n",
    "fig.update_layout(\n",
    "    legend=dict(\n",
    "        yanchor='midd',\n",
    "        xanchor='right',\n",
    "        y=-0.6\n",
    "    )\n",
    ")"
   ]
  },
  {
   "cell_type": "code",
   "execution_count": 35,
   "id": "901aa668",
   "metadata": {},
   "outputs": [
    {
     "data": {
      "application/vnd.plotly.v1+json": {
       "config": {
        "plotlyServerURL": "https://plot.ly"
       },
       "data": [
        {
         "hovertemplate": "Q3=Undergraduate, 3rd year (2024)<br>value=%{r}<br>variable=%{theta}<extra></extra>",
         "legendgroup": "Undergraduate, 3rd year (2024)",
         "line": {
          "color": "#f0f921",
          "dash": "solid"
         },
         "marker": {
          "symbol": "circle"
         },
         "mode": "lines",
         "name": "Undergraduate, 3rd year (2024)",
         "r": [
          0.1651054894320999,
          0.1619155312910495,
          0.1498820034406962,
          0.19411449193645955,
          0.12758281533218088,
          0.1607310711923919,
          0.166830066748183,
          0.2024566754004442,
          0.15941911142355095,
          0.1363765030130345,
          0.15164734974410596,
          0.16023644643643592,
          0.1473627726541975,
          0.13784088360477512,
          0.13556906778720443,
          0.16975206806532167,
          0.1637993700054907,
          0.16987938861231697,
          0.16605429749356942,
          0.16563248794603908,
          0.14716831082947013,
          0.154814067043173,
          0.13404159626336615,
          0.16439853521434453,
          0.17108109102949004,
          0.15269470863601117,
          0.11986827296892677,
          0.15451330722418272,
          0.13628444992469088,
          0.17464087086170313,
          0.15902649946423528,
          0.16233082797095175,
          0.14984516585465904,
          0.16637973680901366,
          0.16709627649087488,
          0.16235524396057918,
          -0.1258765210819852,
          -0.1645547928020908,
          -0.19535586817932807,
          -0.1299332459132501,
          -0.14509180092530644,
          -0.11414607671931584,
          -0.1234884322245029,
          -0.12529651986010015,
          -0.12825509174671745,
          -0.11320502433781159,
          -0.1368253768078537,
          -0.11910995004474953,
          0.14510589652499414,
          0.10441518724321364,
          0.06907464382303079,
          0.24415099753964853,
          0.15394820649879792,
          0.15857643064635818,
          0.17183277238625577,
          0.12107335797634651,
          0.10687222454740508,
          0.11167437373313388,
          0.08874415013897742,
          0.16312866374366788,
          0.09266126711601566,
          0.1325856476387526,
          0.21589307771399333,
          0.10890210277910872,
          0.15271755009651494,
          0.07095368082924232,
          0.10721606724826786,
          0.13435551301510745,
          0.14483506638891064,
          0.13152440801862256,
          0.11146998401526034,
          0.10354362972678373,
          0.13744627524363515,
          0.22073422752818167,
          0.0847583253115188,
          0.06152041962503165,
          0.0223385918940926,
          0.03374304151514978,
          0.03870726578851285,
          0.16827059197222977,
          0.01812252796478113,
          0.04809700501471472,
          0.1140195021612007,
          0.014134646617013278,
          0.1632461177259684,
          0.15386831228985184,
          0.14738686662862263,
          0.1826735828398165,
          0.13550588050416876,
          0.1522669256527336,
          0.14969860997984696,
          0.14771640496293195,
          0.1399621231521562,
          0.14870806808725584,
          0.16977722805649667,
          0.14266753424470732,
          0.14410239780741804,
          0.13987822780850964,
          0.17226937479110216,
          0.1362169368416005,
          0.14440257497046904,
          0.1776737251585965,
          0.15192852972856896,
          0.17490066668804452,
          0.14526192716068306,
          0.16428515510294212,
          0.16974799490798256,
          0.16176889366890376,
          0.15989095882506135,
          0.1530441321151169,
          0.14621181412442993,
          0.15236534426970397,
          0.1515026083453073,
          0.15226541336653696,
          0.15393803441502976,
          0.14730231846897932,
          0.1528940994002518,
          0.15310608917857504,
          0.15685147656244366,
          0.15359214501994495,
          0.1651054894320999
         ],
         "showlegend": true,
         "subplot": "polar",
         "theta": [
          "popularity",
          "popularity",
          "popularity",
          "popularity",
          "popularity",
          "popularity",
          "popularity",
          "popularity",
          "popularity",
          "popularity",
          "popularity",
          "popularity",
          "danceability",
          "danceability",
          "danceability",
          "danceability",
          "danceability",
          "danceability",
          "danceability",
          "danceability",
          "danceability",
          "danceability",
          "danceability",
          "danceability",
          "energy",
          "energy",
          "energy",
          "energy",
          "energy",
          "energy",
          "energy",
          "energy",
          "energy",
          "energy",
          "energy",
          "energy",
          "loudness",
          "loudness",
          "loudness",
          "loudness",
          "loudness",
          "loudness",
          "loudness",
          "loudness",
          "loudness",
          "loudness",
          "loudness",
          "loudness",
          "speechiness",
          "speechiness",
          "speechiness",
          "speechiness",
          "speechiness",
          "speechiness",
          "speechiness",
          "speechiness",
          "speechiness",
          "speechiness",
          "speechiness",
          "speechiness",
          "acousticness",
          "acousticness",
          "acousticness",
          "acousticness",
          "acousticness",
          "acousticness",
          "acousticness",
          "acousticness",
          "acousticness",
          "acousticness",
          "acousticness",
          "acousticness",
          "instrumentalness",
          "instrumentalness",
          "instrumentalness",
          "instrumentalness",
          "instrumentalness",
          "instrumentalness",
          "instrumentalness",
          "instrumentalness",
          "instrumentalness",
          "instrumentalness",
          "instrumentalness",
          "instrumentalness",
          "liveness",
          "liveness",
          "liveness",
          "liveness",
          "liveness",
          "liveness",
          "liveness",
          "liveness",
          "liveness",
          "liveness",
          "liveness",
          "liveness",
          "valence",
          "valence",
          "valence",
          "valence",
          "valence",
          "valence",
          "valence",
          "valence",
          "valence",
          "valence",
          "valence",
          "valence",
          "tempo",
          "tempo",
          "tempo",
          "tempo",
          "tempo",
          "tempo",
          "tempo",
          "tempo",
          "tempo",
          "tempo",
          "tempo",
          "tempo",
          "popularity"
         ],
         "type": "scatterpolar"
        },
        {
         "hovertemplate": "Q3=Undergraduate, 1st year (2026)<br>value=%{r}<br>variable=%{theta}<extra></extra>",
         "legendgroup": "Undergraduate, 1st year (2026)",
         "line": {
          "color": "#fdca26",
          "dash": "solid"
         },
         "marker": {
          "symbol": "circle"
         },
         "mode": "lines",
         "name": "Undergraduate, 1st year (2026)",
         "r": [
          0.17321841049118505,
          0.09753499004839805,
          0.13991211525255817,
          0.12608947532766027,
          0.13290422329601265,
          0.18213924708204426,
          0.13136406346177668,
          0.18618177792764976,
          0.1472949082063796,
          0.13038413607239496,
          0.1641206064746178,
          0.12107493709397046,
          0.15523919889428608,
          0.17109150709784168,
          0.12849632585170706,
          0.17296956022427978,
          0.16669082589185472,
          0.09819520266876354,
          0.15662731510228553,
          0.2113762239531346,
          0.1544227179953238,
          0.1555429982978394,
          0.12369673920239349,
          0.20700526212920767,
          -0.12997064851019013,
          -0.20014348895543968,
          -0.12871860988767717,
          -0.1014263948174359,
          -0.1362375726529508,
          -0.12877018739414559,
          -0.18627926829410496,
          -0.09258966214824159,
          0.14357009621955086,
          0.11849844077088427,
          0.12362207986961178,
          0.14567406480007172,
          0.140829498752428,
          0.19925387126345703,
          0.09315125760473829,
          0.27229165386067194,
          0.11037483996159199,
          0.3048992132634361,
          0.11776882072050066,
          0.03703931463540574,
          0.13616848332091352,
          0.10870825494420426,
          0.21779007100275347,
          0.032216510353604025,
          0.055841441532335376,
          0.2723648426402399,
          0.03049497772656338,
          0.18850936521246772,
          0.08295841648456141,
          0.03200784463234601,
          0.20656186311717234,
          0.0019593655049645145,
          0.167976323388158,
          0.13922919321680496,
          0.15268598965180893,
          0.17321695582342614,
          0.14431308592287756,
          0.15673922611237218,
          0.14417007207130492,
          0.21480393809487403,
          0.16345089727167428,
          0.11360545845074944,
          0.17519128483218602,
          0.15239281560652138,
          0.15022319485463026,
          0.14339388981075712,
          0.14187067099155715,
          0.1928879592684704,
          0.15955948621753605,
          0.14085501659095154,
          0.15008181396268286,
          0.16339626930075976,
          0.15249497028576023,
          0.15892807041180448,
          0.14930049446068788,
          0.1682003172550735,
          0.17321841049118505
         ],
         "showlegend": true,
         "subplot": "polar",
         "theta": [
          "popularity",
          "popularity",
          "popularity",
          "popularity",
          "popularity",
          "popularity",
          "popularity",
          "popularity",
          "danceability",
          "danceability",
          "danceability",
          "danceability",
          "danceability",
          "danceability",
          "danceability",
          "danceability",
          "energy",
          "energy",
          "energy",
          "energy",
          "energy",
          "energy",
          "energy",
          "energy",
          "loudness",
          "loudness",
          "loudness",
          "loudness",
          "loudness",
          "loudness",
          "loudness",
          "loudness",
          "speechiness",
          "speechiness",
          "speechiness",
          "speechiness",
          "speechiness",
          "speechiness",
          "speechiness",
          "speechiness",
          "acousticness",
          "acousticness",
          "acousticness",
          "acousticness",
          "acousticness",
          "acousticness",
          "acousticness",
          "acousticness",
          "instrumentalness",
          "instrumentalness",
          "instrumentalness",
          "instrumentalness",
          "instrumentalness",
          "instrumentalness",
          "instrumentalness",
          "instrumentalness",
          "liveness",
          "liveness",
          "liveness",
          "liveness",
          "liveness",
          "liveness",
          "liveness",
          "liveness",
          "valence",
          "valence",
          "valence",
          "valence",
          "valence",
          "valence",
          "valence",
          "valence",
          "tempo",
          "tempo",
          "tempo",
          "tempo",
          "tempo",
          "tempo",
          "tempo",
          "tempo",
          "popularity"
         ],
         "type": "scatterpolar"
        },
        {
         "hovertemplate": "Q3=Undergraduate, 2nd year (2025)<br>value=%{r}<br>variable=%{theta}<extra></extra>",
         "legendgroup": "Undergraduate, 2nd year (2025)",
         "line": {
          "color": "#fb9f3a",
          "dash": "solid"
         },
         "marker": {
          "symbol": "circle"
         },
         "mode": "lines",
         "name": "Undergraduate, 2nd year (2025)",
         "r": [
          0.11455987759355134,
          0.13722572654498247,
          0.138356031294105,
          0.15440593181903678,
          0.17142993450369753,
          0.17372791558287617,
          0.16275272870263888,
          0.17009844076713942,
          0.1936201367254588,
          0.11765659440298817,
          0.16263571263585916,
          0.11025429722022816,
          0.14413936597120833,
          0.17861648379935074,
          0.15271173586920833,
          0.15121259559063172,
          0.1766753429969037,
          0.18435141204870287,
          0.14143911251814362,
          0.14133805837929275,
          0.14195424056255443,
          0.14406565132992102,
          0.1566561419509516,
          0.12537249014395635,
          0.17109625864954936,
          0.14644487793655594,
          0.1569494226271067,
          0.16561231229577522,
          0.13545523583862565,
          0.1448829735590317,
          0.16493786972195382,
          0.1482073809845772,
          0.13052590196080108,
          0.1324988228254807,
          0.14693676551289153,
          0.12953457737981675,
          0.14140561870630497,
          0.1683889532524245,
          0.16164680437760306,
          0.15388824997748987,
          0.17355953043566696,
          0.1668818446095809,
          -0.15257589669747343,
          -0.15621706220833903,
          -0.1255819912015929,
          -0.1372129807150721,
          -0.1911470603029248,
          -0.16766575809464054,
          -0.15977997475833153,
          -0.21193678478938474,
          -0.14144691472527587,
          -0.15140000934088563,
          -0.13331276506861162,
          -0.15813286204541815,
          -0.1104591305685129,
          -0.11241937636021859,
          0.11935732754336059,
          0.12168434098042204,
          0.26500182248098225,
          0.2629817484620177,
          0.10022352817718934,
          0.06555110112413326,
          0.12207695901004993,
          0.17515025183844338,
          0.16384238758872208,
          0.1153257386125376,
          0.19330027468788008,
          0.11775814538525436,
          0.11706468489499798,
          0.14877444602603565,
          0.1789673093138528,
          0.19450533704681705,
          0.07007801908214199,
          0.10515244061868925,
          0.1902444457147637,
          0.22285044242145102,
          0.16241322237310277,
          0.15952343044474127,
          0.15219937725141366,
          0.10226922914964387,
          0.086344389121045,
          0.14120668318555163,
          0.08591170148991331,
          0.10909678664212649,
          0.10912780517759085,
          0.2657934315523804,
          0.02377556667037997,
          0.012196476800948455,
          0.19268024229795863,
          0.06536651074799107,
          0.06018054440695766,
          0.17619773917346107,
          0.051400330372379795,
          0.23334466349722593,
          0.024665117450322172,
          0.16940306237057895,
          0.011012455111677331,
          0.014365269943354629,
          0.1407171465212871,
          0.13966951365603034,
          0.16090487012987253,
          0.16286573028030124,
          0.13729285143772146,
          0.1391030472026375,
          0.15284936691215828,
          0.13675952955434256,
          0.138953348532525,
          0.17012363788894674,
          0.1550113920350698,
          0.1521025196398142,
          0.1544802581584744,
          0.14427984754062723,
          0.13109549467885376,
          0.1437665910028953,
          0.14608732829109616,
          0.15477684316141704,
          0.14904217932309105,
          0.14909154168932598,
          0.17278996400833108,
          0.14053934516521951,
          0.13235347621042848,
          0.14467554605966326,
          0.15478020762119016,
          0.16125182774733351,
          0.1691649732199424,
          0.16368672329735337,
          0.15193153783409297,
          0.15508714371292723,
          0.15694549104758693,
          0.14498626149606342,
          0.14663197916061046,
          0.1529710704720798,
          0.1529809306472247,
          0.14219078989807515,
          0.14294714571968387,
          0.15737772169004383,
          0.16067207789033547,
          0.1536726601193451,
          0.15402635452790564,
          0.15376681392727193,
          0.11455987759355134
         ],
         "showlegend": true,
         "subplot": "polar",
         "theta": [
          "popularity",
          "popularity",
          "popularity",
          "popularity",
          "popularity",
          "popularity",
          "popularity",
          "popularity",
          "popularity",
          "popularity",
          "popularity",
          "popularity",
          "popularity",
          "popularity",
          "danceability",
          "danceability",
          "danceability",
          "danceability",
          "danceability",
          "danceability",
          "danceability",
          "danceability",
          "danceability",
          "danceability",
          "danceability",
          "danceability",
          "danceability",
          "danceability",
          "energy",
          "energy",
          "energy",
          "energy",
          "energy",
          "energy",
          "energy",
          "energy",
          "energy",
          "energy",
          "energy",
          "energy",
          "energy",
          "energy",
          "loudness",
          "loudness",
          "loudness",
          "loudness",
          "loudness",
          "loudness",
          "loudness",
          "loudness",
          "loudness",
          "loudness",
          "loudness",
          "loudness",
          "loudness",
          "loudness",
          "speechiness",
          "speechiness",
          "speechiness",
          "speechiness",
          "speechiness",
          "speechiness",
          "speechiness",
          "speechiness",
          "speechiness",
          "speechiness",
          "speechiness",
          "speechiness",
          "speechiness",
          "speechiness",
          "acousticness",
          "acousticness",
          "acousticness",
          "acousticness",
          "acousticness",
          "acousticness",
          "acousticness",
          "acousticness",
          "acousticness",
          "acousticness",
          "acousticness",
          "acousticness",
          "acousticness",
          "acousticness",
          "instrumentalness",
          "instrumentalness",
          "instrumentalness",
          "instrumentalness",
          "instrumentalness",
          "instrumentalness",
          "instrumentalness",
          "instrumentalness",
          "instrumentalness",
          "instrumentalness",
          "instrumentalness",
          "instrumentalness",
          "instrumentalness",
          "instrumentalness",
          "liveness",
          "liveness",
          "liveness",
          "liveness",
          "liveness",
          "liveness",
          "liveness",
          "liveness",
          "liveness",
          "liveness",
          "liveness",
          "liveness",
          "liveness",
          "liveness",
          "valence",
          "valence",
          "valence",
          "valence",
          "valence",
          "valence",
          "valence",
          "valence",
          "valence",
          "valence",
          "valence",
          "valence",
          "valence",
          "valence",
          "tempo",
          "tempo",
          "tempo",
          "tempo",
          "tempo",
          "tempo",
          "tempo",
          "tempo",
          "tempo",
          "tempo",
          "tempo",
          "tempo",
          "tempo",
          "tempo",
          "popularity"
         ],
         "type": "scatterpolar"
        },
        {
         "hovertemplate": "Q3=Undergraduate, 4th year (2023)<br>value=%{r}<br>variable=%{theta}<extra></extra>",
         "legendgroup": "Undergraduate, 4th year (2023)",
         "line": {
          "color": "#ed7953",
          "dash": "solid"
         },
         "marker": {
          "symbol": "circle"
         },
         "mode": "lines",
         "name": "Undergraduate, 4th year (2023)",
         "r": [
          0.1852506586948113,
          0.0863154180402017,
          0.1542695990974579,
          0.19383338141345538,
          0.08645852106742558,
          0.17271079443153545,
          0.11080250691006954,
          0.17642525238418427,
          0.1690034662873017,
          0.12270180143153311,
          0.1373699602368648,
          0.10454886879153219,
          0.15753587392024598,
          0.16343812483700237,
          0.11203818277761045,
          -0.1415696884402064,
          -0.2519304934261393,
          -0.11896986492738372,
          -0.1190648566813091,
          -0.22184505666259688,
          0.21000748358424465,
          0.12073589161676883,
          0.2189490344887173,
          0.18440400946912927,
          0.06355828659786435,
          0.1480889035379497,
          0.24976286426677652,
          0.09392778273201978,
          0.10414418113375094,
          0.23496709650847894,
          0.03587542979142564,
          0.44214689515451,
          0.002319402236869627,
          0.022332715016701404,
          0.20055375884039128,
          0.1518677317414467,
          0.14752190812636948,
          0.1376377350256551,
          0.15618141600702037,
          0.14284090495645105,
          0.15540664260901552,
          0.10828004510184945,
          0.15810596319294679,
          0.16132467391261623,
          0.12922820850378602,
          0.15210739140836865,
          0.1381846652551854,
          0.15179678459854767,
          0.15604358006512997,
          0.14697969271947972,
          0.1852506586948113
         ],
         "showlegend": true,
         "subplot": "polar",
         "theta": [
          "popularity",
          "popularity",
          "popularity",
          "popularity",
          "popularity",
          "danceability",
          "danceability",
          "danceability",
          "danceability",
          "danceability",
          "energy",
          "energy",
          "energy",
          "energy",
          "energy",
          "loudness",
          "loudness",
          "loudness",
          "loudness",
          "loudness",
          "speechiness",
          "speechiness",
          "speechiness",
          "speechiness",
          "speechiness",
          "acousticness",
          "acousticness",
          "acousticness",
          "acousticness",
          "acousticness",
          "instrumentalness",
          "instrumentalness",
          "instrumentalness",
          "instrumentalness",
          "instrumentalness",
          "liveness",
          "liveness",
          "liveness",
          "liveness",
          "liveness",
          "valence",
          "valence",
          "valence",
          "valence",
          "valence",
          "tempo",
          "tempo",
          "tempo",
          "tempo",
          "tempo",
          "popularity"
         ],
         "type": "scatterpolar"
        },
        {
         "hovertemplate": "Q3=Graduate student<br>value=%{r}<br>variable=%{theta}<extra></extra>",
         "legendgroup": "Graduate student",
         "line": {
          "color": "#d8576b",
          "dash": "solid"
         },
         "marker": {
          "symbol": "circle"
         },
         "mode": "lines",
         "name": "Graduate student",
         "r": [
          0.10939929616543306,
          0.12303124024221361,
          0.14354404267592272,
          0.12847898981587003,
          0.13469608135292577,
          0.14494428545629873,
          0.13311506565857464,
          0.13789290945474372,
          0.1299871824806185,
          -0.20453919574622478,
          -0.18660452532242622,
          -0.16734455067005138,
          0.09289357164133223,
          0.09497101585076331,
          0.07510412341458368,
          0.19078592826265423,
          0.17441935371223713,
          0.22224900241060566,
          0.2793317708447308,
          0.33979694183856546,
          0.036910226502526566,
          0.15594978744010202,
          0.13475599659851834,
          0.13659456919898452,
          0.15851848170899097,
          0.13252756381004158,
          0.14277065924612137,
          0.15190680557680447,
          0.15090356939061247,
          0.14962361426837215,
          0.10939929616543306
         ],
         "showlegend": true,
         "subplot": "polar",
         "theta": [
          "popularity",
          "popularity",
          "popularity",
          "danceability",
          "danceability",
          "danceability",
          "energy",
          "energy",
          "energy",
          "loudness",
          "loudness",
          "loudness",
          "speechiness",
          "speechiness",
          "speechiness",
          "acousticness",
          "acousticness",
          "acousticness",
          "instrumentalness",
          "instrumentalness",
          "instrumentalness",
          "liveness",
          "liveness",
          "liveness",
          "valence",
          "valence",
          "valence",
          "tempo",
          "tempo",
          "tempo",
          "popularity"
         ],
         "type": "scatterpolar"
        },
        {
         "hovertemplate": "Q3=Undergraduate, other<br>value=%{r}<br>variable=%{theta}<extra></extra>",
         "legendgroup": "Undergraduate, other",
         "line": {
          "color": "#bd3786",
          "dash": "solid"
         },
         "marker": {
          "symbol": "circle"
         },
         "mode": "lines",
         "name": "Undergraduate, other",
         "r": [
          0.11890433663904316,
          0.15118987589015753,
          0.16152754082734827,
          -0.13771161791449288,
          0.12332567513508944,
          0.1326800471074347,
          0.17709065843567953,
          0.15132174709364202,
          0.14344605128316834,
          0.15325068278503534,
          0.11890433663904316
         ],
         "showlegend": true,
         "subplot": "polar",
         "theta": [
          "popularity",
          "danceability",
          "energy",
          "loudness",
          "speechiness",
          "acousticness",
          "instrumentalness",
          "liveness",
          "valence",
          "tempo",
          "popularity"
         ],
         "type": "scatterpolar"
        }
       ],
       "layout": {
        "legend": {
         "title": {
          "text": "Q3"
         },
         "tracegroupgap": 0
        },
        "margin": {
         "t": 60
        },
        "polar": {
         "angularaxis": {
          "direction": "clockwise",
          "rotation": 90
         },
         "domain": {
          "x": [
           0,
           1
          ],
          "y": [
           0,
           1
          ]
         }
        },
        "showlegend": false,
        "template": {
         "data": {
          "bar": [
           {
            "error_x": {
             "color": "#f2f5fa"
            },
            "error_y": {
             "color": "#f2f5fa"
            },
            "marker": {
             "line": {
              "color": "rgb(17,17,17)",
              "width": 0.5
             },
             "pattern": {
              "fillmode": "overlay",
              "size": 10,
              "solidity": 0.2
             }
            },
            "type": "bar"
           }
          ],
          "barpolar": [
           {
            "marker": {
             "line": {
              "color": "rgb(17,17,17)",
              "width": 0.5
             },
             "pattern": {
              "fillmode": "overlay",
              "size": 10,
              "solidity": 0.2
             }
            },
            "type": "barpolar"
           }
          ],
          "carpet": [
           {
            "aaxis": {
             "endlinecolor": "#A2B1C6",
             "gridcolor": "#506784",
             "linecolor": "#506784",
             "minorgridcolor": "#506784",
             "startlinecolor": "#A2B1C6"
            },
            "baxis": {
             "endlinecolor": "#A2B1C6",
             "gridcolor": "#506784",
             "linecolor": "#506784",
             "minorgridcolor": "#506784",
             "startlinecolor": "#A2B1C6"
            },
            "type": "carpet"
           }
          ],
          "choropleth": [
           {
            "colorbar": {
             "outlinewidth": 0,
             "ticks": ""
            },
            "type": "choropleth"
           }
          ],
          "contour": [
           {
            "colorbar": {
             "outlinewidth": 0,
             "ticks": ""
            },
            "colorscale": [
             [
              0,
              "#0d0887"
             ],
             [
              0.1111111111111111,
              "#46039f"
             ],
             [
              0.2222222222222222,
              "#7201a8"
             ],
             [
              0.3333333333333333,
              "#9c179e"
             ],
             [
              0.4444444444444444,
              "#bd3786"
             ],
             [
              0.5555555555555556,
              "#d8576b"
             ],
             [
              0.6666666666666666,
              "#ed7953"
             ],
             [
              0.7777777777777778,
              "#fb9f3a"
             ],
             [
              0.8888888888888888,
              "#fdca26"
             ],
             [
              1,
              "#f0f921"
             ]
            ],
            "type": "contour"
           }
          ],
          "contourcarpet": [
           {
            "colorbar": {
             "outlinewidth": 0,
             "ticks": ""
            },
            "type": "contourcarpet"
           }
          ],
          "heatmap": [
           {
            "colorbar": {
             "outlinewidth": 0,
             "ticks": ""
            },
            "colorscale": [
             [
              0,
              "#0d0887"
             ],
             [
              0.1111111111111111,
              "#46039f"
             ],
             [
              0.2222222222222222,
              "#7201a8"
             ],
             [
              0.3333333333333333,
              "#9c179e"
             ],
             [
              0.4444444444444444,
              "#bd3786"
             ],
             [
              0.5555555555555556,
              "#d8576b"
             ],
             [
              0.6666666666666666,
              "#ed7953"
             ],
             [
              0.7777777777777778,
              "#fb9f3a"
             ],
             [
              0.8888888888888888,
              "#fdca26"
             ],
             [
              1,
              "#f0f921"
             ]
            ],
            "type": "heatmap"
           }
          ],
          "heatmapgl": [
           {
            "colorbar": {
             "outlinewidth": 0,
             "ticks": ""
            },
            "colorscale": [
             [
              0,
              "#0d0887"
             ],
             [
              0.1111111111111111,
              "#46039f"
             ],
             [
              0.2222222222222222,
              "#7201a8"
             ],
             [
              0.3333333333333333,
              "#9c179e"
             ],
             [
              0.4444444444444444,
              "#bd3786"
             ],
             [
              0.5555555555555556,
              "#d8576b"
             ],
             [
              0.6666666666666666,
              "#ed7953"
             ],
             [
              0.7777777777777778,
              "#fb9f3a"
             ],
             [
              0.8888888888888888,
              "#fdca26"
             ],
             [
              1,
              "#f0f921"
             ]
            ],
            "type": "heatmapgl"
           }
          ],
          "histogram": [
           {
            "marker": {
             "pattern": {
              "fillmode": "overlay",
              "size": 10,
              "solidity": 0.2
             }
            },
            "type": "histogram"
           }
          ],
          "histogram2d": [
           {
            "colorbar": {
             "outlinewidth": 0,
             "ticks": ""
            },
            "colorscale": [
             [
              0,
              "#0d0887"
             ],
             [
              0.1111111111111111,
              "#46039f"
             ],
             [
              0.2222222222222222,
              "#7201a8"
             ],
             [
              0.3333333333333333,
              "#9c179e"
             ],
             [
              0.4444444444444444,
              "#bd3786"
             ],
             [
              0.5555555555555556,
              "#d8576b"
             ],
             [
              0.6666666666666666,
              "#ed7953"
             ],
             [
              0.7777777777777778,
              "#fb9f3a"
             ],
             [
              0.8888888888888888,
              "#fdca26"
             ],
             [
              1,
              "#f0f921"
             ]
            ],
            "type": "histogram2d"
           }
          ],
          "histogram2dcontour": [
           {
            "colorbar": {
             "outlinewidth": 0,
             "ticks": ""
            },
            "colorscale": [
             [
              0,
              "#0d0887"
             ],
             [
              0.1111111111111111,
              "#46039f"
             ],
             [
              0.2222222222222222,
              "#7201a8"
             ],
             [
              0.3333333333333333,
              "#9c179e"
             ],
             [
              0.4444444444444444,
              "#bd3786"
             ],
             [
              0.5555555555555556,
              "#d8576b"
             ],
             [
              0.6666666666666666,
              "#ed7953"
             ],
             [
              0.7777777777777778,
              "#fb9f3a"
             ],
             [
              0.8888888888888888,
              "#fdca26"
             ],
             [
              1,
              "#f0f921"
             ]
            ],
            "type": "histogram2dcontour"
           }
          ],
          "mesh3d": [
           {
            "colorbar": {
             "outlinewidth": 0,
             "ticks": ""
            },
            "type": "mesh3d"
           }
          ],
          "parcoords": [
           {
            "line": {
             "colorbar": {
              "outlinewidth": 0,
              "ticks": ""
             }
            },
            "type": "parcoords"
           }
          ],
          "pie": [
           {
            "automargin": true,
            "type": "pie"
           }
          ],
          "scatter": [
           {
            "marker": {
             "line": {
              "color": "#283442"
             }
            },
            "type": "scatter"
           }
          ],
          "scatter3d": [
           {
            "line": {
             "colorbar": {
              "outlinewidth": 0,
              "ticks": ""
             }
            },
            "marker": {
             "colorbar": {
              "outlinewidth": 0,
              "ticks": ""
             }
            },
            "type": "scatter3d"
           }
          ],
          "scattercarpet": [
           {
            "marker": {
             "colorbar": {
              "outlinewidth": 0,
              "ticks": ""
             }
            },
            "type": "scattercarpet"
           }
          ],
          "scattergeo": [
           {
            "marker": {
             "colorbar": {
              "outlinewidth": 0,
              "ticks": ""
             }
            },
            "type": "scattergeo"
           }
          ],
          "scattergl": [
           {
            "marker": {
             "line": {
              "color": "#283442"
             }
            },
            "type": "scattergl"
           }
          ],
          "scattermapbox": [
           {
            "marker": {
             "colorbar": {
              "outlinewidth": 0,
              "ticks": ""
             }
            },
            "type": "scattermapbox"
           }
          ],
          "scatterpolar": [
           {
            "marker": {
             "colorbar": {
              "outlinewidth": 0,
              "ticks": ""
             }
            },
            "type": "scatterpolar"
           }
          ],
          "scatterpolargl": [
           {
            "marker": {
             "colorbar": {
              "outlinewidth": 0,
              "ticks": ""
             }
            },
            "type": "scatterpolargl"
           }
          ],
          "scatterternary": [
           {
            "marker": {
             "colorbar": {
              "outlinewidth": 0,
              "ticks": ""
             }
            },
            "type": "scatterternary"
           }
          ],
          "surface": [
           {
            "colorbar": {
             "outlinewidth": 0,
             "ticks": ""
            },
            "colorscale": [
             [
              0,
              "#0d0887"
             ],
             [
              0.1111111111111111,
              "#46039f"
             ],
             [
              0.2222222222222222,
              "#7201a8"
             ],
             [
              0.3333333333333333,
              "#9c179e"
             ],
             [
              0.4444444444444444,
              "#bd3786"
             ],
             [
              0.5555555555555556,
              "#d8576b"
             ],
             [
              0.6666666666666666,
              "#ed7953"
             ],
             [
              0.7777777777777778,
              "#fb9f3a"
             ],
             [
              0.8888888888888888,
              "#fdca26"
             ],
             [
              1,
              "#f0f921"
             ]
            ],
            "type": "surface"
           }
          ],
          "table": [
           {
            "cells": {
             "fill": {
              "color": "#506784"
             },
             "line": {
              "color": "rgb(17,17,17)"
             }
            },
            "header": {
             "fill": {
              "color": "#2a3f5f"
             },
             "line": {
              "color": "rgb(17,17,17)"
             }
            },
            "type": "table"
           }
          ]
         },
         "layout": {
          "annotationdefaults": {
           "arrowcolor": "#f2f5fa",
           "arrowhead": 0,
           "arrowwidth": 1
          },
          "autotypenumbers": "strict",
          "coloraxis": {
           "colorbar": {
            "outlinewidth": 0,
            "ticks": ""
           }
          },
          "colorscale": {
           "diverging": [
            [
             0,
             "#8e0152"
            ],
            [
             0.1,
             "#c51b7d"
            ],
            [
             0.2,
             "#de77ae"
            ],
            [
             0.3,
             "#f1b6da"
            ],
            [
             0.4,
             "#fde0ef"
            ],
            [
             0.5,
             "#f7f7f7"
            ],
            [
             0.6,
             "#e6f5d0"
            ],
            [
             0.7,
             "#b8e186"
            ],
            [
             0.8,
             "#7fbc41"
            ],
            [
             0.9,
             "#4d9221"
            ],
            [
             1,
             "#276419"
            ]
           ],
           "sequential": [
            [
             0,
             "#0d0887"
            ],
            [
             0.1111111111111111,
             "#46039f"
            ],
            [
             0.2222222222222222,
             "#7201a8"
            ],
            [
             0.3333333333333333,
             "#9c179e"
            ],
            [
             0.4444444444444444,
             "#bd3786"
            ],
            [
             0.5555555555555556,
             "#d8576b"
            ],
            [
             0.6666666666666666,
             "#ed7953"
            ],
            [
             0.7777777777777778,
             "#fb9f3a"
            ],
            [
             0.8888888888888888,
             "#fdca26"
            ],
            [
             1,
             "#f0f921"
            ]
           ],
           "sequentialminus": [
            [
             0,
             "#0d0887"
            ],
            [
             0.1111111111111111,
             "#46039f"
            ],
            [
             0.2222222222222222,
             "#7201a8"
            ],
            [
             0.3333333333333333,
             "#9c179e"
            ],
            [
             0.4444444444444444,
             "#bd3786"
            ],
            [
             0.5555555555555556,
             "#d8576b"
            ],
            [
             0.6666666666666666,
             "#ed7953"
            ],
            [
             0.7777777777777778,
             "#fb9f3a"
            ],
            [
             0.8888888888888888,
             "#fdca26"
            ],
            [
             1,
             "#f0f921"
            ]
           ]
          },
          "colorway": [
           "#636efa",
           "#EF553B",
           "#00cc96",
           "#ab63fa",
           "#FFA15A",
           "#19d3f3",
           "#FF6692",
           "#B6E880",
           "#FF97FF",
           "#FECB52"
          ],
          "font": {
           "color": "#f2f5fa"
          },
          "geo": {
           "bgcolor": "rgb(17,17,17)",
           "lakecolor": "rgb(17,17,17)",
           "landcolor": "rgb(17,17,17)",
           "showlakes": true,
           "showland": true,
           "subunitcolor": "#506784"
          },
          "hoverlabel": {
           "align": "left"
          },
          "hovermode": "closest",
          "mapbox": {
           "style": "dark"
          },
          "paper_bgcolor": "rgb(17,17,17)",
          "plot_bgcolor": "rgb(17,17,17)",
          "polar": {
           "angularaxis": {
            "gridcolor": "#506784",
            "linecolor": "#506784",
            "ticks": ""
           },
           "bgcolor": "rgb(17,17,17)",
           "radialaxis": {
            "gridcolor": "#506784",
            "linecolor": "#506784",
            "ticks": ""
           }
          },
          "scene": {
           "xaxis": {
            "backgroundcolor": "rgb(17,17,17)",
            "gridcolor": "#506784",
            "gridwidth": 2,
            "linecolor": "#506784",
            "showbackground": true,
            "ticks": "",
            "zerolinecolor": "#C8D4E3"
           },
           "yaxis": {
            "backgroundcolor": "rgb(17,17,17)",
            "gridcolor": "#506784",
            "gridwidth": 2,
            "linecolor": "#506784",
            "showbackground": true,
            "ticks": "",
            "zerolinecolor": "#C8D4E3"
           },
           "zaxis": {
            "backgroundcolor": "rgb(17,17,17)",
            "gridcolor": "#506784",
            "gridwidth": 2,
            "linecolor": "#506784",
            "showbackground": true,
            "ticks": "",
            "zerolinecolor": "#C8D4E3"
           }
          },
          "shapedefaults": {
           "line": {
            "color": "#f2f5fa"
           }
          },
          "sliderdefaults": {
           "bgcolor": "#C8D4E3",
           "bordercolor": "rgb(17,17,17)",
           "borderwidth": 1,
           "tickwidth": 0
          },
          "ternary": {
           "aaxis": {
            "gridcolor": "#506784",
            "linecolor": "#506784",
            "ticks": ""
           },
           "baxis": {
            "gridcolor": "#506784",
            "linecolor": "#506784",
            "ticks": ""
           },
           "bgcolor": "rgb(17,17,17)",
           "caxis": {
            "gridcolor": "#506784",
            "linecolor": "#506784",
            "ticks": ""
           }
          },
          "title": {
           "x": 0.05
          },
          "updatemenudefaults": {
           "bgcolor": "#506784",
           "borderwidth": 0
          },
          "xaxis": {
           "automargin": true,
           "gridcolor": "#283442",
           "linecolor": "#506784",
           "ticks": "",
           "title": {
            "standoff": 15
           },
           "zerolinecolor": "#283442",
           "zerolinewidth": 2
          },
          "yaxis": {
           "automargin": true,
           "gridcolor": "#283442",
           "linecolor": "#506784",
           "ticks": "",
           "title": {
            "standoff": 15
           },
           "zerolinecolor": "#283442",
           "zerolinewidth": 2
          }
         }
        }
       }
      },
      "text/html": [
       "<div>                            <div id=\"700b268e-a20d-4d60-9de7-f9200e3d2f0d\" class=\"plotly-graph-div\" style=\"height:525px; width:100%;\"></div>            <script type=\"text/javascript\">                require([\"plotly\"], function(Plotly) {                    window.PLOTLYENV=window.PLOTLYENV || {};                                    if (document.getElementById(\"700b268e-a20d-4d60-9de7-f9200e3d2f0d\")) {                    Plotly.newPlot(                        \"700b268e-a20d-4d60-9de7-f9200e3d2f0d\",                        [{\"hovertemplate\":\"Q3=Undergraduate, 3rd year (2024)<br>value=%{r}<br>variable=%{theta}<extra></extra>\",\"legendgroup\":\"Undergraduate, 3rd year (2024)\",\"line\":{\"color\":\"#f0f921\",\"dash\":\"solid\"},\"marker\":{\"symbol\":\"circle\"},\"mode\":\"lines\",\"name\":\"Undergraduate, 3rd year (2024)\",\"r\":[0.1651054894320999,0.1619155312910495,0.1498820034406962,0.19411449193645955,0.12758281533218088,0.1607310711923919,0.166830066748183,0.2024566754004442,0.15941911142355095,0.1363765030130345,0.15164734974410596,0.16023644643643592,0.1473627726541975,0.13784088360477512,0.13556906778720443,0.16975206806532167,0.1637993700054907,0.16987938861231697,0.16605429749356942,0.16563248794603908,0.14716831082947013,0.154814067043173,0.13404159626336615,0.16439853521434453,0.17108109102949004,0.15269470863601117,0.11986827296892677,0.15451330722418272,0.13628444992469088,0.17464087086170313,0.15902649946423528,0.16233082797095175,0.14984516585465904,0.16637973680901366,0.16709627649087488,0.16235524396057918,-0.1258765210819852,-0.1645547928020908,-0.19535586817932807,-0.1299332459132501,-0.14509180092530644,-0.11414607671931584,-0.1234884322245029,-0.12529651986010015,-0.12825509174671745,-0.11320502433781159,-0.1368253768078537,-0.11910995004474953,0.14510589652499414,0.10441518724321364,0.06907464382303079,0.24415099753964853,0.15394820649879792,0.15857643064635818,0.17183277238625577,0.12107335797634651,0.10687222454740508,0.11167437373313388,0.08874415013897742,0.16312866374366788,0.09266126711601566,0.1325856476387526,0.21589307771399333,0.10890210277910872,0.15271755009651494,0.07095368082924232,0.10721606724826786,0.13435551301510745,0.14483506638891064,0.13152440801862256,0.11146998401526034,0.10354362972678373,0.13744627524363515,0.22073422752818167,0.0847583253115188,0.06152041962503165,0.0223385918940926,0.03374304151514978,0.03870726578851285,0.16827059197222977,0.01812252796478113,0.04809700501471472,0.1140195021612007,0.014134646617013278,0.1632461177259684,0.15386831228985184,0.14738686662862263,0.1826735828398165,0.13550588050416876,0.1522669256527336,0.14969860997984696,0.14771640496293195,0.1399621231521562,0.14870806808725584,0.16977722805649667,0.14266753424470732,0.14410239780741804,0.13987822780850964,0.17226937479110216,0.1362169368416005,0.14440257497046904,0.1776737251585965,0.15192852972856896,0.17490066668804452,0.14526192716068306,0.16428515510294212,0.16974799490798256,0.16176889366890376,0.15989095882506135,0.1530441321151169,0.14621181412442993,0.15236534426970397,0.1515026083453073,0.15226541336653696,0.15393803441502976,0.14730231846897932,0.1528940994002518,0.15310608917857504,0.15685147656244366,0.15359214501994495,0.1651054894320999],\"showlegend\":true,\"subplot\":\"polar\",\"theta\":[\"popularity\",\"popularity\",\"popularity\",\"popularity\",\"popularity\",\"popularity\",\"popularity\",\"popularity\",\"popularity\",\"popularity\",\"popularity\",\"popularity\",\"danceability\",\"danceability\",\"danceability\",\"danceability\",\"danceability\",\"danceability\",\"danceability\",\"danceability\",\"danceability\",\"danceability\",\"danceability\",\"danceability\",\"energy\",\"energy\",\"energy\",\"energy\",\"energy\",\"energy\",\"energy\",\"energy\",\"energy\",\"energy\",\"energy\",\"energy\",\"loudness\",\"loudness\",\"loudness\",\"loudness\",\"loudness\",\"loudness\",\"loudness\",\"loudness\",\"loudness\",\"loudness\",\"loudness\",\"loudness\",\"speechiness\",\"speechiness\",\"speechiness\",\"speechiness\",\"speechiness\",\"speechiness\",\"speechiness\",\"speechiness\",\"speechiness\",\"speechiness\",\"speechiness\",\"speechiness\",\"acousticness\",\"acousticness\",\"acousticness\",\"acousticness\",\"acousticness\",\"acousticness\",\"acousticness\",\"acousticness\",\"acousticness\",\"acousticness\",\"acousticness\",\"acousticness\",\"instrumentalness\",\"instrumentalness\",\"instrumentalness\",\"instrumentalness\",\"instrumentalness\",\"instrumentalness\",\"instrumentalness\",\"instrumentalness\",\"instrumentalness\",\"instrumentalness\",\"instrumentalness\",\"instrumentalness\",\"liveness\",\"liveness\",\"liveness\",\"liveness\",\"liveness\",\"liveness\",\"liveness\",\"liveness\",\"liveness\",\"liveness\",\"liveness\",\"liveness\",\"valence\",\"valence\",\"valence\",\"valence\",\"valence\",\"valence\",\"valence\",\"valence\",\"valence\",\"valence\",\"valence\",\"valence\",\"tempo\",\"tempo\",\"tempo\",\"tempo\",\"tempo\",\"tempo\",\"tempo\",\"tempo\",\"tempo\",\"tempo\",\"tempo\",\"tempo\",\"popularity\"],\"type\":\"scatterpolar\"},{\"hovertemplate\":\"Q3=Undergraduate, 1st year (2026)<br>value=%{r}<br>variable=%{theta}<extra></extra>\",\"legendgroup\":\"Undergraduate, 1st year (2026)\",\"line\":{\"color\":\"#fdca26\",\"dash\":\"solid\"},\"marker\":{\"symbol\":\"circle\"},\"mode\":\"lines\",\"name\":\"Undergraduate, 1st year (2026)\",\"r\":[0.17321841049118505,0.09753499004839805,0.13991211525255817,0.12608947532766027,0.13290422329601265,0.18213924708204426,0.13136406346177668,0.18618177792764976,0.1472949082063796,0.13038413607239496,0.1641206064746178,0.12107493709397046,0.15523919889428608,0.17109150709784168,0.12849632585170706,0.17296956022427978,0.16669082589185472,0.09819520266876354,0.15662731510228553,0.2113762239531346,0.1544227179953238,0.1555429982978394,0.12369673920239349,0.20700526212920767,-0.12997064851019013,-0.20014348895543968,-0.12871860988767717,-0.1014263948174359,-0.1362375726529508,-0.12877018739414559,-0.18627926829410496,-0.09258966214824159,0.14357009621955086,0.11849844077088427,0.12362207986961178,0.14567406480007172,0.140829498752428,0.19925387126345703,0.09315125760473829,0.27229165386067194,0.11037483996159199,0.3048992132634361,0.11776882072050066,0.03703931463540574,0.13616848332091352,0.10870825494420426,0.21779007100275347,0.032216510353604025,0.055841441532335376,0.2723648426402399,0.03049497772656338,0.18850936521246772,0.08295841648456141,0.03200784463234601,0.20656186311717234,0.0019593655049645145,0.167976323388158,0.13922919321680496,0.15268598965180893,0.17321695582342614,0.14431308592287756,0.15673922611237218,0.14417007207130492,0.21480393809487403,0.16345089727167428,0.11360545845074944,0.17519128483218602,0.15239281560652138,0.15022319485463026,0.14339388981075712,0.14187067099155715,0.1928879592684704,0.15955948621753605,0.14085501659095154,0.15008181396268286,0.16339626930075976,0.15249497028576023,0.15892807041180448,0.14930049446068788,0.1682003172550735,0.17321841049118505],\"showlegend\":true,\"subplot\":\"polar\",\"theta\":[\"popularity\",\"popularity\",\"popularity\",\"popularity\",\"popularity\",\"popularity\",\"popularity\",\"popularity\",\"danceability\",\"danceability\",\"danceability\",\"danceability\",\"danceability\",\"danceability\",\"danceability\",\"danceability\",\"energy\",\"energy\",\"energy\",\"energy\",\"energy\",\"energy\",\"energy\",\"energy\",\"loudness\",\"loudness\",\"loudness\",\"loudness\",\"loudness\",\"loudness\",\"loudness\",\"loudness\",\"speechiness\",\"speechiness\",\"speechiness\",\"speechiness\",\"speechiness\",\"speechiness\",\"speechiness\",\"speechiness\",\"acousticness\",\"acousticness\",\"acousticness\",\"acousticness\",\"acousticness\",\"acousticness\",\"acousticness\",\"acousticness\",\"instrumentalness\",\"instrumentalness\",\"instrumentalness\",\"instrumentalness\",\"instrumentalness\",\"instrumentalness\",\"instrumentalness\",\"instrumentalness\",\"liveness\",\"liveness\",\"liveness\",\"liveness\",\"liveness\",\"liveness\",\"liveness\",\"liveness\",\"valence\",\"valence\",\"valence\",\"valence\",\"valence\",\"valence\",\"valence\",\"valence\",\"tempo\",\"tempo\",\"tempo\",\"tempo\",\"tempo\",\"tempo\",\"tempo\",\"tempo\",\"popularity\"],\"type\":\"scatterpolar\"},{\"hovertemplate\":\"Q3=Undergraduate, 2nd year (2025)<br>value=%{r}<br>variable=%{theta}<extra></extra>\",\"legendgroup\":\"Undergraduate, 2nd year (2025)\",\"line\":{\"color\":\"#fb9f3a\",\"dash\":\"solid\"},\"marker\":{\"symbol\":\"circle\"},\"mode\":\"lines\",\"name\":\"Undergraduate, 2nd year (2025)\",\"r\":[0.11455987759355134,0.13722572654498247,0.138356031294105,0.15440593181903678,0.17142993450369753,0.17372791558287617,0.16275272870263888,0.17009844076713942,0.1936201367254588,0.11765659440298817,0.16263571263585916,0.11025429722022816,0.14413936597120833,0.17861648379935074,0.15271173586920833,0.15121259559063172,0.1766753429969037,0.18435141204870287,0.14143911251814362,0.14133805837929275,0.14195424056255443,0.14406565132992102,0.1566561419509516,0.12537249014395635,0.17109625864954936,0.14644487793655594,0.1569494226271067,0.16561231229577522,0.13545523583862565,0.1448829735590317,0.16493786972195382,0.1482073809845772,0.13052590196080108,0.1324988228254807,0.14693676551289153,0.12953457737981675,0.14140561870630497,0.1683889532524245,0.16164680437760306,0.15388824997748987,0.17355953043566696,0.1668818446095809,-0.15257589669747343,-0.15621706220833903,-0.1255819912015929,-0.1372129807150721,-0.1911470603029248,-0.16766575809464054,-0.15977997475833153,-0.21193678478938474,-0.14144691472527587,-0.15140000934088563,-0.13331276506861162,-0.15813286204541815,-0.1104591305685129,-0.11241937636021859,0.11935732754336059,0.12168434098042204,0.26500182248098225,0.2629817484620177,0.10022352817718934,0.06555110112413326,0.12207695901004993,0.17515025183844338,0.16384238758872208,0.1153257386125376,0.19330027468788008,0.11775814538525436,0.11706468489499798,0.14877444602603565,0.1789673093138528,0.19450533704681705,0.07007801908214199,0.10515244061868925,0.1902444457147637,0.22285044242145102,0.16241322237310277,0.15952343044474127,0.15219937725141366,0.10226922914964387,0.086344389121045,0.14120668318555163,0.08591170148991331,0.10909678664212649,0.10912780517759085,0.2657934315523804,0.02377556667037997,0.012196476800948455,0.19268024229795863,0.06536651074799107,0.06018054440695766,0.17619773917346107,0.051400330372379795,0.23334466349722593,0.024665117450322172,0.16940306237057895,0.011012455111677331,0.014365269943354629,0.1407171465212871,0.13966951365603034,0.16090487012987253,0.16286573028030124,0.13729285143772146,0.1391030472026375,0.15284936691215828,0.13675952955434256,0.138953348532525,0.17012363788894674,0.1550113920350698,0.1521025196398142,0.1544802581584744,0.14427984754062723,0.13109549467885376,0.1437665910028953,0.14608732829109616,0.15477684316141704,0.14904217932309105,0.14909154168932598,0.17278996400833108,0.14053934516521951,0.13235347621042848,0.14467554605966326,0.15478020762119016,0.16125182774733351,0.1691649732199424,0.16368672329735337,0.15193153783409297,0.15508714371292723,0.15694549104758693,0.14498626149606342,0.14663197916061046,0.1529710704720798,0.1529809306472247,0.14219078989807515,0.14294714571968387,0.15737772169004383,0.16067207789033547,0.1536726601193451,0.15402635452790564,0.15376681392727193,0.11455987759355134],\"showlegend\":true,\"subplot\":\"polar\",\"theta\":[\"popularity\",\"popularity\",\"popularity\",\"popularity\",\"popularity\",\"popularity\",\"popularity\",\"popularity\",\"popularity\",\"popularity\",\"popularity\",\"popularity\",\"popularity\",\"popularity\",\"danceability\",\"danceability\",\"danceability\",\"danceability\",\"danceability\",\"danceability\",\"danceability\",\"danceability\",\"danceability\",\"danceability\",\"danceability\",\"danceability\",\"danceability\",\"danceability\",\"energy\",\"energy\",\"energy\",\"energy\",\"energy\",\"energy\",\"energy\",\"energy\",\"energy\",\"energy\",\"energy\",\"energy\",\"energy\",\"energy\",\"loudness\",\"loudness\",\"loudness\",\"loudness\",\"loudness\",\"loudness\",\"loudness\",\"loudness\",\"loudness\",\"loudness\",\"loudness\",\"loudness\",\"loudness\",\"loudness\",\"speechiness\",\"speechiness\",\"speechiness\",\"speechiness\",\"speechiness\",\"speechiness\",\"speechiness\",\"speechiness\",\"speechiness\",\"speechiness\",\"speechiness\",\"speechiness\",\"speechiness\",\"speechiness\",\"acousticness\",\"acousticness\",\"acousticness\",\"acousticness\",\"acousticness\",\"acousticness\",\"acousticness\",\"acousticness\",\"acousticness\",\"acousticness\",\"acousticness\",\"acousticness\",\"acousticness\",\"acousticness\",\"instrumentalness\",\"instrumentalness\",\"instrumentalness\",\"instrumentalness\",\"instrumentalness\",\"instrumentalness\",\"instrumentalness\",\"instrumentalness\",\"instrumentalness\",\"instrumentalness\",\"instrumentalness\",\"instrumentalness\",\"instrumentalness\",\"instrumentalness\",\"liveness\",\"liveness\",\"liveness\",\"liveness\",\"liveness\",\"liveness\",\"liveness\",\"liveness\",\"liveness\",\"liveness\",\"liveness\",\"liveness\",\"liveness\",\"liveness\",\"valence\",\"valence\",\"valence\",\"valence\",\"valence\",\"valence\",\"valence\",\"valence\",\"valence\",\"valence\",\"valence\",\"valence\",\"valence\",\"valence\",\"tempo\",\"tempo\",\"tempo\",\"tempo\",\"tempo\",\"tempo\",\"tempo\",\"tempo\",\"tempo\",\"tempo\",\"tempo\",\"tempo\",\"tempo\",\"tempo\",\"popularity\"],\"type\":\"scatterpolar\"},{\"hovertemplate\":\"Q3=Undergraduate, 4th year (2023)<br>value=%{r}<br>variable=%{theta}<extra></extra>\",\"legendgroup\":\"Undergraduate, 4th year (2023)\",\"line\":{\"color\":\"#ed7953\",\"dash\":\"solid\"},\"marker\":{\"symbol\":\"circle\"},\"mode\":\"lines\",\"name\":\"Undergraduate, 4th year (2023)\",\"r\":[0.1852506586948113,0.0863154180402017,0.1542695990974579,0.19383338141345538,0.08645852106742558,0.17271079443153545,0.11080250691006954,0.17642525238418427,0.1690034662873017,0.12270180143153311,0.1373699602368648,0.10454886879153219,0.15753587392024598,0.16343812483700237,0.11203818277761045,-0.1415696884402064,-0.2519304934261393,-0.11896986492738372,-0.1190648566813091,-0.22184505666259688,0.21000748358424465,0.12073589161676883,0.2189490344887173,0.18440400946912927,0.06355828659786435,0.1480889035379497,0.24976286426677652,0.09392778273201978,0.10414418113375094,0.23496709650847894,0.03587542979142564,0.44214689515451,0.002319402236869627,0.022332715016701404,0.20055375884039128,0.1518677317414467,0.14752190812636948,0.1376377350256551,0.15618141600702037,0.14284090495645105,0.15540664260901552,0.10828004510184945,0.15810596319294679,0.16132467391261623,0.12922820850378602,0.15210739140836865,0.1381846652551854,0.15179678459854767,0.15604358006512997,0.14697969271947972,0.1852506586948113],\"showlegend\":true,\"subplot\":\"polar\",\"theta\":[\"popularity\",\"popularity\",\"popularity\",\"popularity\",\"popularity\",\"danceability\",\"danceability\",\"danceability\",\"danceability\",\"danceability\",\"energy\",\"energy\",\"energy\",\"energy\",\"energy\",\"loudness\",\"loudness\",\"loudness\",\"loudness\",\"loudness\",\"speechiness\",\"speechiness\",\"speechiness\",\"speechiness\",\"speechiness\",\"acousticness\",\"acousticness\",\"acousticness\",\"acousticness\",\"acousticness\",\"instrumentalness\",\"instrumentalness\",\"instrumentalness\",\"instrumentalness\",\"instrumentalness\",\"liveness\",\"liveness\",\"liveness\",\"liveness\",\"liveness\",\"valence\",\"valence\",\"valence\",\"valence\",\"valence\",\"tempo\",\"tempo\",\"tempo\",\"tempo\",\"tempo\",\"popularity\"],\"type\":\"scatterpolar\"},{\"hovertemplate\":\"Q3=Graduate student<br>value=%{r}<br>variable=%{theta}<extra></extra>\",\"legendgroup\":\"Graduate student\",\"line\":{\"color\":\"#d8576b\",\"dash\":\"solid\"},\"marker\":{\"symbol\":\"circle\"},\"mode\":\"lines\",\"name\":\"Graduate student\",\"r\":[0.10939929616543306,0.12303124024221361,0.14354404267592272,0.12847898981587003,0.13469608135292577,0.14494428545629873,0.13311506565857464,0.13789290945474372,0.1299871824806185,-0.20453919574622478,-0.18660452532242622,-0.16734455067005138,0.09289357164133223,0.09497101585076331,0.07510412341458368,0.19078592826265423,0.17441935371223713,0.22224900241060566,0.2793317708447308,0.33979694183856546,0.036910226502526566,0.15594978744010202,0.13475599659851834,0.13659456919898452,0.15851848170899097,0.13252756381004158,0.14277065924612137,0.15190680557680447,0.15090356939061247,0.14962361426837215,0.10939929616543306],\"showlegend\":true,\"subplot\":\"polar\",\"theta\":[\"popularity\",\"popularity\",\"popularity\",\"danceability\",\"danceability\",\"danceability\",\"energy\",\"energy\",\"energy\",\"loudness\",\"loudness\",\"loudness\",\"speechiness\",\"speechiness\",\"speechiness\",\"acousticness\",\"acousticness\",\"acousticness\",\"instrumentalness\",\"instrumentalness\",\"instrumentalness\",\"liveness\",\"liveness\",\"liveness\",\"valence\",\"valence\",\"valence\",\"tempo\",\"tempo\",\"tempo\",\"popularity\"],\"type\":\"scatterpolar\"},{\"hovertemplate\":\"Q3=Undergraduate, other<br>value=%{r}<br>variable=%{theta}<extra></extra>\",\"legendgroup\":\"Undergraduate, other\",\"line\":{\"color\":\"#bd3786\",\"dash\":\"solid\"},\"marker\":{\"symbol\":\"circle\"},\"mode\":\"lines\",\"name\":\"Undergraduate, other\",\"r\":[0.11890433663904316,0.15118987589015753,0.16152754082734827,-0.13771161791449288,0.12332567513508944,0.1326800471074347,0.17709065843567953,0.15132174709364202,0.14344605128316834,0.15325068278503534,0.11890433663904316],\"showlegend\":true,\"subplot\":\"polar\",\"theta\":[\"popularity\",\"danceability\",\"energy\",\"loudness\",\"speechiness\",\"acousticness\",\"instrumentalness\",\"liveness\",\"valence\",\"tempo\",\"popularity\"],\"type\":\"scatterpolar\"}],                        {\"template\":{\"data\":{\"barpolar\":[{\"marker\":{\"line\":{\"color\":\"rgb(17,17,17)\",\"width\":0.5},\"pattern\":{\"fillmode\":\"overlay\",\"size\":10,\"solidity\":0.2}},\"type\":\"barpolar\"}],\"bar\":[{\"error_x\":{\"color\":\"#f2f5fa\"},\"error_y\":{\"color\":\"#f2f5fa\"},\"marker\":{\"line\":{\"color\":\"rgb(17,17,17)\",\"width\":0.5},\"pattern\":{\"fillmode\":\"overlay\",\"size\":10,\"solidity\":0.2}},\"type\":\"bar\"}],\"carpet\":[{\"aaxis\":{\"endlinecolor\":\"#A2B1C6\",\"gridcolor\":\"#506784\",\"linecolor\":\"#506784\",\"minorgridcolor\":\"#506784\",\"startlinecolor\":\"#A2B1C6\"},\"baxis\":{\"endlinecolor\":\"#A2B1C6\",\"gridcolor\":\"#506784\",\"linecolor\":\"#506784\",\"minorgridcolor\":\"#506784\",\"startlinecolor\":\"#A2B1C6\"},\"type\":\"carpet\"}],\"choropleth\":[{\"colorbar\":{\"outlinewidth\":0,\"ticks\":\"\"},\"type\":\"choropleth\"}],\"contourcarpet\":[{\"colorbar\":{\"outlinewidth\":0,\"ticks\":\"\"},\"type\":\"contourcarpet\"}],\"contour\":[{\"colorbar\":{\"outlinewidth\":0,\"ticks\":\"\"},\"colorscale\":[[0.0,\"#0d0887\"],[0.1111111111111111,\"#46039f\"],[0.2222222222222222,\"#7201a8\"],[0.3333333333333333,\"#9c179e\"],[0.4444444444444444,\"#bd3786\"],[0.5555555555555556,\"#d8576b\"],[0.6666666666666666,\"#ed7953\"],[0.7777777777777778,\"#fb9f3a\"],[0.8888888888888888,\"#fdca26\"],[1.0,\"#f0f921\"]],\"type\":\"contour\"}],\"heatmapgl\":[{\"colorbar\":{\"outlinewidth\":0,\"ticks\":\"\"},\"colorscale\":[[0.0,\"#0d0887\"],[0.1111111111111111,\"#46039f\"],[0.2222222222222222,\"#7201a8\"],[0.3333333333333333,\"#9c179e\"],[0.4444444444444444,\"#bd3786\"],[0.5555555555555556,\"#d8576b\"],[0.6666666666666666,\"#ed7953\"],[0.7777777777777778,\"#fb9f3a\"],[0.8888888888888888,\"#fdca26\"],[1.0,\"#f0f921\"]],\"type\":\"heatmapgl\"}],\"heatmap\":[{\"colorbar\":{\"outlinewidth\":0,\"ticks\":\"\"},\"colorscale\":[[0.0,\"#0d0887\"],[0.1111111111111111,\"#46039f\"],[0.2222222222222222,\"#7201a8\"],[0.3333333333333333,\"#9c179e\"],[0.4444444444444444,\"#bd3786\"],[0.5555555555555556,\"#d8576b\"],[0.6666666666666666,\"#ed7953\"],[0.7777777777777778,\"#fb9f3a\"],[0.8888888888888888,\"#fdca26\"],[1.0,\"#f0f921\"]],\"type\":\"heatmap\"}],\"histogram2dcontour\":[{\"colorbar\":{\"outlinewidth\":0,\"ticks\":\"\"},\"colorscale\":[[0.0,\"#0d0887\"],[0.1111111111111111,\"#46039f\"],[0.2222222222222222,\"#7201a8\"],[0.3333333333333333,\"#9c179e\"],[0.4444444444444444,\"#bd3786\"],[0.5555555555555556,\"#d8576b\"],[0.6666666666666666,\"#ed7953\"],[0.7777777777777778,\"#fb9f3a\"],[0.8888888888888888,\"#fdca26\"],[1.0,\"#f0f921\"]],\"type\":\"histogram2dcontour\"}],\"histogram2d\":[{\"colorbar\":{\"outlinewidth\":0,\"ticks\":\"\"},\"colorscale\":[[0.0,\"#0d0887\"],[0.1111111111111111,\"#46039f\"],[0.2222222222222222,\"#7201a8\"],[0.3333333333333333,\"#9c179e\"],[0.4444444444444444,\"#bd3786\"],[0.5555555555555556,\"#d8576b\"],[0.6666666666666666,\"#ed7953\"],[0.7777777777777778,\"#fb9f3a\"],[0.8888888888888888,\"#fdca26\"],[1.0,\"#f0f921\"]],\"type\":\"histogram2d\"}],\"histogram\":[{\"marker\":{\"pattern\":{\"fillmode\":\"overlay\",\"size\":10,\"solidity\":0.2}},\"type\":\"histogram\"}],\"mesh3d\":[{\"colorbar\":{\"outlinewidth\":0,\"ticks\":\"\"},\"type\":\"mesh3d\"}],\"parcoords\":[{\"line\":{\"colorbar\":{\"outlinewidth\":0,\"ticks\":\"\"}},\"type\":\"parcoords\"}],\"pie\":[{\"automargin\":true,\"type\":\"pie\"}],\"scatter3d\":[{\"line\":{\"colorbar\":{\"outlinewidth\":0,\"ticks\":\"\"}},\"marker\":{\"colorbar\":{\"outlinewidth\":0,\"ticks\":\"\"}},\"type\":\"scatter3d\"}],\"scattercarpet\":[{\"marker\":{\"colorbar\":{\"outlinewidth\":0,\"ticks\":\"\"}},\"type\":\"scattercarpet\"}],\"scattergeo\":[{\"marker\":{\"colorbar\":{\"outlinewidth\":0,\"ticks\":\"\"}},\"type\":\"scattergeo\"}],\"scattergl\":[{\"marker\":{\"line\":{\"color\":\"#283442\"}},\"type\":\"scattergl\"}],\"scattermapbox\":[{\"marker\":{\"colorbar\":{\"outlinewidth\":0,\"ticks\":\"\"}},\"type\":\"scattermapbox\"}],\"scatterpolargl\":[{\"marker\":{\"colorbar\":{\"outlinewidth\":0,\"ticks\":\"\"}},\"type\":\"scatterpolargl\"}],\"scatterpolar\":[{\"marker\":{\"colorbar\":{\"outlinewidth\":0,\"ticks\":\"\"}},\"type\":\"scatterpolar\"}],\"scatter\":[{\"marker\":{\"line\":{\"color\":\"#283442\"}},\"type\":\"scatter\"}],\"scatterternary\":[{\"marker\":{\"colorbar\":{\"outlinewidth\":0,\"ticks\":\"\"}},\"type\":\"scatterternary\"}],\"surface\":[{\"colorbar\":{\"outlinewidth\":0,\"ticks\":\"\"},\"colorscale\":[[0.0,\"#0d0887\"],[0.1111111111111111,\"#46039f\"],[0.2222222222222222,\"#7201a8\"],[0.3333333333333333,\"#9c179e\"],[0.4444444444444444,\"#bd3786\"],[0.5555555555555556,\"#d8576b\"],[0.6666666666666666,\"#ed7953\"],[0.7777777777777778,\"#fb9f3a\"],[0.8888888888888888,\"#fdca26\"],[1.0,\"#f0f921\"]],\"type\":\"surface\"}],\"table\":[{\"cells\":{\"fill\":{\"color\":\"#506784\"},\"line\":{\"color\":\"rgb(17,17,17)\"}},\"header\":{\"fill\":{\"color\":\"#2a3f5f\"},\"line\":{\"color\":\"rgb(17,17,17)\"}},\"type\":\"table\"}]},\"layout\":{\"annotationdefaults\":{\"arrowcolor\":\"#f2f5fa\",\"arrowhead\":0,\"arrowwidth\":1},\"autotypenumbers\":\"strict\",\"coloraxis\":{\"colorbar\":{\"outlinewidth\":0,\"ticks\":\"\"}},\"colorscale\":{\"diverging\":[[0,\"#8e0152\"],[0.1,\"#c51b7d\"],[0.2,\"#de77ae\"],[0.3,\"#f1b6da\"],[0.4,\"#fde0ef\"],[0.5,\"#f7f7f7\"],[0.6,\"#e6f5d0\"],[0.7,\"#b8e186\"],[0.8,\"#7fbc41\"],[0.9,\"#4d9221\"],[1,\"#276419\"]],\"sequential\":[[0.0,\"#0d0887\"],[0.1111111111111111,\"#46039f\"],[0.2222222222222222,\"#7201a8\"],[0.3333333333333333,\"#9c179e\"],[0.4444444444444444,\"#bd3786\"],[0.5555555555555556,\"#d8576b\"],[0.6666666666666666,\"#ed7953\"],[0.7777777777777778,\"#fb9f3a\"],[0.8888888888888888,\"#fdca26\"],[1.0,\"#f0f921\"]],\"sequentialminus\":[[0.0,\"#0d0887\"],[0.1111111111111111,\"#46039f\"],[0.2222222222222222,\"#7201a8\"],[0.3333333333333333,\"#9c179e\"],[0.4444444444444444,\"#bd3786\"],[0.5555555555555556,\"#d8576b\"],[0.6666666666666666,\"#ed7953\"],[0.7777777777777778,\"#fb9f3a\"],[0.8888888888888888,\"#fdca26\"],[1.0,\"#f0f921\"]]},\"colorway\":[\"#636efa\",\"#EF553B\",\"#00cc96\",\"#ab63fa\",\"#FFA15A\",\"#19d3f3\",\"#FF6692\",\"#B6E880\",\"#FF97FF\",\"#FECB52\"],\"font\":{\"color\":\"#f2f5fa\"},\"geo\":{\"bgcolor\":\"rgb(17,17,17)\",\"lakecolor\":\"rgb(17,17,17)\",\"landcolor\":\"rgb(17,17,17)\",\"showlakes\":true,\"showland\":true,\"subunitcolor\":\"#506784\"},\"hoverlabel\":{\"align\":\"left\"},\"hovermode\":\"closest\",\"mapbox\":{\"style\":\"dark\"},\"paper_bgcolor\":\"rgb(17,17,17)\",\"plot_bgcolor\":\"rgb(17,17,17)\",\"polar\":{\"angularaxis\":{\"gridcolor\":\"#506784\",\"linecolor\":\"#506784\",\"ticks\":\"\"},\"bgcolor\":\"rgb(17,17,17)\",\"radialaxis\":{\"gridcolor\":\"#506784\",\"linecolor\":\"#506784\",\"ticks\":\"\"}},\"scene\":{\"xaxis\":{\"backgroundcolor\":\"rgb(17,17,17)\",\"gridcolor\":\"#506784\",\"gridwidth\":2,\"linecolor\":\"#506784\",\"showbackground\":true,\"ticks\":\"\",\"zerolinecolor\":\"#C8D4E3\"},\"yaxis\":{\"backgroundcolor\":\"rgb(17,17,17)\",\"gridcolor\":\"#506784\",\"gridwidth\":2,\"linecolor\":\"#506784\",\"showbackground\":true,\"ticks\":\"\",\"zerolinecolor\":\"#C8D4E3\"},\"zaxis\":{\"backgroundcolor\":\"rgb(17,17,17)\",\"gridcolor\":\"#506784\",\"gridwidth\":2,\"linecolor\":\"#506784\",\"showbackground\":true,\"ticks\":\"\",\"zerolinecolor\":\"#C8D4E3\"}},\"shapedefaults\":{\"line\":{\"color\":\"#f2f5fa\"}},\"sliderdefaults\":{\"bgcolor\":\"#C8D4E3\",\"bordercolor\":\"rgb(17,17,17)\",\"borderwidth\":1,\"tickwidth\":0},\"ternary\":{\"aaxis\":{\"gridcolor\":\"#506784\",\"linecolor\":\"#506784\",\"ticks\":\"\"},\"baxis\":{\"gridcolor\":\"#506784\",\"linecolor\":\"#506784\",\"ticks\":\"\"},\"bgcolor\":\"rgb(17,17,17)\",\"caxis\":{\"gridcolor\":\"#506784\",\"linecolor\":\"#506784\",\"ticks\":\"\"}},\"title\":{\"x\":0.05},\"updatemenudefaults\":{\"bgcolor\":\"#506784\",\"borderwidth\":0},\"xaxis\":{\"automargin\":true,\"gridcolor\":\"#283442\",\"linecolor\":\"#506784\",\"ticks\":\"\",\"title\":{\"standoff\":15},\"zerolinecolor\":\"#283442\",\"zerolinewidth\":2},\"yaxis\":{\"automargin\":true,\"gridcolor\":\"#283442\",\"linecolor\":\"#506784\",\"ticks\":\"\",\"title\":{\"standoff\":15},\"zerolinecolor\":\"#283442\",\"zerolinewidth\":2}}},\"polar\":{\"domain\":{\"x\":[0.0,1.0],\"y\":[0.0,1.0]},\"angularaxis\":{\"direction\":\"clockwise\",\"rotation\":90}},\"legend\":{\"title\":{\"text\":\"Q3\"},\"tracegroupgap\":0},\"margin\":{\"t\":60},\"showlegend\":false},                        {\"responsive\": true}                    ).then(function(){\n",
       "                            \n",
       "var gd = document.getElementById('700b268e-a20d-4d60-9de7-f9200e3d2f0d');\n",
       "var x = new MutationObserver(function (mutations, observer) {{\n",
       "        var display = window.getComputedStyle(gd).display;\n",
       "        if (!display || display === 'none') {{\n",
       "            console.log([gd, 'removed!']);\n",
       "            Plotly.purge(gd);\n",
       "            observer.disconnect();\n",
       "        }}\n",
       "}});\n",
       "\n",
       "// Listen for the removal of the full notebook cells\n",
       "var notebookContainer = gd.closest('#notebook-container');\n",
       "if (notebookContainer) {{\n",
       "    x.observe(notebookContainer, {childList: true});\n",
       "}}\n",
       "\n",
       "// Listen for the clearing of the current output cell\n",
       "var outputEl = gd.closest('.output');\n",
       "if (outputEl) {{\n",
       "    x.observe(outputEl, {childList: true});\n",
       "}}\n",
       "\n",
       "                        })                };                });            </script>        </div>"
      ]
     },
     "metadata": {},
     "output_type": "display_data"
    }
   ],
   "source": [
    "fig.show()"
   ]
  }
 ],
 "metadata": {
  "kernelspec": {
   "display_name": "Python 3 (ipykernel)",
   "language": "python",
   "name": "python3"
  },
  "language_info": {
   "codemirror_mode": {
    "name": "ipython",
    "version": 3
   },
   "file_extension": ".py",
   "mimetype": "text/x-python",
   "name": "python",
   "nbconvert_exporter": "python",
   "pygments_lexer": "ipython3",
   "version": "3.9.12"
  }
 },
 "nbformat": 4,
 "nbformat_minor": 5
}
