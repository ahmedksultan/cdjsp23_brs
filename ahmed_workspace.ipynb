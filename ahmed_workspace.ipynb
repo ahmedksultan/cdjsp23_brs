{
 "cells": [
  {
   "cell_type": "markdown",
   "id": "584de6d3",
   "metadata": {},
   "source": [
    "# I hate my life"
   ]
  },
  {
   "cell_type": "code",
   "execution_count": 1,
   "id": "5d53e2d5",
   "metadata": {},
   "outputs": [],
   "source": [
    "import numpy as np\n",
    "import pandas as pd\n",
    "import plotly.express as px"
   ]
  },
  {
   "cell_type": "code",
   "execution_count": 2,
   "id": "185dedca",
   "metadata": {},
   "outputs": [],
   "source": [
    "df = pd.read_csv('all_cornell.csv')"
   ]
  },
  {
   "cell_type": "code",
   "execution_count": 3,
   "id": "f2a7b643",
   "metadata": {},
   "outputs": [
    {
     "data": {
      "text/html": [
       "<div>\n",
       "<style scoped>\n",
       "    .dataframe tbody tr th:only-of-type {\n",
       "        vertical-align: middle;\n",
       "    }\n",
       "\n",
       "    .dataframe tbody tr th {\n",
       "        vertical-align: top;\n",
       "    }\n",
       "\n",
       "    .dataframe thead th {\n",
       "        text-align: right;\n",
       "    }\n",
       "</style>\n",
       "<table border=\"1\" class=\"dataframe\">\n",
       "  <thead>\n",
       "    <tr style=\"text-align: right;\">\n",
       "      <th></th>\n",
       "      <th>username</th>\n",
       "      <th>id</th>\n",
       "      <th>title</th>\n",
       "      <th>artist</th>\n",
       "      <th>explicit</th>\n",
       "      <th>popularity</th>\n",
       "      <th>danceability</th>\n",
       "      <th>energy</th>\n",
       "      <th>loudness</th>\n",
       "      <th>speechiness</th>\n",
       "      <th>acousticness</th>\n",
       "      <th>instrumentalness</th>\n",
       "      <th>liveness</th>\n",
       "      <th>valence</th>\n",
       "      <th>tempo</th>\n",
       "    </tr>\n",
       "  </thead>\n",
       "  <tbody>\n",
       "    <tr>\n",
       "      <th>0</th>\n",
       "      <td>6cjzkudbvmwfe963clvemzwkj</td>\n",
       "      <td>3N0gL4EypJfzJ6txDnIrDS</td>\n",
       "      <td>I Know Where The Rainbow has Fallen</td>\n",
       "      <td>JANNABI</td>\n",
       "      <td>False</td>\n",
       "      <td>42</td>\n",
       "      <td>0.456</td>\n",
       "      <td>0.660</td>\n",
       "      <td>-5.480</td>\n",
       "      <td>0.0280</td>\n",
       "      <td>0.44400</td>\n",
       "      <td>0.000094</td>\n",
       "      <td>0.1120</td>\n",
       "      <td>0.2460</td>\n",
       "      <td>144.014</td>\n",
       "    </tr>\n",
       "    <tr>\n",
       "      <th>1</th>\n",
       "      <td>6cjzkudbvmwfe963clvemzwkj</td>\n",
       "      <td>2d87kHwM5YByBhsU8qCDWg</td>\n",
       "      <td>land of night</td>\n",
       "      <td>JANNABI</td>\n",
       "      <td>False</td>\n",
       "      <td>31</td>\n",
       "      <td>0.347</td>\n",
       "      <td>0.482</td>\n",
       "      <td>-8.947</td>\n",
       "      <td>0.0306</td>\n",
       "      <td>0.84200</td>\n",
       "      <td>0.048400</td>\n",
       "      <td>0.2110</td>\n",
       "      <td>0.1090</td>\n",
       "      <td>147.900</td>\n",
       "    </tr>\n",
       "    <tr>\n",
       "      <th>2</th>\n",
       "      <td>6cjzkudbvmwfe963clvemzwkj</td>\n",
       "      <td>2XdyebP7KxClMOse2C5iyA</td>\n",
       "      <td>Your Dog Loves You</td>\n",
       "      <td>Colde, Crush</td>\n",
       "      <td>False</td>\n",
       "      <td>1</td>\n",
       "      <td>0.667</td>\n",
       "      <td>0.233</td>\n",
       "      <td>-11.862</td>\n",
       "      <td>0.0302</td>\n",
       "      <td>0.92800</td>\n",
       "      <td>0.000027</td>\n",
       "      <td>0.1540</td>\n",
       "      <td>0.1310</td>\n",
       "      <td>101.865</td>\n",
       "    </tr>\n",
       "    <tr>\n",
       "      <th>3</th>\n",
       "      <td>6cjzkudbvmwfe963clvemzwkj</td>\n",
       "      <td>2BkpDA0AyGPHzyae6wWtZW</td>\n",
       "      <td>Sigh (Feat. GIRIBOY)</td>\n",
       "      <td>BIG Naughty, GIRIBOY</td>\n",
       "      <td>False</td>\n",
       "      <td>40</td>\n",
       "      <td>0.697</td>\n",
       "      <td>0.437</td>\n",
       "      <td>-7.731</td>\n",
       "      <td>0.0491</td>\n",
       "      <td>0.67400</td>\n",
       "      <td>0.000000</td>\n",
       "      <td>0.0778</td>\n",
       "      <td>0.3260</td>\n",
       "      <td>119.724</td>\n",
       "    </tr>\n",
       "    <tr>\n",
       "      <th>4</th>\n",
       "      <td>6cjzkudbvmwfe963clvemzwkj</td>\n",
       "      <td>0BFtp5qYodX3PCaSwYPa0G</td>\n",
       "      <td>NAPPA 나빠</td>\n",
       "      <td>Crush</td>\n",
       "      <td>False</td>\n",
       "      <td>0</td>\n",
       "      <td>0.561</td>\n",
       "      <td>0.542</td>\n",
       "      <td>-7.947</td>\n",
       "      <td>0.2580</td>\n",
       "      <td>0.39400</td>\n",
       "      <td>0.000000</td>\n",
       "      <td>0.1730</td>\n",
       "      <td>0.5360</td>\n",
       "      <td>161.867</td>\n",
       "    </tr>\n",
       "    <tr>\n",
       "      <th>...</th>\n",
       "      <td>...</td>\n",
       "      <td>...</td>\n",
       "      <td>...</td>\n",
       "      <td>...</td>\n",
       "      <td>...</td>\n",
       "      <td>...</td>\n",
       "      <td>...</td>\n",
       "      <td>...</td>\n",
       "      <td>...</td>\n",
       "      <td>...</td>\n",
       "      <td>...</td>\n",
       "      <td>...</td>\n",
       "      <td>...</td>\n",
       "      <td>...</td>\n",
       "      <td>...</td>\n",
       "    </tr>\n",
       "    <tr>\n",
       "      <th>50384</th>\n",
       "      <td>97mi316dq36dfamaknfag208q</td>\n",
       "      <td>4fzsfWzRhPawzqhX8Qt9F3</td>\n",
       "      <td>Stronger</td>\n",
       "      <td>Kanye West</td>\n",
       "      <td>True</td>\n",
       "      <td>10</td>\n",
       "      <td>0.617</td>\n",
       "      <td>0.717</td>\n",
       "      <td>-7.858</td>\n",
       "      <td>0.1530</td>\n",
       "      <td>0.00564</td>\n",
       "      <td>0.000000</td>\n",
       "      <td>0.4080</td>\n",
       "      <td>0.4900</td>\n",
       "      <td>103.992</td>\n",
       "    </tr>\n",
       "    <tr>\n",
       "      <th>50385</th>\n",
       "      <td>97mi316dq36dfamaknfag208q</td>\n",
       "      <td>5ruzrDWcT0vuJIOMW7gMnW</td>\n",
       "      <td>The Adults Are Talking</td>\n",
       "      <td>The Strokes</td>\n",
       "      <td>False</td>\n",
       "      <td>80</td>\n",
       "      <td>0.593</td>\n",
       "      <td>0.749</td>\n",
       "      <td>-5.670</td>\n",
       "      <td>0.0475</td>\n",
       "      <td>0.01130</td>\n",
       "      <td>0.106000</td>\n",
       "      <td>0.3140</td>\n",
       "      <td>0.6490</td>\n",
       "      <td>164.959</td>\n",
       "    </tr>\n",
       "    <tr>\n",
       "      <th>50386</th>\n",
       "      <td>97mi316dq36dfamaknfag208q</td>\n",
       "      <td>4mWahKerLaVddUjb8d1Q4Q</td>\n",
       "      <td>The Man Who Sold the World - 2015 Remaster</td>\n",
       "      <td>David Bowie</td>\n",
       "      <td>False</td>\n",
       "      <td>65</td>\n",
       "      <td>0.474</td>\n",
       "      <td>0.387</td>\n",
       "      <td>-14.416</td>\n",
       "      <td>0.0305</td>\n",
       "      <td>0.64200</td>\n",
       "      <td>0.005570</td>\n",
       "      <td>0.1430</td>\n",
       "      <td>0.5450</td>\n",
       "      <td>118.486</td>\n",
       "    </tr>\n",
       "    <tr>\n",
       "      <th>50387</th>\n",
       "      <td>97mi316dq36dfamaknfag208q</td>\n",
       "      <td>00QAndVDVfNqNWYdWAhEan</td>\n",
       "      <td>Who Wants To Live Forever - Remastered 2011</td>\n",
       "      <td>Queen</td>\n",
       "      <td>False</td>\n",
       "      <td>49</td>\n",
       "      <td>0.135</td>\n",
       "      <td>0.399</td>\n",
       "      <td>-8.670</td>\n",
       "      <td>0.0361</td>\n",
       "      <td>0.57700</td>\n",
       "      <td>0.001040</td>\n",
       "      <td>0.1150</td>\n",
       "      <td>0.0383</td>\n",
       "      <td>87.476</td>\n",
       "    </tr>\n",
       "    <tr>\n",
       "      <th>50388</th>\n",
       "      <td>97mi316dq36dfamaknfag208q</td>\n",
       "      <td>38zsOOcu31XbbYj9BIPUF1</td>\n",
       "      <td>Your Song</td>\n",
       "      <td>Elton John</td>\n",
       "      <td>False</td>\n",
       "      <td>81</td>\n",
       "      <td>0.554</td>\n",
       "      <td>0.315</td>\n",
       "      <td>-11.028</td>\n",
       "      <td>0.0298</td>\n",
       "      <td>0.82800</td>\n",
       "      <td>0.000006</td>\n",
       "      <td>0.1010</td>\n",
       "      <td>0.3250</td>\n",
       "      <td>128.157</td>\n",
       "    </tr>\n",
       "  </tbody>\n",
       "</table>\n",
       "<p>50389 rows × 15 columns</p>\n",
       "</div>"
      ],
      "text/plain": [
       "                        username                      id  \\\n",
       "0      6cjzkudbvmwfe963clvemzwkj  3N0gL4EypJfzJ6txDnIrDS   \n",
       "1      6cjzkudbvmwfe963clvemzwkj  2d87kHwM5YByBhsU8qCDWg   \n",
       "2      6cjzkudbvmwfe963clvemzwkj  2XdyebP7KxClMOse2C5iyA   \n",
       "3      6cjzkudbvmwfe963clvemzwkj  2BkpDA0AyGPHzyae6wWtZW   \n",
       "4      6cjzkudbvmwfe963clvemzwkj  0BFtp5qYodX3PCaSwYPa0G   \n",
       "...                          ...                     ...   \n",
       "50384  97mi316dq36dfamaknfag208q  4fzsfWzRhPawzqhX8Qt9F3   \n",
       "50385  97mi316dq36dfamaknfag208q  5ruzrDWcT0vuJIOMW7gMnW   \n",
       "50386  97mi316dq36dfamaknfag208q  4mWahKerLaVddUjb8d1Q4Q   \n",
       "50387  97mi316dq36dfamaknfag208q  00QAndVDVfNqNWYdWAhEan   \n",
       "50388  97mi316dq36dfamaknfag208q  38zsOOcu31XbbYj9BIPUF1   \n",
       "\n",
       "                                             title                artist  \\\n",
       "0              I Know Where The Rainbow has Fallen               JANNABI   \n",
       "1                                    land of night               JANNABI   \n",
       "2                               Your Dog Loves You          Colde, Crush   \n",
       "3                             Sigh (Feat. GIRIBOY)  BIG Naughty, GIRIBOY   \n",
       "4                                         NAPPA 나빠                 Crush   \n",
       "...                                            ...                   ...   \n",
       "50384                                     Stronger            Kanye West   \n",
       "50385                       The Adults Are Talking           The Strokes   \n",
       "50386   The Man Who Sold the World - 2015 Remaster           David Bowie   \n",
       "50387  Who Wants To Live Forever - Remastered 2011                 Queen   \n",
       "50388                                    Your Song            Elton John   \n",
       "\n",
       "       explicit  popularity  danceability  energy  loudness  speechiness  \\\n",
       "0         False          42         0.456   0.660    -5.480       0.0280   \n",
       "1         False          31         0.347   0.482    -8.947       0.0306   \n",
       "2         False           1         0.667   0.233   -11.862       0.0302   \n",
       "3         False          40         0.697   0.437    -7.731       0.0491   \n",
       "4         False           0         0.561   0.542    -7.947       0.2580   \n",
       "...         ...         ...           ...     ...       ...          ...   \n",
       "50384      True          10         0.617   0.717    -7.858       0.1530   \n",
       "50385     False          80         0.593   0.749    -5.670       0.0475   \n",
       "50386     False          65         0.474   0.387   -14.416       0.0305   \n",
       "50387     False          49         0.135   0.399    -8.670       0.0361   \n",
       "50388     False          81         0.554   0.315   -11.028       0.0298   \n",
       "\n",
       "       acousticness  instrumentalness  liveness  valence    tempo  \n",
       "0           0.44400          0.000094    0.1120   0.2460  144.014  \n",
       "1           0.84200          0.048400    0.2110   0.1090  147.900  \n",
       "2           0.92800          0.000027    0.1540   0.1310  101.865  \n",
       "3           0.67400          0.000000    0.0778   0.3260  119.724  \n",
       "4           0.39400          0.000000    0.1730   0.5360  161.867  \n",
       "...             ...               ...       ...      ...      ...  \n",
       "50384       0.00564          0.000000    0.4080   0.4900  103.992  \n",
       "50385       0.01130          0.106000    0.3140   0.6490  164.959  \n",
       "50386       0.64200          0.005570    0.1430   0.5450  118.486  \n",
       "50387       0.57700          0.001040    0.1150   0.0383   87.476  \n",
       "50388       0.82800          0.000006    0.1010   0.3250  128.157  \n",
       "\n",
       "[50389 rows x 15 columns]"
      ]
     },
     "execution_count": 3,
     "metadata": {},
     "output_type": "execute_result"
    }
   ],
   "source": [
    "df #af"
   ]
  },
  {
   "cell_type": "code",
   "execution_count": 5,
   "id": "38d7ab4a",
   "metadata": {},
   "outputs": [],
   "source": [
    "df_dem = pd.read_csv('all_cornell_demographics_050323.csv')"
   ]
  },
  {
   "cell_type": "code",
   "execution_count": 6,
   "id": "b1314910",
   "metadata": {},
   "outputs": [],
   "source": [
    "# Everyone Must Enjoy This Much, Much Better Way To Do Profile Averages\n",
    "# https://i.redd.it/8cqet3pe6n951.jpg\n",
    "profile_avg = df.groupby(['username']).mean()"
   ]
  },
  {
   "cell_type": "code",
   "execution_count": 7,
   "id": "627a71d9",
   "metadata": {},
   "outputs": [],
   "source": [
    "profile_avg_merged = pd.merge(profile_avg, df_dem, on='username')"
   ]
  },
  {
   "cell_type": "code",
   "execution_count": 8,
   "id": "71eedc5b",
   "metadata": {},
   "outputs": [],
   "source": [
    "values_of_interest = ['popularity', 'danceability', 'energy', 'loudness', 'speechiness', 'acousticness', 'instrumentalness', 'liveness', 'valence', 'tempo']\n",
    "\n",
    "for v in values_of_interest:\n",
    "    profile_avg_merged[v] = profile_avg_merged[v] / np.linalg.norm(profile_avg_merged[v])"
   ]
  },
  {
   "cell_type": "code",
   "execution_count": 9,
   "id": "af6c8483",
   "metadata": {},
   "outputs": [],
   "source": [
    "melted = pd.melt(\n",
    "    profile_avg_merged,\n",
    "    id_vars=['username', 'Q1', 'Q2', 'Q3', 'Q4'],\n",
    "    value_vars=['popularity', 'danceability', 'energy', 'loudness', 'speechiness', 'acousticness', 'instrumentalness', 'liveness', 'valence', 'tempo']\n",
    ")"
   ]
  },
  {
   "cell_type": "code",
   "execution_count": 10,
   "id": "72343a21",
   "metadata": {},
   "outputs": [
    {
     "data": {
      "text/html": [
       "<div>\n",
       "<style scoped>\n",
       "    .dataframe tbody tr th:only-of-type {\n",
       "        vertical-align: middle;\n",
       "    }\n",
       "\n",
       "    .dataframe tbody tr th {\n",
       "        vertical-align: top;\n",
       "    }\n",
       "\n",
       "    .dataframe thead th {\n",
       "        text-align: right;\n",
       "    }\n",
       "</style>\n",
       "<table border=\"1\" class=\"dataframe\">\n",
       "  <thead>\n",
       "    <tr style=\"text-align: right;\">\n",
       "      <th></th>\n",
       "      <th>username</th>\n",
       "      <th>Q1</th>\n",
       "      <th>Q2</th>\n",
       "      <th>Q3</th>\n",
       "      <th>Q4</th>\n",
       "      <th>variable</th>\n",
       "      <th>value</th>\n",
       "    </tr>\n",
       "  </thead>\n",
       "  <tbody>\n",
       "    <tr>\n",
       "      <th>0</th>\n",
       "      <td>12124545665</td>\n",
       "      <td>(ENG) College of Engineering</td>\n",
       "      <td>Computer Science</td>\n",
       "      <td>Undergraduate, 3rd year (2024)</td>\n",
       "      <td>Female</td>\n",
       "      <td>popularity</td>\n",
       "      <td>0.159569</td>\n",
       "    </tr>\n",
       "    <tr>\n",
       "      <th>1</th>\n",
       "      <td>12139305999</td>\n",
       "      <td>(HUMEC) College of Human Ecology</td>\n",
       "      <td>Human Biology, Health and Society</td>\n",
       "      <td>Undergraduate, 3rd year (2024)</td>\n",
       "      <td>Female</td>\n",
       "      <td>popularity</td>\n",
       "      <td>0.155959</td>\n",
       "    </tr>\n",
       "    <tr>\n",
       "      <th>2</th>\n",
       "      <td>1283949946</td>\n",
       "      <td>(AS) College of Arts and Sciences</td>\n",
       "      <td>Government</td>\n",
       "      <td>Undergraduate, 3rd year (2024)</td>\n",
       "      <td>Female</td>\n",
       "      <td>popularity</td>\n",
       "      <td>0.144165</td>\n",
       "    </tr>\n",
       "    <tr>\n",
       "      <th>3</th>\n",
       "      <td>1re58jm2ppu8vkex6p2lqkyvt</td>\n",
       "      <td>(ENG) College of Engineering</td>\n",
       "      <td>Biomedical Engineering</td>\n",
       "      <td>Undergraduate, 1st year (2026)</td>\n",
       "      <td>Female</td>\n",
       "      <td>popularity</td>\n",
       "      <td>0.166790</td>\n",
       "    </tr>\n",
       "    <tr>\n",
       "      <th>4</th>\n",
       "      <td>317fva6tkhzg3zhuz7jqbticmoqq</td>\n",
       "      <td>(AS) College of Arts and Sciences</td>\n",
       "      <td>Statistical Science</td>\n",
       "      <td>Undergraduate, 2nd year (2025)</td>\n",
       "      <td>Male</td>\n",
       "      <td>popularity</td>\n",
       "      <td>0.168277</td>\n",
       "    </tr>\n",
       "    <tr>\n",
       "      <th>...</th>\n",
       "      <td>...</td>\n",
       "      <td>...</td>\n",
       "      <td>...</td>\n",
       "      <td>...</td>\n",
       "      <td>...</td>\n",
       "      <td>...</td>\n",
       "      <td>...</td>\n",
       "    </tr>\n",
       "    <tr>\n",
       "      <th>455</th>\n",
       "      <td>t4llwr7d08bca91rqn1ro2aau</td>\n",
       "      <td>(ILR) School of Industrial and Labor Relations</td>\n",
       "      <td>Industrial and Labor Relations</td>\n",
       "      <td>Undergraduate, 3rd year (2024)</td>\n",
       "      <td>Female</td>\n",
       "      <td>tempo</td>\n",
       "      <td>0.151232</td>\n",
       "    </tr>\n",
       "    <tr>\n",
       "      <th>456</th>\n",
       "      <td>tiffxny.lee</td>\n",
       "      <td>(AS) College of Arts and Sciences</td>\n",
       "      <td>Information Science</td>\n",
       "      <td>Undergraduate, 2nd year (2025)</td>\n",
       "      <td>Female</td>\n",
       "      <td>tempo</td>\n",
       "      <td>0.148443</td>\n",
       "    </tr>\n",
       "    <tr>\n",
       "      <th>457</th>\n",
       "      <td>vbvb101</td>\n",
       "      <td>(ENG) College of Engineering</td>\n",
       "      <td>Electrical and Computer Engineering</td>\n",
       "      <td>Undergraduate, 3rd year (2024)</td>\n",
       "      <td>Female</td>\n",
       "      <td>tempo</td>\n",
       "      <td>0.148306</td>\n",
       "    </tr>\n",
       "    <tr>\n",
       "      <th>458</th>\n",
       "      <td>vqlx3sn88fh9295cpn4z7toip</td>\n",
       "      <td>(AS) College of Arts and Sciences</td>\n",
       "      <td>Government</td>\n",
       "      <td>Undergraduate, 1st year (2026)</td>\n",
       "      <td>Female</td>\n",
       "      <td>tempo</td>\n",
       "      <td>0.162377</td>\n",
       "    </tr>\n",
       "    <tr>\n",
       "      <th>459</th>\n",
       "      <td>whc30ixinkb9qw5xkfcn6pg5z</td>\n",
       "      <td>(ENG) College of Engineering</td>\n",
       "      <td>Electrical and Computer Engineering</td>\n",
       "      <td>Graduate student</td>\n",
       "      <td>Female</td>\n",
       "      <td>tempo</td>\n",
       "      <td>0.144443</td>\n",
       "    </tr>\n",
       "  </tbody>\n",
       "</table>\n",
       "<p>460 rows × 7 columns</p>\n",
       "</div>"
      ],
      "text/plain": [
       "                         username  \\\n",
       "0                     12124545665   \n",
       "1                     12139305999   \n",
       "2                      1283949946   \n",
       "3       1re58jm2ppu8vkex6p2lqkyvt   \n",
       "4    317fva6tkhzg3zhuz7jqbticmoqq   \n",
       "..                            ...   \n",
       "455     t4llwr7d08bca91rqn1ro2aau   \n",
       "456                   tiffxny.lee   \n",
       "457                       vbvb101   \n",
       "458     vqlx3sn88fh9295cpn4z7toip   \n",
       "459     whc30ixinkb9qw5xkfcn6pg5z   \n",
       "\n",
       "                                                 Q1  \\\n",
       "0                      (ENG) College of Engineering   \n",
       "1                  (HUMEC) College of Human Ecology   \n",
       "2                 (AS) College of Arts and Sciences   \n",
       "3                      (ENG) College of Engineering   \n",
       "4                 (AS) College of Arts and Sciences   \n",
       "..                                              ...   \n",
       "455  (ILR) School of Industrial and Labor Relations   \n",
       "456               (AS) College of Arts and Sciences   \n",
       "457                    (ENG) College of Engineering   \n",
       "458               (AS) College of Arts and Sciences   \n",
       "459                    (ENG) College of Engineering   \n",
       "\n",
       "                                      Q2                              Q3  \\\n",
       "0                       Computer Science  Undergraduate, 3rd year (2024)   \n",
       "1      Human Biology, Health and Society  Undergraduate, 3rd year (2024)   \n",
       "2                             Government  Undergraduate, 3rd year (2024)   \n",
       "3                 Biomedical Engineering  Undergraduate, 1st year (2026)   \n",
       "4                    Statistical Science  Undergraduate, 2nd year (2025)   \n",
       "..                                   ...                             ...   \n",
       "455       Industrial and Labor Relations  Undergraduate, 3rd year (2024)   \n",
       "456                  Information Science  Undergraduate, 2nd year (2025)   \n",
       "457  Electrical and Computer Engineering  Undergraduate, 3rd year (2024)   \n",
       "458                           Government  Undergraduate, 1st year (2026)   \n",
       "459  Electrical and Computer Engineering                Graduate student   \n",
       "\n",
       "         Q4    variable     value  \n",
       "0    Female  popularity  0.159569  \n",
       "1    Female  popularity  0.155959  \n",
       "2    Female  popularity  0.144165  \n",
       "3    Female  popularity  0.166790  \n",
       "4      Male  popularity  0.168277  \n",
       "..      ...         ...       ...  \n",
       "455  Female       tempo  0.151232  \n",
       "456  Female       tempo  0.148443  \n",
       "457  Female       tempo  0.148306  \n",
       "458  Female       tempo  0.162377  \n",
       "459  Female       tempo  0.144443  \n",
       "\n",
       "[460 rows x 7 columns]"
      ]
     },
     "execution_count": 10,
     "metadata": {},
     "output_type": "execute_result"
    }
   ],
   "source": [
    "melted"
   ]
  },
  {
   "cell_type": "code",
   "execution_count": 52,
   "id": "144e411b",
   "metadata": {},
   "outputs": [
    {
     "name": "stderr",
     "output_type": "stream",
     "text": [
      "/Users/carlyhu/opt/anaconda3/lib/python3.9/site-packages/plotly/express/_core.py:271: FutureWarning:\n",
      "\n",
      "The frame.append method is deprecated and will be removed from pandas in a future version. Use pandas.concat instead.\n",
      "\n",
      "/Users/carlyhu/opt/anaconda3/lib/python3.9/site-packages/plotly/express/_core.py:271: FutureWarning:\n",
      "\n",
      "The frame.append method is deprecated and will be removed from pandas in a future version. Use pandas.concat instead.\n",
      "\n",
      "/Users/carlyhu/opt/anaconda3/lib/python3.9/site-packages/plotly/express/_core.py:271: FutureWarning:\n",
      "\n",
      "The frame.append method is deprecated and will be removed from pandas in a future version. Use pandas.concat instead.\n",
      "\n",
      "/Users/carlyhu/opt/anaconda3/lib/python3.9/site-packages/plotly/express/_core.py:271: FutureWarning:\n",
      "\n",
      "The frame.append method is deprecated and will be removed from pandas in a future version. Use pandas.concat instead.\n",
      "\n",
      "/Users/carlyhu/opt/anaconda3/lib/python3.9/site-packages/plotly/express/_core.py:271: FutureWarning:\n",
      "\n",
      "The frame.append method is deprecated and will be removed from pandas in a future version. Use pandas.concat instead.\n",
      "\n",
      "/Users/carlyhu/opt/anaconda3/lib/python3.9/site-packages/plotly/express/_core.py:271: FutureWarning:\n",
      "\n",
      "The frame.append method is deprecated and will be removed from pandas in a future version. Use pandas.concat instead.\n",
      "\n"
     ]
    },
    {
     "data": {
      "application/vnd.plotly.v1+json": {
       "config": {
        "plotlyServerURL": "https://plot.ly"
       },
       "data": [
        {
         "hovertemplate": "Q3=Undergraduate, 3rd year (2024)<br>value=%{r}<br>variable=%{theta}<extra></extra>",
         "legendgroup": "Undergraduate, 3rd year (2024)",
         "line": {
          "color": "#636EFA",
          "dash": "solid"
         },
         "marker": {
          "symbol": "circle"
         },
         "mode": "lines",
         "name": "Undergraduate, 3rd year (2024)",
         "r": [
          0.1595685583054812,
          0.1559588466109463,
          0.14416496295071762,
          0.18677043231249324,
          0.12220857349626275,
          0.154713695851657,
          0.16047301275024142,
          0.19462569542311273,
          0.15334899707126542,
          0.13112382730668995,
          0.14550085919576786,
          0.15419179340527006,
          0.14337286107256056,
          0.1339902544619213,
          0.13172054650027773,
          0.1649586094592243,
          0.15879499872851816,
          0.16513796233991673,
          0.16137340873010914,
          0.16095535803626534,
          0.14301257232136028,
          0.1504424276842494,
          0.12983467657603112,
          0.15975668415344144,
          0.16475918033479495,
          0.1468828779943982,
          0.11516174194863266,
          0.148527551036573,
          0.13062974302869537,
          0.1677402559945228,
          0.15285402898905048,
          0.15604222554943256,
          0.14404025076474664,
          0.15993428200004714,
          0.16052956369939092,
          0.15607147429007934,
          -0.12226337375780404,
          -0.15981717262582526,
          -0.1899287735965757,
          -0.1262583205402189,
          -0.14121473471994622,
          -0.11098315649409622,
          -0.11996827781510432,
          -0.12175273584431556,
          -0.12462762990992832,
          -0.1100032262655046,
          -0.13282873946858825,
          -0.11572360461016155,
          0.14705453047779934,
          0.1023923673281,
          0.06787773811068366,
          0.23952773340457625,
          0.1509325820990545,
          0.15608333062607468,
          0.16867568603892336,
          0.11878070253243864,
          0.10484848297860329,
          0.10955969825734267,
          0.08727879719782612,
          0.1602571534841797,
          0.0899486192990778,
          0.12978779770264626,
          0.21119390929535017,
          0.10677349578888322,
          0.1513546705156226,
          0.07010969031380133,
          0.10515915698855044,
          0.13172939215168045,
          0.14200411155077916,
          0.12895362410215794,
          0.10928939160998515,
          0.10149770568895718,
          0.13254653755701493,
          0.2152108447565203,
          0.08212062093308914,
          0.05982467885042832,
          0.022708522252418567,
          0.032725424675017496,
          0.037597706339679834,
          0.16363240345347252,
          0.01762300098177166,
          0.046771265479177364,
          0.11199833110669619,
          0.013731925575027372,
          0.15762699919160014,
          0.14863205321790307,
          0.1422923923169377,
          0.1765399352015063,
          0.13122895884098787,
          0.14697856084076102,
          0.14461698915811794,
          0.14275651769102657,
          0.13526260211151458,
          0.14371488365171053,
          0.16399034265615373,
          0.137877006469417,
          0.1400369707276252,
          0.13473886776665742,
          0.16601640139517376,
          0.13125593433719618,
          0.13888400806651366,
          0.1712333297071488,
          0.14642847767732792,
          0.1685308079496238,
          0.13997150732635114,
          0.1583019118675588,
          0.16309035314750617,
          0.15592316319223368,
          0.1538513170763359,
          0.14775894420822297,
          0.14095035180649254,
          0.1470899835285576,
          0.146443727723248,
          0.1470677011072378,
          0.148600790886429,
          0.14220225538274636,
          0.14760043151668575,
          0.14780508155145083,
          0.15123166782965103,
          0.14830552648717452,
          0.1595685583054812
         ],
         "showlegend": true,
         "subplot": "polar",
         "theta": [
          "popularity",
          "popularity",
          "popularity",
          "popularity",
          "popularity",
          "popularity",
          "popularity",
          "popularity",
          "popularity",
          "popularity",
          "popularity",
          "popularity",
          "danceability",
          "danceability",
          "danceability",
          "danceability",
          "danceability",
          "danceability",
          "danceability",
          "danceability",
          "danceability",
          "danceability",
          "danceability",
          "danceability",
          "energy",
          "energy",
          "energy",
          "energy",
          "energy",
          "energy",
          "energy",
          "energy",
          "energy",
          "energy",
          "energy",
          "energy",
          "loudness",
          "loudness",
          "loudness",
          "loudness",
          "loudness",
          "loudness",
          "loudness",
          "loudness",
          "loudness",
          "loudness",
          "loudness",
          "loudness",
          "speechiness",
          "speechiness",
          "speechiness",
          "speechiness",
          "speechiness",
          "speechiness",
          "speechiness",
          "speechiness",
          "speechiness",
          "speechiness",
          "speechiness",
          "speechiness",
          "acousticness",
          "acousticness",
          "acousticness",
          "acousticness",
          "acousticness",
          "acousticness",
          "acousticness",
          "acousticness",
          "acousticness",
          "acousticness",
          "acousticness",
          "acousticness",
          "instrumentalness",
          "instrumentalness",
          "instrumentalness",
          "instrumentalness",
          "instrumentalness",
          "instrumentalness",
          "instrumentalness",
          "instrumentalness",
          "instrumentalness",
          "instrumentalness",
          "instrumentalness",
          "instrumentalness",
          "liveness",
          "liveness",
          "liveness",
          "liveness",
          "liveness",
          "liveness",
          "liveness",
          "liveness",
          "liveness",
          "liveness",
          "liveness",
          "liveness",
          "valence",
          "valence",
          "valence",
          "valence",
          "valence",
          "valence",
          "valence",
          "valence",
          "valence",
          "valence",
          "valence",
          "valence",
          "tempo",
          "tempo",
          "tempo",
          "tempo",
          "tempo",
          "tempo",
          "tempo",
          "tempo",
          "tempo",
          "tempo",
          "tempo",
          "tempo",
          "popularity"
         ],
         "type": "scatterpolar"
        },
        {
         "hovertemplate": "Q3=Undergraduate, 1st year (2026)<br>value=%{r}<br>variable=%{theta}<extra></extra>",
         "legendgroup": "Undergraduate, 1st year (2026)",
         "line": {
          "color": "#EF553B",
          "dash": "solid"
         },
         "marker": {
          "symbol": "circle"
         },
         "mode": "lines",
         "name": "Undergraduate, 1st year (2026)",
         "r": [
          0.16678965668505777,
          0.09296697829218849,
          0.15069795317717377,
          0.13447193787497208,
          0.1207471211590811,
          0.12769888098835858,
          0.1751648723548597,
          0.126230309561013,
          0.1784671674937642,
          0.1431462178352486,
          0.1267023490622108,
          0.13586447577762747,
          0.159486169071234,
          0.1176805338393851,
          0.1508555546628819,
          0.166133591180805,
          0.12491856020921124,
          0.168085246080131,
          0.16047309535812915,
          0.09439117729044874,
          0.17554797685349108,
          0.15055966347172442,
          0.2031691831890084,
          0.14844047118206452,
          0.14930626967045962,
          0.11906657124321011,
          0.19898599795761177,
          -0.1261445748845566,
          -0.19448279464552923,
          -0.12168596586068461,
          -0.1250780382839065,
          -0.09857866790879659,
          -0.13238434087240425,
          -0.126017504644807,
          -0.18078486417706066,
          -0.0899709320740608,
          0.14094758655697148,
          0.11625454417902599,
          0.11849224980874057,
          0.12128116161032265,
          0.14279773258914621,
          0.13816273934000095,
          0.193299857492329,
          0.09130023584966314,
          0.2671355158548498,
          0.10784882413517712,
          0.29893963507252436,
          0.08470127148174726,
          0.11546690433303894,
          0.03626108155214206,
          0.13350692603185718,
          0.10695788887615673,
          0.21310513206629894,
          0.031586804522501295,
          0.05431253798931602,
          0.264857413854017,
          0.10103249917704538,
          0.029654418161678464,
          0.18302163880148375,
          0.08067176157734818,
          0.03108090627073638,
          0.2005393057187779,
          0.0019053578112691407,
          0.16220973702783248,
          0.1345542818317968,
          0.15803075379783757,
          0.14755923817919947,
          0.16731675688330352,
          0.13946747220639233,
          0.15210497704766068,
          0.13924785869066836,
          0.20759144657249184,
          0.1575875836987197,
          0.10946796294574081,
          0.17094385595850156,
          0.16881084182007408,
          0.14689317119814732,
          0.14475208631869205,
          0.13758364843014093,
          0.13685597714866732,
          0.18586300575543505,
          0.1540046284171245,
          0.13597817909040993,
          0.15316014411030257,
          0.1448855161225565,
          0.1577241824656846,
          0.14721512148993574,
          0.153877694805284,
          0.1441126063297435,
          0.1623767006410151,
          0.16678965668505777
         ],
         "showlegend": true,
         "subplot": "polar",
         "theta": [
          "popularity",
          "popularity",
          "popularity",
          "popularity",
          "popularity",
          "popularity",
          "popularity",
          "popularity",
          "popularity",
          "danceability",
          "danceability",
          "danceability",
          "danceability",
          "danceability",
          "danceability",
          "danceability",
          "danceability",
          "danceability",
          "energy",
          "energy",
          "energy",
          "energy",
          "energy",
          "energy",
          "energy",
          "energy",
          "energy",
          "loudness",
          "loudness",
          "loudness",
          "loudness",
          "loudness",
          "loudness",
          "loudness",
          "loudness",
          "loudness",
          "speechiness",
          "speechiness",
          "speechiness",
          "speechiness",
          "speechiness",
          "speechiness",
          "speechiness",
          "speechiness",
          "speechiness",
          "acousticness",
          "acousticness",
          "acousticness",
          "acousticness",
          "acousticness",
          "acousticness",
          "acousticness",
          "acousticness",
          "acousticness",
          "instrumentalness",
          "instrumentalness",
          "instrumentalness",
          "instrumentalness",
          "instrumentalness",
          "instrumentalness",
          "instrumentalness",
          "instrumentalness",
          "instrumentalness",
          "liveness",
          "liveness",
          "liveness",
          "liveness",
          "liveness",
          "liveness",
          "liveness",
          "liveness",
          "liveness",
          "valence",
          "valence",
          "valence",
          "valence",
          "valence",
          "valence",
          "valence",
          "valence",
          "valence",
          "tempo",
          "tempo",
          "tempo",
          "tempo",
          "tempo",
          "tempo",
          "tempo",
          "tempo",
          "tempo",
          "popularity"
         ],
         "type": "scatterpolar"
        },
        {
         "hovertemplate": "Q3=Undergraduate, 2nd year (2025)<br>value=%{r}<br>variable=%{theta}<extra></extra>",
         "legendgroup": "Undergraduate, 2nd year (2025)",
         "line": {
          "color": "#00CC96",
          "dash": "solid"
         },
         "marker": {
          "symbol": "circle"
         },
         "mode": "lines",
         "name": "Undergraduate, 2nd year (2025)",
         "r": [
          0.16827745867926763,
          0.10985672422517645,
          0.13218733618741385,
          0.13308316038363907,
          0.1486945669322433,
          0.16483705278412297,
          0.16701709274963727,
          0.1564542576719412,
          0.15873535885636117,
          0.1633356933568948,
          0.18614867519233297,
          0.11277207860560888,
          0.15629968523054844,
          0.1055912758781423,
          0.13839310020963694,
          0.17185070156817167,
          0.1424793740941522,
          0.14843747978771432,
          0.14718295645833535,
          0.17160228461189153,
          0.17914569719231,
          0.13744515510209623,
          0.13564427934697124,
          0.13794573696167486,
          0.13447428018419047,
          0.13999752571542365,
          0.15223248608395007,
          0.1218322219828807,
          0.16626484279204623,
          0.1423408660548437,
          0.15255813692188996,
          0.16093575210597894,
          0.15579297519718743,
          0.13029489494733865,
          0.1397093074700557,
          0.15860648670435573,
          0.14246591273362114,
          0.1254694039844059,
          0.1257486649712278,
          0.14124452017068262,
          0.1456258855055815,
          0.12451648274453929,
          0.13592764679346528,
          0.16186566256009977,
          0.1553847006346114,
          0.14782694764622886,
          0.16686132324355288,
          0.16041693843472177,
          -0.12735912980745728,
          -0.14806304502548234,
          -0.15118831107548977,
          -0.12208643201367618,
          -0.13333216129279957,
          -0.18574081360331932,
          -0.16416105530912173,
          -0.15526088898305812,
          -0.149876234302462,
          -0.20594253857143713,
          -0.13744634618558174,
          -0.14711793563531955,
          -0.12954225614723305,
          -0.15369112029825263,
          -0.10734091288155348,
          -0.10923979891102338,
          0.12403639406519483,
          0.11707784327123813,
          0.11936348206810991,
          0.2595046942595735,
          0.2580019036197061,
          0.098325686890521,
          0.06350733856043443,
          0.1197652992912802,
          0.09090619535740366,
          0.17183359171526671,
          0.16073985414844588,
          0.11314192057963572,
          0.18963992418237385,
          0.1154776336067493,
          0.11473754330235285,
          0.14595724041369437,
          0.11436509279380093,
          0.17523287193003179,
          0.1893009834969288,
          0.0686874257132725,
          0.10309712474848778,
          0.1865259164424556,
          0.21937666255822294,
          0.1592386838506496,
          0.14105920580941989,
          0.15640537596751802,
          0.149224479154336,
          0.1002702687026224,
          0.08465669654615869,
          0.1387184061934004,
          0.08418581852493288,
          0.10696437434951354,
          0.05119440833267668,
          0.10564664186584669,
          0.25657106143943464,
          0.023581789633908085,
          0.011860294714676456,
          0.18736922938035241,
          0.062419755393045756,
          0.05852173577706362,
          0.17537724493528484,
          0.1713410478093503,
          0.049983538410104854,
          0.22691278180916055,
          0.023985251389170122,
          0.1642789564150952,
          0.010679642973707772,
          0.013969307527467292,
          0.1488605563759834,
          0.13599174775077572,
          0.1348285126599704,
          0.15540248924993139,
          0.15739717272334233,
          0.1326829567781511,
          0.1358810197794483,
          0.14771712970629985,
          0.13975766143323123,
          0.13216754229254474,
          0.13428769920977002,
          0.16441138090281596,
          0.14980656031344747,
          0.14706278561838465,
          0.14932203338970673,
          0.13943534987235007,
          0.149906233263264,
          0.1263969329666847,
          0.13881121007826747,
          0.1405853089680335,
          0.14913989136708566,
          0.1436140832138419,
          0.13977528891423083,
          0.16649697677739614,
          0.14762382949946562,
          0.13542092113148316,
          0.12753318042217357,
          0.13940648214610113,
          0.14914313329368672,
          0.15534653928929415,
          0.16307879272040077,
          0.15772527486777818,
          0.1496049264061476,
          0.1466945213032966,
          0.14973887090678692,
          0.15151333955127172,
          0.13996638748489698,
          0.14155512530012085,
          0.14803347786288468,
          0.14768425639660332,
          0.14963052341135155,
          0.1372677037830783,
          0.1379978722204969,
          0.1519288168979861,
          0.15510911227001217,
          0.1482890946329087,
          0.14869440314289165,
          0.14844292996027736,
          0.16827745867926763
         ],
         "showlegend": true,
         "subplot": "polar",
         "theta": [
          "popularity",
          "popularity",
          "popularity",
          "popularity",
          "popularity",
          "popularity",
          "popularity",
          "popularity",
          "popularity",
          "popularity",
          "popularity",
          "popularity",
          "popularity",
          "popularity",
          "popularity",
          "popularity",
          "danceability",
          "danceability",
          "danceability",
          "danceability",
          "danceability",
          "danceability",
          "danceability",
          "danceability",
          "danceability",
          "danceability",
          "danceability",
          "danceability",
          "danceability",
          "danceability",
          "danceability",
          "danceability",
          "energy",
          "energy",
          "energy",
          "energy",
          "energy",
          "energy",
          "energy",
          "energy",
          "energy",
          "energy",
          "energy",
          "energy",
          "energy",
          "energy",
          "energy",
          "energy",
          "loudness",
          "loudness",
          "loudness",
          "loudness",
          "loudness",
          "loudness",
          "loudness",
          "loudness",
          "loudness",
          "loudness",
          "loudness",
          "loudness",
          "loudness",
          "loudness",
          "loudness",
          "loudness",
          "speechiness",
          "speechiness",
          "speechiness",
          "speechiness",
          "speechiness",
          "speechiness",
          "speechiness",
          "speechiness",
          "speechiness",
          "speechiness",
          "speechiness",
          "speechiness",
          "speechiness",
          "speechiness",
          "speechiness",
          "speechiness",
          "acousticness",
          "acousticness",
          "acousticness",
          "acousticness",
          "acousticness",
          "acousticness",
          "acousticness",
          "acousticness",
          "acousticness",
          "acousticness",
          "acousticness",
          "acousticness",
          "acousticness",
          "acousticness",
          "acousticness",
          "acousticness",
          "instrumentalness",
          "instrumentalness",
          "instrumentalness",
          "instrumentalness",
          "instrumentalness",
          "instrumentalness",
          "instrumentalness",
          "instrumentalness",
          "instrumentalness",
          "instrumentalness",
          "instrumentalness",
          "instrumentalness",
          "instrumentalness",
          "instrumentalness",
          "instrumentalness",
          "instrumentalness",
          "liveness",
          "liveness",
          "liveness",
          "liveness",
          "liveness",
          "liveness",
          "liveness",
          "liveness",
          "liveness",
          "liveness",
          "liveness",
          "liveness",
          "liveness",
          "liveness",
          "liveness",
          "liveness",
          "valence",
          "valence",
          "valence",
          "valence",
          "valence",
          "valence",
          "valence",
          "valence",
          "valence",
          "valence",
          "valence",
          "valence",
          "valence",
          "valence",
          "valence",
          "valence",
          "tempo",
          "tempo",
          "tempo",
          "tempo",
          "tempo",
          "tempo",
          "tempo",
          "tempo",
          "tempo",
          "tempo",
          "tempo",
          "tempo",
          "tempo",
          "tempo",
          "tempo",
          "tempo",
          "popularity"
         ],
         "type": "scatterpolar"
        },
        {
         "hovertemplate": "Q3=Undergraduate, 4th year (2023)<br>value=%{r}<br>variable=%{theta}<extra></extra>",
         "legendgroup": "Undergraduate, 4th year (2023)",
         "line": {
          "color": "#AB63FA",
          "dash": "solid"
         },
         "marker": {
          "symbol": "circle"
         },
         "mode": "lines",
         "name": "Undergraduate, 4th year (2023)",
         "r": [
          0.1777956653213331,
          0.08347860852854477,
          0.14919572989066818,
          0.18661409736347442,
          0.08079106682391633,
          0.16762476510570068,
          0.10771376535427163,
          0.17151598876173804,
          0.16423114669692465,
          0.11688292881536069,
          0.1320566776932038,
          0.10160912505977383,
          0.15129073961295092,
          0.15710662637509315,
          0.10524668917445971,
          -0.13743184587733673,
          -0.24419099713809894,
          -0.115578750942801,
          -0.11569732391647233,
          -0.22165946070476467,
          0.20512738055283927,
          0.11834510916676001,
          0.2138984738981286,
          0.18091211940137022,
          0.0623003263837065,
          0.14647297165041856,
          0.2409963714471192,
          0.09258148695532797,
          0.10210857276352267,
          0.23249945012280762,
          0.03447109457418375,
          0.43392876750246995,
          0.002246279919860846,
          0.021717138990200963,
          0.2141370312592697,
          0.14675791317722,
          0.1396364422625472,
          0.13329623827393597,
          0.1509372982832254,
          0.13737934330003548,
          0.14922789432300954,
          0.10355565805685055,
          0.15226432649894084,
          0.15544925100369147,
          0.12185951890199018,
          0.14659041127472067,
          0.13391012923004586,
          0.1466514465889396,
          0.15064086739362914,
          0.14070696239362981,
          0.1777956653213331
         ],
         "showlegend": true,
         "subplot": "polar",
         "theta": [
          "popularity",
          "popularity",
          "popularity",
          "popularity",
          "popularity",
          "danceability",
          "danceability",
          "danceability",
          "danceability",
          "danceability",
          "energy",
          "energy",
          "energy",
          "energy",
          "energy",
          "loudness",
          "loudness",
          "loudness",
          "loudness",
          "loudness",
          "speechiness",
          "speechiness",
          "speechiness",
          "speechiness",
          "speechiness",
          "acousticness",
          "acousticness",
          "acousticness",
          "acousticness",
          "acousticness",
          "instrumentalness",
          "instrumentalness",
          "instrumentalness",
          "instrumentalness",
          "instrumentalness",
          "liveness",
          "liveness",
          "liveness",
          "liveness",
          "liveness",
          "valence",
          "valence",
          "valence",
          "valence",
          "valence",
          "tempo",
          "tempo",
          "tempo",
          "tempo",
          "tempo",
          "popularity"
         ],
         "type": "scatterpolar"
        },
        {
         "hovertemplate": "Q3=Graduate student<br>value=%{r}<br>variable=%{theta}<extra></extra>",
         "legendgroup": "Graduate student",
         "line": {
          "color": "#FFA15A",
          "dash": "solid"
         },
         "marker": {
          "symbol": "circle"
         },
         "mode": "lines",
         "name": "Graduate student",
         "r": [
          0.10456594779040249,
          0.11813297513830082,
          0.13734885113523168,
          0.12481351891839068,
          0.1308925336393255,
          0.14085134897285173,
          0.12904540854882143,
          0.13255101786738238,
          0.12495155418541662,
          -0.19790885776996905,
          -0.18132675595701173,
          -0.16261151463317394,
          0.0925556828063419,
          0.09317263658596873,
          0.07368194532119988,
          0.1849857981042417,
          0.17101014263120276,
          0.21790491016601943,
          0.2736488118574381,
          0.3304308235176377,
          0.03589283786210982,
          0.15067099770429052,
          0.13023128214645974,
          0.13200812082616192,
          0.15280420736179548,
          0.12770092777484168,
          0.13757097105390273,
          0.14666446207857808,
          0.14567881982910486,
          0.14444318072265316,
          0.10456594779040249
         ],
         "showlegend": true,
         "subplot": "polar",
         "theta": [
          "popularity",
          "popularity",
          "popularity",
          "danceability",
          "danceability",
          "danceability",
          "energy",
          "energy",
          "energy",
          "loudness",
          "loudness",
          "loudness",
          "speechiness",
          "speechiness",
          "speechiness",
          "acousticness",
          "acousticness",
          "acousticness",
          "instrumentalness",
          "instrumentalness",
          "instrumentalness",
          "liveness",
          "liveness",
          "liveness",
          "valence",
          "valence",
          "valence",
          "tempo",
          "tempo",
          "tempo",
          "popularity"
         ],
         "type": "scatterpolar"
        },
        {
         "hovertemplate": "Q3=Undergraduate, other<br>value=%{r}<br>variable=%{theta}<extra></extra>",
         "legendgroup": "Undergraduate, other",
         "line": {
          "color": "#19D3F3",
          "dash": "solid"
         },
         "marker": {
          "symbol": "circle"
         },
         "mode": "lines",
         "name": "Undergraduate, other",
         "r": [
          0.11447219484768928,
          0.14692980440766226,
          0.1553422372016836,
          -0.13369168882808677,
          0.12094079469713741,
          0.12998159747870036,
          0.17184065170854765,
          0.14622876699821363,
          0.138202433698359,
          0.14798868274570856,
          0.11447219484768928
         ],
         "showlegend": true,
         "subplot": "polar",
         "theta": [
          "popularity",
          "danceability",
          "energy",
          "loudness",
          "speechiness",
          "acousticness",
          "instrumentalness",
          "liveness",
          "valence",
          "tempo",
          "popularity"
         ],
         "type": "scatterpolar"
        }
       ],
       "layout": {
        "legend": {
         "title": {
          "text": "Q3"
         },
         "tracegroupgap": 0,
         "x": 1.2,
         "xanchor": "right",
         "y": 0.5
        },
        "margin": {
         "t": 60
        },
        "polar": {
         "angularaxis": {
          "direction": "clockwise",
          "rotation": 90
         },
         "domain": {
          "x": [
           0,
           1
          ],
          "y": [
           0,
           1
          ]
         }
        },
        "template": {
         "data": {
          "bar": [
           {
            "error_x": {
             "color": "#2a3f5f"
            },
            "error_y": {
             "color": "#2a3f5f"
            },
            "marker": {
             "line": {
              "color": "#E5ECF6",
              "width": 0.5
             },
             "pattern": {
              "fillmode": "overlay",
              "size": 10,
              "solidity": 0.2
             }
            },
            "type": "bar"
           }
          ],
          "barpolar": [
           {
            "marker": {
             "line": {
              "color": "#E5ECF6",
              "width": 0.5
             },
             "pattern": {
              "fillmode": "overlay",
              "size": 10,
              "solidity": 0.2
             }
            },
            "type": "barpolar"
           }
          ],
          "carpet": [
           {
            "aaxis": {
             "endlinecolor": "#2a3f5f",
             "gridcolor": "white",
             "linecolor": "white",
             "minorgridcolor": "white",
             "startlinecolor": "#2a3f5f"
            },
            "baxis": {
             "endlinecolor": "#2a3f5f",
             "gridcolor": "white",
             "linecolor": "white",
             "minorgridcolor": "white",
             "startlinecolor": "#2a3f5f"
            },
            "type": "carpet"
           }
          ],
          "choropleth": [
           {
            "colorbar": {
             "outlinewidth": 0,
             "ticks": ""
            },
            "type": "choropleth"
           }
          ],
          "contour": [
           {
            "colorbar": {
             "outlinewidth": 0,
             "ticks": ""
            },
            "colorscale": [
             [
              0,
              "#0d0887"
             ],
             [
              0.1111111111111111,
              "#46039f"
             ],
             [
              0.2222222222222222,
              "#7201a8"
             ],
             [
              0.3333333333333333,
              "#9c179e"
             ],
             [
              0.4444444444444444,
              "#bd3786"
             ],
             [
              0.5555555555555556,
              "#d8576b"
             ],
             [
              0.6666666666666666,
              "#ed7953"
             ],
             [
              0.7777777777777778,
              "#fb9f3a"
             ],
             [
              0.8888888888888888,
              "#fdca26"
             ],
             [
              1,
              "#f0f921"
             ]
            ],
            "type": "contour"
           }
          ],
          "contourcarpet": [
           {
            "colorbar": {
             "outlinewidth": 0,
             "ticks": ""
            },
            "type": "contourcarpet"
           }
          ],
          "heatmap": [
           {
            "colorbar": {
             "outlinewidth": 0,
             "ticks": ""
            },
            "colorscale": [
             [
              0,
              "#0d0887"
             ],
             [
              0.1111111111111111,
              "#46039f"
             ],
             [
              0.2222222222222222,
              "#7201a8"
             ],
             [
              0.3333333333333333,
              "#9c179e"
             ],
             [
              0.4444444444444444,
              "#bd3786"
             ],
             [
              0.5555555555555556,
              "#d8576b"
             ],
             [
              0.6666666666666666,
              "#ed7953"
             ],
             [
              0.7777777777777778,
              "#fb9f3a"
             ],
             [
              0.8888888888888888,
              "#fdca26"
             ],
             [
              1,
              "#f0f921"
             ]
            ],
            "type": "heatmap"
           }
          ],
          "heatmapgl": [
           {
            "colorbar": {
             "outlinewidth": 0,
             "ticks": ""
            },
            "colorscale": [
             [
              0,
              "#0d0887"
             ],
             [
              0.1111111111111111,
              "#46039f"
             ],
             [
              0.2222222222222222,
              "#7201a8"
             ],
             [
              0.3333333333333333,
              "#9c179e"
             ],
             [
              0.4444444444444444,
              "#bd3786"
             ],
             [
              0.5555555555555556,
              "#d8576b"
             ],
             [
              0.6666666666666666,
              "#ed7953"
             ],
             [
              0.7777777777777778,
              "#fb9f3a"
             ],
             [
              0.8888888888888888,
              "#fdca26"
             ],
             [
              1,
              "#f0f921"
             ]
            ],
            "type": "heatmapgl"
           }
          ],
          "histogram": [
           {
            "marker": {
             "pattern": {
              "fillmode": "overlay",
              "size": 10,
              "solidity": 0.2
             }
            },
            "type": "histogram"
           }
          ],
          "histogram2d": [
           {
            "colorbar": {
             "outlinewidth": 0,
             "ticks": ""
            },
            "colorscale": [
             [
              0,
              "#0d0887"
             ],
             [
              0.1111111111111111,
              "#46039f"
             ],
             [
              0.2222222222222222,
              "#7201a8"
             ],
             [
              0.3333333333333333,
              "#9c179e"
             ],
             [
              0.4444444444444444,
              "#bd3786"
             ],
             [
              0.5555555555555556,
              "#d8576b"
             ],
             [
              0.6666666666666666,
              "#ed7953"
             ],
             [
              0.7777777777777778,
              "#fb9f3a"
             ],
             [
              0.8888888888888888,
              "#fdca26"
             ],
             [
              1,
              "#f0f921"
             ]
            ],
            "type": "histogram2d"
           }
          ],
          "histogram2dcontour": [
           {
            "colorbar": {
             "outlinewidth": 0,
             "ticks": ""
            },
            "colorscale": [
             [
              0,
              "#0d0887"
             ],
             [
              0.1111111111111111,
              "#46039f"
             ],
             [
              0.2222222222222222,
              "#7201a8"
             ],
             [
              0.3333333333333333,
              "#9c179e"
             ],
             [
              0.4444444444444444,
              "#bd3786"
             ],
             [
              0.5555555555555556,
              "#d8576b"
             ],
             [
              0.6666666666666666,
              "#ed7953"
             ],
             [
              0.7777777777777778,
              "#fb9f3a"
             ],
             [
              0.8888888888888888,
              "#fdca26"
             ],
             [
              1,
              "#f0f921"
             ]
            ],
            "type": "histogram2dcontour"
           }
          ],
          "mesh3d": [
           {
            "colorbar": {
             "outlinewidth": 0,
             "ticks": ""
            },
            "type": "mesh3d"
           }
          ],
          "parcoords": [
           {
            "line": {
             "colorbar": {
              "outlinewidth": 0,
              "ticks": ""
             }
            },
            "type": "parcoords"
           }
          ],
          "pie": [
           {
            "automargin": true,
            "type": "pie"
           }
          ],
          "scatter": [
           {
            "marker": {
             "colorbar": {
              "outlinewidth": 0,
              "ticks": ""
             }
            },
            "type": "scatter"
           }
          ],
          "scatter3d": [
           {
            "line": {
             "colorbar": {
              "outlinewidth": 0,
              "ticks": ""
             }
            },
            "marker": {
             "colorbar": {
              "outlinewidth": 0,
              "ticks": ""
             }
            },
            "type": "scatter3d"
           }
          ],
          "scattercarpet": [
           {
            "marker": {
             "colorbar": {
              "outlinewidth": 0,
              "ticks": ""
             }
            },
            "type": "scattercarpet"
           }
          ],
          "scattergeo": [
           {
            "marker": {
             "colorbar": {
              "outlinewidth": 0,
              "ticks": ""
             }
            },
            "type": "scattergeo"
           }
          ],
          "scattergl": [
           {
            "marker": {
             "colorbar": {
              "outlinewidth": 0,
              "ticks": ""
             }
            },
            "type": "scattergl"
           }
          ],
          "scattermapbox": [
           {
            "marker": {
             "colorbar": {
              "outlinewidth": 0,
              "ticks": ""
             }
            },
            "type": "scattermapbox"
           }
          ],
          "scatterpolar": [
           {
            "marker": {
             "colorbar": {
              "outlinewidth": 0,
              "ticks": ""
             }
            },
            "type": "scatterpolar"
           }
          ],
          "scatterpolargl": [
           {
            "marker": {
             "colorbar": {
              "outlinewidth": 0,
              "ticks": ""
             }
            },
            "type": "scatterpolargl"
           }
          ],
          "scatterternary": [
           {
            "marker": {
             "colorbar": {
              "outlinewidth": 0,
              "ticks": ""
             }
            },
            "type": "scatterternary"
           }
          ],
          "surface": [
           {
            "colorbar": {
             "outlinewidth": 0,
             "ticks": ""
            },
            "colorscale": [
             [
              0,
              "#0d0887"
             ],
             [
              0.1111111111111111,
              "#46039f"
             ],
             [
              0.2222222222222222,
              "#7201a8"
             ],
             [
              0.3333333333333333,
              "#9c179e"
             ],
             [
              0.4444444444444444,
              "#bd3786"
             ],
             [
              0.5555555555555556,
              "#d8576b"
             ],
             [
              0.6666666666666666,
              "#ed7953"
             ],
             [
              0.7777777777777778,
              "#fb9f3a"
             ],
             [
              0.8888888888888888,
              "#fdca26"
             ],
             [
              1,
              "#f0f921"
             ]
            ],
            "type": "surface"
           }
          ],
          "table": [
           {
            "cells": {
             "fill": {
              "color": "#EBF0F8"
             },
             "line": {
              "color": "white"
             }
            },
            "header": {
             "fill": {
              "color": "#C8D4E3"
             },
             "line": {
              "color": "white"
             }
            },
            "type": "table"
           }
          ]
         },
         "layout": {
          "annotationdefaults": {
           "arrowcolor": "#2a3f5f",
           "arrowhead": 0,
           "arrowwidth": 1
          },
          "autotypenumbers": "strict",
          "coloraxis": {
           "colorbar": {
            "outlinewidth": 0,
            "ticks": ""
           }
          },
          "colorscale": {
           "diverging": [
            [
             0,
             "#8e0152"
            ],
            [
             0.1,
             "#c51b7d"
            ],
            [
             0.2,
             "#de77ae"
            ],
            [
             0.3,
             "#f1b6da"
            ],
            [
             0.4,
             "#fde0ef"
            ],
            [
             0.5,
             "#f7f7f7"
            ],
            [
             0.6,
             "#e6f5d0"
            ],
            [
             0.7,
             "#b8e186"
            ],
            [
             0.8,
             "#7fbc41"
            ],
            [
             0.9,
             "#4d9221"
            ],
            [
             1,
             "#276419"
            ]
           ],
           "sequential": [
            [
             0,
             "#0d0887"
            ],
            [
             0.1111111111111111,
             "#46039f"
            ],
            [
             0.2222222222222222,
             "#7201a8"
            ],
            [
             0.3333333333333333,
             "#9c179e"
            ],
            [
             0.4444444444444444,
             "#bd3786"
            ],
            [
             0.5555555555555556,
             "#d8576b"
            ],
            [
             0.6666666666666666,
             "#ed7953"
            ],
            [
             0.7777777777777778,
             "#fb9f3a"
            ],
            [
             0.8888888888888888,
             "#fdca26"
            ],
            [
             1,
             "#f0f921"
            ]
           ],
           "sequentialminus": [
            [
             0,
             "#0d0887"
            ],
            [
             0.1111111111111111,
             "#46039f"
            ],
            [
             0.2222222222222222,
             "#7201a8"
            ],
            [
             0.3333333333333333,
             "#9c179e"
            ],
            [
             0.4444444444444444,
             "#bd3786"
            ],
            [
             0.5555555555555556,
             "#d8576b"
            ],
            [
             0.6666666666666666,
             "#ed7953"
            ],
            [
             0.7777777777777778,
             "#fb9f3a"
            ],
            [
             0.8888888888888888,
             "#fdca26"
            ],
            [
             1,
             "#f0f921"
            ]
           ]
          },
          "colorway": [
           "#636efa",
           "#EF553B",
           "#00cc96",
           "#ab63fa",
           "#FFA15A",
           "#19d3f3",
           "#FF6692",
           "#B6E880",
           "#FF97FF",
           "#FECB52"
          ],
          "font": {
           "color": "#2a3f5f"
          },
          "geo": {
           "bgcolor": "white",
           "lakecolor": "white",
           "landcolor": "#E5ECF6",
           "showlakes": true,
           "showland": true,
           "subunitcolor": "white"
          },
          "hoverlabel": {
           "align": "left"
          },
          "hovermode": "closest",
          "mapbox": {
           "style": "light"
          },
          "paper_bgcolor": "white",
          "plot_bgcolor": "#E5ECF6",
          "polar": {
           "angularaxis": {
            "gridcolor": "white",
            "linecolor": "white",
            "ticks": ""
           },
           "bgcolor": "#E5ECF6",
           "radialaxis": {
            "gridcolor": "white",
            "linecolor": "white",
            "ticks": ""
           }
          },
          "scene": {
           "xaxis": {
            "backgroundcolor": "#E5ECF6",
            "gridcolor": "white",
            "gridwidth": 2,
            "linecolor": "white",
            "showbackground": true,
            "ticks": "",
            "zerolinecolor": "white"
           },
           "yaxis": {
            "backgroundcolor": "#E5ECF6",
            "gridcolor": "white",
            "gridwidth": 2,
            "linecolor": "white",
            "showbackground": true,
            "ticks": "",
            "zerolinecolor": "white"
           },
           "zaxis": {
            "backgroundcolor": "#E5ECF6",
            "gridcolor": "white",
            "gridwidth": 2,
            "linecolor": "white",
            "showbackground": true,
            "ticks": "",
            "zerolinecolor": "white"
           }
          },
          "shapedefaults": {
           "line": {
            "color": "#2a3f5f"
           }
          },
          "ternary": {
           "aaxis": {
            "gridcolor": "white",
            "linecolor": "white",
            "ticks": ""
           },
           "baxis": {
            "gridcolor": "white",
            "linecolor": "white",
            "ticks": ""
           },
           "bgcolor": "#E5ECF6",
           "caxis": {
            "gridcolor": "white",
            "linecolor": "white",
            "ticks": ""
           }
          },
          "title": {
           "x": 0.05
          },
          "xaxis": {
           "automargin": true,
           "gridcolor": "white",
           "linecolor": "white",
           "ticks": "",
           "title": {
            "standoff": 15
           },
           "zerolinecolor": "white",
           "zerolinewidth": 2
          },
          "yaxis": {
           "automargin": true,
           "gridcolor": "white",
           "linecolor": "white",
           "ticks": "",
           "title": {
            "standoff": 15
           },
           "zerolinecolor": "white",
           "zerolinewidth": 2
          }
         }
        }
       }
      },
      "text/html": [
       "<div>                            <div id=\"35f1ca6b-c2ad-4e08-8e15-8321b6834508\" class=\"plotly-graph-div\" style=\"height:525px; width:100%;\"></div>            <script type=\"text/javascript\">                require([\"plotly\"], function(Plotly) {                    window.PLOTLYENV=window.PLOTLYENV || {};                                    if (document.getElementById(\"35f1ca6b-c2ad-4e08-8e15-8321b6834508\")) {                    Plotly.newPlot(                        \"35f1ca6b-c2ad-4e08-8e15-8321b6834508\",                        [{\"hovertemplate\":\"Q3=Undergraduate, 3rd year (2024)<br>value=%{r}<br>variable=%{theta}<extra></extra>\",\"legendgroup\":\"Undergraduate, 3rd year (2024)\",\"line\":{\"color\":\"#636EFA\",\"dash\":\"solid\"},\"marker\":{\"symbol\":\"circle\"},\"mode\":\"lines\",\"name\":\"Undergraduate, 3rd year (2024)\",\"r\":[0.1595685583054812,0.1559588466109463,0.14416496295071762,0.18677043231249324,0.12220857349626275,0.154713695851657,0.16047301275024142,0.19462569542311273,0.15334899707126542,0.13112382730668995,0.14550085919576786,0.15419179340527006,0.14337286107256056,0.1339902544619213,0.13172054650027773,0.1649586094592243,0.15879499872851816,0.16513796233991673,0.16137340873010914,0.16095535803626534,0.14301257232136028,0.1504424276842494,0.12983467657603112,0.15975668415344144,0.16475918033479495,0.1468828779943982,0.11516174194863266,0.148527551036573,0.13062974302869537,0.1677402559945228,0.15285402898905048,0.15604222554943256,0.14404025076474664,0.15993428200004714,0.16052956369939092,0.15607147429007934,-0.12226337375780404,-0.15981717262582526,-0.1899287735965757,-0.1262583205402189,-0.14121473471994622,-0.11098315649409622,-0.11996827781510432,-0.12175273584431556,-0.12462762990992832,-0.1100032262655046,-0.13282873946858825,-0.11572360461016155,0.14705453047779934,0.1023923673281,0.06787773811068366,0.23952773340457625,0.1509325820990545,0.15608333062607468,0.16867568603892336,0.11878070253243864,0.10484848297860329,0.10955969825734267,0.08727879719782612,0.1602571534841797,0.0899486192990778,0.12978779770264626,0.21119390929535017,0.10677349578888322,0.1513546705156226,0.07010969031380133,0.10515915698855044,0.13172939215168045,0.14200411155077916,0.12895362410215794,0.10928939160998515,0.10149770568895718,0.13254653755701493,0.2152108447565203,0.08212062093308914,0.05982467885042832,0.022708522252418567,0.032725424675017496,0.037597706339679834,0.16363240345347252,0.01762300098177166,0.046771265479177364,0.11199833110669619,0.013731925575027372,0.15762699919160014,0.14863205321790307,0.1422923923169377,0.1765399352015063,0.13122895884098787,0.14697856084076102,0.14461698915811794,0.14275651769102657,0.13526260211151458,0.14371488365171053,0.16399034265615373,0.137877006469417,0.1400369707276252,0.13473886776665742,0.16601640139517376,0.13125593433719618,0.13888400806651366,0.1712333297071488,0.14642847767732792,0.1685308079496238,0.13997150732635114,0.1583019118675588,0.16309035314750617,0.15592316319223368,0.1538513170763359,0.14775894420822297,0.14095035180649254,0.1470899835285576,0.146443727723248,0.1470677011072378,0.148600790886429,0.14220225538274636,0.14760043151668575,0.14780508155145083,0.15123166782965103,0.14830552648717452,0.1595685583054812],\"showlegend\":true,\"subplot\":\"polar\",\"theta\":[\"popularity\",\"popularity\",\"popularity\",\"popularity\",\"popularity\",\"popularity\",\"popularity\",\"popularity\",\"popularity\",\"popularity\",\"popularity\",\"popularity\",\"danceability\",\"danceability\",\"danceability\",\"danceability\",\"danceability\",\"danceability\",\"danceability\",\"danceability\",\"danceability\",\"danceability\",\"danceability\",\"danceability\",\"energy\",\"energy\",\"energy\",\"energy\",\"energy\",\"energy\",\"energy\",\"energy\",\"energy\",\"energy\",\"energy\",\"energy\",\"loudness\",\"loudness\",\"loudness\",\"loudness\",\"loudness\",\"loudness\",\"loudness\",\"loudness\",\"loudness\",\"loudness\",\"loudness\",\"loudness\",\"speechiness\",\"speechiness\",\"speechiness\",\"speechiness\",\"speechiness\",\"speechiness\",\"speechiness\",\"speechiness\",\"speechiness\",\"speechiness\",\"speechiness\",\"speechiness\",\"acousticness\",\"acousticness\",\"acousticness\",\"acousticness\",\"acousticness\",\"acousticness\",\"acousticness\",\"acousticness\",\"acousticness\",\"acousticness\",\"acousticness\",\"acousticness\",\"instrumentalness\",\"instrumentalness\",\"instrumentalness\",\"instrumentalness\",\"instrumentalness\",\"instrumentalness\",\"instrumentalness\",\"instrumentalness\",\"instrumentalness\",\"instrumentalness\",\"instrumentalness\",\"instrumentalness\",\"liveness\",\"liveness\",\"liveness\",\"liveness\",\"liveness\",\"liveness\",\"liveness\",\"liveness\",\"liveness\",\"liveness\",\"liveness\",\"liveness\",\"valence\",\"valence\",\"valence\",\"valence\",\"valence\",\"valence\",\"valence\",\"valence\",\"valence\",\"valence\",\"valence\",\"valence\",\"tempo\",\"tempo\",\"tempo\",\"tempo\",\"tempo\",\"tempo\",\"tempo\",\"tempo\",\"tempo\",\"tempo\",\"tempo\",\"tempo\",\"popularity\"],\"type\":\"scatterpolar\"},{\"hovertemplate\":\"Q3=Undergraduate, 1st year (2026)<br>value=%{r}<br>variable=%{theta}<extra></extra>\",\"legendgroup\":\"Undergraduate, 1st year (2026)\",\"line\":{\"color\":\"#EF553B\",\"dash\":\"solid\"},\"marker\":{\"symbol\":\"circle\"},\"mode\":\"lines\",\"name\":\"Undergraduate, 1st year (2026)\",\"r\":[0.16678965668505777,0.09296697829218849,0.15069795317717377,0.13447193787497208,0.1207471211590811,0.12769888098835858,0.1751648723548597,0.126230309561013,0.1784671674937642,0.1431462178352486,0.1267023490622108,0.13586447577762747,0.159486169071234,0.1176805338393851,0.1508555546628819,0.166133591180805,0.12491856020921124,0.168085246080131,0.16047309535812915,0.09439117729044874,0.17554797685349108,0.15055966347172442,0.2031691831890084,0.14844047118206452,0.14930626967045962,0.11906657124321011,0.19898599795761177,-0.1261445748845566,-0.19448279464552923,-0.12168596586068461,-0.1250780382839065,-0.09857866790879659,-0.13238434087240425,-0.126017504644807,-0.18078486417706066,-0.0899709320740608,0.14094758655697148,0.11625454417902599,0.11849224980874057,0.12128116161032265,0.14279773258914621,0.13816273934000095,0.193299857492329,0.09130023584966314,0.2671355158548498,0.10784882413517712,0.29893963507252436,0.08470127148174726,0.11546690433303894,0.03626108155214206,0.13350692603185718,0.10695788887615673,0.21310513206629894,0.031586804522501295,0.05431253798931602,0.264857413854017,0.10103249917704538,0.029654418161678464,0.18302163880148375,0.08067176157734818,0.03108090627073638,0.2005393057187779,0.0019053578112691407,0.16220973702783248,0.1345542818317968,0.15803075379783757,0.14755923817919947,0.16731675688330352,0.13946747220639233,0.15210497704766068,0.13924785869066836,0.20759144657249184,0.1575875836987197,0.10946796294574081,0.17094385595850156,0.16881084182007408,0.14689317119814732,0.14475208631869205,0.13758364843014093,0.13685597714866732,0.18586300575543505,0.1540046284171245,0.13597817909040993,0.15316014411030257,0.1448855161225565,0.1577241824656846,0.14721512148993574,0.153877694805284,0.1441126063297435,0.1623767006410151,0.16678965668505777],\"showlegend\":true,\"subplot\":\"polar\",\"theta\":[\"popularity\",\"popularity\",\"popularity\",\"popularity\",\"popularity\",\"popularity\",\"popularity\",\"popularity\",\"popularity\",\"danceability\",\"danceability\",\"danceability\",\"danceability\",\"danceability\",\"danceability\",\"danceability\",\"danceability\",\"danceability\",\"energy\",\"energy\",\"energy\",\"energy\",\"energy\",\"energy\",\"energy\",\"energy\",\"energy\",\"loudness\",\"loudness\",\"loudness\",\"loudness\",\"loudness\",\"loudness\",\"loudness\",\"loudness\",\"loudness\",\"speechiness\",\"speechiness\",\"speechiness\",\"speechiness\",\"speechiness\",\"speechiness\",\"speechiness\",\"speechiness\",\"speechiness\",\"acousticness\",\"acousticness\",\"acousticness\",\"acousticness\",\"acousticness\",\"acousticness\",\"acousticness\",\"acousticness\",\"acousticness\",\"instrumentalness\",\"instrumentalness\",\"instrumentalness\",\"instrumentalness\",\"instrumentalness\",\"instrumentalness\",\"instrumentalness\",\"instrumentalness\",\"instrumentalness\",\"liveness\",\"liveness\",\"liveness\",\"liveness\",\"liveness\",\"liveness\",\"liveness\",\"liveness\",\"liveness\",\"valence\",\"valence\",\"valence\",\"valence\",\"valence\",\"valence\",\"valence\",\"valence\",\"valence\",\"tempo\",\"tempo\",\"tempo\",\"tempo\",\"tempo\",\"tempo\",\"tempo\",\"tempo\",\"tempo\",\"popularity\"],\"type\":\"scatterpolar\"},{\"hovertemplate\":\"Q3=Undergraduate, 2nd year (2025)<br>value=%{r}<br>variable=%{theta}<extra></extra>\",\"legendgroup\":\"Undergraduate, 2nd year (2025)\",\"line\":{\"color\":\"#00CC96\",\"dash\":\"solid\"},\"marker\":{\"symbol\":\"circle\"},\"mode\":\"lines\",\"name\":\"Undergraduate, 2nd year (2025)\",\"r\":[0.16827745867926763,0.10985672422517645,0.13218733618741385,0.13308316038363907,0.1486945669322433,0.16483705278412297,0.16701709274963727,0.1564542576719412,0.15873535885636117,0.1633356933568948,0.18614867519233297,0.11277207860560888,0.15629968523054844,0.1055912758781423,0.13839310020963694,0.17185070156817167,0.1424793740941522,0.14843747978771432,0.14718295645833535,0.17160228461189153,0.17914569719231,0.13744515510209623,0.13564427934697124,0.13794573696167486,0.13447428018419047,0.13999752571542365,0.15223248608395007,0.1218322219828807,0.16626484279204623,0.1423408660548437,0.15255813692188996,0.16093575210597894,0.15579297519718743,0.13029489494733865,0.1397093074700557,0.15860648670435573,0.14246591273362114,0.1254694039844059,0.1257486649712278,0.14124452017068262,0.1456258855055815,0.12451648274453929,0.13592764679346528,0.16186566256009977,0.1553847006346114,0.14782694764622886,0.16686132324355288,0.16041693843472177,-0.12735912980745728,-0.14806304502548234,-0.15118831107548977,-0.12208643201367618,-0.13333216129279957,-0.18574081360331932,-0.16416105530912173,-0.15526088898305812,-0.149876234302462,-0.20594253857143713,-0.13744634618558174,-0.14711793563531955,-0.12954225614723305,-0.15369112029825263,-0.10734091288155348,-0.10923979891102338,0.12403639406519483,0.11707784327123813,0.11936348206810991,0.2595046942595735,0.2580019036197061,0.098325686890521,0.06350733856043443,0.1197652992912802,0.09090619535740366,0.17183359171526671,0.16073985414844588,0.11314192057963572,0.18963992418237385,0.1154776336067493,0.11473754330235285,0.14595724041369437,0.11436509279380093,0.17523287193003179,0.1893009834969288,0.0686874257132725,0.10309712474848778,0.1865259164424556,0.21937666255822294,0.1592386838506496,0.14105920580941989,0.15640537596751802,0.149224479154336,0.1002702687026224,0.08465669654615869,0.1387184061934004,0.08418581852493288,0.10696437434951354,0.05119440833267668,0.10564664186584669,0.25657106143943464,0.023581789633908085,0.011860294714676456,0.18736922938035241,0.062419755393045756,0.05852173577706362,0.17537724493528484,0.1713410478093503,0.049983538410104854,0.22691278180916055,0.023985251389170122,0.1642789564150952,0.010679642973707772,0.013969307527467292,0.1488605563759834,0.13599174775077572,0.1348285126599704,0.15540248924993139,0.15739717272334233,0.1326829567781511,0.1358810197794483,0.14771712970629985,0.13975766143323123,0.13216754229254474,0.13428769920977002,0.16441138090281596,0.14980656031344747,0.14706278561838465,0.14932203338970673,0.13943534987235007,0.149906233263264,0.1263969329666847,0.13881121007826747,0.1405853089680335,0.14913989136708566,0.1436140832138419,0.13977528891423083,0.16649697677739614,0.14762382949946562,0.13542092113148316,0.12753318042217357,0.13940648214610113,0.14914313329368672,0.15534653928929415,0.16307879272040077,0.15772527486777818,0.1496049264061476,0.1466945213032966,0.14973887090678692,0.15151333955127172,0.13996638748489698,0.14155512530012085,0.14803347786288468,0.14768425639660332,0.14963052341135155,0.1372677037830783,0.1379978722204969,0.1519288168979861,0.15510911227001217,0.1482890946329087,0.14869440314289165,0.14844292996027736,0.16827745867926763],\"showlegend\":true,\"subplot\":\"polar\",\"theta\":[\"popularity\",\"popularity\",\"popularity\",\"popularity\",\"popularity\",\"popularity\",\"popularity\",\"popularity\",\"popularity\",\"popularity\",\"popularity\",\"popularity\",\"popularity\",\"popularity\",\"popularity\",\"popularity\",\"danceability\",\"danceability\",\"danceability\",\"danceability\",\"danceability\",\"danceability\",\"danceability\",\"danceability\",\"danceability\",\"danceability\",\"danceability\",\"danceability\",\"danceability\",\"danceability\",\"danceability\",\"danceability\",\"energy\",\"energy\",\"energy\",\"energy\",\"energy\",\"energy\",\"energy\",\"energy\",\"energy\",\"energy\",\"energy\",\"energy\",\"energy\",\"energy\",\"energy\",\"energy\",\"loudness\",\"loudness\",\"loudness\",\"loudness\",\"loudness\",\"loudness\",\"loudness\",\"loudness\",\"loudness\",\"loudness\",\"loudness\",\"loudness\",\"loudness\",\"loudness\",\"loudness\",\"loudness\",\"speechiness\",\"speechiness\",\"speechiness\",\"speechiness\",\"speechiness\",\"speechiness\",\"speechiness\",\"speechiness\",\"speechiness\",\"speechiness\",\"speechiness\",\"speechiness\",\"speechiness\",\"speechiness\",\"speechiness\",\"speechiness\",\"acousticness\",\"acousticness\",\"acousticness\",\"acousticness\",\"acousticness\",\"acousticness\",\"acousticness\",\"acousticness\",\"acousticness\",\"acousticness\",\"acousticness\",\"acousticness\",\"acousticness\",\"acousticness\",\"acousticness\",\"acousticness\",\"instrumentalness\",\"instrumentalness\",\"instrumentalness\",\"instrumentalness\",\"instrumentalness\",\"instrumentalness\",\"instrumentalness\",\"instrumentalness\",\"instrumentalness\",\"instrumentalness\",\"instrumentalness\",\"instrumentalness\",\"instrumentalness\",\"instrumentalness\",\"instrumentalness\",\"instrumentalness\",\"liveness\",\"liveness\",\"liveness\",\"liveness\",\"liveness\",\"liveness\",\"liveness\",\"liveness\",\"liveness\",\"liveness\",\"liveness\",\"liveness\",\"liveness\",\"liveness\",\"liveness\",\"liveness\",\"valence\",\"valence\",\"valence\",\"valence\",\"valence\",\"valence\",\"valence\",\"valence\",\"valence\",\"valence\",\"valence\",\"valence\",\"valence\",\"valence\",\"valence\",\"valence\",\"tempo\",\"tempo\",\"tempo\",\"tempo\",\"tempo\",\"tempo\",\"tempo\",\"tempo\",\"tempo\",\"tempo\",\"tempo\",\"tempo\",\"tempo\",\"tempo\",\"tempo\",\"tempo\",\"popularity\"],\"type\":\"scatterpolar\"},{\"hovertemplate\":\"Q3=Undergraduate, 4th year (2023)<br>value=%{r}<br>variable=%{theta}<extra></extra>\",\"legendgroup\":\"Undergraduate, 4th year (2023)\",\"line\":{\"color\":\"#AB63FA\",\"dash\":\"solid\"},\"marker\":{\"symbol\":\"circle\"},\"mode\":\"lines\",\"name\":\"Undergraduate, 4th year (2023)\",\"r\":[0.1777956653213331,0.08347860852854477,0.14919572989066818,0.18661409736347442,0.08079106682391633,0.16762476510570068,0.10771376535427163,0.17151598876173804,0.16423114669692465,0.11688292881536069,0.1320566776932038,0.10160912505977383,0.15129073961295092,0.15710662637509315,0.10524668917445971,-0.13743184587733673,-0.24419099713809894,-0.115578750942801,-0.11569732391647233,-0.22165946070476467,0.20512738055283927,0.11834510916676001,0.2138984738981286,0.18091211940137022,0.0623003263837065,0.14647297165041856,0.2409963714471192,0.09258148695532797,0.10210857276352267,0.23249945012280762,0.03447109457418375,0.43392876750246995,0.002246279919860846,0.021717138990200963,0.2141370312592697,0.14675791317722,0.1396364422625472,0.13329623827393597,0.1509372982832254,0.13737934330003548,0.14922789432300954,0.10355565805685055,0.15226432649894084,0.15544925100369147,0.12185951890199018,0.14659041127472067,0.13391012923004586,0.1466514465889396,0.15064086739362914,0.14070696239362981,0.1777956653213331],\"showlegend\":true,\"subplot\":\"polar\",\"theta\":[\"popularity\",\"popularity\",\"popularity\",\"popularity\",\"popularity\",\"danceability\",\"danceability\",\"danceability\",\"danceability\",\"danceability\",\"energy\",\"energy\",\"energy\",\"energy\",\"energy\",\"loudness\",\"loudness\",\"loudness\",\"loudness\",\"loudness\",\"speechiness\",\"speechiness\",\"speechiness\",\"speechiness\",\"speechiness\",\"acousticness\",\"acousticness\",\"acousticness\",\"acousticness\",\"acousticness\",\"instrumentalness\",\"instrumentalness\",\"instrumentalness\",\"instrumentalness\",\"instrumentalness\",\"liveness\",\"liveness\",\"liveness\",\"liveness\",\"liveness\",\"valence\",\"valence\",\"valence\",\"valence\",\"valence\",\"tempo\",\"tempo\",\"tempo\",\"tempo\",\"tempo\",\"popularity\"],\"type\":\"scatterpolar\"},{\"hovertemplate\":\"Q3=Graduate student<br>value=%{r}<br>variable=%{theta}<extra></extra>\",\"legendgroup\":\"Graduate student\",\"line\":{\"color\":\"#FFA15A\",\"dash\":\"solid\"},\"marker\":{\"symbol\":\"circle\"},\"mode\":\"lines\",\"name\":\"Graduate student\",\"r\":[0.10456594779040249,0.11813297513830082,0.13734885113523168,0.12481351891839068,0.1308925336393255,0.14085134897285173,0.12904540854882143,0.13255101786738238,0.12495155418541662,-0.19790885776996905,-0.18132675595701173,-0.16261151463317394,0.0925556828063419,0.09317263658596873,0.07368194532119988,0.1849857981042417,0.17101014263120276,0.21790491016601943,0.2736488118574381,0.3304308235176377,0.03589283786210982,0.15067099770429052,0.13023128214645974,0.13200812082616192,0.15280420736179548,0.12770092777484168,0.13757097105390273,0.14666446207857808,0.14567881982910486,0.14444318072265316,0.10456594779040249],\"showlegend\":true,\"subplot\":\"polar\",\"theta\":[\"popularity\",\"popularity\",\"popularity\",\"danceability\",\"danceability\",\"danceability\",\"energy\",\"energy\",\"energy\",\"loudness\",\"loudness\",\"loudness\",\"speechiness\",\"speechiness\",\"speechiness\",\"acousticness\",\"acousticness\",\"acousticness\",\"instrumentalness\",\"instrumentalness\",\"instrumentalness\",\"liveness\",\"liveness\",\"liveness\",\"valence\",\"valence\",\"valence\",\"tempo\",\"tempo\",\"tempo\",\"popularity\"],\"type\":\"scatterpolar\"},{\"hovertemplate\":\"Q3=Undergraduate, other<br>value=%{r}<br>variable=%{theta}<extra></extra>\",\"legendgroup\":\"Undergraduate, other\",\"line\":{\"color\":\"#19D3F3\",\"dash\":\"solid\"},\"marker\":{\"symbol\":\"circle\"},\"mode\":\"lines\",\"name\":\"Undergraduate, other\",\"r\":[0.11447219484768928,0.14692980440766226,0.1553422372016836,-0.13369168882808677,0.12094079469713741,0.12998159747870036,0.17184065170854765,0.14622876699821363,0.138202433698359,0.14798868274570856,0.11447219484768928],\"showlegend\":true,\"subplot\":\"polar\",\"theta\":[\"popularity\",\"danceability\",\"energy\",\"loudness\",\"speechiness\",\"acousticness\",\"instrumentalness\",\"liveness\",\"valence\",\"tempo\",\"popularity\"],\"type\":\"scatterpolar\"}],                        {\"template\":{\"data\":{\"bar\":[{\"error_x\":{\"color\":\"#2a3f5f\"},\"error_y\":{\"color\":\"#2a3f5f\"},\"marker\":{\"line\":{\"color\":\"#E5ECF6\",\"width\":0.5},\"pattern\":{\"fillmode\":\"overlay\",\"size\":10,\"solidity\":0.2}},\"type\":\"bar\"}],\"barpolar\":[{\"marker\":{\"line\":{\"color\":\"#E5ECF6\",\"width\":0.5},\"pattern\":{\"fillmode\":\"overlay\",\"size\":10,\"solidity\":0.2}},\"type\":\"barpolar\"}],\"carpet\":[{\"aaxis\":{\"endlinecolor\":\"#2a3f5f\",\"gridcolor\":\"white\",\"linecolor\":\"white\",\"minorgridcolor\":\"white\",\"startlinecolor\":\"#2a3f5f\"},\"baxis\":{\"endlinecolor\":\"#2a3f5f\",\"gridcolor\":\"white\",\"linecolor\":\"white\",\"minorgridcolor\":\"white\",\"startlinecolor\":\"#2a3f5f\"},\"type\":\"carpet\"}],\"choropleth\":[{\"colorbar\":{\"outlinewidth\":0,\"ticks\":\"\"},\"type\":\"choropleth\"}],\"contour\":[{\"colorbar\":{\"outlinewidth\":0,\"ticks\":\"\"},\"colorscale\":[[0.0,\"#0d0887\"],[0.1111111111111111,\"#46039f\"],[0.2222222222222222,\"#7201a8\"],[0.3333333333333333,\"#9c179e\"],[0.4444444444444444,\"#bd3786\"],[0.5555555555555556,\"#d8576b\"],[0.6666666666666666,\"#ed7953\"],[0.7777777777777778,\"#fb9f3a\"],[0.8888888888888888,\"#fdca26\"],[1.0,\"#f0f921\"]],\"type\":\"contour\"}],\"contourcarpet\":[{\"colorbar\":{\"outlinewidth\":0,\"ticks\":\"\"},\"type\":\"contourcarpet\"}],\"heatmap\":[{\"colorbar\":{\"outlinewidth\":0,\"ticks\":\"\"},\"colorscale\":[[0.0,\"#0d0887\"],[0.1111111111111111,\"#46039f\"],[0.2222222222222222,\"#7201a8\"],[0.3333333333333333,\"#9c179e\"],[0.4444444444444444,\"#bd3786\"],[0.5555555555555556,\"#d8576b\"],[0.6666666666666666,\"#ed7953\"],[0.7777777777777778,\"#fb9f3a\"],[0.8888888888888888,\"#fdca26\"],[1.0,\"#f0f921\"]],\"type\":\"heatmap\"}],\"heatmapgl\":[{\"colorbar\":{\"outlinewidth\":0,\"ticks\":\"\"},\"colorscale\":[[0.0,\"#0d0887\"],[0.1111111111111111,\"#46039f\"],[0.2222222222222222,\"#7201a8\"],[0.3333333333333333,\"#9c179e\"],[0.4444444444444444,\"#bd3786\"],[0.5555555555555556,\"#d8576b\"],[0.6666666666666666,\"#ed7953\"],[0.7777777777777778,\"#fb9f3a\"],[0.8888888888888888,\"#fdca26\"],[1.0,\"#f0f921\"]],\"type\":\"heatmapgl\"}],\"histogram\":[{\"marker\":{\"pattern\":{\"fillmode\":\"overlay\",\"size\":10,\"solidity\":0.2}},\"type\":\"histogram\"}],\"histogram2d\":[{\"colorbar\":{\"outlinewidth\":0,\"ticks\":\"\"},\"colorscale\":[[0.0,\"#0d0887\"],[0.1111111111111111,\"#46039f\"],[0.2222222222222222,\"#7201a8\"],[0.3333333333333333,\"#9c179e\"],[0.4444444444444444,\"#bd3786\"],[0.5555555555555556,\"#d8576b\"],[0.6666666666666666,\"#ed7953\"],[0.7777777777777778,\"#fb9f3a\"],[0.8888888888888888,\"#fdca26\"],[1.0,\"#f0f921\"]],\"type\":\"histogram2d\"}],\"histogram2dcontour\":[{\"colorbar\":{\"outlinewidth\":0,\"ticks\":\"\"},\"colorscale\":[[0.0,\"#0d0887\"],[0.1111111111111111,\"#46039f\"],[0.2222222222222222,\"#7201a8\"],[0.3333333333333333,\"#9c179e\"],[0.4444444444444444,\"#bd3786\"],[0.5555555555555556,\"#d8576b\"],[0.6666666666666666,\"#ed7953\"],[0.7777777777777778,\"#fb9f3a\"],[0.8888888888888888,\"#fdca26\"],[1.0,\"#f0f921\"]],\"type\":\"histogram2dcontour\"}],\"mesh3d\":[{\"colorbar\":{\"outlinewidth\":0,\"ticks\":\"\"},\"type\":\"mesh3d\"}],\"parcoords\":[{\"line\":{\"colorbar\":{\"outlinewidth\":0,\"ticks\":\"\"}},\"type\":\"parcoords\"}],\"pie\":[{\"automargin\":true,\"type\":\"pie\"}],\"scatter\":[{\"marker\":{\"colorbar\":{\"outlinewidth\":0,\"ticks\":\"\"}},\"type\":\"scatter\"}],\"scatter3d\":[{\"line\":{\"colorbar\":{\"outlinewidth\":0,\"ticks\":\"\"}},\"marker\":{\"colorbar\":{\"outlinewidth\":0,\"ticks\":\"\"}},\"type\":\"scatter3d\"}],\"scattercarpet\":[{\"marker\":{\"colorbar\":{\"outlinewidth\":0,\"ticks\":\"\"}},\"type\":\"scattercarpet\"}],\"scattergeo\":[{\"marker\":{\"colorbar\":{\"outlinewidth\":0,\"ticks\":\"\"}},\"type\":\"scattergeo\"}],\"scattergl\":[{\"marker\":{\"colorbar\":{\"outlinewidth\":0,\"ticks\":\"\"}},\"type\":\"scattergl\"}],\"scattermapbox\":[{\"marker\":{\"colorbar\":{\"outlinewidth\":0,\"ticks\":\"\"}},\"type\":\"scattermapbox\"}],\"scatterpolar\":[{\"marker\":{\"colorbar\":{\"outlinewidth\":0,\"ticks\":\"\"}},\"type\":\"scatterpolar\"}],\"scatterpolargl\":[{\"marker\":{\"colorbar\":{\"outlinewidth\":0,\"ticks\":\"\"}},\"type\":\"scatterpolargl\"}],\"scatterternary\":[{\"marker\":{\"colorbar\":{\"outlinewidth\":0,\"ticks\":\"\"}},\"type\":\"scatterternary\"}],\"surface\":[{\"colorbar\":{\"outlinewidth\":0,\"ticks\":\"\"},\"colorscale\":[[0.0,\"#0d0887\"],[0.1111111111111111,\"#46039f\"],[0.2222222222222222,\"#7201a8\"],[0.3333333333333333,\"#9c179e\"],[0.4444444444444444,\"#bd3786\"],[0.5555555555555556,\"#d8576b\"],[0.6666666666666666,\"#ed7953\"],[0.7777777777777778,\"#fb9f3a\"],[0.8888888888888888,\"#fdca26\"],[1.0,\"#f0f921\"]],\"type\":\"surface\"}],\"table\":[{\"cells\":{\"fill\":{\"color\":\"#EBF0F8\"},\"line\":{\"color\":\"white\"}},\"header\":{\"fill\":{\"color\":\"#C8D4E3\"},\"line\":{\"color\":\"white\"}},\"type\":\"table\"}]},\"layout\":{\"annotationdefaults\":{\"arrowcolor\":\"#2a3f5f\",\"arrowhead\":0,\"arrowwidth\":1},\"autotypenumbers\":\"strict\",\"coloraxis\":{\"colorbar\":{\"outlinewidth\":0,\"ticks\":\"\"}},\"colorscale\":{\"diverging\":[[0,\"#8e0152\"],[0.1,\"#c51b7d\"],[0.2,\"#de77ae\"],[0.3,\"#f1b6da\"],[0.4,\"#fde0ef\"],[0.5,\"#f7f7f7\"],[0.6,\"#e6f5d0\"],[0.7,\"#b8e186\"],[0.8,\"#7fbc41\"],[0.9,\"#4d9221\"],[1,\"#276419\"]],\"sequential\":[[0.0,\"#0d0887\"],[0.1111111111111111,\"#46039f\"],[0.2222222222222222,\"#7201a8\"],[0.3333333333333333,\"#9c179e\"],[0.4444444444444444,\"#bd3786\"],[0.5555555555555556,\"#d8576b\"],[0.6666666666666666,\"#ed7953\"],[0.7777777777777778,\"#fb9f3a\"],[0.8888888888888888,\"#fdca26\"],[1.0,\"#f0f921\"]],\"sequentialminus\":[[0.0,\"#0d0887\"],[0.1111111111111111,\"#46039f\"],[0.2222222222222222,\"#7201a8\"],[0.3333333333333333,\"#9c179e\"],[0.4444444444444444,\"#bd3786\"],[0.5555555555555556,\"#d8576b\"],[0.6666666666666666,\"#ed7953\"],[0.7777777777777778,\"#fb9f3a\"],[0.8888888888888888,\"#fdca26\"],[1.0,\"#f0f921\"]]},\"colorway\":[\"#636efa\",\"#EF553B\",\"#00cc96\",\"#ab63fa\",\"#FFA15A\",\"#19d3f3\",\"#FF6692\",\"#B6E880\",\"#FF97FF\",\"#FECB52\"],\"font\":{\"color\":\"#2a3f5f\"},\"geo\":{\"bgcolor\":\"white\",\"lakecolor\":\"white\",\"landcolor\":\"#E5ECF6\",\"showlakes\":true,\"showland\":true,\"subunitcolor\":\"white\"},\"hoverlabel\":{\"align\":\"left\"},\"hovermode\":\"closest\",\"mapbox\":{\"style\":\"light\"},\"paper_bgcolor\":\"white\",\"plot_bgcolor\":\"#E5ECF6\",\"polar\":{\"angularaxis\":{\"gridcolor\":\"white\",\"linecolor\":\"white\",\"ticks\":\"\"},\"bgcolor\":\"#E5ECF6\",\"radialaxis\":{\"gridcolor\":\"white\",\"linecolor\":\"white\",\"ticks\":\"\"}},\"scene\":{\"xaxis\":{\"backgroundcolor\":\"#E5ECF6\",\"gridcolor\":\"white\",\"gridwidth\":2,\"linecolor\":\"white\",\"showbackground\":true,\"ticks\":\"\",\"zerolinecolor\":\"white\"},\"yaxis\":{\"backgroundcolor\":\"#E5ECF6\",\"gridcolor\":\"white\",\"gridwidth\":2,\"linecolor\":\"white\",\"showbackground\":true,\"ticks\":\"\",\"zerolinecolor\":\"white\"},\"zaxis\":{\"backgroundcolor\":\"#E5ECF6\",\"gridcolor\":\"white\",\"gridwidth\":2,\"linecolor\":\"white\",\"showbackground\":true,\"ticks\":\"\",\"zerolinecolor\":\"white\"}},\"shapedefaults\":{\"line\":{\"color\":\"#2a3f5f\"}},\"ternary\":{\"aaxis\":{\"gridcolor\":\"white\",\"linecolor\":\"white\",\"ticks\":\"\"},\"baxis\":{\"gridcolor\":\"white\",\"linecolor\":\"white\",\"ticks\":\"\"},\"bgcolor\":\"#E5ECF6\",\"caxis\":{\"gridcolor\":\"white\",\"linecolor\":\"white\",\"ticks\":\"\"}},\"title\":{\"x\":0.05},\"xaxis\":{\"automargin\":true,\"gridcolor\":\"white\",\"linecolor\":\"white\",\"ticks\":\"\",\"title\":{\"standoff\":15},\"zerolinecolor\":\"white\",\"zerolinewidth\":2},\"yaxis\":{\"automargin\":true,\"gridcolor\":\"white\",\"linecolor\":\"white\",\"ticks\":\"\",\"title\":{\"standoff\":15},\"zerolinecolor\":\"white\",\"zerolinewidth\":2}}},\"polar\":{\"domain\":{\"x\":[0.0,1.0],\"y\":[0.0,1.0]},\"angularaxis\":{\"direction\":\"clockwise\",\"rotation\":90}},\"legend\":{\"title\":{\"text\":\"Q3\"},\"tracegroupgap\":0,\"xanchor\":\"right\",\"y\":0.5,\"x\":1.2},\"margin\":{\"t\":60}},                        {\"responsive\": true}                    ).then(function(){\n",
       "                            \n",
       "var gd = document.getElementById('35f1ca6b-c2ad-4e08-8e15-8321b6834508');\n",
       "var x = new MutationObserver(function (mutations, observer) {{\n",
       "        var display = window.getComputedStyle(gd).display;\n",
       "        if (!display || display === 'none') {{\n",
       "            console.log([gd, 'removed!']);\n",
       "            Plotly.purge(gd);\n",
       "            observer.disconnect();\n",
       "        }}\n",
       "}});\n",
       "\n",
       "// Listen for the removal of the full notebook cells\n",
       "var notebookContainer = gd.closest('#notebook-container');\n",
       "if (notebookContainer) {{\n",
       "    x.observe(notebookContainer, {childList: true});\n",
       "}}\n",
       "\n",
       "// Listen for the clearing of the current output cell\n",
       "var outputEl = gd.closest('.output');\n",
       "if (outputEl) {{\n",
       "    x.observe(outputEl, {childList: true});\n",
       "}}\n",
       "\n",
       "                        })                };                });            </script>        </div>"
      ]
     },
     "metadata": {},
     "output_type": "display_data"
    }
   ],
   "source": [
    "fig = px.line_polar(\n",
    "    melted,\n",
    "    r='value',\n",
    "    theta='variable',\n",
    "    color='Q3',\n",
    "    line_close=True,\n",
    "    color_discrete_sequence=px.colors.qualitative.Plotly\n",
    "    #template='plotly_dark',\n",
    ")\n",
    "\n",
    "fig.update_layout(\n",
    "    legend=dict(\n",
    "        xanchor='right',\n",
    "        y=0.5,\n",
    "        x=1.2\n",
    "    )\n",
    ")"
   ]
  },
  {
   "cell_type": "code",
   "execution_count": 37,
   "id": "fbb6ae7d",
   "metadata": {},
   "outputs": [
    {
     "data": {
      "application/vnd.plotly.v1+json": {
       "config": {
        "plotlyServerURL": "https://plot.ly"
       },
       "data": [
        {
         "hovertemplate": "Q3=Undergraduate, 3rd year (2024)<br>value=%{r}<br>variable=%{theta}<extra></extra>",
         "legendgroup": "Undergraduate, 3rd year (2024)",
         "line": {
          "color": "#f0f921",
          "dash": "solid"
         },
         "marker": {
          "symbol": "circle"
         },
         "mode": "lines",
         "name": "Undergraduate, 3rd year (2024)",
         "r": [
          0.1595685583054812,
          0.1559588466109463,
          0.14416496295071762,
          0.18677043231249324,
          0.12220857349626275,
          0.154713695851657,
          0.16047301275024142,
          0.19462569542311273,
          0.15334899707126542,
          0.13112382730668995,
          0.14550085919576786,
          0.15419179340527006,
          0.14337286107256056,
          0.1339902544619213,
          0.13172054650027773,
          0.1649586094592243,
          0.15879499872851816,
          0.16513796233991673,
          0.16137340873010914,
          0.16095535803626534,
          0.14301257232136028,
          0.1504424276842494,
          0.12983467657603112,
          0.15975668415344144,
          0.16475918033479495,
          0.1468828779943982,
          0.11516174194863266,
          0.148527551036573,
          0.13062974302869537,
          0.1677402559945228,
          0.15285402898905048,
          0.15604222554943256,
          0.14404025076474664,
          0.15993428200004714,
          0.16052956369939092,
          0.15607147429007934,
          -0.12226337375780404,
          -0.15981717262582526,
          -0.1899287735965757,
          -0.1262583205402189,
          -0.14121473471994622,
          -0.11098315649409622,
          -0.11996827781510432,
          -0.12175273584431556,
          -0.12462762990992832,
          -0.1100032262655046,
          -0.13282873946858825,
          -0.11572360461016155,
          0.14705453047779934,
          0.1023923673281,
          0.06787773811068366,
          0.23952773340457625,
          0.1509325820990545,
          0.15608333062607468,
          0.16867568603892336,
          0.11878070253243864,
          0.10484848297860329,
          0.10955969825734267,
          0.08727879719782612,
          0.1602571534841797,
          0.0899486192990778,
          0.12978779770264626,
          0.21119390929535017,
          0.10677349578888322,
          0.1513546705156226,
          0.07010969031380133,
          0.10515915698855044,
          0.13172939215168045,
          0.14200411155077916,
          0.12895362410215794,
          0.10928939160998515,
          0.10149770568895718,
          0.13254653755701493,
          0.2152108447565203,
          0.08212062093308914,
          0.05982467885042832,
          0.022708522252418567,
          0.032725424675017496,
          0.037597706339679834,
          0.16363240345347252,
          0.01762300098177166,
          0.046771265479177364,
          0.11199833110669619,
          0.013731925575027372,
          0.15762699919160014,
          0.14863205321790307,
          0.1422923923169377,
          0.1765399352015063,
          0.13122895884098787,
          0.14697856084076102,
          0.14461698915811794,
          0.14275651769102657,
          0.13526260211151458,
          0.14371488365171053,
          0.16399034265615373,
          0.137877006469417,
          0.1400369707276252,
          0.13473886776665742,
          0.16601640139517376,
          0.13125593433719618,
          0.13888400806651366,
          0.1712333297071488,
          0.14642847767732792,
          0.1685308079496238,
          0.13997150732635114,
          0.1583019118675588,
          0.16309035314750617,
          0.15592316319223368,
          0.1538513170763359,
          0.14775894420822297,
          0.14095035180649254,
          0.1470899835285576,
          0.146443727723248,
          0.1470677011072378,
          0.148600790886429,
          0.14220225538274636,
          0.14760043151668575,
          0.14780508155145083,
          0.15123166782965103,
          0.14830552648717452,
          0.1595685583054812
         ],
         "showlegend": true,
         "subplot": "polar",
         "theta": [
          "popularity",
          "popularity",
          "popularity",
          "popularity",
          "popularity",
          "popularity",
          "popularity",
          "popularity",
          "popularity",
          "popularity",
          "popularity",
          "popularity",
          "danceability",
          "danceability",
          "danceability",
          "danceability",
          "danceability",
          "danceability",
          "danceability",
          "danceability",
          "danceability",
          "danceability",
          "danceability",
          "danceability",
          "energy",
          "energy",
          "energy",
          "energy",
          "energy",
          "energy",
          "energy",
          "energy",
          "energy",
          "energy",
          "energy",
          "energy",
          "loudness",
          "loudness",
          "loudness",
          "loudness",
          "loudness",
          "loudness",
          "loudness",
          "loudness",
          "loudness",
          "loudness",
          "loudness",
          "loudness",
          "speechiness",
          "speechiness",
          "speechiness",
          "speechiness",
          "speechiness",
          "speechiness",
          "speechiness",
          "speechiness",
          "speechiness",
          "speechiness",
          "speechiness",
          "speechiness",
          "acousticness",
          "acousticness",
          "acousticness",
          "acousticness",
          "acousticness",
          "acousticness",
          "acousticness",
          "acousticness",
          "acousticness",
          "acousticness",
          "acousticness",
          "acousticness",
          "instrumentalness",
          "instrumentalness",
          "instrumentalness",
          "instrumentalness",
          "instrumentalness",
          "instrumentalness",
          "instrumentalness",
          "instrumentalness",
          "instrumentalness",
          "instrumentalness",
          "instrumentalness",
          "instrumentalness",
          "liveness",
          "liveness",
          "liveness",
          "liveness",
          "liveness",
          "liveness",
          "liveness",
          "liveness",
          "liveness",
          "liveness",
          "liveness",
          "liveness",
          "valence",
          "valence",
          "valence",
          "valence",
          "valence",
          "valence",
          "valence",
          "valence",
          "valence",
          "valence",
          "valence",
          "valence",
          "tempo",
          "tempo",
          "tempo",
          "tempo",
          "tempo",
          "tempo",
          "tempo",
          "tempo",
          "tempo",
          "tempo",
          "tempo",
          "tempo",
          "popularity"
         ],
         "type": "scatterpolar"
        },
        {
         "hovertemplate": "Q3=Undergraduate, 1st year (2026)<br>value=%{r}<br>variable=%{theta}<extra></extra>",
         "legendgroup": "Undergraduate, 1st year (2026)",
         "line": {
          "color": "#fdca26",
          "dash": "solid"
         },
         "marker": {
          "symbol": "circle"
         },
         "mode": "lines",
         "name": "Undergraduate, 1st year (2026)",
         "r": [
          0.16678965668505777,
          0.09296697829218849,
          0.15069795317717377,
          0.13447193787497208,
          0.1207471211590811,
          0.12769888098835858,
          0.1751648723548597,
          0.126230309561013,
          0.1784671674937642,
          0.1431462178352486,
          0.1267023490622108,
          0.13586447577762747,
          0.159486169071234,
          0.1176805338393851,
          0.1508555546628819,
          0.166133591180805,
          0.12491856020921124,
          0.168085246080131,
          0.16047309535812915,
          0.09439117729044874,
          0.17554797685349108,
          0.15055966347172442,
          0.2031691831890084,
          0.14844047118206452,
          0.14930626967045962,
          0.11906657124321011,
          0.19898599795761177,
          -0.1261445748845566,
          -0.19448279464552923,
          -0.12168596586068461,
          -0.1250780382839065,
          -0.09857866790879659,
          -0.13238434087240425,
          -0.126017504644807,
          -0.18078486417706066,
          -0.0899709320740608,
          0.14094758655697148,
          0.11625454417902599,
          0.11849224980874057,
          0.12128116161032265,
          0.14279773258914621,
          0.13816273934000095,
          0.193299857492329,
          0.09130023584966314,
          0.2671355158548498,
          0.10784882413517712,
          0.29893963507252436,
          0.08470127148174726,
          0.11546690433303894,
          0.03626108155214206,
          0.13350692603185718,
          0.10695788887615673,
          0.21310513206629894,
          0.031586804522501295,
          0.05431253798931602,
          0.264857413854017,
          0.10103249917704538,
          0.029654418161678464,
          0.18302163880148375,
          0.08067176157734818,
          0.03108090627073638,
          0.2005393057187779,
          0.0019053578112691407,
          0.16220973702783248,
          0.1345542818317968,
          0.15803075379783757,
          0.14755923817919947,
          0.16731675688330352,
          0.13946747220639233,
          0.15210497704766068,
          0.13924785869066836,
          0.20759144657249184,
          0.1575875836987197,
          0.10946796294574081,
          0.17094385595850156,
          0.16881084182007408,
          0.14689317119814732,
          0.14475208631869205,
          0.13758364843014093,
          0.13685597714866732,
          0.18586300575543505,
          0.1540046284171245,
          0.13597817909040993,
          0.15316014411030257,
          0.1448855161225565,
          0.1577241824656846,
          0.14721512148993574,
          0.153877694805284,
          0.1441126063297435,
          0.1623767006410151,
          0.16678965668505777
         ],
         "showlegend": true,
         "subplot": "polar",
         "theta": [
          "popularity",
          "popularity",
          "popularity",
          "popularity",
          "popularity",
          "popularity",
          "popularity",
          "popularity",
          "popularity",
          "danceability",
          "danceability",
          "danceability",
          "danceability",
          "danceability",
          "danceability",
          "danceability",
          "danceability",
          "danceability",
          "energy",
          "energy",
          "energy",
          "energy",
          "energy",
          "energy",
          "energy",
          "energy",
          "energy",
          "loudness",
          "loudness",
          "loudness",
          "loudness",
          "loudness",
          "loudness",
          "loudness",
          "loudness",
          "loudness",
          "speechiness",
          "speechiness",
          "speechiness",
          "speechiness",
          "speechiness",
          "speechiness",
          "speechiness",
          "speechiness",
          "speechiness",
          "acousticness",
          "acousticness",
          "acousticness",
          "acousticness",
          "acousticness",
          "acousticness",
          "acousticness",
          "acousticness",
          "acousticness",
          "instrumentalness",
          "instrumentalness",
          "instrumentalness",
          "instrumentalness",
          "instrumentalness",
          "instrumentalness",
          "instrumentalness",
          "instrumentalness",
          "instrumentalness",
          "liveness",
          "liveness",
          "liveness",
          "liveness",
          "liveness",
          "liveness",
          "liveness",
          "liveness",
          "liveness",
          "valence",
          "valence",
          "valence",
          "valence",
          "valence",
          "valence",
          "valence",
          "valence",
          "valence",
          "tempo",
          "tempo",
          "tempo",
          "tempo",
          "tempo",
          "tempo",
          "tempo",
          "tempo",
          "tempo",
          "popularity"
         ],
         "type": "scatterpolar"
        },
        {
         "hovertemplate": "Q3=Undergraduate, 2nd year (2025)<br>value=%{r}<br>variable=%{theta}<extra></extra>",
         "legendgroup": "Undergraduate, 2nd year (2025)",
         "line": {
          "color": "#fb9f3a",
          "dash": "solid"
         },
         "marker": {
          "symbol": "circle"
         },
         "mode": "lines",
         "name": "Undergraduate, 2nd year (2025)",
         "r": [
          0.16827745867926763,
          0.10985672422517645,
          0.13218733618741385,
          0.13308316038363907,
          0.1486945669322433,
          0.16483705278412297,
          0.16701709274963727,
          0.1564542576719412,
          0.15873535885636117,
          0.1633356933568948,
          0.18614867519233297,
          0.11277207860560888,
          0.15629968523054844,
          0.1055912758781423,
          0.13839310020963694,
          0.17185070156817167,
          0.1424793740941522,
          0.14843747978771432,
          0.14718295645833535,
          0.17160228461189153,
          0.17914569719231,
          0.13744515510209623,
          0.13564427934697124,
          0.13794573696167486,
          0.13447428018419047,
          0.13999752571542365,
          0.15223248608395007,
          0.1218322219828807,
          0.16626484279204623,
          0.1423408660548437,
          0.15255813692188996,
          0.16093575210597894,
          0.15579297519718743,
          0.13029489494733865,
          0.1397093074700557,
          0.15860648670435573,
          0.14246591273362114,
          0.1254694039844059,
          0.1257486649712278,
          0.14124452017068262,
          0.1456258855055815,
          0.12451648274453929,
          0.13592764679346528,
          0.16186566256009977,
          0.1553847006346114,
          0.14782694764622886,
          0.16686132324355288,
          0.16041693843472177,
          -0.12735912980745728,
          -0.14806304502548234,
          -0.15118831107548977,
          -0.12208643201367618,
          -0.13333216129279957,
          -0.18574081360331932,
          -0.16416105530912173,
          -0.15526088898305812,
          -0.149876234302462,
          -0.20594253857143713,
          -0.13744634618558174,
          -0.14711793563531955,
          -0.12954225614723305,
          -0.15369112029825263,
          -0.10734091288155348,
          -0.10923979891102338,
          0.12403639406519483,
          0.11707784327123813,
          0.11936348206810991,
          0.2595046942595735,
          0.2580019036197061,
          0.098325686890521,
          0.06350733856043443,
          0.1197652992912802,
          0.09090619535740366,
          0.17183359171526671,
          0.16073985414844588,
          0.11314192057963572,
          0.18963992418237385,
          0.1154776336067493,
          0.11473754330235285,
          0.14595724041369437,
          0.11436509279380093,
          0.17523287193003179,
          0.1893009834969288,
          0.0686874257132725,
          0.10309712474848778,
          0.1865259164424556,
          0.21937666255822294,
          0.1592386838506496,
          0.14105920580941989,
          0.15640537596751802,
          0.149224479154336,
          0.1002702687026224,
          0.08465669654615869,
          0.1387184061934004,
          0.08418581852493288,
          0.10696437434951354,
          0.05119440833267668,
          0.10564664186584669,
          0.25657106143943464,
          0.023581789633908085,
          0.011860294714676456,
          0.18736922938035241,
          0.062419755393045756,
          0.05852173577706362,
          0.17537724493528484,
          0.1713410478093503,
          0.049983538410104854,
          0.22691278180916055,
          0.023985251389170122,
          0.1642789564150952,
          0.010679642973707772,
          0.013969307527467292,
          0.1488605563759834,
          0.13599174775077572,
          0.1348285126599704,
          0.15540248924993139,
          0.15739717272334233,
          0.1326829567781511,
          0.1358810197794483,
          0.14771712970629985,
          0.13975766143323123,
          0.13216754229254474,
          0.13428769920977002,
          0.16441138090281596,
          0.14980656031344747,
          0.14706278561838465,
          0.14932203338970673,
          0.13943534987235007,
          0.149906233263264,
          0.1263969329666847,
          0.13881121007826747,
          0.1405853089680335,
          0.14913989136708566,
          0.1436140832138419,
          0.13977528891423083,
          0.16649697677739614,
          0.14762382949946562,
          0.13542092113148316,
          0.12753318042217357,
          0.13940648214610113,
          0.14914313329368672,
          0.15534653928929415,
          0.16307879272040077,
          0.15772527486777818,
          0.1496049264061476,
          0.1466945213032966,
          0.14973887090678692,
          0.15151333955127172,
          0.13996638748489698,
          0.14155512530012085,
          0.14803347786288468,
          0.14768425639660332,
          0.14963052341135155,
          0.1372677037830783,
          0.1379978722204969,
          0.1519288168979861,
          0.15510911227001217,
          0.1482890946329087,
          0.14869440314289165,
          0.14844292996027736,
          0.16827745867926763
         ],
         "showlegend": true,
         "subplot": "polar",
         "theta": [
          "popularity",
          "popularity",
          "popularity",
          "popularity",
          "popularity",
          "popularity",
          "popularity",
          "popularity",
          "popularity",
          "popularity",
          "popularity",
          "popularity",
          "popularity",
          "popularity",
          "popularity",
          "popularity",
          "danceability",
          "danceability",
          "danceability",
          "danceability",
          "danceability",
          "danceability",
          "danceability",
          "danceability",
          "danceability",
          "danceability",
          "danceability",
          "danceability",
          "danceability",
          "danceability",
          "danceability",
          "danceability",
          "energy",
          "energy",
          "energy",
          "energy",
          "energy",
          "energy",
          "energy",
          "energy",
          "energy",
          "energy",
          "energy",
          "energy",
          "energy",
          "energy",
          "energy",
          "energy",
          "loudness",
          "loudness",
          "loudness",
          "loudness",
          "loudness",
          "loudness",
          "loudness",
          "loudness",
          "loudness",
          "loudness",
          "loudness",
          "loudness",
          "loudness",
          "loudness",
          "loudness",
          "loudness",
          "speechiness",
          "speechiness",
          "speechiness",
          "speechiness",
          "speechiness",
          "speechiness",
          "speechiness",
          "speechiness",
          "speechiness",
          "speechiness",
          "speechiness",
          "speechiness",
          "speechiness",
          "speechiness",
          "speechiness",
          "speechiness",
          "acousticness",
          "acousticness",
          "acousticness",
          "acousticness",
          "acousticness",
          "acousticness",
          "acousticness",
          "acousticness",
          "acousticness",
          "acousticness",
          "acousticness",
          "acousticness",
          "acousticness",
          "acousticness",
          "acousticness",
          "acousticness",
          "instrumentalness",
          "instrumentalness",
          "instrumentalness",
          "instrumentalness",
          "instrumentalness",
          "instrumentalness",
          "instrumentalness",
          "instrumentalness",
          "instrumentalness",
          "instrumentalness",
          "instrumentalness",
          "instrumentalness",
          "instrumentalness",
          "instrumentalness",
          "instrumentalness",
          "instrumentalness",
          "liveness",
          "liveness",
          "liveness",
          "liveness",
          "liveness",
          "liveness",
          "liveness",
          "liveness",
          "liveness",
          "liveness",
          "liveness",
          "liveness",
          "liveness",
          "liveness",
          "liveness",
          "liveness",
          "valence",
          "valence",
          "valence",
          "valence",
          "valence",
          "valence",
          "valence",
          "valence",
          "valence",
          "valence",
          "valence",
          "valence",
          "valence",
          "valence",
          "valence",
          "valence",
          "tempo",
          "tempo",
          "tempo",
          "tempo",
          "tempo",
          "tempo",
          "tempo",
          "tempo",
          "tempo",
          "tempo",
          "tempo",
          "tempo",
          "tempo",
          "tempo",
          "tempo",
          "tempo",
          "popularity"
         ],
         "type": "scatterpolar"
        },
        {
         "hovertemplate": "Q3=Undergraduate, 4th year (2023)<br>value=%{r}<br>variable=%{theta}<extra></extra>",
         "legendgroup": "Undergraduate, 4th year (2023)",
         "line": {
          "color": "#ed7953",
          "dash": "solid"
         },
         "marker": {
          "symbol": "circle"
         },
         "mode": "lines",
         "name": "Undergraduate, 4th year (2023)",
         "r": [
          0.1777956653213331,
          0.08347860852854477,
          0.14919572989066818,
          0.18661409736347442,
          0.08079106682391633,
          0.16762476510570068,
          0.10771376535427163,
          0.17151598876173804,
          0.16423114669692465,
          0.11688292881536069,
          0.1320566776932038,
          0.10160912505977383,
          0.15129073961295092,
          0.15710662637509315,
          0.10524668917445971,
          -0.13743184587733673,
          -0.24419099713809894,
          -0.115578750942801,
          -0.11569732391647233,
          -0.22165946070476467,
          0.20512738055283927,
          0.11834510916676001,
          0.2138984738981286,
          0.18091211940137022,
          0.0623003263837065,
          0.14647297165041856,
          0.2409963714471192,
          0.09258148695532797,
          0.10210857276352267,
          0.23249945012280762,
          0.03447109457418375,
          0.43392876750246995,
          0.002246279919860846,
          0.021717138990200963,
          0.2141370312592697,
          0.14675791317722,
          0.1396364422625472,
          0.13329623827393597,
          0.1509372982832254,
          0.13737934330003548,
          0.14922789432300954,
          0.10355565805685055,
          0.15226432649894084,
          0.15544925100369147,
          0.12185951890199018,
          0.14659041127472067,
          0.13391012923004586,
          0.1466514465889396,
          0.15064086739362914,
          0.14070696239362981,
          0.1777956653213331
         ],
         "showlegend": true,
         "subplot": "polar",
         "theta": [
          "popularity",
          "popularity",
          "popularity",
          "popularity",
          "popularity",
          "danceability",
          "danceability",
          "danceability",
          "danceability",
          "danceability",
          "energy",
          "energy",
          "energy",
          "energy",
          "energy",
          "loudness",
          "loudness",
          "loudness",
          "loudness",
          "loudness",
          "speechiness",
          "speechiness",
          "speechiness",
          "speechiness",
          "speechiness",
          "acousticness",
          "acousticness",
          "acousticness",
          "acousticness",
          "acousticness",
          "instrumentalness",
          "instrumentalness",
          "instrumentalness",
          "instrumentalness",
          "instrumentalness",
          "liveness",
          "liveness",
          "liveness",
          "liveness",
          "liveness",
          "valence",
          "valence",
          "valence",
          "valence",
          "valence",
          "tempo",
          "tempo",
          "tempo",
          "tempo",
          "tempo",
          "popularity"
         ],
         "type": "scatterpolar"
        },
        {
         "hovertemplate": "Q3=Graduate student<br>value=%{r}<br>variable=%{theta}<extra></extra>",
         "legendgroup": "Graduate student",
         "line": {
          "color": "#d8576b",
          "dash": "solid"
         },
         "marker": {
          "symbol": "circle"
         },
         "mode": "lines",
         "name": "Graduate student",
         "r": [
          0.10456594779040249,
          0.11813297513830082,
          0.13734885113523168,
          0.12481351891839068,
          0.1308925336393255,
          0.14085134897285173,
          0.12904540854882143,
          0.13255101786738238,
          0.12495155418541662,
          -0.19790885776996905,
          -0.18132675595701173,
          -0.16261151463317394,
          0.0925556828063419,
          0.09317263658596873,
          0.07368194532119988,
          0.1849857981042417,
          0.17101014263120276,
          0.21790491016601943,
          0.2736488118574381,
          0.3304308235176377,
          0.03589283786210982,
          0.15067099770429052,
          0.13023128214645974,
          0.13200812082616192,
          0.15280420736179548,
          0.12770092777484168,
          0.13757097105390273,
          0.14666446207857808,
          0.14567881982910486,
          0.14444318072265316,
          0.10456594779040249
         ],
         "showlegend": true,
         "subplot": "polar",
         "theta": [
          "popularity",
          "popularity",
          "popularity",
          "danceability",
          "danceability",
          "danceability",
          "energy",
          "energy",
          "energy",
          "loudness",
          "loudness",
          "loudness",
          "speechiness",
          "speechiness",
          "speechiness",
          "acousticness",
          "acousticness",
          "acousticness",
          "instrumentalness",
          "instrumentalness",
          "instrumentalness",
          "liveness",
          "liveness",
          "liveness",
          "valence",
          "valence",
          "valence",
          "tempo",
          "tempo",
          "tempo",
          "popularity"
         ],
         "type": "scatterpolar"
        },
        {
         "hovertemplate": "Q3=Undergraduate, other<br>value=%{r}<br>variable=%{theta}<extra></extra>",
         "legendgroup": "Undergraduate, other",
         "line": {
          "color": "#bd3786",
          "dash": "solid"
         },
         "marker": {
          "symbol": "circle"
         },
         "mode": "lines",
         "name": "Undergraduate, other",
         "r": [
          0.11447219484768928,
          0.14692980440766226,
          0.1553422372016836,
          -0.13369168882808677,
          0.12094079469713741,
          0.12998159747870036,
          0.17184065170854765,
          0.14622876699821363,
          0.138202433698359,
          0.14798868274570856,
          0.11447219484768928
         ],
         "showlegend": true,
         "subplot": "polar",
         "theta": [
          "popularity",
          "danceability",
          "energy",
          "loudness",
          "speechiness",
          "acousticness",
          "instrumentalness",
          "liveness",
          "valence",
          "tempo",
          "popularity"
         ],
         "type": "scatterpolar"
        }
       ],
       "layout": {
        "legend": {
         "title": {
          "text": "Q3"
         },
         "tracegroupgap": 0,
         "x": 1.2,
         "xanchor": "right",
         "y": 0.5
        },
        "margin": {
         "t": 60
        },
        "polar": {
         "angularaxis": {
          "direction": "clockwise",
          "rotation": 90
         },
         "domain": {
          "x": [
           0,
           1
          ],
          "y": [
           0,
           1
          ]
         }
        },
        "template": {
         "data": {
          "bar": [
           {
            "error_x": {
             "color": "#f2f5fa"
            },
            "error_y": {
             "color": "#f2f5fa"
            },
            "marker": {
             "line": {
              "color": "rgb(17,17,17)",
              "width": 0.5
             },
             "pattern": {
              "fillmode": "overlay",
              "size": 10,
              "solidity": 0.2
             }
            },
            "type": "bar"
           }
          ],
          "barpolar": [
           {
            "marker": {
             "line": {
              "color": "rgb(17,17,17)",
              "width": 0.5
             },
             "pattern": {
              "fillmode": "overlay",
              "size": 10,
              "solidity": 0.2
             }
            },
            "type": "barpolar"
           }
          ],
          "carpet": [
           {
            "aaxis": {
             "endlinecolor": "#A2B1C6",
             "gridcolor": "#506784",
             "linecolor": "#506784",
             "minorgridcolor": "#506784",
             "startlinecolor": "#A2B1C6"
            },
            "baxis": {
             "endlinecolor": "#A2B1C6",
             "gridcolor": "#506784",
             "linecolor": "#506784",
             "minorgridcolor": "#506784",
             "startlinecolor": "#A2B1C6"
            },
            "type": "carpet"
           }
          ],
          "choropleth": [
           {
            "colorbar": {
             "outlinewidth": 0,
             "ticks": ""
            },
            "type": "choropleth"
           }
          ],
          "contour": [
           {
            "colorbar": {
             "outlinewidth": 0,
             "ticks": ""
            },
            "colorscale": [
             [
              0,
              "#0d0887"
             ],
             [
              0.1111111111111111,
              "#46039f"
             ],
             [
              0.2222222222222222,
              "#7201a8"
             ],
             [
              0.3333333333333333,
              "#9c179e"
             ],
             [
              0.4444444444444444,
              "#bd3786"
             ],
             [
              0.5555555555555556,
              "#d8576b"
             ],
             [
              0.6666666666666666,
              "#ed7953"
             ],
             [
              0.7777777777777778,
              "#fb9f3a"
             ],
             [
              0.8888888888888888,
              "#fdca26"
             ],
             [
              1,
              "#f0f921"
             ]
            ],
            "type": "contour"
           }
          ],
          "contourcarpet": [
           {
            "colorbar": {
             "outlinewidth": 0,
             "ticks": ""
            },
            "type": "contourcarpet"
           }
          ],
          "heatmap": [
           {
            "colorbar": {
             "outlinewidth": 0,
             "ticks": ""
            },
            "colorscale": [
             [
              0,
              "#0d0887"
             ],
             [
              0.1111111111111111,
              "#46039f"
             ],
             [
              0.2222222222222222,
              "#7201a8"
             ],
             [
              0.3333333333333333,
              "#9c179e"
             ],
             [
              0.4444444444444444,
              "#bd3786"
             ],
             [
              0.5555555555555556,
              "#d8576b"
             ],
             [
              0.6666666666666666,
              "#ed7953"
             ],
             [
              0.7777777777777778,
              "#fb9f3a"
             ],
             [
              0.8888888888888888,
              "#fdca26"
             ],
             [
              1,
              "#f0f921"
             ]
            ],
            "type": "heatmap"
           }
          ],
          "heatmapgl": [
           {
            "colorbar": {
             "outlinewidth": 0,
             "ticks": ""
            },
            "colorscale": [
             [
              0,
              "#0d0887"
             ],
             [
              0.1111111111111111,
              "#46039f"
             ],
             [
              0.2222222222222222,
              "#7201a8"
             ],
             [
              0.3333333333333333,
              "#9c179e"
             ],
             [
              0.4444444444444444,
              "#bd3786"
             ],
             [
              0.5555555555555556,
              "#d8576b"
             ],
             [
              0.6666666666666666,
              "#ed7953"
             ],
             [
              0.7777777777777778,
              "#fb9f3a"
             ],
             [
              0.8888888888888888,
              "#fdca26"
             ],
             [
              1,
              "#f0f921"
             ]
            ],
            "type": "heatmapgl"
           }
          ],
          "histogram": [
           {
            "marker": {
             "pattern": {
              "fillmode": "overlay",
              "size": 10,
              "solidity": 0.2
             }
            },
            "type": "histogram"
           }
          ],
          "histogram2d": [
           {
            "colorbar": {
             "outlinewidth": 0,
             "ticks": ""
            },
            "colorscale": [
             [
              0,
              "#0d0887"
             ],
             [
              0.1111111111111111,
              "#46039f"
             ],
             [
              0.2222222222222222,
              "#7201a8"
             ],
             [
              0.3333333333333333,
              "#9c179e"
             ],
             [
              0.4444444444444444,
              "#bd3786"
             ],
             [
              0.5555555555555556,
              "#d8576b"
             ],
             [
              0.6666666666666666,
              "#ed7953"
             ],
             [
              0.7777777777777778,
              "#fb9f3a"
             ],
             [
              0.8888888888888888,
              "#fdca26"
             ],
             [
              1,
              "#f0f921"
             ]
            ],
            "type": "histogram2d"
           }
          ],
          "histogram2dcontour": [
           {
            "colorbar": {
             "outlinewidth": 0,
             "ticks": ""
            },
            "colorscale": [
             [
              0,
              "#0d0887"
             ],
             [
              0.1111111111111111,
              "#46039f"
             ],
             [
              0.2222222222222222,
              "#7201a8"
             ],
             [
              0.3333333333333333,
              "#9c179e"
             ],
             [
              0.4444444444444444,
              "#bd3786"
             ],
             [
              0.5555555555555556,
              "#d8576b"
             ],
             [
              0.6666666666666666,
              "#ed7953"
             ],
             [
              0.7777777777777778,
              "#fb9f3a"
             ],
             [
              0.8888888888888888,
              "#fdca26"
             ],
             [
              1,
              "#f0f921"
             ]
            ],
            "type": "histogram2dcontour"
           }
          ],
          "mesh3d": [
           {
            "colorbar": {
             "outlinewidth": 0,
             "ticks": ""
            },
            "type": "mesh3d"
           }
          ],
          "parcoords": [
           {
            "line": {
             "colorbar": {
              "outlinewidth": 0,
              "ticks": ""
             }
            },
            "type": "parcoords"
           }
          ],
          "pie": [
           {
            "automargin": true,
            "type": "pie"
           }
          ],
          "scatter": [
           {
            "marker": {
             "line": {
              "color": "#283442"
             }
            },
            "type": "scatter"
           }
          ],
          "scatter3d": [
           {
            "line": {
             "colorbar": {
              "outlinewidth": 0,
              "ticks": ""
             }
            },
            "marker": {
             "colorbar": {
              "outlinewidth": 0,
              "ticks": ""
             }
            },
            "type": "scatter3d"
           }
          ],
          "scattercarpet": [
           {
            "marker": {
             "colorbar": {
              "outlinewidth": 0,
              "ticks": ""
             }
            },
            "type": "scattercarpet"
           }
          ],
          "scattergeo": [
           {
            "marker": {
             "colorbar": {
              "outlinewidth": 0,
              "ticks": ""
             }
            },
            "type": "scattergeo"
           }
          ],
          "scattergl": [
           {
            "marker": {
             "line": {
              "color": "#283442"
             }
            },
            "type": "scattergl"
           }
          ],
          "scattermapbox": [
           {
            "marker": {
             "colorbar": {
              "outlinewidth": 0,
              "ticks": ""
             }
            },
            "type": "scattermapbox"
           }
          ],
          "scatterpolar": [
           {
            "marker": {
             "colorbar": {
              "outlinewidth": 0,
              "ticks": ""
             }
            },
            "type": "scatterpolar"
           }
          ],
          "scatterpolargl": [
           {
            "marker": {
             "colorbar": {
              "outlinewidth": 0,
              "ticks": ""
             }
            },
            "type": "scatterpolargl"
           }
          ],
          "scatterternary": [
           {
            "marker": {
             "colorbar": {
              "outlinewidth": 0,
              "ticks": ""
             }
            },
            "type": "scatterternary"
           }
          ],
          "surface": [
           {
            "colorbar": {
             "outlinewidth": 0,
             "ticks": ""
            },
            "colorscale": [
             [
              0,
              "#0d0887"
             ],
             [
              0.1111111111111111,
              "#46039f"
             ],
             [
              0.2222222222222222,
              "#7201a8"
             ],
             [
              0.3333333333333333,
              "#9c179e"
             ],
             [
              0.4444444444444444,
              "#bd3786"
             ],
             [
              0.5555555555555556,
              "#d8576b"
             ],
             [
              0.6666666666666666,
              "#ed7953"
             ],
             [
              0.7777777777777778,
              "#fb9f3a"
             ],
             [
              0.8888888888888888,
              "#fdca26"
             ],
             [
              1,
              "#f0f921"
             ]
            ],
            "type": "surface"
           }
          ],
          "table": [
           {
            "cells": {
             "fill": {
              "color": "#506784"
             },
             "line": {
              "color": "rgb(17,17,17)"
             }
            },
            "header": {
             "fill": {
              "color": "#2a3f5f"
             },
             "line": {
              "color": "rgb(17,17,17)"
             }
            },
            "type": "table"
           }
          ]
         },
         "layout": {
          "annotationdefaults": {
           "arrowcolor": "#f2f5fa",
           "arrowhead": 0,
           "arrowwidth": 1
          },
          "autotypenumbers": "strict",
          "coloraxis": {
           "colorbar": {
            "outlinewidth": 0,
            "ticks": ""
           }
          },
          "colorscale": {
           "diverging": [
            [
             0,
             "#8e0152"
            ],
            [
             0.1,
             "#c51b7d"
            ],
            [
             0.2,
             "#de77ae"
            ],
            [
             0.3,
             "#f1b6da"
            ],
            [
             0.4,
             "#fde0ef"
            ],
            [
             0.5,
             "#f7f7f7"
            ],
            [
             0.6,
             "#e6f5d0"
            ],
            [
             0.7,
             "#b8e186"
            ],
            [
             0.8,
             "#7fbc41"
            ],
            [
             0.9,
             "#4d9221"
            ],
            [
             1,
             "#276419"
            ]
           ],
           "sequential": [
            [
             0,
             "#0d0887"
            ],
            [
             0.1111111111111111,
             "#46039f"
            ],
            [
             0.2222222222222222,
             "#7201a8"
            ],
            [
             0.3333333333333333,
             "#9c179e"
            ],
            [
             0.4444444444444444,
             "#bd3786"
            ],
            [
             0.5555555555555556,
             "#d8576b"
            ],
            [
             0.6666666666666666,
             "#ed7953"
            ],
            [
             0.7777777777777778,
             "#fb9f3a"
            ],
            [
             0.8888888888888888,
             "#fdca26"
            ],
            [
             1,
             "#f0f921"
            ]
           ],
           "sequentialminus": [
            [
             0,
             "#0d0887"
            ],
            [
             0.1111111111111111,
             "#46039f"
            ],
            [
             0.2222222222222222,
             "#7201a8"
            ],
            [
             0.3333333333333333,
             "#9c179e"
            ],
            [
             0.4444444444444444,
             "#bd3786"
            ],
            [
             0.5555555555555556,
             "#d8576b"
            ],
            [
             0.6666666666666666,
             "#ed7953"
            ],
            [
             0.7777777777777778,
             "#fb9f3a"
            ],
            [
             0.8888888888888888,
             "#fdca26"
            ],
            [
             1,
             "#f0f921"
            ]
           ]
          },
          "colorway": [
           "#636efa",
           "#EF553B",
           "#00cc96",
           "#ab63fa",
           "#FFA15A",
           "#19d3f3",
           "#FF6692",
           "#B6E880",
           "#FF97FF",
           "#FECB52"
          ],
          "font": {
           "color": "#f2f5fa"
          },
          "geo": {
           "bgcolor": "rgb(17,17,17)",
           "lakecolor": "rgb(17,17,17)",
           "landcolor": "rgb(17,17,17)",
           "showlakes": true,
           "showland": true,
           "subunitcolor": "#506784"
          },
          "hoverlabel": {
           "align": "left"
          },
          "hovermode": "closest",
          "mapbox": {
           "style": "dark"
          },
          "paper_bgcolor": "rgb(17,17,17)",
          "plot_bgcolor": "rgb(17,17,17)",
          "polar": {
           "angularaxis": {
            "gridcolor": "#506784",
            "linecolor": "#506784",
            "ticks": ""
           },
           "bgcolor": "rgb(17,17,17)",
           "radialaxis": {
            "gridcolor": "#506784",
            "linecolor": "#506784",
            "ticks": ""
           }
          },
          "scene": {
           "xaxis": {
            "backgroundcolor": "rgb(17,17,17)",
            "gridcolor": "#506784",
            "gridwidth": 2,
            "linecolor": "#506784",
            "showbackground": true,
            "ticks": "",
            "zerolinecolor": "#C8D4E3"
           },
           "yaxis": {
            "backgroundcolor": "rgb(17,17,17)",
            "gridcolor": "#506784",
            "gridwidth": 2,
            "linecolor": "#506784",
            "showbackground": true,
            "ticks": "",
            "zerolinecolor": "#C8D4E3"
           },
           "zaxis": {
            "backgroundcolor": "rgb(17,17,17)",
            "gridcolor": "#506784",
            "gridwidth": 2,
            "linecolor": "#506784",
            "showbackground": true,
            "ticks": "",
            "zerolinecolor": "#C8D4E3"
           }
          },
          "shapedefaults": {
           "line": {
            "color": "#f2f5fa"
           }
          },
          "sliderdefaults": {
           "bgcolor": "#C8D4E3",
           "bordercolor": "rgb(17,17,17)",
           "borderwidth": 1,
           "tickwidth": 0
          },
          "ternary": {
           "aaxis": {
            "gridcolor": "#506784",
            "linecolor": "#506784",
            "ticks": ""
           },
           "baxis": {
            "gridcolor": "#506784",
            "linecolor": "#506784",
            "ticks": ""
           },
           "bgcolor": "rgb(17,17,17)",
           "caxis": {
            "gridcolor": "#506784",
            "linecolor": "#506784",
            "ticks": ""
           }
          },
          "title": {
           "x": 0.05
          },
          "updatemenudefaults": {
           "bgcolor": "#506784",
           "borderwidth": 0
          },
          "xaxis": {
           "automargin": true,
           "gridcolor": "#283442",
           "linecolor": "#506784",
           "ticks": "",
           "title": {
            "standoff": 15
           },
           "zerolinecolor": "#283442",
           "zerolinewidth": 2
          },
          "yaxis": {
           "automargin": true,
           "gridcolor": "#283442",
           "linecolor": "#506784",
           "ticks": "",
           "title": {
            "standoff": 15
           },
           "zerolinecolor": "#283442",
           "zerolinewidth": 2
          }
         }
        }
       }
      },
      "text/html": [
       "<div>                            <div id=\"0728d390-4ddf-44fc-8adc-a69d0ff29733\" class=\"plotly-graph-div\" style=\"height:525px; width:100%;\"></div>            <script type=\"text/javascript\">                require([\"plotly\"], function(Plotly) {                    window.PLOTLYENV=window.PLOTLYENV || {};                                    if (document.getElementById(\"0728d390-4ddf-44fc-8adc-a69d0ff29733\")) {                    Plotly.newPlot(                        \"0728d390-4ddf-44fc-8adc-a69d0ff29733\",                        [{\"hovertemplate\":\"Q3=Undergraduate, 3rd year (2024)<br>value=%{r}<br>variable=%{theta}<extra></extra>\",\"legendgroup\":\"Undergraduate, 3rd year (2024)\",\"line\":{\"color\":\"#f0f921\",\"dash\":\"solid\"},\"marker\":{\"symbol\":\"circle\"},\"mode\":\"lines\",\"name\":\"Undergraduate, 3rd year (2024)\",\"r\":[0.1595685583054812,0.1559588466109463,0.14416496295071762,0.18677043231249324,0.12220857349626275,0.154713695851657,0.16047301275024142,0.19462569542311273,0.15334899707126542,0.13112382730668995,0.14550085919576786,0.15419179340527006,0.14337286107256056,0.1339902544619213,0.13172054650027773,0.1649586094592243,0.15879499872851816,0.16513796233991673,0.16137340873010914,0.16095535803626534,0.14301257232136028,0.1504424276842494,0.12983467657603112,0.15975668415344144,0.16475918033479495,0.1468828779943982,0.11516174194863266,0.148527551036573,0.13062974302869537,0.1677402559945228,0.15285402898905048,0.15604222554943256,0.14404025076474664,0.15993428200004714,0.16052956369939092,0.15607147429007934,-0.12226337375780404,-0.15981717262582526,-0.1899287735965757,-0.1262583205402189,-0.14121473471994622,-0.11098315649409622,-0.11996827781510432,-0.12175273584431556,-0.12462762990992832,-0.1100032262655046,-0.13282873946858825,-0.11572360461016155,0.14705453047779934,0.1023923673281,0.06787773811068366,0.23952773340457625,0.1509325820990545,0.15608333062607468,0.16867568603892336,0.11878070253243864,0.10484848297860329,0.10955969825734267,0.08727879719782612,0.1602571534841797,0.0899486192990778,0.12978779770264626,0.21119390929535017,0.10677349578888322,0.1513546705156226,0.07010969031380133,0.10515915698855044,0.13172939215168045,0.14200411155077916,0.12895362410215794,0.10928939160998515,0.10149770568895718,0.13254653755701493,0.2152108447565203,0.08212062093308914,0.05982467885042832,0.022708522252418567,0.032725424675017496,0.037597706339679834,0.16363240345347252,0.01762300098177166,0.046771265479177364,0.11199833110669619,0.013731925575027372,0.15762699919160014,0.14863205321790307,0.1422923923169377,0.1765399352015063,0.13122895884098787,0.14697856084076102,0.14461698915811794,0.14275651769102657,0.13526260211151458,0.14371488365171053,0.16399034265615373,0.137877006469417,0.1400369707276252,0.13473886776665742,0.16601640139517376,0.13125593433719618,0.13888400806651366,0.1712333297071488,0.14642847767732792,0.1685308079496238,0.13997150732635114,0.1583019118675588,0.16309035314750617,0.15592316319223368,0.1538513170763359,0.14775894420822297,0.14095035180649254,0.1470899835285576,0.146443727723248,0.1470677011072378,0.148600790886429,0.14220225538274636,0.14760043151668575,0.14780508155145083,0.15123166782965103,0.14830552648717452,0.1595685583054812],\"showlegend\":true,\"subplot\":\"polar\",\"theta\":[\"popularity\",\"popularity\",\"popularity\",\"popularity\",\"popularity\",\"popularity\",\"popularity\",\"popularity\",\"popularity\",\"popularity\",\"popularity\",\"popularity\",\"danceability\",\"danceability\",\"danceability\",\"danceability\",\"danceability\",\"danceability\",\"danceability\",\"danceability\",\"danceability\",\"danceability\",\"danceability\",\"danceability\",\"energy\",\"energy\",\"energy\",\"energy\",\"energy\",\"energy\",\"energy\",\"energy\",\"energy\",\"energy\",\"energy\",\"energy\",\"loudness\",\"loudness\",\"loudness\",\"loudness\",\"loudness\",\"loudness\",\"loudness\",\"loudness\",\"loudness\",\"loudness\",\"loudness\",\"loudness\",\"speechiness\",\"speechiness\",\"speechiness\",\"speechiness\",\"speechiness\",\"speechiness\",\"speechiness\",\"speechiness\",\"speechiness\",\"speechiness\",\"speechiness\",\"speechiness\",\"acousticness\",\"acousticness\",\"acousticness\",\"acousticness\",\"acousticness\",\"acousticness\",\"acousticness\",\"acousticness\",\"acousticness\",\"acousticness\",\"acousticness\",\"acousticness\",\"instrumentalness\",\"instrumentalness\",\"instrumentalness\",\"instrumentalness\",\"instrumentalness\",\"instrumentalness\",\"instrumentalness\",\"instrumentalness\",\"instrumentalness\",\"instrumentalness\",\"instrumentalness\",\"instrumentalness\",\"liveness\",\"liveness\",\"liveness\",\"liveness\",\"liveness\",\"liveness\",\"liveness\",\"liveness\",\"liveness\",\"liveness\",\"liveness\",\"liveness\",\"valence\",\"valence\",\"valence\",\"valence\",\"valence\",\"valence\",\"valence\",\"valence\",\"valence\",\"valence\",\"valence\",\"valence\",\"tempo\",\"tempo\",\"tempo\",\"tempo\",\"tempo\",\"tempo\",\"tempo\",\"tempo\",\"tempo\",\"tempo\",\"tempo\",\"tempo\",\"popularity\"],\"type\":\"scatterpolar\"},{\"hovertemplate\":\"Q3=Undergraduate, 1st year (2026)<br>value=%{r}<br>variable=%{theta}<extra></extra>\",\"legendgroup\":\"Undergraduate, 1st year (2026)\",\"line\":{\"color\":\"#fdca26\",\"dash\":\"solid\"},\"marker\":{\"symbol\":\"circle\"},\"mode\":\"lines\",\"name\":\"Undergraduate, 1st year (2026)\",\"r\":[0.16678965668505777,0.09296697829218849,0.15069795317717377,0.13447193787497208,0.1207471211590811,0.12769888098835858,0.1751648723548597,0.126230309561013,0.1784671674937642,0.1431462178352486,0.1267023490622108,0.13586447577762747,0.159486169071234,0.1176805338393851,0.1508555546628819,0.166133591180805,0.12491856020921124,0.168085246080131,0.16047309535812915,0.09439117729044874,0.17554797685349108,0.15055966347172442,0.2031691831890084,0.14844047118206452,0.14930626967045962,0.11906657124321011,0.19898599795761177,-0.1261445748845566,-0.19448279464552923,-0.12168596586068461,-0.1250780382839065,-0.09857866790879659,-0.13238434087240425,-0.126017504644807,-0.18078486417706066,-0.0899709320740608,0.14094758655697148,0.11625454417902599,0.11849224980874057,0.12128116161032265,0.14279773258914621,0.13816273934000095,0.193299857492329,0.09130023584966314,0.2671355158548498,0.10784882413517712,0.29893963507252436,0.08470127148174726,0.11546690433303894,0.03626108155214206,0.13350692603185718,0.10695788887615673,0.21310513206629894,0.031586804522501295,0.05431253798931602,0.264857413854017,0.10103249917704538,0.029654418161678464,0.18302163880148375,0.08067176157734818,0.03108090627073638,0.2005393057187779,0.0019053578112691407,0.16220973702783248,0.1345542818317968,0.15803075379783757,0.14755923817919947,0.16731675688330352,0.13946747220639233,0.15210497704766068,0.13924785869066836,0.20759144657249184,0.1575875836987197,0.10946796294574081,0.17094385595850156,0.16881084182007408,0.14689317119814732,0.14475208631869205,0.13758364843014093,0.13685597714866732,0.18586300575543505,0.1540046284171245,0.13597817909040993,0.15316014411030257,0.1448855161225565,0.1577241824656846,0.14721512148993574,0.153877694805284,0.1441126063297435,0.1623767006410151,0.16678965668505777],\"showlegend\":true,\"subplot\":\"polar\",\"theta\":[\"popularity\",\"popularity\",\"popularity\",\"popularity\",\"popularity\",\"popularity\",\"popularity\",\"popularity\",\"popularity\",\"danceability\",\"danceability\",\"danceability\",\"danceability\",\"danceability\",\"danceability\",\"danceability\",\"danceability\",\"danceability\",\"energy\",\"energy\",\"energy\",\"energy\",\"energy\",\"energy\",\"energy\",\"energy\",\"energy\",\"loudness\",\"loudness\",\"loudness\",\"loudness\",\"loudness\",\"loudness\",\"loudness\",\"loudness\",\"loudness\",\"speechiness\",\"speechiness\",\"speechiness\",\"speechiness\",\"speechiness\",\"speechiness\",\"speechiness\",\"speechiness\",\"speechiness\",\"acousticness\",\"acousticness\",\"acousticness\",\"acousticness\",\"acousticness\",\"acousticness\",\"acousticness\",\"acousticness\",\"acousticness\",\"instrumentalness\",\"instrumentalness\",\"instrumentalness\",\"instrumentalness\",\"instrumentalness\",\"instrumentalness\",\"instrumentalness\",\"instrumentalness\",\"instrumentalness\",\"liveness\",\"liveness\",\"liveness\",\"liveness\",\"liveness\",\"liveness\",\"liveness\",\"liveness\",\"liveness\",\"valence\",\"valence\",\"valence\",\"valence\",\"valence\",\"valence\",\"valence\",\"valence\",\"valence\",\"tempo\",\"tempo\",\"tempo\",\"tempo\",\"tempo\",\"tempo\",\"tempo\",\"tempo\",\"tempo\",\"popularity\"],\"type\":\"scatterpolar\"},{\"hovertemplate\":\"Q3=Undergraduate, 2nd year (2025)<br>value=%{r}<br>variable=%{theta}<extra></extra>\",\"legendgroup\":\"Undergraduate, 2nd year (2025)\",\"line\":{\"color\":\"#fb9f3a\",\"dash\":\"solid\"},\"marker\":{\"symbol\":\"circle\"},\"mode\":\"lines\",\"name\":\"Undergraduate, 2nd year (2025)\",\"r\":[0.16827745867926763,0.10985672422517645,0.13218733618741385,0.13308316038363907,0.1486945669322433,0.16483705278412297,0.16701709274963727,0.1564542576719412,0.15873535885636117,0.1633356933568948,0.18614867519233297,0.11277207860560888,0.15629968523054844,0.1055912758781423,0.13839310020963694,0.17185070156817167,0.1424793740941522,0.14843747978771432,0.14718295645833535,0.17160228461189153,0.17914569719231,0.13744515510209623,0.13564427934697124,0.13794573696167486,0.13447428018419047,0.13999752571542365,0.15223248608395007,0.1218322219828807,0.16626484279204623,0.1423408660548437,0.15255813692188996,0.16093575210597894,0.15579297519718743,0.13029489494733865,0.1397093074700557,0.15860648670435573,0.14246591273362114,0.1254694039844059,0.1257486649712278,0.14124452017068262,0.1456258855055815,0.12451648274453929,0.13592764679346528,0.16186566256009977,0.1553847006346114,0.14782694764622886,0.16686132324355288,0.16041693843472177,-0.12735912980745728,-0.14806304502548234,-0.15118831107548977,-0.12208643201367618,-0.13333216129279957,-0.18574081360331932,-0.16416105530912173,-0.15526088898305812,-0.149876234302462,-0.20594253857143713,-0.13744634618558174,-0.14711793563531955,-0.12954225614723305,-0.15369112029825263,-0.10734091288155348,-0.10923979891102338,0.12403639406519483,0.11707784327123813,0.11936348206810991,0.2595046942595735,0.2580019036197061,0.098325686890521,0.06350733856043443,0.1197652992912802,0.09090619535740366,0.17183359171526671,0.16073985414844588,0.11314192057963572,0.18963992418237385,0.1154776336067493,0.11473754330235285,0.14595724041369437,0.11436509279380093,0.17523287193003179,0.1893009834969288,0.0686874257132725,0.10309712474848778,0.1865259164424556,0.21937666255822294,0.1592386838506496,0.14105920580941989,0.15640537596751802,0.149224479154336,0.1002702687026224,0.08465669654615869,0.1387184061934004,0.08418581852493288,0.10696437434951354,0.05119440833267668,0.10564664186584669,0.25657106143943464,0.023581789633908085,0.011860294714676456,0.18736922938035241,0.062419755393045756,0.05852173577706362,0.17537724493528484,0.1713410478093503,0.049983538410104854,0.22691278180916055,0.023985251389170122,0.1642789564150952,0.010679642973707772,0.013969307527467292,0.1488605563759834,0.13599174775077572,0.1348285126599704,0.15540248924993139,0.15739717272334233,0.1326829567781511,0.1358810197794483,0.14771712970629985,0.13975766143323123,0.13216754229254474,0.13428769920977002,0.16441138090281596,0.14980656031344747,0.14706278561838465,0.14932203338970673,0.13943534987235007,0.149906233263264,0.1263969329666847,0.13881121007826747,0.1405853089680335,0.14913989136708566,0.1436140832138419,0.13977528891423083,0.16649697677739614,0.14762382949946562,0.13542092113148316,0.12753318042217357,0.13940648214610113,0.14914313329368672,0.15534653928929415,0.16307879272040077,0.15772527486777818,0.1496049264061476,0.1466945213032966,0.14973887090678692,0.15151333955127172,0.13996638748489698,0.14155512530012085,0.14803347786288468,0.14768425639660332,0.14963052341135155,0.1372677037830783,0.1379978722204969,0.1519288168979861,0.15510911227001217,0.1482890946329087,0.14869440314289165,0.14844292996027736,0.16827745867926763],\"showlegend\":true,\"subplot\":\"polar\",\"theta\":[\"popularity\",\"popularity\",\"popularity\",\"popularity\",\"popularity\",\"popularity\",\"popularity\",\"popularity\",\"popularity\",\"popularity\",\"popularity\",\"popularity\",\"popularity\",\"popularity\",\"popularity\",\"popularity\",\"danceability\",\"danceability\",\"danceability\",\"danceability\",\"danceability\",\"danceability\",\"danceability\",\"danceability\",\"danceability\",\"danceability\",\"danceability\",\"danceability\",\"danceability\",\"danceability\",\"danceability\",\"danceability\",\"energy\",\"energy\",\"energy\",\"energy\",\"energy\",\"energy\",\"energy\",\"energy\",\"energy\",\"energy\",\"energy\",\"energy\",\"energy\",\"energy\",\"energy\",\"energy\",\"loudness\",\"loudness\",\"loudness\",\"loudness\",\"loudness\",\"loudness\",\"loudness\",\"loudness\",\"loudness\",\"loudness\",\"loudness\",\"loudness\",\"loudness\",\"loudness\",\"loudness\",\"loudness\",\"speechiness\",\"speechiness\",\"speechiness\",\"speechiness\",\"speechiness\",\"speechiness\",\"speechiness\",\"speechiness\",\"speechiness\",\"speechiness\",\"speechiness\",\"speechiness\",\"speechiness\",\"speechiness\",\"speechiness\",\"speechiness\",\"acousticness\",\"acousticness\",\"acousticness\",\"acousticness\",\"acousticness\",\"acousticness\",\"acousticness\",\"acousticness\",\"acousticness\",\"acousticness\",\"acousticness\",\"acousticness\",\"acousticness\",\"acousticness\",\"acousticness\",\"acousticness\",\"instrumentalness\",\"instrumentalness\",\"instrumentalness\",\"instrumentalness\",\"instrumentalness\",\"instrumentalness\",\"instrumentalness\",\"instrumentalness\",\"instrumentalness\",\"instrumentalness\",\"instrumentalness\",\"instrumentalness\",\"instrumentalness\",\"instrumentalness\",\"instrumentalness\",\"instrumentalness\",\"liveness\",\"liveness\",\"liveness\",\"liveness\",\"liveness\",\"liveness\",\"liveness\",\"liveness\",\"liveness\",\"liveness\",\"liveness\",\"liveness\",\"liveness\",\"liveness\",\"liveness\",\"liveness\",\"valence\",\"valence\",\"valence\",\"valence\",\"valence\",\"valence\",\"valence\",\"valence\",\"valence\",\"valence\",\"valence\",\"valence\",\"valence\",\"valence\",\"valence\",\"valence\",\"tempo\",\"tempo\",\"tempo\",\"tempo\",\"tempo\",\"tempo\",\"tempo\",\"tempo\",\"tempo\",\"tempo\",\"tempo\",\"tempo\",\"tempo\",\"tempo\",\"tempo\",\"tempo\",\"popularity\"],\"type\":\"scatterpolar\"},{\"hovertemplate\":\"Q3=Undergraduate, 4th year (2023)<br>value=%{r}<br>variable=%{theta}<extra></extra>\",\"legendgroup\":\"Undergraduate, 4th year (2023)\",\"line\":{\"color\":\"#ed7953\",\"dash\":\"solid\"},\"marker\":{\"symbol\":\"circle\"},\"mode\":\"lines\",\"name\":\"Undergraduate, 4th year (2023)\",\"r\":[0.1777956653213331,0.08347860852854477,0.14919572989066818,0.18661409736347442,0.08079106682391633,0.16762476510570068,0.10771376535427163,0.17151598876173804,0.16423114669692465,0.11688292881536069,0.1320566776932038,0.10160912505977383,0.15129073961295092,0.15710662637509315,0.10524668917445971,-0.13743184587733673,-0.24419099713809894,-0.115578750942801,-0.11569732391647233,-0.22165946070476467,0.20512738055283927,0.11834510916676001,0.2138984738981286,0.18091211940137022,0.0623003263837065,0.14647297165041856,0.2409963714471192,0.09258148695532797,0.10210857276352267,0.23249945012280762,0.03447109457418375,0.43392876750246995,0.002246279919860846,0.021717138990200963,0.2141370312592697,0.14675791317722,0.1396364422625472,0.13329623827393597,0.1509372982832254,0.13737934330003548,0.14922789432300954,0.10355565805685055,0.15226432649894084,0.15544925100369147,0.12185951890199018,0.14659041127472067,0.13391012923004586,0.1466514465889396,0.15064086739362914,0.14070696239362981,0.1777956653213331],\"showlegend\":true,\"subplot\":\"polar\",\"theta\":[\"popularity\",\"popularity\",\"popularity\",\"popularity\",\"popularity\",\"danceability\",\"danceability\",\"danceability\",\"danceability\",\"danceability\",\"energy\",\"energy\",\"energy\",\"energy\",\"energy\",\"loudness\",\"loudness\",\"loudness\",\"loudness\",\"loudness\",\"speechiness\",\"speechiness\",\"speechiness\",\"speechiness\",\"speechiness\",\"acousticness\",\"acousticness\",\"acousticness\",\"acousticness\",\"acousticness\",\"instrumentalness\",\"instrumentalness\",\"instrumentalness\",\"instrumentalness\",\"instrumentalness\",\"liveness\",\"liveness\",\"liveness\",\"liveness\",\"liveness\",\"valence\",\"valence\",\"valence\",\"valence\",\"valence\",\"tempo\",\"tempo\",\"tempo\",\"tempo\",\"tempo\",\"popularity\"],\"type\":\"scatterpolar\"},{\"hovertemplate\":\"Q3=Graduate student<br>value=%{r}<br>variable=%{theta}<extra></extra>\",\"legendgroup\":\"Graduate student\",\"line\":{\"color\":\"#d8576b\",\"dash\":\"solid\"},\"marker\":{\"symbol\":\"circle\"},\"mode\":\"lines\",\"name\":\"Graduate student\",\"r\":[0.10456594779040249,0.11813297513830082,0.13734885113523168,0.12481351891839068,0.1308925336393255,0.14085134897285173,0.12904540854882143,0.13255101786738238,0.12495155418541662,-0.19790885776996905,-0.18132675595701173,-0.16261151463317394,0.0925556828063419,0.09317263658596873,0.07368194532119988,0.1849857981042417,0.17101014263120276,0.21790491016601943,0.2736488118574381,0.3304308235176377,0.03589283786210982,0.15067099770429052,0.13023128214645974,0.13200812082616192,0.15280420736179548,0.12770092777484168,0.13757097105390273,0.14666446207857808,0.14567881982910486,0.14444318072265316,0.10456594779040249],\"showlegend\":true,\"subplot\":\"polar\",\"theta\":[\"popularity\",\"popularity\",\"popularity\",\"danceability\",\"danceability\",\"danceability\",\"energy\",\"energy\",\"energy\",\"loudness\",\"loudness\",\"loudness\",\"speechiness\",\"speechiness\",\"speechiness\",\"acousticness\",\"acousticness\",\"acousticness\",\"instrumentalness\",\"instrumentalness\",\"instrumentalness\",\"liveness\",\"liveness\",\"liveness\",\"valence\",\"valence\",\"valence\",\"tempo\",\"tempo\",\"tempo\",\"popularity\"],\"type\":\"scatterpolar\"},{\"hovertemplate\":\"Q3=Undergraduate, other<br>value=%{r}<br>variable=%{theta}<extra></extra>\",\"legendgroup\":\"Undergraduate, other\",\"line\":{\"color\":\"#bd3786\",\"dash\":\"solid\"},\"marker\":{\"symbol\":\"circle\"},\"mode\":\"lines\",\"name\":\"Undergraduate, other\",\"r\":[0.11447219484768928,0.14692980440766226,0.1553422372016836,-0.13369168882808677,0.12094079469713741,0.12998159747870036,0.17184065170854765,0.14622876699821363,0.138202433698359,0.14798868274570856,0.11447219484768928],\"showlegend\":true,\"subplot\":\"polar\",\"theta\":[\"popularity\",\"danceability\",\"energy\",\"loudness\",\"speechiness\",\"acousticness\",\"instrumentalness\",\"liveness\",\"valence\",\"tempo\",\"popularity\"],\"type\":\"scatterpolar\"}],                        {\"template\":{\"data\":{\"barpolar\":[{\"marker\":{\"line\":{\"color\":\"rgb(17,17,17)\",\"width\":0.5},\"pattern\":{\"fillmode\":\"overlay\",\"size\":10,\"solidity\":0.2}},\"type\":\"barpolar\"}],\"bar\":[{\"error_x\":{\"color\":\"#f2f5fa\"},\"error_y\":{\"color\":\"#f2f5fa\"},\"marker\":{\"line\":{\"color\":\"rgb(17,17,17)\",\"width\":0.5},\"pattern\":{\"fillmode\":\"overlay\",\"size\":10,\"solidity\":0.2}},\"type\":\"bar\"}],\"carpet\":[{\"aaxis\":{\"endlinecolor\":\"#A2B1C6\",\"gridcolor\":\"#506784\",\"linecolor\":\"#506784\",\"minorgridcolor\":\"#506784\",\"startlinecolor\":\"#A2B1C6\"},\"baxis\":{\"endlinecolor\":\"#A2B1C6\",\"gridcolor\":\"#506784\",\"linecolor\":\"#506784\",\"minorgridcolor\":\"#506784\",\"startlinecolor\":\"#A2B1C6\"},\"type\":\"carpet\"}],\"choropleth\":[{\"colorbar\":{\"outlinewidth\":0,\"ticks\":\"\"},\"type\":\"choropleth\"}],\"contourcarpet\":[{\"colorbar\":{\"outlinewidth\":0,\"ticks\":\"\"},\"type\":\"contourcarpet\"}],\"contour\":[{\"colorbar\":{\"outlinewidth\":0,\"ticks\":\"\"},\"colorscale\":[[0.0,\"#0d0887\"],[0.1111111111111111,\"#46039f\"],[0.2222222222222222,\"#7201a8\"],[0.3333333333333333,\"#9c179e\"],[0.4444444444444444,\"#bd3786\"],[0.5555555555555556,\"#d8576b\"],[0.6666666666666666,\"#ed7953\"],[0.7777777777777778,\"#fb9f3a\"],[0.8888888888888888,\"#fdca26\"],[1.0,\"#f0f921\"]],\"type\":\"contour\"}],\"heatmapgl\":[{\"colorbar\":{\"outlinewidth\":0,\"ticks\":\"\"},\"colorscale\":[[0.0,\"#0d0887\"],[0.1111111111111111,\"#46039f\"],[0.2222222222222222,\"#7201a8\"],[0.3333333333333333,\"#9c179e\"],[0.4444444444444444,\"#bd3786\"],[0.5555555555555556,\"#d8576b\"],[0.6666666666666666,\"#ed7953\"],[0.7777777777777778,\"#fb9f3a\"],[0.8888888888888888,\"#fdca26\"],[1.0,\"#f0f921\"]],\"type\":\"heatmapgl\"}],\"heatmap\":[{\"colorbar\":{\"outlinewidth\":0,\"ticks\":\"\"},\"colorscale\":[[0.0,\"#0d0887\"],[0.1111111111111111,\"#46039f\"],[0.2222222222222222,\"#7201a8\"],[0.3333333333333333,\"#9c179e\"],[0.4444444444444444,\"#bd3786\"],[0.5555555555555556,\"#d8576b\"],[0.6666666666666666,\"#ed7953\"],[0.7777777777777778,\"#fb9f3a\"],[0.8888888888888888,\"#fdca26\"],[1.0,\"#f0f921\"]],\"type\":\"heatmap\"}],\"histogram2dcontour\":[{\"colorbar\":{\"outlinewidth\":0,\"ticks\":\"\"},\"colorscale\":[[0.0,\"#0d0887\"],[0.1111111111111111,\"#46039f\"],[0.2222222222222222,\"#7201a8\"],[0.3333333333333333,\"#9c179e\"],[0.4444444444444444,\"#bd3786\"],[0.5555555555555556,\"#d8576b\"],[0.6666666666666666,\"#ed7953\"],[0.7777777777777778,\"#fb9f3a\"],[0.8888888888888888,\"#fdca26\"],[1.0,\"#f0f921\"]],\"type\":\"histogram2dcontour\"}],\"histogram2d\":[{\"colorbar\":{\"outlinewidth\":0,\"ticks\":\"\"},\"colorscale\":[[0.0,\"#0d0887\"],[0.1111111111111111,\"#46039f\"],[0.2222222222222222,\"#7201a8\"],[0.3333333333333333,\"#9c179e\"],[0.4444444444444444,\"#bd3786\"],[0.5555555555555556,\"#d8576b\"],[0.6666666666666666,\"#ed7953\"],[0.7777777777777778,\"#fb9f3a\"],[0.8888888888888888,\"#fdca26\"],[1.0,\"#f0f921\"]],\"type\":\"histogram2d\"}],\"histogram\":[{\"marker\":{\"pattern\":{\"fillmode\":\"overlay\",\"size\":10,\"solidity\":0.2}},\"type\":\"histogram\"}],\"mesh3d\":[{\"colorbar\":{\"outlinewidth\":0,\"ticks\":\"\"},\"type\":\"mesh3d\"}],\"parcoords\":[{\"line\":{\"colorbar\":{\"outlinewidth\":0,\"ticks\":\"\"}},\"type\":\"parcoords\"}],\"pie\":[{\"automargin\":true,\"type\":\"pie\"}],\"scatter3d\":[{\"line\":{\"colorbar\":{\"outlinewidth\":0,\"ticks\":\"\"}},\"marker\":{\"colorbar\":{\"outlinewidth\":0,\"ticks\":\"\"}},\"type\":\"scatter3d\"}],\"scattercarpet\":[{\"marker\":{\"colorbar\":{\"outlinewidth\":0,\"ticks\":\"\"}},\"type\":\"scattercarpet\"}],\"scattergeo\":[{\"marker\":{\"colorbar\":{\"outlinewidth\":0,\"ticks\":\"\"}},\"type\":\"scattergeo\"}],\"scattergl\":[{\"marker\":{\"line\":{\"color\":\"#283442\"}},\"type\":\"scattergl\"}],\"scattermapbox\":[{\"marker\":{\"colorbar\":{\"outlinewidth\":0,\"ticks\":\"\"}},\"type\":\"scattermapbox\"}],\"scatterpolargl\":[{\"marker\":{\"colorbar\":{\"outlinewidth\":0,\"ticks\":\"\"}},\"type\":\"scatterpolargl\"}],\"scatterpolar\":[{\"marker\":{\"colorbar\":{\"outlinewidth\":0,\"ticks\":\"\"}},\"type\":\"scatterpolar\"}],\"scatter\":[{\"marker\":{\"line\":{\"color\":\"#283442\"}},\"type\":\"scatter\"}],\"scatterternary\":[{\"marker\":{\"colorbar\":{\"outlinewidth\":0,\"ticks\":\"\"}},\"type\":\"scatterternary\"}],\"surface\":[{\"colorbar\":{\"outlinewidth\":0,\"ticks\":\"\"},\"colorscale\":[[0.0,\"#0d0887\"],[0.1111111111111111,\"#46039f\"],[0.2222222222222222,\"#7201a8\"],[0.3333333333333333,\"#9c179e\"],[0.4444444444444444,\"#bd3786\"],[0.5555555555555556,\"#d8576b\"],[0.6666666666666666,\"#ed7953\"],[0.7777777777777778,\"#fb9f3a\"],[0.8888888888888888,\"#fdca26\"],[1.0,\"#f0f921\"]],\"type\":\"surface\"}],\"table\":[{\"cells\":{\"fill\":{\"color\":\"#506784\"},\"line\":{\"color\":\"rgb(17,17,17)\"}},\"header\":{\"fill\":{\"color\":\"#2a3f5f\"},\"line\":{\"color\":\"rgb(17,17,17)\"}},\"type\":\"table\"}]},\"layout\":{\"annotationdefaults\":{\"arrowcolor\":\"#f2f5fa\",\"arrowhead\":0,\"arrowwidth\":1},\"autotypenumbers\":\"strict\",\"coloraxis\":{\"colorbar\":{\"outlinewidth\":0,\"ticks\":\"\"}},\"colorscale\":{\"diverging\":[[0,\"#8e0152\"],[0.1,\"#c51b7d\"],[0.2,\"#de77ae\"],[0.3,\"#f1b6da\"],[0.4,\"#fde0ef\"],[0.5,\"#f7f7f7\"],[0.6,\"#e6f5d0\"],[0.7,\"#b8e186\"],[0.8,\"#7fbc41\"],[0.9,\"#4d9221\"],[1,\"#276419\"]],\"sequential\":[[0.0,\"#0d0887\"],[0.1111111111111111,\"#46039f\"],[0.2222222222222222,\"#7201a8\"],[0.3333333333333333,\"#9c179e\"],[0.4444444444444444,\"#bd3786\"],[0.5555555555555556,\"#d8576b\"],[0.6666666666666666,\"#ed7953\"],[0.7777777777777778,\"#fb9f3a\"],[0.8888888888888888,\"#fdca26\"],[1.0,\"#f0f921\"]],\"sequentialminus\":[[0.0,\"#0d0887\"],[0.1111111111111111,\"#46039f\"],[0.2222222222222222,\"#7201a8\"],[0.3333333333333333,\"#9c179e\"],[0.4444444444444444,\"#bd3786\"],[0.5555555555555556,\"#d8576b\"],[0.6666666666666666,\"#ed7953\"],[0.7777777777777778,\"#fb9f3a\"],[0.8888888888888888,\"#fdca26\"],[1.0,\"#f0f921\"]]},\"colorway\":[\"#636efa\",\"#EF553B\",\"#00cc96\",\"#ab63fa\",\"#FFA15A\",\"#19d3f3\",\"#FF6692\",\"#B6E880\",\"#FF97FF\",\"#FECB52\"],\"font\":{\"color\":\"#f2f5fa\"},\"geo\":{\"bgcolor\":\"rgb(17,17,17)\",\"lakecolor\":\"rgb(17,17,17)\",\"landcolor\":\"rgb(17,17,17)\",\"showlakes\":true,\"showland\":true,\"subunitcolor\":\"#506784\"},\"hoverlabel\":{\"align\":\"left\"},\"hovermode\":\"closest\",\"mapbox\":{\"style\":\"dark\"},\"paper_bgcolor\":\"rgb(17,17,17)\",\"plot_bgcolor\":\"rgb(17,17,17)\",\"polar\":{\"angularaxis\":{\"gridcolor\":\"#506784\",\"linecolor\":\"#506784\",\"ticks\":\"\"},\"bgcolor\":\"rgb(17,17,17)\",\"radialaxis\":{\"gridcolor\":\"#506784\",\"linecolor\":\"#506784\",\"ticks\":\"\"}},\"scene\":{\"xaxis\":{\"backgroundcolor\":\"rgb(17,17,17)\",\"gridcolor\":\"#506784\",\"gridwidth\":2,\"linecolor\":\"#506784\",\"showbackground\":true,\"ticks\":\"\",\"zerolinecolor\":\"#C8D4E3\"},\"yaxis\":{\"backgroundcolor\":\"rgb(17,17,17)\",\"gridcolor\":\"#506784\",\"gridwidth\":2,\"linecolor\":\"#506784\",\"showbackground\":true,\"ticks\":\"\",\"zerolinecolor\":\"#C8D4E3\"},\"zaxis\":{\"backgroundcolor\":\"rgb(17,17,17)\",\"gridcolor\":\"#506784\",\"gridwidth\":2,\"linecolor\":\"#506784\",\"showbackground\":true,\"ticks\":\"\",\"zerolinecolor\":\"#C8D4E3\"}},\"shapedefaults\":{\"line\":{\"color\":\"#f2f5fa\"}},\"sliderdefaults\":{\"bgcolor\":\"#C8D4E3\",\"bordercolor\":\"rgb(17,17,17)\",\"borderwidth\":1,\"tickwidth\":0},\"ternary\":{\"aaxis\":{\"gridcolor\":\"#506784\",\"linecolor\":\"#506784\",\"ticks\":\"\"},\"baxis\":{\"gridcolor\":\"#506784\",\"linecolor\":\"#506784\",\"ticks\":\"\"},\"bgcolor\":\"rgb(17,17,17)\",\"caxis\":{\"gridcolor\":\"#506784\",\"linecolor\":\"#506784\",\"ticks\":\"\"}},\"title\":{\"x\":0.05},\"updatemenudefaults\":{\"bgcolor\":\"#506784\",\"borderwidth\":0},\"xaxis\":{\"automargin\":true,\"gridcolor\":\"#283442\",\"linecolor\":\"#506784\",\"ticks\":\"\",\"title\":{\"standoff\":15},\"zerolinecolor\":\"#283442\",\"zerolinewidth\":2},\"yaxis\":{\"automargin\":true,\"gridcolor\":\"#283442\",\"linecolor\":\"#506784\",\"ticks\":\"\",\"title\":{\"standoff\":15},\"zerolinecolor\":\"#283442\",\"zerolinewidth\":2}}},\"polar\":{\"domain\":{\"x\":[0.0,1.0],\"y\":[0.0,1.0]},\"angularaxis\":{\"direction\":\"clockwise\",\"rotation\":90}},\"legend\":{\"title\":{\"text\":\"Q3\"},\"tracegroupgap\":0,\"xanchor\":\"right\",\"y\":0.5,\"x\":1.2},\"margin\":{\"t\":60}},                        {\"responsive\": true}                    ).then(function(){\n",
       "                            \n",
       "var gd = document.getElementById('0728d390-4ddf-44fc-8adc-a69d0ff29733');\n",
       "var x = new MutationObserver(function (mutations, observer) {{\n",
       "        var display = window.getComputedStyle(gd).display;\n",
       "        if (!display || display === 'none') {{\n",
       "            console.log([gd, 'removed!']);\n",
       "            Plotly.purge(gd);\n",
       "            observer.disconnect();\n",
       "        }}\n",
       "}});\n",
       "\n",
       "// Listen for the removal of the full notebook cells\n",
       "var notebookContainer = gd.closest('#notebook-container');\n",
       "if (notebookContainer) {{\n",
       "    x.observe(notebookContainer, {childList: true});\n",
       "}}\n",
       "\n",
       "// Listen for the clearing of the current output cell\n",
       "var outputEl = gd.closest('.output');\n",
       "if (outputEl) {{\n",
       "    x.observe(outputEl, {childList: true});\n",
       "}}\n",
       "\n",
       "                        })                };                });            </script>        </div>"
      ]
     },
     "metadata": {},
     "output_type": "display_data"
    }
   ],
   "source": [
    "fig.show()"
   ]
  },
  {
   "cell_type": "code",
   "execution_count": 44,
   "id": "37cac6ab",
   "metadata": {},
   "outputs": [
    {
     "name": "stderr",
     "output_type": "stream",
     "text": [
      "/Users/carlyhu/opt/anaconda3/lib/python3.9/site-packages/plotly/express/_core.py:271: FutureWarning:\n",
      "\n",
      "The frame.append method is deprecated and will be removed from pandas in a future version. Use pandas.concat instead.\n",
      "\n",
      "/Users/carlyhu/opt/anaconda3/lib/python3.9/site-packages/plotly/express/_core.py:271: FutureWarning:\n",
      "\n",
      "The frame.append method is deprecated and will be removed from pandas in a future version. Use pandas.concat instead.\n",
      "\n",
      "/Users/carlyhu/opt/anaconda3/lib/python3.9/site-packages/plotly/express/_core.py:271: FutureWarning:\n",
      "\n",
      "The frame.append method is deprecated and will be removed from pandas in a future version. Use pandas.concat instead.\n",
      "\n",
      "/Users/carlyhu/opt/anaconda3/lib/python3.9/site-packages/plotly/express/_core.py:271: FutureWarning:\n",
      "\n",
      "The frame.append method is deprecated and will be removed from pandas in a future version. Use pandas.concat instead.\n",
      "\n",
      "/Users/carlyhu/opt/anaconda3/lib/python3.9/site-packages/plotly/express/_core.py:271: FutureWarning:\n",
      "\n",
      "The frame.append method is deprecated and will be removed from pandas in a future version. Use pandas.concat instead.\n",
      "\n",
      "/Users/carlyhu/opt/anaconda3/lib/python3.9/site-packages/plotly/express/_core.py:271: FutureWarning:\n",
      "\n",
      "The frame.append method is deprecated and will be removed from pandas in a future version. Use pandas.concat instead.\n",
      "\n",
      "/Users/carlyhu/opt/anaconda3/lib/python3.9/site-packages/plotly/express/_core.py:271: FutureWarning:\n",
      "\n",
      "The frame.append method is deprecated and will be removed from pandas in a future version. Use pandas.concat instead.\n",
      "\n"
     ]
    },
    {
     "data": {
      "application/vnd.plotly.v1+json": {
       "config": {
        "plotlyServerURL": "https://plot.ly"
       },
       "data": [
        {
         "hovertemplate": "Q1=(ENG) College of Engineering<br>value=%{r}<br>variable=%{theta}<extra></extra>",
         "legendgroup": "(ENG) College of Engineering",
         "line": {
          "color": "#636EFA",
          "dash": "solid"
         },
         "marker": {
          "symbol": "circle"
         },
         "mode": "lines",
         "name": "(ENG) College of Engineering",
         "r": [
          0.1595685583054812,
          0.16678965668505777,
          0.18677043231249324,
          0.1486945669322433,
          0.13447193787497208,
          0.1207471211590811,
          0.08347860852854477,
          0.1633356933568948,
          0.1751648723548597,
          0.15629968523054844,
          0.15419179340527006,
          0.13734885113523168,
          0.14337286107256056,
          0.1431462178352486,
          0.1649586094592243,
          0.17914569719231,
          0.159486169071234,
          0.1176805338393851,
          0.10771376535427163,
          0.13999752571542365,
          0.166133591180805,
          0.16626484279204623,
          0.15975668415344144,
          0.14085134897285173,
          0.16475918033479495,
          0.16047309535812915,
          0.148527551036573,
          0.14246591273362114,
          0.15055966347172442,
          0.2031691831890084,
          0.10160912505977383,
          0.12451648274453929,
          0.14930626967045962,
          0.1553847006346114,
          0.15607147429007934,
          0.12495155418541662,
          -0.12226337375780404,
          -0.1261445748845566,
          -0.1262583205402189,
          -0.13333216129279957,
          -0.1250780382839065,
          -0.09857866790879659,
          -0.24419099713809894,
          -0.20594253857143713,
          -0.126017504644807,
          -0.12954225614723305,
          -0.11572360461016155,
          -0.16261151463317394,
          0.14705453047779934,
          0.14094758655697148,
          0.23952773340457625,
          0.2580019036197061,
          0.12128116161032265,
          0.14279773258914621,
          0.11834510916676001,
          0.17183359171526671,
          0.193299857492329,
          0.18963992418237385,
          0.1602571534841797,
          0.07368194532119988,
          0.0899486192990778,
          0.10784882413517712,
          0.10677349578888322,
          0.10309712474848778,
          0.11546690433303894,
          0.03626108155214206,
          0.2409963714471192,
          0.15640537596751802,
          0.10695788887615673,
          0.08465669654615869,
          0.10149770568895718,
          0.21790491016601943,
          0.13254653755701493,
          0.05431253798931602,
          0.05982467885042832,
          0.011860294714676456,
          0.029654418161678464,
          0.18302163880148375,
          0.43392876750246995,
          0.1713410478093503,
          0.03108090627073638,
          0.023985251389170122,
          0.013731925575027372,
          0.03589283786210982,
          0.15762699919160014,
          0.16220973702783248,
          0.1765399352015063,
          0.15739717272334233,
          0.14755923817919947,
          0.16731675688330352,
          0.1396364422625472,
          0.13216754229254474,
          0.15210497704766068,
          0.14980656031344747,
          0.137877006469417,
          0.13200812082616192,
          0.1400369707276252,
          0.1575875836987197,
          0.13125593433719618,
          0.14913989136708566,
          0.16881084182007408,
          0.14689317119814732,
          0.10355565805685055,
          0.13542092113148316,
          0.13758364843014093,
          0.14914313329368672,
          0.15592316319223368,
          0.13757097105390273,
          0.1538513170763359,
          0.1540046284171245,
          0.1470899835285576,
          0.13996638748489698,
          0.1448855161225565,
          0.1577241824656846,
          0.13391012923004586,
          0.1372677037830783,
          0.153877694805284,
          0.15510911227001217,
          0.14830552648717452,
          0.14444318072265316,
          0.1595685583054812
         ],
         "showlegend": true,
         "subplot": "polar",
         "theta": [
          "popularity",
          "popularity",
          "popularity",
          "popularity",
          "popularity",
          "popularity",
          "popularity",
          "popularity",
          "popularity",
          "popularity",
          "popularity",
          "popularity",
          "danceability",
          "danceability",
          "danceability",
          "danceability",
          "danceability",
          "danceability",
          "danceability",
          "danceability",
          "danceability",
          "danceability",
          "danceability",
          "danceability",
          "energy",
          "energy",
          "energy",
          "energy",
          "energy",
          "energy",
          "energy",
          "energy",
          "energy",
          "energy",
          "energy",
          "energy",
          "loudness",
          "loudness",
          "loudness",
          "loudness",
          "loudness",
          "loudness",
          "loudness",
          "loudness",
          "loudness",
          "loudness",
          "loudness",
          "loudness",
          "speechiness",
          "speechiness",
          "speechiness",
          "speechiness",
          "speechiness",
          "speechiness",
          "speechiness",
          "speechiness",
          "speechiness",
          "speechiness",
          "speechiness",
          "speechiness",
          "acousticness",
          "acousticness",
          "acousticness",
          "acousticness",
          "acousticness",
          "acousticness",
          "acousticness",
          "acousticness",
          "acousticness",
          "acousticness",
          "acousticness",
          "acousticness",
          "instrumentalness",
          "instrumentalness",
          "instrumentalness",
          "instrumentalness",
          "instrumentalness",
          "instrumentalness",
          "instrumentalness",
          "instrumentalness",
          "instrumentalness",
          "instrumentalness",
          "instrumentalness",
          "instrumentalness",
          "liveness",
          "liveness",
          "liveness",
          "liveness",
          "liveness",
          "liveness",
          "liveness",
          "liveness",
          "liveness",
          "liveness",
          "liveness",
          "liveness",
          "valence",
          "valence",
          "valence",
          "valence",
          "valence",
          "valence",
          "valence",
          "valence",
          "valence",
          "valence",
          "valence",
          "valence",
          "tempo",
          "tempo",
          "tempo",
          "tempo",
          "tempo",
          "tempo",
          "tempo",
          "tempo",
          "tempo",
          "tempo",
          "tempo",
          "tempo",
          "popularity"
         ],
         "type": "scatterpolar"
        },
        {
         "hovertemplate": "Q1=(HUMEC) College of Human Ecology<br>value=%{r}<br>variable=%{theta}<extra></extra>",
         "legendgroup": "(HUMEC) College of Human Ecology",
         "line": {
          "color": "#EF553B",
          "dash": "solid"
         },
         "marker": {
          "symbol": "circle"
         },
         "mode": "lines",
         "name": "(HUMEC) College of Human Ecology",
         "r": [
          0.1559588466109463,
          0.1339902544619213,
          0.1468828779943982,
          -0.15981717262582526,
          0.1023923673281,
          0.12978779770264626,
          0.2152108447565203,
          0.14863205321790307,
          0.13473886776665742,
          0.14775894420822297,
          0.1559588466109463
         ],
         "showlegend": true,
         "subplot": "polar",
         "theta": [
          "popularity",
          "danceability",
          "energy",
          "loudness",
          "speechiness",
          "acousticness",
          "instrumentalness",
          "liveness",
          "valence",
          "tempo",
          "popularity"
         ],
         "type": "scatterpolar"
        },
        {
         "hovertemplate": "Q1=(AS) College of Arts and Sciences<br>value=%{r}<br>variable=%{theta}<extra></extra>",
         "legendgroup": "(AS) College of Arts and Sciences",
         "line": {
          "color": "#00CC96",
          "dash": "solid"
         },
         "marker": {
          "symbol": "circle"
         },
         "mode": "lines",
         "name": "(AS) College of Arts and Sciences",
         "r": [
          0.14416496295071762,
          0.16827745867926763,
          0.10985672422517645,
          0.09296697829218849,
          0.15069795317717377,
          0.13218733618741385,
          0.10456594779040249,
          0.11447219484768928,
          0.12769888098835858,
          0.12220857349626275,
          0.126230309561013,
          0.15334899707126542,
          0.13112382730668995,
          0.17185070156817167,
          0.1784671674937642,
          0.13172054650027773,
          0.1424793740941522,
          0.14843747978771432,
          0.1267023490622108,
          0.13586447577762747,
          0.14718295645833535,
          0.12481351891839068,
          0.14692980440766226,
          0.1508555546628819,
          0.15879499872851816,
          0.12491856020921124,
          0.14301257232136028,
          0.1504424276842494,
          0.16093575210597894,
          0.168085246080131,
          0.11516174194863266,
          0.15579297519718743,
          0.13029489494733865,
          0.09439117729044874,
          0.17554797685349108,
          0.1397093074700557,
          0.12904540854882143,
          0.1553422372016836,
          0.14844047118206452,
          0.13062974302869537,
          0.11906657124321011,
          0.14404025076474664,
          0.15993428200004714,
          0.16041693843472177,
          0.19898599795761177,
          -0.1899287735965757,
          -0.12735912980745728,
          -0.14806304502548234,
          -0.19448279464552923,
          -0.12168596586068461,
          -0.15118831107548977,
          -0.19790885776996905,
          -0.13369168882808677,
          -0.13238434087240425,
          -0.14121473471994622,
          -0.18078486417706066,
          -0.12462762990992832,
          -0.1100032262655046,
          -0.10923979891102338,
          -0.0899709320740608,
          0.06787773811068366,
          0.12403639406519483,
          0.11707784327123813,
          0.11625454417902599,
          0.11849224980874057,
          0.11936348206810991,
          0.0925556828063419,
          0.12094079469713741,
          0.13816273934000095,
          0.1509325820990545,
          0.09130023584966314,
          0.10484848297860329,
          0.10955969825734267,
          0.14595724041369437,
          0.2671355158548498,
          0.21119390929535017,
          0.11436509279380093,
          0.17523287193003179,
          0.29893963507252436,
          0.08470127148174726,
          0.1893009834969288,
          0.1849857981042417,
          0.12998159747870036,
          0.13350692603185718,
          0.1513546705156226,
          0.21310513206629894,
          0.14200411155077916,
          0.12895362410215794,
          0.10696437434951354,
          0.031586804522501295,
          0.08212062093308914,
          0.05119440833267668,
          0.10564664186584669,
          0.264857413854017,
          0.10103249917704538,
          0.25657106143943464,
          0.2736488118574381,
          0.17184065170854765,
          0.08067176157734818,
          0.022708522252418567,
          0.2005393057187779,
          0.01762300098177166,
          0.046771265479177364,
          0.013969307527467292,
          0.0019053578112691407,
          0.1422923923169377,
          0.1488605563759834,
          0.13599174775077572,
          0.1345542818317968,
          0.15803075379783757,
          0.1348285126599704,
          0.15067099770429052,
          0.14622876699821363,
          0.13946747220639233,
          0.13122895884098787,
          0.13924785869066836,
          0.13526260211151458,
          0.14371488365171053,
          0.13943534987235007,
          0.20759144657249184,
          0.16601640139517376,
          0.149906233263264,
          0.1263969329666847,
          0.10946796294574081,
          0.17094385595850156,
          0.13881121007826747,
          0.15280420736179548,
          0.138202433698359,
          0.14475208631869205,
          0.13888400806651366,
          0.13685597714866732,
          0.13997150732635114,
          0.1583019118675588,
          0.15772527486777818,
          0.18586300575543505,
          0.14095035180649254,
          0.1496049264061476,
          0.1466945213032966,
          0.13597817909040993,
          0.15316014411030257,
          0.14973887090678692,
          0.14666446207857808,
          0.14798868274570856,
          0.14721512148993574,
          0.146443727723248,
          0.1441126063297435,
          0.14760043151668575,
          0.14780508155145083,
          0.14844292996027736,
          0.1623767006410151,
          0.14416496295071762
         ],
         "showlegend": true,
         "subplot": "polar",
         "theta": [
          "popularity",
          "popularity",
          "popularity",
          "popularity",
          "popularity",
          "popularity",
          "popularity",
          "popularity",
          "popularity",
          "popularity",
          "popularity",
          "popularity",
          "popularity",
          "popularity",
          "popularity",
          "danceability",
          "danceability",
          "danceability",
          "danceability",
          "danceability",
          "danceability",
          "danceability",
          "danceability",
          "danceability",
          "danceability",
          "danceability",
          "danceability",
          "danceability",
          "danceability",
          "danceability",
          "energy",
          "energy",
          "energy",
          "energy",
          "energy",
          "energy",
          "energy",
          "energy",
          "energy",
          "energy",
          "energy",
          "energy",
          "energy",
          "energy",
          "energy",
          "loudness",
          "loudness",
          "loudness",
          "loudness",
          "loudness",
          "loudness",
          "loudness",
          "loudness",
          "loudness",
          "loudness",
          "loudness",
          "loudness",
          "loudness",
          "loudness",
          "loudness",
          "speechiness",
          "speechiness",
          "speechiness",
          "speechiness",
          "speechiness",
          "speechiness",
          "speechiness",
          "speechiness",
          "speechiness",
          "speechiness",
          "speechiness",
          "speechiness",
          "speechiness",
          "speechiness",
          "speechiness",
          "acousticness",
          "acousticness",
          "acousticness",
          "acousticness",
          "acousticness",
          "acousticness",
          "acousticness",
          "acousticness",
          "acousticness",
          "acousticness",
          "acousticness",
          "acousticness",
          "acousticness",
          "acousticness",
          "acousticness",
          "instrumentalness",
          "instrumentalness",
          "instrumentalness",
          "instrumentalness",
          "instrumentalness",
          "instrumentalness",
          "instrumentalness",
          "instrumentalness",
          "instrumentalness",
          "instrumentalness",
          "instrumentalness",
          "instrumentalness",
          "instrumentalness",
          "instrumentalness",
          "instrumentalness",
          "liveness",
          "liveness",
          "liveness",
          "liveness",
          "liveness",
          "liveness",
          "liveness",
          "liveness",
          "liveness",
          "liveness",
          "liveness",
          "liveness",
          "liveness",
          "liveness",
          "liveness",
          "valence",
          "valence",
          "valence",
          "valence",
          "valence",
          "valence",
          "valence",
          "valence",
          "valence",
          "valence",
          "valence",
          "valence",
          "valence",
          "valence",
          "valence",
          "tempo",
          "tempo",
          "tempo",
          "tempo",
          "tempo",
          "tempo",
          "tempo",
          "tempo",
          "tempo",
          "tempo",
          "tempo",
          "tempo",
          "tempo",
          "tempo",
          "tempo",
          "popularity"
         ],
         "type": "scatterpolar"
        },
        {
         "hovertemplate": "Q1=(CALS) College of Agriculture and Life Sciences<br>value=%{r}<br>variable=%{theta}<extra></extra>",
         "legendgroup": "(CALS) College of Agriculture and Life Sciences",
         "line": {
          "color": "#AB63FA",
          "dash": "solid"
         },
         "marker": {
          "symbol": "circle"
         },
         "mode": "lines",
         "name": "(CALS) College of Agriculture and Life Sciences",
         "r": [
          0.1777956653213331,
          0.13308316038363907,
          0.16483705278412297,
          0.16701709274963727,
          0.1564542576719412,
          0.14919572989066818,
          0.16047301275024142,
          0.15873535885636117,
          0.11813297513830082,
          0.11277207860560888,
          0.16762476510570068,
          0.17160228461189153,
          0.13744515510209623,
          0.13564427934697124,
          0.13794573696167486,
          0.17151598876173804,
          0.16137340873010914,
          0.13447428018419047,
          0.1308925336393255,
          0.1218322219828807,
          0.1320566776932038,
          0.15860648670435573,
          0.1254694039844059,
          0.1257486649712278,
          0.14124452017068262,
          0.15129073961295092,
          0.15285402898905048,
          0.1456258855055815,
          0.13255101786738238,
          0.16186566256009977,
          -0.13743184587733673,
          -0.12208643201367618,
          -0.18574081360331932,
          -0.16416105530912173,
          -0.15526088898305812,
          -0.115578750942801,
          -0.11996827781510432,
          -0.149876234302462,
          -0.18132675595701173,
          -0.14711793563531955,
          0.20512738055283927,
          0.2595046942595735,
          0.098325686890521,
          0.06350733856043443,
          0.1197652992912802,
          0.2138984738981286,
          0.16867568603892336,
          0.09090619535740366,
          0.09317263658596873,
          0.11314192057963572,
          0.14647297165041856,
          0.0686874257132725,
          0.1865259164424556,
          0.21937666255822294,
          0.1592386838506496,
          0.09258148695532797,
          0.10515915698855044,
          0.14105920580941989,
          0.17101014263120276,
          0.1002702687026224,
          0.03447109457418375,
          0.023581789633908085,
          0.18736922938035241,
          0.062419755393045756,
          0.05852173577706362,
          0.002246279919860846,
          0.037597706339679834,
          0.17537724493528484,
          0.3304308235176377,
          0.22691278180916055,
          0.14675791317722,
          0.15540248924993139,
          0.1326829567781511,
          0.1358810197794483,
          0.14771712970629985,
          0.13329623827393597,
          0.14461698915811794,
          0.13975766143323123,
          0.13023128214645974,
          0.16441138090281596,
          0.14922789432300954,
          0.1405853089680335,
          0.1436140832138419,
          0.13977528891423083,
          0.16649697677739614,
          0.15226432649894084,
          0.14642847767732792,
          0.14762382949946562,
          0.12770092777484168,
          0.13940648214610113,
          0.14659041127472067,
          0.15151333955127172,
          0.14155512530012085,
          0.14803347786288468,
          0.14768425639660332,
          0.1466514465889396,
          0.148600790886429,
          0.14963052341135155,
          0.14567881982910486,
          0.1519288168979861,
          0.1777956653213331
         ],
         "showlegend": true,
         "subplot": "polar",
         "theta": [
          "popularity",
          "popularity",
          "popularity",
          "popularity",
          "popularity",
          "popularity",
          "popularity",
          "popularity",
          "popularity",
          "popularity",
          "danceability",
          "danceability",
          "danceability",
          "danceability",
          "danceability",
          "danceability",
          "danceability",
          "danceability",
          "danceability",
          "danceability",
          "energy",
          "energy",
          "energy",
          "energy",
          "energy",
          "energy",
          "energy",
          "energy",
          "energy",
          "energy",
          "loudness",
          "loudness",
          "loudness",
          "loudness",
          "loudness",
          "loudness",
          "loudness",
          "loudness",
          "loudness",
          "loudness",
          "speechiness",
          "speechiness",
          "speechiness",
          "speechiness",
          "speechiness",
          "speechiness",
          "speechiness",
          "speechiness",
          "speechiness",
          "speechiness",
          "acousticness",
          "acousticness",
          "acousticness",
          "acousticness",
          "acousticness",
          "acousticness",
          "acousticness",
          "acousticness",
          "acousticness",
          "acousticness",
          "instrumentalness",
          "instrumentalness",
          "instrumentalness",
          "instrumentalness",
          "instrumentalness",
          "instrumentalness",
          "instrumentalness",
          "instrumentalness",
          "instrumentalness",
          "instrumentalness",
          "liveness",
          "liveness",
          "liveness",
          "liveness",
          "liveness",
          "liveness",
          "liveness",
          "liveness",
          "liveness",
          "liveness",
          "valence",
          "valence",
          "valence",
          "valence",
          "valence",
          "valence",
          "valence",
          "valence",
          "valence",
          "valence",
          "tempo",
          "tempo",
          "tempo",
          "tempo",
          "tempo",
          "tempo",
          "tempo",
          "tempo",
          "tempo",
          "tempo",
          "popularity"
         ],
         "type": "scatterpolar"
        },
        {
         "hovertemplate": "Q1=(ILR) School of Industrial and Labor Relations<br>value=%{r}<br>variable=%{theta}<extra></extra>",
         "legendgroup": "(ILR) School of Industrial and Labor Relations",
         "line": {
          "color": "#FFA15A",
          "dash": "solid"
         },
         "marker": {
          "symbol": "circle"
         },
         "mode": "lines",
         "name": "(ILR) School of Industrial and Labor Relations",
         "r": [
          0.154713695851657,
          0.19462569542311273,
          0.18614867519233297,
          0.13839310020963694,
          0.14550085919576786,
          0.16513796233991673,
          0.16095535803626534,
          0.15223248608395007,
          0.15255813692188996,
          0.12983467657603112,
          0.1677402559945228,
          0.15604222554943256,
          0.13592764679346528,
          0.16686132324355288,
          0.16052956369939092,
          -0.11098315649409622,
          -0.12175273584431556,
          -0.13744634618558174,
          -0.10734091288155348,
          -0.13282873946858825,
          0.15608333062607468,
          0.11878070253243864,
          0.16073985414844588,
          0.11473754330235285,
          0.08727879719782612,
          0.07010969031380133,
          0.13172939215168045,
          0.149224479154336,
          0.08418581852493288,
          0.10928939160998515,
          0.032725424675017496,
          0.16363240345347252,
          0.049983538410104854,
          0.010679642973707772,
          0.11199833110669619,
          0.14697856084076102,
          0.14275651769102657,
          0.13428769920977002,
          0.14932203338970673,
          0.16399034265615373,
          0.1712333297071488,
          0.1685308079496238,
          0.12753318042217357,
          0.16307879272040077,
          0.16309035314750617,
          0.1470677011072378,
          0.14220225538274636,
          0.1379978722204969,
          0.14869440314289165,
          0.15123166782965103,
          0.154713695851657
         ],
         "showlegend": true,
         "subplot": "polar",
         "theta": [
          "popularity",
          "popularity",
          "popularity",
          "popularity",
          "popularity",
          "danceability",
          "danceability",
          "danceability",
          "danceability",
          "danceability",
          "energy",
          "energy",
          "energy",
          "energy",
          "energy",
          "loudness",
          "loudness",
          "loudness",
          "loudness",
          "loudness",
          "speechiness",
          "speechiness",
          "speechiness",
          "speechiness",
          "speechiness",
          "acousticness",
          "acousticness",
          "acousticness",
          "acousticness",
          "acousticness",
          "instrumentalness",
          "instrumentalness",
          "instrumentalness",
          "instrumentalness",
          "instrumentalness",
          "liveness",
          "liveness",
          "liveness",
          "liveness",
          "liveness",
          "valence",
          "valence",
          "valence",
          "valence",
          "valence",
          "tempo",
          "tempo",
          "tempo",
          "tempo",
          "tempo",
          "popularity"
         ],
         "type": "scatterpolar"
        },
        {
         "hovertemplate": "Q1=(DYSON) Dyson School of Applied Economics and Management<br>value=%{r}<br>variable=%{theta}<extra></extra>",
         "legendgroup": "(DYSON) Dyson School of Applied Economics and Management",
         "line": {
          "color": "#19D3F3",
          "dash": "solid"
         },
         "marker": {
          "symbol": "circle"
         },
         "mode": "lines",
         "name": "(DYSON) Dyson School of Applied Economics and Management",
         "r": [
          0.18661409736347442,
          0.16423114669692465,
          0.15710662637509315,
          -0.11569732391647233,
          0.18091211940137022,
          0.10210857276352267,
          0.021717138990200963,
          0.1509372982832254,
          0.15544925100369147,
          0.15064086739362914,
          0.18661409736347442
         ],
         "showlegend": true,
         "subplot": "polar",
         "theta": [
          "popularity",
          "danceability",
          "energy",
          "loudness",
          "speechiness",
          "acousticness",
          "instrumentalness",
          "liveness",
          "valence",
          "tempo",
          "popularity"
         ],
         "type": "scatterpolar"
        },
        {
         "hovertemplate": "Q1=(AAP) College of Architecture, Art and Planning<br>value=%{r}<br>variable=%{theta}<extra></extra>",
         "legendgroup": "(AAP) College of Architecture, Art and Planning",
         "line": {
          "color": "#FF6692",
          "dash": "solid"
         },
         "marker": {
          "symbol": "circle"
         },
         "mode": "lines",
         "name": "(AAP) College of Architecture, Art and Planning",
         "r": [
          0.1055912758781423,
          0.08079106682391633,
          0.1423408660548437,
          0.11688292881536069,
          0.14782694764622886,
          0.10524668917445971,
          -0.15369112029825263,
          -0.22165946070476467,
          0.1154776336067493,
          0.0623003263837065,
          0.1387184061934004,
          0.23249945012280762,
          0.1642789564150952,
          0.2141370312592697,
          0.14706278561838465,
          0.13737934330003548,
          0.15534653928929415,
          0.12185951890199018,
          0.1482890946329087,
          0.14070696239362981,
          0.1055912758781423
         ],
         "showlegend": true,
         "subplot": "polar",
         "theta": [
          "popularity",
          "popularity",
          "danceability",
          "danceability",
          "energy",
          "energy",
          "loudness",
          "loudness",
          "speechiness",
          "speechiness",
          "acousticness",
          "acousticness",
          "instrumentalness",
          "instrumentalness",
          "liveness",
          "liveness",
          "valence",
          "valence",
          "tempo",
          "tempo",
          "popularity"
         ],
         "type": "scatterpolar"
        }
       ],
       "layout": {
        "legend": {
         "title": {
          "text": "Q1"
         },
         "tracegroupgap": 0
        },
        "margin": {
         "t": 60
        },
        "polar": {
         "angularaxis": {
          "direction": "clockwise",
          "rotation": 90
         },
         "domain": {
          "x": [
           0,
           1
          ],
          "y": [
           0,
           1
          ]
         }
        },
        "template": {
         "data": {
          "bar": [
           {
            "error_x": {
             "color": "#2a3f5f"
            },
            "error_y": {
             "color": "#2a3f5f"
            },
            "marker": {
             "line": {
              "color": "#E5ECF6",
              "width": 0.5
             },
             "pattern": {
              "fillmode": "overlay",
              "size": 10,
              "solidity": 0.2
             }
            },
            "type": "bar"
           }
          ],
          "barpolar": [
           {
            "marker": {
             "line": {
              "color": "#E5ECF6",
              "width": 0.5
             },
             "pattern": {
              "fillmode": "overlay",
              "size": 10,
              "solidity": 0.2
             }
            },
            "type": "barpolar"
           }
          ],
          "carpet": [
           {
            "aaxis": {
             "endlinecolor": "#2a3f5f",
             "gridcolor": "white",
             "linecolor": "white",
             "minorgridcolor": "white",
             "startlinecolor": "#2a3f5f"
            },
            "baxis": {
             "endlinecolor": "#2a3f5f",
             "gridcolor": "white",
             "linecolor": "white",
             "minorgridcolor": "white",
             "startlinecolor": "#2a3f5f"
            },
            "type": "carpet"
           }
          ],
          "choropleth": [
           {
            "colorbar": {
             "outlinewidth": 0,
             "ticks": ""
            },
            "type": "choropleth"
           }
          ],
          "contour": [
           {
            "colorbar": {
             "outlinewidth": 0,
             "ticks": ""
            },
            "colorscale": [
             [
              0,
              "#0d0887"
             ],
             [
              0.1111111111111111,
              "#46039f"
             ],
             [
              0.2222222222222222,
              "#7201a8"
             ],
             [
              0.3333333333333333,
              "#9c179e"
             ],
             [
              0.4444444444444444,
              "#bd3786"
             ],
             [
              0.5555555555555556,
              "#d8576b"
             ],
             [
              0.6666666666666666,
              "#ed7953"
             ],
             [
              0.7777777777777778,
              "#fb9f3a"
             ],
             [
              0.8888888888888888,
              "#fdca26"
             ],
             [
              1,
              "#f0f921"
             ]
            ],
            "type": "contour"
           }
          ],
          "contourcarpet": [
           {
            "colorbar": {
             "outlinewidth": 0,
             "ticks": ""
            },
            "type": "contourcarpet"
           }
          ],
          "heatmap": [
           {
            "colorbar": {
             "outlinewidth": 0,
             "ticks": ""
            },
            "colorscale": [
             [
              0,
              "#0d0887"
             ],
             [
              0.1111111111111111,
              "#46039f"
             ],
             [
              0.2222222222222222,
              "#7201a8"
             ],
             [
              0.3333333333333333,
              "#9c179e"
             ],
             [
              0.4444444444444444,
              "#bd3786"
             ],
             [
              0.5555555555555556,
              "#d8576b"
             ],
             [
              0.6666666666666666,
              "#ed7953"
             ],
             [
              0.7777777777777778,
              "#fb9f3a"
             ],
             [
              0.8888888888888888,
              "#fdca26"
             ],
             [
              1,
              "#f0f921"
             ]
            ],
            "type": "heatmap"
           }
          ],
          "heatmapgl": [
           {
            "colorbar": {
             "outlinewidth": 0,
             "ticks": ""
            },
            "colorscale": [
             [
              0,
              "#0d0887"
             ],
             [
              0.1111111111111111,
              "#46039f"
             ],
             [
              0.2222222222222222,
              "#7201a8"
             ],
             [
              0.3333333333333333,
              "#9c179e"
             ],
             [
              0.4444444444444444,
              "#bd3786"
             ],
             [
              0.5555555555555556,
              "#d8576b"
             ],
             [
              0.6666666666666666,
              "#ed7953"
             ],
             [
              0.7777777777777778,
              "#fb9f3a"
             ],
             [
              0.8888888888888888,
              "#fdca26"
             ],
             [
              1,
              "#f0f921"
             ]
            ],
            "type": "heatmapgl"
           }
          ],
          "histogram": [
           {
            "marker": {
             "pattern": {
              "fillmode": "overlay",
              "size": 10,
              "solidity": 0.2
             }
            },
            "type": "histogram"
           }
          ],
          "histogram2d": [
           {
            "colorbar": {
             "outlinewidth": 0,
             "ticks": ""
            },
            "colorscale": [
             [
              0,
              "#0d0887"
             ],
             [
              0.1111111111111111,
              "#46039f"
             ],
             [
              0.2222222222222222,
              "#7201a8"
             ],
             [
              0.3333333333333333,
              "#9c179e"
             ],
             [
              0.4444444444444444,
              "#bd3786"
             ],
             [
              0.5555555555555556,
              "#d8576b"
             ],
             [
              0.6666666666666666,
              "#ed7953"
             ],
             [
              0.7777777777777778,
              "#fb9f3a"
             ],
             [
              0.8888888888888888,
              "#fdca26"
             ],
             [
              1,
              "#f0f921"
             ]
            ],
            "type": "histogram2d"
           }
          ],
          "histogram2dcontour": [
           {
            "colorbar": {
             "outlinewidth": 0,
             "ticks": ""
            },
            "colorscale": [
             [
              0,
              "#0d0887"
             ],
             [
              0.1111111111111111,
              "#46039f"
             ],
             [
              0.2222222222222222,
              "#7201a8"
             ],
             [
              0.3333333333333333,
              "#9c179e"
             ],
             [
              0.4444444444444444,
              "#bd3786"
             ],
             [
              0.5555555555555556,
              "#d8576b"
             ],
             [
              0.6666666666666666,
              "#ed7953"
             ],
             [
              0.7777777777777778,
              "#fb9f3a"
             ],
             [
              0.8888888888888888,
              "#fdca26"
             ],
             [
              1,
              "#f0f921"
             ]
            ],
            "type": "histogram2dcontour"
           }
          ],
          "mesh3d": [
           {
            "colorbar": {
             "outlinewidth": 0,
             "ticks": ""
            },
            "type": "mesh3d"
           }
          ],
          "parcoords": [
           {
            "line": {
             "colorbar": {
              "outlinewidth": 0,
              "ticks": ""
             }
            },
            "type": "parcoords"
           }
          ],
          "pie": [
           {
            "automargin": true,
            "type": "pie"
           }
          ],
          "scatter": [
           {
            "marker": {
             "colorbar": {
              "outlinewidth": 0,
              "ticks": ""
             }
            },
            "type": "scatter"
           }
          ],
          "scatter3d": [
           {
            "line": {
             "colorbar": {
              "outlinewidth": 0,
              "ticks": ""
             }
            },
            "marker": {
             "colorbar": {
              "outlinewidth": 0,
              "ticks": ""
             }
            },
            "type": "scatter3d"
           }
          ],
          "scattercarpet": [
           {
            "marker": {
             "colorbar": {
              "outlinewidth": 0,
              "ticks": ""
             }
            },
            "type": "scattercarpet"
           }
          ],
          "scattergeo": [
           {
            "marker": {
             "colorbar": {
              "outlinewidth": 0,
              "ticks": ""
             }
            },
            "type": "scattergeo"
           }
          ],
          "scattergl": [
           {
            "marker": {
             "colorbar": {
              "outlinewidth": 0,
              "ticks": ""
             }
            },
            "type": "scattergl"
           }
          ],
          "scattermapbox": [
           {
            "marker": {
             "colorbar": {
              "outlinewidth": 0,
              "ticks": ""
             }
            },
            "type": "scattermapbox"
           }
          ],
          "scatterpolar": [
           {
            "marker": {
             "colorbar": {
              "outlinewidth": 0,
              "ticks": ""
             }
            },
            "type": "scatterpolar"
           }
          ],
          "scatterpolargl": [
           {
            "marker": {
             "colorbar": {
              "outlinewidth": 0,
              "ticks": ""
             }
            },
            "type": "scatterpolargl"
           }
          ],
          "scatterternary": [
           {
            "marker": {
             "colorbar": {
              "outlinewidth": 0,
              "ticks": ""
             }
            },
            "type": "scatterternary"
           }
          ],
          "surface": [
           {
            "colorbar": {
             "outlinewidth": 0,
             "ticks": ""
            },
            "colorscale": [
             [
              0,
              "#0d0887"
             ],
             [
              0.1111111111111111,
              "#46039f"
             ],
             [
              0.2222222222222222,
              "#7201a8"
             ],
             [
              0.3333333333333333,
              "#9c179e"
             ],
             [
              0.4444444444444444,
              "#bd3786"
             ],
             [
              0.5555555555555556,
              "#d8576b"
             ],
             [
              0.6666666666666666,
              "#ed7953"
             ],
             [
              0.7777777777777778,
              "#fb9f3a"
             ],
             [
              0.8888888888888888,
              "#fdca26"
             ],
             [
              1,
              "#f0f921"
             ]
            ],
            "type": "surface"
           }
          ],
          "table": [
           {
            "cells": {
             "fill": {
              "color": "#EBF0F8"
             },
             "line": {
              "color": "white"
             }
            },
            "header": {
             "fill": {
              "color": "#C8D4E3"
             },
             "line": {
              "color": "white"
             }
            },
            "type": "table"
           }
          ]
         },
         "layout": {
          "annotationdefaults": {
           "arrowcolor": "#2a3f5f",
           "arrowhead": 0,
           "arrowwidth": 1
          },
          "autotypenumbers": "strict",
          "coloraxis": {
           "colorbar": {
            "outlinewidth": 0,
            "ticks": ""
           }
          },
          "colorscale": {
           "diverging": [
            [
             0,
             "#8e0152"
            ],
            [
             0.1,
             "#c51b7d"
            ],
            [
             0.2,
             "#de77ae"
            ],
            [
             0.3,
             "#f1b6da"
            ],
            [
             0.4,
             "#fde0ef"
            ],
            [
             0.5,
             "#f7f7f7"
            ],
            [
             0.6,
             "#e6f5d0"
            ],
            [
             0.7,
             "#b8e186"
            ],
            [
             0.8,
             "#7fbc41"
            ],
            [
             0.9,
             "#4d9221"
            ],
            [
             1,
             "#276419"
            ]
           ],
           "sequential": [
            [
             0,
             "#0d0887"
            ],
            [
             0.1111111111111111,
             "#46039f"
            ],
            [
             0.2222222222222222,
             "#7201a8"
            ],
            [
             0.3333333333333333,
             "#9c179e"
            ],
            [
             0.4444444444444444,
             "#bd3786"
            ],
            [
             0.5555555555555556,
             "#d8576b"
            ],
            [
             0.6666666666666666,
             "#ed7953"
            ],
            [
             0.7777777777777778,
             "#fb9f3a"
            ],
            [
             0.8888888888888888,
             "#fdca26"
            ],
            [
             1,
             "#f0f921"
            ]
           ],
           "sequentialminus": [
            [
             0,
             "#0d0887"
            ],
            [
             0.1111111111111111,
             "#46039f"
            ],
            [
             0.2222222222222222,
             "#7201a8"
            ],
            [
             0.3333333333333333,
             "#9c179e"
            ],
            [
             0.4444444444444444,
             "#bd3786"
            ],
            [
             0.5555555555555556,
             "#d8576b"
            ],
            [
             0.6666666666666666,
             "#ed7953"
            ],
            [
             0.7777777777777778,
             "#fb9f3a"
            ],
            [
             0.8888888888888888,
             "#fdca26"
            ],
            [
             1,
             "#f0f921"
            ]
           ]
          },
          "colorway": [
           "#636efa",
           "#EF553B",
           "#00cc96",
           "#ab63fa",
           "#FFA15A",
           "#19d3f3",
           "#FF6692",
           "#B6E880",
           "#FF97FF",
           "#FECB52"
          ],
          "font": {
           "color": "#2a3f5f"
          },
          "geo": {
           "bgcolor": "white",
           "lakecolor": "white",
           "landcolor": "#E5ECF6",
           "showlakes": true,
           "showland": true,
           "subunitcolor": "white"
          },
          "hoverlabel": {
           "align": "left"
          },
          "hovermode": "closest",
          "mapbox": {
           "style": "light"
          },
          "paper_bgcolor": "white",
          "plot_bgcolor": "#E5ECF6",
          "polar": {
           "angularaxis": {
            "gridcolor": "white",
            "linecolor": "white",
            "ticks": ""
           },
           "bgcolor": "#E5ECF6",
           "radialaxis": {
            "gridcolor": "white",
            "linecolor": "white",
            "ticks": ""
           }
          },
          "scene": {
           "xaxis": {
            "backgroundcolor": "#E5ECF6",
            "gridcolor": "white",
            "gridwidth": 2,
            "linecolor": "white",
            "showbackground": true,
            "ticks": "",
            "zerolinecolor": "white"
           },
           "yaxis": {
            "backgroundcolor": "#E5ECF6",
            "gridcolor": "white",
            "gridwidth": 2,
            "linecolor": "white",
            "showbackground": true,
            "ticks": "",
            "zerolinecolor": "white"
           },
           "zaxis": {
            "backgroundcolor": "#E5ECF6",
            "gridcolor": "white",
            "gridwidth": 2,
            "linecolor": "white",
            "showbackground": true,
            "ticks": "",
            "zerolinecolor": "white"
           }
          },
          "shapedefaults": {
           "line": {
            "color": "#2a3f5f"
           }
          },
          "ternary": {
           "aaxis": {
            "gridcolor": "white",
            "linecolor": "white",
            "ticks": ""
           },
           "baxis": {
            "gridcolor": "white",
            "linecolor": "white",
            "ticks": ""
           },
           "bgcolor": "#E5ECF6",
           "caxis": {
            "gridcolor": "white",
            "linecolor": "white",
            "ticks": ""
           }
          },
          "title": {
           "x": 0.05
          },
          "xaxis": {
           "automargin": true,
           "gridcolor": "white",
           "linecolor": "white",
           "ticks": "",
           "title": {
            "standoff": 15
           },
           "zerolinecolor": "white",
           "zerolinewidth": 2
          },
          "yaxis": {
           "automargin": true,
           "gridcolor": "white",
           "linecolor": "white",
           "ticks": "",
           "title": {
            "standoff": 15
           },
           "zerolinecolor": "white",
           "zerolinewidth": 2
          }
         }
        }
       }
      },
      "text/html": [
       "<div>                            <div id=\"70173825-e27e-47f3-bfc3-700b6596b86a\" class=\"plotly-graph-div\" style=\"height:525px; width:100%;\"></div>            <script type=\"text/javascript\">                require([\"plotly\"], function(Plotly) {                    window.PLOTLYENV=window.PLOTLYENV || {};                                    if (document.getElementById(\"70173825-e27e-47f3-bfc3-700b6596b86a\")) {                    Plotly.newPlot(                        \"70173825-e27e-47f3-bfc3-700b6596b86a\",                        [{\"hovertemplate\":\"Q1=(ENG) College of Engineering<br>value=%{r}<br>variable=%{theta}<extra></extra>\",\"legendgroup\":\"(ENG) College of Engineering\",\"line\":{\"color\":\"#636EFA\",\"dash\":\"solid\"},\"marker\":{\"symbol\":\"circle\"},\"mode\":\"lines\",\"name\":\"(ENG) College of Engineering\",\"r\":[0.1595685583054812,0.16678965668505777,0.18677043231249324,0.1486945669322433,0.13447193787497208,0.1207471211590811,0.08347860852854477,0.1633356933568948,0.1751648723548597,0.15629968523054844,0.15419179340527006,0.13734885113523168,0.14337286107256056,0.1431462178352486,0.1649586094592243,0.17914569719231,0.159486169071234,0.1176805338393851,0.10771376535427163,0.13999752571542365,0.166133591180805,0.16626484279204623,0.15975668415344144,0.14085134897285173,0.16475918033479495,0.16047309535812915,0.148527551036573,0.14246591273362114,0.15055966347172442,0.2031691831890084,0.10160912505977383,0.12451648274453929,0.14930626967045962,0.1553847006346114,0.15607147429007934,0.12495155418541662,-0.12226337375780404,-0.1261445748845566,-0.1262583205402189,-0.13333216129279957,-0.1250780382839065,-0.09857866790879659,-0.24419099713809894,-0.20594253857143713,-0.126017504644807,-0.12954225614723305,-0.11572360461016155,-0.16261151463317394,0.14705453047779934,0.14094758655697148,0.23952773340457625,0.2580019036197061,0.12128116161032265,0.14279773258914621,0.11834510916676001,0.17183359171526671,0.193299857492329,0.18963992418237385,0.1602571534841797,0.07368194532119988,0.0899486192990778,0.10784882413517712,0.10677349578888322,0.10309712474848778,0.11546690433303894,0.03626108155214206,0.2409963714471192,0.15640537596751802,0.10695788887615673,0.08465669654615869,0.10149770568895718,0.21790491016601943,0.13254653755701493,0.05431253798931602,0.05982467885042832,0.011860294714676456,0.029654418161678464,0.18302163880148375,0.43392876750246995,0.1713410478093503,0.03108090627073638,0.023985251389170122,0.013731925575027372,0.03589283786210982,0.15762699919160014,0.16220973702783248,0.1765399352015063,0.15739717272334233,0.14755923817919947,0.16731675688330352,0.1396364422625472,0.13216754229254474,0.15210497704766068,0.14980656031344747,0.137877006469417,0.13200812082616192,0.1400369707276252,0.1575875836987197,0.13125593433719618,0.14913989136708566,0.16881084182007408,0.14689317119814732,0.10355565805685055,0.13542092113148316,0.13758364843014093,0.14914313329368672,0.15592316319223368,0.13757097105390273,0.1538513170763359,0.1540046284171245,0.1470899835285576,0.13996638748489698,0.1448855161225565,0.1577241824656846,0.13391012923004586,0.1372677037830783,0.153877694805284,0.15510911227001217,0.14830552648717452,0.14444318072265316,0.1595685583054812],\"showlegend\":true,\"subplot\":\"polar\",\"theta\":[\"popularity\",\"popularity\",\"popularity\",\"popularity\",\"popularity\",\"popularity\",\"popularity\",\"popularity\",\"popularity\",\"popularity\",\"popularity\",\"popularity\",\"danceability\",\"danceability\",\"danceability\",\"danceability\",\"danceability\",\"danceability\",\"danceability\",\"danceability\",\"danceability\",\"danceability\",\"danceability\",\"danceability\",\"energy\",\"energy\",\"energy\",\"energy\",\"energy\",\"energy\",\"energy\",\"energy\",\"energy\",\"energy\",\"energy\",\"energy\",\"loudness\",\"loudness\",\"loudness\",\"loudness\",\"loudness\",\"loudness\",\"loudness\",\"loudness\",\"loudness\",\"loudness\",\"loudness\",\"loudness\",\"speechiness\",\"speechiness\",\"speechiness\",\"speechiness\",\"speechiness\",\"speechiness\",\"speechiness\",\"speechiness\",\"speechiness\",\"speechiness\",\"speechiness\",\"speechiness\",\"acousticness\",\"acousticness\",\"acousticness\",\"acousticness\",\"acousticness\",\"acousticness\",\"acousticness\",\"acousticness\",\"acousticness\",\"acousticness\",\"acousticness\",\"acousticness\",\"instrumentalness\",\"instrumentalness\",\"instrumentalness\",\"instrumentalness\",\"instrumentalness\",\"instrumentalness\",\"instrumentalness\",\"instrumentalness\",\"instrumentalness\",\"instrumentalness\",\"instrumentalness\",\"instrumentalness\",\"liveness\",\"liveness\",\"liveness\",\"liveness\",\"liveness\",\"liveness\",\"liveness\",\"liveness\",\"liveness\",\"liveness\",\"liveness\",\"liveness\",\"valence\",\"valence\",\"valence\",\"valence\",\"valence\",\"valence\",\"valence\",\"valence\",\"valence\",\"valence\",\"valence\",\"valence\",\"tempo\",\"tempo\",\"tempo\",\"tempo\",\"tempo\",\"tempo\",\"tempo\",\"tempo\",\"tempo\",\"tempo\",\"tempo\",\"tempo\",\"popularity\"],\"type\":\"scatterpolar\"},{\"hovertemplate\":\"Q1=(HUMEC) College of Human Ecology<br>value=%{r}<br>variable=%{theta}<extra></extra>\",\"legendgroup\":\"(HUMEC) College of Human Ecology\",\"line\":{\"color\":\"#EF553B\",\"dash\":\"solid\"},\"marker\":{\"symbol\":\"circle\"},\"mode\":\"lines\",\"name\":\"(HUMEC) College of Human Ecology\",\"r\":[0.1559588466109463,0.1339902544619213,0.1468828779943982,-0.15981717262582526,0.1023923673281,0.12978779770264626,0.2152108447565203,0.14863205321790307,0.13473886776665742,0.14775894420822297,0.1559588466109463],\"showlegend\":true,\"subplot\":\"polar\",\"theta\":[\"popularity\",\"danceability\",\"energy\",\"loudness\",\"speechiness\",\"acousticness\",\"instrumentalness\",\"liveness\",\"valence\",\"tempo\",\"popularity\"],\"type\":\"scatterpolar\"},{\"hovertemplate\":\"Q1=(AS) College of Arts and Sciences<br>value=%{r}<br>variable=%{theta}<extra></extra>\",\"legendgroup\":\"(AS) College of Arts and Sciences\",\"line\":{\"color\":\"#00CC96\",\"dash\":\"solid\"},\"marker\":{\"symbol\":\"circle\"},\"mode\":\"lines\",\"name\":\"(AS) College of Arts and Sciences\",\"r\":[0.14416496295071762,0.16827745867926763,0.10985672422517645,0.09296697829218849,0.15069795317717377,0.13218733618741385,0.10456594779040249,0.11447219484768928,0.12769888098835858,0.12220857349626275,0.126230309561013,0.15334899707126542,0.13112382730668995,0.17185070156817167,0.1784671674937642,0.13172054650027773,0.1424793740941522,0.14843747978771432,0.1267023490622108,0.13586447577762747,0.14718295645833535,0.12481351891839068,0.14692980440766226,0.1508555546628819,0.15879499872851816,0.12491856020921124,0.14301257232136028,0.1504424276842494,0.16093575210597894,0.168085246080131,0.11516174194863266,0.15579297519718743,0.13029489494733865,0.09439117729044874,0.17554797685349108,0.1397093074700557,0.12904540854882143,0.1553422372016836,0.14844047118206452,0.13062974302869537,0.11906657124321011,0.14404025076474664,0.15993428200004714,0.16041693843472177,0.19898599795761177,-0.1899287735965757,-0.12735912980745728,-0.14806304502548234,-0.19448279464552923,-0.12168596586068461,-0.15118831107548977,-0.19790885776996905,-0.13369168882808677,-0.13238434087240425,-0.14121473471994622,-0.18078486417706066,-0.12462762990992832,-0.1100032262655046,-0.10923979891102338,-0.0899709320740608,0.06787773811068366,0.12403639406519483,0.11707784327123813,0.11625454417902599,0.11849224980874057,0.11936348206810991,0.0925556828063419,0.12094079469713741,0.13816273934000095,0.1509325820990545,0.09130023584966314,0.10484848297860329,0.10955969825734267,0.14595724041369437,0.2671355158548498,0.21119390929535017,0.11436509279380093,0.17523287193003179,0.29893963507252436,0.08470127148174726,0.1893009834969288,0.1849857981042417,0.12998159747870036,0.13350692603185718,0.1513546705156226,0.21310513206629894,0.14200411155077916,0.12895362410215794,0.10696437434951354,0.031586804522501295,0.08212062093308914,0.05119440833267668,0.10564664186584669,0.264857413854017,0.10103249917704538,0.25657106143943464,0.2736488118574381,0.17184065170854765,0.08067176157734818,0.022708522252418567,0.2005393057187779,0.01762300098177166,0.046771265479177364,0.013969307527467292,0.0019053578112691407,0.1422923923169377,0.1488605563759834,0.13599174775077572,0.1345542818317968,0.15803075379783757,0.1348285126599704,0.15067099770429052,0.14622876699821363,0.13946747220639233,0.13122895884098787,0.13924785869066836,0.13526260211151458,0.14371488365171053,0.13943534987235007,0.20759144657249184,0.16601640139517376,0.149906233263264,0.1263969329666847,0.10946796294574081,0.17094385595850156,0.13881121007826747,0.15280420736179548,0.138202433698359,0.14475208631869205,0.13888400806651366,0.13685597714866732,0.13997150732635114,0.1583019118675588,0.15772527486777818,0.18586300575543505,0.14095035180649254,0.1496049264061476,0.1466945213032966,0.13597817909040993,0.15316014411030257,0.14973887090678692,0.14666446207857808,0.14798868274570856,0.14721512148993574,0.146443727723248,0.1441126063297435,0.14760043151668575,0.14780508155145083,0.14844292996027736,0.1623767006410151,0.14416496295071762],\"showlegend\":true,\"subplot\":\"polar\",\"theta\":[\"popularity\",\"popularity\",\"popularity\",\"popularity\",\"popularity\",\"popularity\",\"popularity\",\"popularity\",\"popularity\",\"popularity\",\"popularity\",\"popularity\",\"popularity\",\"popularity\",\"popularity\",\"danceability\",\"danceability\",\"danceability\",\"danceability\",\"danceability\",\"danceability\",\"danceability\",\"danceability\",\"danceability\",\"danceability\",\"danceability\",\"danceability\",\"danceability\",\"danceability\",\"danceability\",\"energy\",\"energy\",\"energy\",\"energy\",\"energy\",\"energy\",\"energy\",\"energy\",\"energy\",\"energy\",\"energy\",\"energy\",\"energy\",\"energy\",\"energy\",\"loudness\",\"loudness\",\"loudness\",\"loudness\",\"loudness\",\"loudness\",\"loudness\",\"loudness\",\"loudness\",\"loudness\",\"loudness\",\"loudness\",\"loudness\",\"loudness\",\"loudness\",\"speechiness\",\"speechiness\",\"speechiness\",\"speechiness\",\"speechiness\",\"speechiness\",\"speechiness\",\"speechiness\",\"speechiness\",\"speechiness\",\"speechiness\",\"speechiness\",\"speechiness\",\"speechiness\",\"speechiness\",\"acousticness\",\"acousticness\",\"acousticness\",\"acousticness\",\"acousticness\",\"acousticness\",\"acousticness\",\"acousticness\",\"acousticness\",\"acousticness\",\"acousticness\",\"acousticness\",\"acousticness\",\"acousticness\",\"acousticness\",\"instrumentalness\",\"instrumentalness\",\"instrumentalness\",\"instrumentalness\",\"instrumentalness\",\"instrumentalness\",\"instrumentalness\",\"instrumentalness\",\"instrumentalness\",\"instrumentalness\",\"instrumentalness\",\"instrumentalness\",\"instrumentalness\",\"instrumentalness\",\"instrumentalness\",\"liveness\",\"liveness\",\"liveness\",\"liveness\",\"liveness\",\"liveness\",\"liveness\",\"liveness\",\"liveness\",\"liveness\",\"liveness\",\"liveness\",\"liveness\",\"liveness\",\"liveness\",\"valence\",\"valence\",\"valence\",\"valence\",\"valence\",\"valence\",\"valence\",\"valence\",\"valence\",\"valence\",\"valence\",\"valence\",\"valence\",\"valence\",\"valence\",\"tempo\",\"tempo\",\"tempo\",\"tempo\",\"tempo\",\"tempo\",\"tempo\",\"tempo\",\"tempo\",\"tempo\",\"tempo\",\"tempo\",\"tempo\",\"tempo\",\"tempo\",\"popularity\"],\"type\":\"scatterpolar\"},{\"hovertemplate\":\"Q1=(CALS) College of Agriculture and Life Sciences<br>value=%{r}<br>variable=%{theta}<extra></extra>\",\"legendgroup\":\"(CALS) College of Agriculture and Life Sciences\",\"line\":{\"color\":\"#AB63FA\",\"dash\":\"solid\"},\"marker\":{\"symbol\":\"circle\"},\"mode\":\"lines\",\"name\":\"(CALS) College of Agriculture and Life Sciences\",\"r\":[0.1777956653213331,0.13308316038363907,0.16483705278412297,0.16701709274963727,0.1564542576719412,0.14919572989066818,0.16047301275024142,0.15873535885636117,0.11813297513830082,0.11277207860560888,0.16762476510570068,0.17160228461189153,0.13744515510209623,0.13564427934697124,0.13794573696167486,0.17151598876173804,0.16137340873010914,0.13447428018419047,0.1308925336393255,0.1218322219828807,0.1320566776932038,0.15860648670435573,0.1254694039844059,0.1257486649712278,0.14124452017068262,0.15129073961295092,0.15285402898905048,0.1456258855055815,0.13255101786738238,0.16186566256009977,-0.13743184587733673,-0.12208643201367618,-0.18574081360331932,-0.16416105530912173,-0.15526088898305812,-0.115578750942801,-0.11996827781510432,-0.149876234302462,-0.18132675595701173,-0.14711793563531955,0.20512738055283927,0.2595046942595735,0.098325686890521,0.06350733856043443,0.1197652992912802,0.2138984738981286,0.16867568603892336,0.09090619535740366,0.09317263658596873,0.11314192057963572,0.14647297165041856,0.0686874257132725,0.1865259164424556,0.21937666255822294,0.1592386838506496,0.09258148695532797,0.10515915698855044,0.14105920580941989,0.17101014263120276,0.1002702687026224,0.03447109457418375,0.023581789633908085,0.18736922938035241,0.062419755393045756,0.05852173577706362,0.002246279919860846,0.037597706339679834,0.17537724493528484,0.3304308235176377,0.22691278180916055,0.14675791317722,0.15540248924993139,0.1326829567781511,0.1358810197794483,0.14771712970629985,0.13329623827393597,0.14461698915811794,0.13975766143323123,0.13023128214645974,0.16441138090281596,0.14922789432300954,0.1405853089680335,0.1436140832138419,0.13977528891423083,0.16649697677739614,0.15226432649894084,0.14642847767732792,0.14762382949946562,0.12770092777484168,0.13940648214610113,0.14659041127472067,0.15151333955127172,0.14155512530012085,0.14803347786288468,0.14768425639660332,0.1466514465889396,0.148600790886429,0.14963052341135155,0.14567881982910486,0.1519288168979861,0.1777956653213331],\"showlegend\":true,\"subplot\":\"polar\",\"theta\":[\"popularity\",\"popularity\",\"popularity\",\"popularity\",\"popularity\",\"popularity\",\"popularity\",\"popularity\",\"popularity\",\"popularity\",\"danceability\",\"danceability\",\"danceability\",\"danceability\",\"danceability\",\"danceability\",\"danceability\",\"danceability\",\"danceability\",\"danceability\",\"energy\",\"energy\",\"energy\",\"energy\",\"energy\",\"energy\",\"energy\",\"energy\",\"energy\",\"energy\",\"loudness\",\"loudness\",\"loudness\",\"loudness\",\"loudness\",\"loudness\",\"loudness\",\"loudness\",\"loudness\",\"loudness\",\"speechiness\",\"speechiness\",\"speechiness\",\"speechiness\",\"speechiness\",\"speechiness\",\"speechiness\",\"speechiness\",\"speechiness\",\"speechiness\",\"acousticness\",\"acousticness\",\"acousticness\",\"acousticness\",\"acousticness\",\"acousticness\",\"acousticness\",\"acousticness\",\"acousticness\",\"acousticness\",\"instrumentalness\",\"instrumentalness\",\"instrumentalness\",\"instrumentalness\",\"instrumentalness\",\"instrumentalness\",\"instrumentalness\",\"instrumentalness\",\"instrumentalness\",\"instrumentalness\",\"liveness\",\"liveness\",\"liveness\",\"liveness\",\"liveness\",\"liveness\",\"liveness\",\"liveness\",\"liveness\",\"liveness\",\"valence\",\"valence\",\"valence\",\"valence\",\"valence\",\"valence\",\"valence\",\"valence\",\"valence\",\"valence\",\"tempo\",\"tempo\",\"tempo\",\"tempo\",\"tempo\",\"tempo\",\"tempo\",\"tempo\",\"tempo\",\"tempo\",\"popularity\"],\"type\":\"scatterpolar\"},{\"hovertemplate\":\"Q1=(ILR) School of Industrial and Labor Relations<br>value=%{r}<br>variable=%{theta}<extra></extra>\",\"legendgroup\":\"(ILR) School of Industrial and Labor Relations\",\"line\":{\"color\":\"#FFA15A\",\"dash\":\"solid\"},\"marker\":{\"symbol\":\"circle\"},\"mode\":\"lines\",\"name\":\"(ILR) School of Industrial and Labor Relations\",\"r\":[0.154713695851657,0.19462569542311273,0.18614867519233297,0.13839310020963694,0.14550085919576786,0.16513796233991673,0.16095535803626534,0.15223248608395007,0.15255813692188996,0.12983467657603112,0.1677402559945228,0.15604222554943256,0.13592764679346528,0.16686132324355288,0.16052956369939092,-0.11098315649409622,-0.12175273584431556,-0.13744634618558174,-0.10734091288155348,-0.13282873946858825,0.15608333062607468,0.11878070253243864,0.16073985414844588,0.11473754330235285,0.08727879719782612,0.07010969031380133,0.13172939215168045,0.149224479154336,0.08418581852493288,0.10928939160998515,0.032725424675017496,0.16363240345347252,0.049983538410104854,0.010679642973707772,0.11199833110669619,0.14697856084076102,0.14275651769102657,0.13428769920977002,0.14932203338970673,0.16399034265615373,0.1712333297071488,0.1685308079496238,0.12753318042217357,0.16307879272040077,0.16309035314750617,0.1470677011072378,0.14220225538274636,0.1379978722204969,0.14869440314289165,0.15123166782965103,0.154713695851657],\"showlegend\":true,\"subplot\":\"polar\",\"theta\":[\"popularity\",\"popularity\",\"popularity\",\"popularity\",\"popularity\",\"danceability\",\"danceability\",\"danceability\",\"danceability\",\"danceability\",\"energy\",\"energy\",\"energy\",\"energy\",\"energy\",\"loudness\",\"loudness\",\"loudness\",\"loudness\",\"loudness\",\"speechiness\",\"speechiness\",\"speechiness\",\"speechiness\",\"speechiness\",\"acousticness\",\"acousticness\",\"acousticness\",\"acousticness\",\"acousticness\",\"instrumentalness\",\"instrumentalness\",\"instrumentalness\",\"instrumentalness\",\"instrumentalness\",\"liveness\",\"liveness\",\"liveness\",\"liveness\",\"liveness\",\"valence\",\"valence\",\"valence\",\"valence\",\"valence\",\"tempo\",\"tempo\",\"tempo\",\"tempo\",\"tempo\",\"popularity\"],\"type\":\"scatterpolar\"},{\"hovertemplate\":\"Q1=(DYSON) Dyson School of Applied Economics and Management<br>value=%{r}<br>variable=%{theta}<extra></extra>\",\"legendgroup\":\"(DYSON) Dyson School of Applied Economics and Management\",\"line\":{\"color\":\"#19D3F3\",\"dash\":\"solid\"},\"marker\":{\"symbol\":\"circle\"},\"mode\":\"lines\",\"name\":\"(DYSON) Dyson School of Applied Economics and Management\",\"r\":[0.18661409736347442,0.16423114669692465,0.15710662637509315,-0.11569732391647233,0.18091211940137022,0.10210857276352267,0.021717138990200963,0.1509372982832254,0.15544925100369147,0.15064086739362914,0.18661409736347442],\"showlegend\":true,\"subplot\":\"polar\",\"theta\":[\"popularity\",\"danceability\",\"energy\",\"loudness\",\"speechiness\",\"acousticness\",\"instrumentalness\",\"liveness\",\"valence\",\"tempo\",\"popularity\"],\"type\":\"scatterpolar\"},{\"hovertemplate\":\"Q1=(AAP) College of Architecture, Art and Planning<br>value=%{r}<br>variable=%{theta}<extra></extra>\",\"legendgroup\":\"(AAP) College of Architecture, Art and Planning\",\"line\":{\"color\":\"#FF6692\",\"dash\":\"solid\"},\"marker\":{\"symbol\":\"circle\"},\"mode\":\"lines\",\"name\":\"(AAP) College of Architecture, Art and Planning\",\"r\":[0.1055912758781423,0.08079106682391633,0.1423408660548437,0.11688292881536069,0.14782694764622886,0.10524668917445971,-0.15369112029825263,-0.22165946070476467,0.1154776336067493,0.0623003263837065,0.1387184061934004,0.23249945012280762,0.1642789564150952,0.2141370312592697,0.14706278561838465,0.13737934330003548,0.15534653928929415,0.12185951890199018,0.1482890946329087,0.14070696239362981,0.1055912758781423],\"showlegend\":true,\"subplot\":\"polar\",\"theta\":[\"popularity\",\"popularity\",\"danceability\",\"danceability\",\"energy\",\"energy\",\"loudness\",\"loudness\",\"speechiness\",\"speechiness\",\"acousticness\",\"acousticness\",\"instrumentalness\",\"instrumentalness\",\"liveness\",\"liveness\",\"valence\",\"valence\",\"tempo\",\"tempo\",\"popularity\"],\"type\":\"scatterpolar\"}],                        {\"template\":{\"data\":{\"bar\":[{\"error_x\":{\"color\":\"#2a3f5f\"},\"error_y\":{\"color\":\"#2a3f5f\"},\"marker\":{\"line\":{\"color\":\"#E5ECF6\",\"width\":0.5},\"pattern\":{\"fillmode\":\"overlay\",\"size\":10,\"solidity\":0.2}},\"type\":\"bar\"}],\"barpolar\":[{\"marker\":{\"line\":{\"color\":\"#E5ECF6\",\"width\":0.5},\"pattern\":{\"fillmode\":\"overlay\",\"size\":10,\"solidity\":0.2}},\"type\":\"barpolar\"}],\"carpet\":[{\"aaxis\":{\"endlinecolor\":\"#2a3f5f\",\"gridcolor\":\"white\",\"linecolor\":\"white\",\"minorgridcolor\":\"white\",\"startlinecolor\":\"#2a3f5f\"},\"baxis\":{\"endlinecolor\":\"#2a3f5f\",\"gridcolor\":\"white\",\"linecolor\":\"white\",\"minorgridcolor\":\"white\",\"startlinecolor\":\"#2a3f5f\"},\"type\":\"carpet\"}],\"choropleth\":[{\"colorbar\":{\"outlinewidth\":0,\"ticks\":\"\"},\"type\":\"choropleth\"}],\"contour\":[{\"colorbar\":{\"outlinewidth\":0,\"ticks\":\"\"},\"colorscale\":[[0.0,\"#0d0887\"],[0.1111111111111111,\"#46039f\"],[0.2222222222222222,\"#7201a8\"],[0.3333333333333333,\"#9c179e\"],[0.4444444444444444,\"#bd3786\"],[0.5555555555555556,\"#d8576b\"],[0.6666666666666666,\"#ed7953\"],[0.7777777777777778,\"#fb9f3a\"],[0.8888888888888888,\"#fdca26\"],[1.0,\"#f0f921\"]],\"type\":\"contour\"}],\"contourcarpet\":[{\"colorbar\":{\"outlinewidth\":0,\"ticks\":\"\"},\"type\":\"contourcarpet\"}],\"heatmap\":[{\"colorbar\":{\"outlinewidth\":0,\"ticks\":\"\"},\"colorscale\":[[0.0,\"#0d0887\"],[0.1111111111111111,\"#46039f\"],[0.2222222222222222,\"#7201a8\"],[0.3333333333333333,\"#9c179e\"],[0.4444444444444444,\"#bd3786\"],[0.5555555555555556,\"#d8576b\"],[0.6666666666666666,\"#ed7953\"],[0.7777777777777778,\"#fb9f3a\"],[0.8888888888888888,\"#fdca26\"],[1.0,\"#f0f921\"]],\"type\":\"heatmap\"}],\"heatmapgl\":[{\"colorbar\":{\"outlinewidth\":0,\"ticks\":\"\"},\"colorscale\":[[0.0,\"#0d0887\"],[0.1111111111111111,\"#46039f\"],[0.2222222222222222,\"#7201a8\"],[0.3333333333333333,\"#9c179e\"],[0.4444444444444444,\"#bd3786\"],[0.5555555555555556,\"#d8576b\"],[0.6666666666666666,\"#ed7953\"],[0.7777777777777778,\"#fb9f3a\"],[0.8888888888888888,\"#fdca26\"],[1.0,\"#f0f921\"]],\"type\":\"heatmapgl\"}],\"histogram\":[{\"marker\":{\"pattern\":{\"fillmode\":\"overlay\",\"size\":10,\"solidity\":0.2}},\"type\":\"histogram\"}],\"histogram2d\":[{\"colorbar\":{\"outlinewidth\":0,\"ticks\":\"\"},\"colorscale\":[[0.0,\"#0d0887\"],[0.1111111111111111,\"#46039f\"],[0.2222222222222222,\"#7201a8\"],[0.3333333333333333,\"#9c179e\"],[0.4444444444444444,\"#bd3786\"],[0.5555555555555556,\"#d8576b\"],[0.6666666666666666,\"#ed7953\"],[0.7777777777777778,\"#fb9f3a\"],[0.8888888888888888,\"#fdca26\"],[1.0,\"#f0f921\"]],\"type\":\"histogram2d\"}],\"histogram2dcontour\":[{\"colorbar\":{\"outlinewidth\":0,\"ticks\":\"\"},\"colorscale\":[[0.0,\"#0d0887\"],[0.1111111111111111,\"#46039f\"],[0.2222222222222222,\"#7201a8\"],[0.3333333333333333,\"#9c179e\"],[0.4444444444444444,\"#bd3786\"],[0.5555555555555556,\"#d8576b\"],[0.6666666666666666,\"#ed7953\"],[0.7777777777777778,\"#fb9f3a\"],[0.8888888888888888,\"#fdca26\"],[1.0,\"#f0f921\"]],\"type\":\"histogram2dcontour\"}],\"mesh3d\":[{\"colorbar\":{\"outlinewidth\":0,\"ticks\":\"\"},\"type\":\"mesh3d\"}],\"parcoords\":[{\"line\":{\"colorbar\":{\"outlinewidth\":0,\"ticks\":\"\"}},\"type\":\"parcoords\"}],\"pie\":[{\"automargin\":true,\"type\":\"pie\"}],\"scatter\":[{\"marker\":{\"colorbar\":{\"outlinewidth\":0,\"ticks\":\"\"}},\"type\":\"scatter\"}],\"scatter3d\":[{\"line\":{\"colorbar\":{\"outlinewidth\":0,\"ticks\":\"\"}},\"marker\":{\"colorbar\":{\"outlinewidth\":0,\"ticks\":\"\"}},\"type\":\"scatter3d\"}],\"scattercarpet\":[{\"marker\":{\"colorbar\":{\"outlinewidth\":0,\"ticks\":\"\"}},\"type\":\"scattercarpet\"}],\"scattergeo\":[{\"marker\":{\"colorbar\":{\"outlinewidth\":0,\"ticks\":\"\"}},\"type\":\"scattergeo\"}],\"scattergl\":[{\"marker\":{\"colorbar\":{\"outlinewidth\":0,\"ticks\":\"\"}},\"type\":\"scattergl\"}],\"scattermapbox\":[{\"marker\":{\"colorbar\":{\"outlinewidth\":0,\"ticks\":\"\"}},\"type\":\"scattermapbox\"}],\"scatterpolar\":[{\"marker\":{\"colorbar\":{\"outlinewidth\":0,\"ticks\":\"\"}},\"type\":\"scatterpolar\"}],\"scatterpolargl\":[{\"marker\":{\"colorbar\":{\"outlinewidth\":0,\"ticks\":\"\"}},\"type\":\"scatterpolargl\"}],\"scatterternary\":[{\"marker\":{\"colorbar\":{\"outlinewidth\":0,\"ticks\":\"\"}},\"type\":\"scatterternary\"}],\"surface\":[{\"colorbar\":{\"outlinewidth\":0,\"ticks\":\"\"},\"colorscale\":[[0.0,\"#0d0887\"],[0.1111111111111111,\"#46039f\"],[0.2222222222222222,\"#7201a8\"],[0.3333333333333333,\"#9c179e\"],[0.4444444444444444,\"#bd3786\"],[0.5555555555555556,\"#d8576b\"],[0.6666666666666666,\"#ed7953\"],[0.7777777777777778,\"#fb9f3a\"],[0.8888888888888888,\"#fdca26\"],[1.0,\"#f0f921\"]],\"type\":\"surface\"}],\"table\":[{\"cells\":{\"fill\":{\"color\":\"#EBF0F8\"},\"line\":{\"color\":\"white\"}},\"header\":{\"fill\":{\"color\":\"#C8D4E3\"},\"line\":{\"color\":\"white\"}},\"type\":\"table\"}]},\"layout\":{\"annotationdefaults\":{\"arrowcolor\":\"#2a3f5f\",\"arrowhead\":0,\"arrowwidth\":1},\"autotypenumbers\":\"strict\",\"coloraxis\":{\"colorbar\":{\"outlinewidth\":0,\"ticks\":\"\"}},\"colorscale\":{\"diverging\":[[0,\"#8e0152\"],[0.1,\"#c51b7d\"],[0.2,\"#de77ae\"],[0.3,\"#f1b6da\"],[0.4,\"#fde0ef\"],[0.5,\"#f7f7f7\"],[0.6,\"#e6f5d0\"],[0.7,\"#b8e186\"],[0.8,\"#7fbc41\"],[0.9,\"#4d9221\"],[1,\"#276419\"]],\"sequential\":[[0.0,\"#0d0887\"],[0.1111111111111111,\"#46039f\"],[0.2222222222222222,\"#7201a8\"],[0.3333333333333333,\"#9c179e\"],[0.4444444444444444,\"#bd3786\"],[0.5555555555555556,\"#d8576b\"],[0.6666666666666666,\"#ed7953\"],[0.7777777777777778,\"#fb9f3a\"],[0.8888888888888888,\"#fdca26\"],[1.0,\"#f0f921\"]],\"sequentialminus\":[[0.0,\"#0d0887\"],[0.1111111111111111,\"#46039f\"],[0.2222222222222222,\"#7201a8\"],[0.3333333333333333,\"#9c179e\"],[0.4444444444444444,\"#bd3786\"],[0.5555555555555556,\"#d8576b\"],[0.6666666666666666,\"#ed7953\"],[0.7777777777777778,\"#fb9f3a\"],[0.8888888888888888,\"#fdca26\"],[1.0,\"#f0f921\"]]},\"colorway\":[\"#636efa\",\"#EF553B\",\"#00cc96\",\"#ab63fa\",\"#FFA15A\",\"#19d3f3\",\"#FF6692\",\"#B6E880\",\"#FF97FF\",\"#FECB52\"],\"font\":{\"color\":\"#2a3f5f\"},\"geo\":{\"bgcolor\":\"white\",\"lakecolor\":\"white\",\"landcolor\":\"#E5ECF6\",\"showlakes\":true,\"showland\":true,\"subunitcolor\":\"white\"},\"hoverlabel\":{\"align\":\"left\"},\"hovermode\":\"closest\",\"mapbox\":{\"style\":\"light\"},\"paper_bgcolor\":\"white\",\"plot_bgcolor\":\"#E5ECF6\",\"polar\":{\"angularaxis\":{\"gridcolor\":\"white\",\"linecolor\":\"white\",\"ticks\":\"\"},\"bgcolor\":\"#E5ECF6\",\"radialaxis\":{\"gridcolor\":\"white\",\"linecolor\":\"white\",\"ticks\":\"\"}},\"scene\":{\"xaxis\":{\"backgroundcolor\":\"#E5ECF6\",\"gridcolor\":\"white\",\"gridwidth\":2,\"linecolor\":\"white\",\"showbackground\":true,\"ticks\":\"\",\"zerolinecolor\":\"white\"},\"yaxis\":{\"backgroundcolor\":\"#E5ECF6\",\"gridcolor\":\"white\",\"gridwidth\":2,\"linecolor\":\"white\",\"showbackground\":true,\"ticks\":\"\",\"zerolinecolor\":\"white\"},\"zaxis\":{\"backgroundcolor\":\"#E5ECF6\",\"gridcolor\":\"white\",\"gridwidth\":2,\"linecolor\":\"white\",\"showbackground\":true,\"ticks\":\"\",\"zerolinecolor\":\"white\"}},\"shapedefaults\":{\"line\":{\"color\":\"#2a3f5f\"}},\"ternary\":{\"aaxis\":{\"gridcolor\":\"white\",\"linecolor\":\"white\",\"ticks\":\"\"},\"baxis\":{\"gridcolor\":\"white\",\"linecolor\":\"white\",\"ticks\":\"\"},\"bgcolor\":\"#E5ECF6\",\"caxis\":{\"gridcolor\":\"white\",\"linecolor\":\"white\",\"ticks\":\"\"}},\"title\":{\"x\":0.05},\"xaxis\":{\"automargin\":true,\"gridcolor\":\"white\",\"linecolor\":\"white\",\"ticks\":\"\",\"title\":{\"standoff\":15},\"zerolinecolor\":\"white\",\"zerolinewidth\":2},\"yaxis\":{\"automargin\":true,\"gridcolor\":\"white\",\"linecolor\":\"white\",\"ticks\":\"\",\"title\":{\"standoff\":15},\"zerolinecolor\":\"white\",\"zerolinewidth\":2}}},\"polar\":{\"domain\":{\"x\":[0.0,1.0],\"y\":[0.0,1.0]},\"angularaxis\":{\"direction\":\"clockwise\",\"rotation\":90}},\"legend\":{\"title\":{\"text\":\"Q1\"},\"tracegroupgap\":0},\"margin\":{\"t\":60}},                        {\"responsive\": true}                    ).then(function(){\n",
       "                            \n",
       "var gd = document.getElementById('70173825-e27e-47f3-bfc3-700b6596b86a');\n",
       "var x = new MutationObserver(function (mutations, observer) {{\n",
       "        var display = window.getComputedStyle(gd).display;\n",
       "        if (!display || display === 'none') {{\n",
       "            console.log([gd, 'removed!']);\n",
       "            Plotly.purge(gd);\n",
       "            observer.disconnect();\n",
       "        }}\n",
       "}});\n",
       "\n",
       "// Listen for the removal of the full notebook cells\n",
       "var notebookContainer = gd.closest('#notebook-container');\n",
       "if (notebookContainer) {{\n",
       "    x.observe(notebookContainer, {childList: true});\n",
       "}}\n",
       "\n",
       "// Listen for the clearing of the current output cell\n",
       "var outputEl = gd.closest('.output');\n",
       "if (outputEl) {{\n",
       "    x.observe(outputEl, {childList: true});\n",
       "}}\n",
       "\n",
       "                        })                };                });            </script>        </div>"
      ]
     },
     "metadata": {},
     "output_type": "display_data"
    }
   ],
   "source": [
    "fig = px.line_polar(\n",
    "    melted,\n",
    "    r='value',\n",
    "    theta='variable',\n",
    "    color='Q1',\n",
    "    line_close=True,\n",
    "    color_discrete_sequence=px.colors.qualitative.Plotly,\n",
    "    #template='plotly_white',\n",
    ")\n",
    "fig.show()\n"
   ]
  },
  {
   "cell_type": "code",
   "execution_count": null,
   "id": "5ac226df",
   "metadata": {},
   "outputs": [],
   "source": []
  }
 ],
 "metadata": {
  "kernelspec": {
   "display_name": "Python 3 (ipykernel)",
   "language": "python",
   "name": "python3"
  },
  "language_info": {
   "codemirror_mode": {
    "name": "ipython",
    "version": 3
   },
   "file_extension": ".py",
   "mimetype": "text/x-python",
   "name": "python",
   "nbconvert_exporter": "python",
   "pygments_lexer": "ipython3",
   "version": "3.9.12"
  }
 },
 "nbformat": 4,
 "nbformat_minor": 5
}
