{
 "cells": [
  {
   "cell_type": "markdown",
   "id": "a597fa23",
   "metadata": {},
   "source": [
    "# Big Red Soundscape\n",
    "Notebook Playground 2  \n",
    "_by Ahmed Sultan AND CARLY HU, for Cornell Data Journal_"
   ]
  },
  {
   "cell_type": "code",
   "execution_count": 2,
   "id": "989954b1",
   "metadata": {},
   "outputs": [],
   "source": [
    "import json\n",
    "import math\n",
    "\n",
    "import numpy as np\n",
    "import pandas as pd\n",
    "import spotipy\n",
    "from spotipy.oauth2 import SpotifyClientCredentials\n",
    "import matplotlib.pyplot as plt\n",
    "import seaborn as sns"
   ]
  },
  {
   "cell_type": "code",
   "execution_count": 3,
   "id": "f314d673",
   "metadata": {},
   "outputs": [],
   "source": [
    "# update access keys here for Spotify API here :) \n",
    "client_id = '860ada55cc094dbf906250fe2d4caf48'\n",
    "client_secret = '75fe4137c4a54541800d19b74dc706fb'\n",
    "\n",
    "# sp is how we interface with the Spotify API\n",
    "# read the docs here: https://spotipy.readthedocs.io/en/2.22.1/\n",
    "sp = spotipy.Spotify(client_credentials_manager=\\\n",
    "                     SpotifyClientCredentials(client_id, client_secret))"
   ]
  },
  {
   "cell_type": "code",
   "execution_count": 4,
   "id": "2317c901",
   "metadata": {},
   "outputs": [],
   "source": [
    "# Big Data, Machine Learning...\n",
    "# https://www.youtube.com/watch?v=bqqCTC9nQDY\n",
    "\n",
    "# let's aggregate an entire user's public library of songs\n",
    "playlists = []\n",
    "LIMIT = 20\n",
    "selected_user = 'carlatude'\n",
    "\n",
    "query = sp.user_playlists(selected_user, limit=LIMIT)\n",
    "\n",
    "n = 0\n",
    "\n",
    "while len(query['items']) != 0:\n",
    "    n += LIMIT\n",
    "    for i in query['items']:\n",
    "        playlists.append({'title': i['name'],'id': i['id'], 'length': i['tracks']['total']})\n",
    "    if LIMIT == len(query['items']):\n",
    "        query = sp.user_playlists(selected_user, limit=LIMIT, offset=n)\n",
    "    else:\n",
    "        break\n",
    "        \n",
    "# there's definitely a cleaner way to do this that we'll figure out\n",
    "# im definitely lazy"
   ]
  },
  {
   "cell_type": "code",
   "execution_count": 5,
   "id": "c35aefc1",
   "metadata": {},
   "outputs": [
    {
     "data": {
      "text/plain": [
       "[{'title': 'spring 23', 'id': '0AberywlM7KTsCBRAs1Hs0', 'length': 46},\n",
       " {'title': 'bouncing', 'id': '7lspAgfh11vTTTpm5G1wkf', 'length': 12},\n",
       " {'title': 'kenny', 'id': '4jX7u824J8LFH7iYP6d44G', 'length': 9},\n",
       " {'title': 'walking energetically',\n",
       "  'id': '09EmE7ZmePNp8qtvzePdWE',\n",
       "  'length': 16},\n",
       " {'title': 'instrumental', 'id': '42DYI4rZtxyySmX3sjAoBy', 'length': 40},\n",
       " {'title': 'pretty', 'id': '2EXVB9JsrIPINY25rJ7Bth', 'length': 65},\n",
       " {'title': 'comfort', 'id': '7645opI5xNijOpeaQ6wOJK', 'length': 41},\n",
       " {'title': 'screaming crying', 'id': '2C1QFkfhQDDw0jYm5Tr9pE', 'length': 34},\n",
       " {'title': 'slay pt 2', 'id': '2U9jxw1KdLtCATpYQZC0qv', 'length': 47},\n",
       " {'title': 'taylor (sad)', 'id': '5WCNl7XT1KuRN2nLyhtmBH', 'length': 51},\n",
       " {'title': 'agh!!!!', 'id': '0zefXRE0Pr0W72A5966PLn', 'length': 27},\n",
       " {'title': 'wake up', 'id': '0DN6Ihs7y7XarkOgXpMkau', 'length': 19},\n",
       " {'title': 'groovy', 'id': '7oKjtKN4PQJ1ZA6n5N9qfN', 'length': 118},\n",
       " {'title': 'bedroom pop', 'id': '6QGojHMaB0ktJ32vpsxRZk', 'length': 127},\n",
       " {'title': 'alt indie', 'id': '7qRZFaEuAYr59ZyJBObWDf', 'length': 92},\n",
       " {'title': 'home', 'id': '08zOf9tkXMI79CsTh0riM1', 'length': 79},\n",
       " {'title': 'my personality', 'id': '7JayCSzmhGEMEl7eiXIydq', 'length': 10},\n",
       " {'title': 'college', 'id': '5fgH2bx0mYtlSwiogMrTDW', 'length': 34},\n",
       " {'title': 'this is such a good song',\n",
       "  'id': '3nIPV9PzKMKocOna7gALv3',\n",
       "  'length': 11},\n",
       " {'title': \"songs i've seen live\",\n",
       "  'id': '0ZfSCqIapMIXP8DibtopfM',\n",
       "  'length': 192},\n",
       " {'title': 'recs', 'id': '2X9SFmrqUrF7ncyy3HBC1b', 'length': 80},\n",
       " {'title': 'morning', 'id': '66o43tOr9LICWP2AMIyDi9', 'length': 121},\n",
       " {'title': 'evening', 'id': '4avj2ANN6psjctwXpYJcaZ', 'length': 87},\n",
       " {'title': 'happy!', 'id': '3Opm1g6YlpSstZkvGlk9vj', 'length': 96},\n",
       " {'title': 'moody', 'id': '4vRYoLcZLxKFYTVXVd4u6T', 'length': 229},\n",
       " {'title': 'educating elena', 'id': '5JlaXqzR3u8DCxywSMukZp', 'length': 10},\n",
       " {'title': 'noel', 'id': '7IsL60IXgL0uZvDmfPtaeE', 'length': 41},\n",
       " {'title': 'christmas <3', 'id': '4WvqlKCOqeFiuObcJCcD1E', 'length': 79},\n",
       " {'title': 'ptxmas!!!', 'id': '1YpTtxvakWWecBU43yHWRx', 'length': 74}]"
      ]
     },
     "execution_count": 5,
     "metadata": {},
     "output_type": "execute_result"
    }
   ],
   "source": [
    "playlists"
   ]
  },
  {
   "cell_type": "code",
   "execution_count": 6,
   "id": "23d66db8",
   "metadata": {},
   "outputs": [
    {
     "name": "stdout",
     "output_type": "stream",
     "text": [
      "29\n"
     ]
    }
   ],
   "source": [
    "# number of public playlists\n",
    "print(len(playlists))"
   ]
  },
  {
   "cell_type": "code",
   "execution_count": null,
   "id": "f32f5971",
   "metadata": {},
   "outputs": [],
   "source": [
    "# making sure we can get all songs in a playlist rather than just the first 100\n",
    "# https://stackoverflow.com/questions/55690063/is-there-a-method-to-retrieve-all-tracks-from-a-playlist-using-spotipy \n",
    "\n",
    "def user_playlist_tracks_full(user, playlist_id=None, fields=None):\n",
    "    \"\"\" Get full details of the tracks of a playlist owned by a user.\n",
    "        https://developer.spotify.com/documentation/web-api/reference/playlists/get-playlists-tracks/\n",
    "\n",
    "        Parameters:\n",
    "            - user - the id of the user\n",
    "            - playlist_id - the id of the playlist\n",
    "            - fields - which fields to return\n",
    "    \"\"\"\n",
    "\n",
    "    # first run through also retrieves total no of songs in library\n",
    "    response = sp.user_playlist_tracks(user, playlist_id, fields=None, limit=100)\n",
    "    results = response[\"items\"]\n",
    "\n",
    "    # subsequently runs until it hits the user-defined limit or has read all songs in the library\n",
    "    while len(results) < response[\"total\"]:\n",
    "        response = sp.user_playlist_tracks(\n",
    "            user, playlist_id, fields=fields, limit=100, offset=len(results)\n",
    "        )\n",
    "        results.extend(response[\"items\"])\n",
    "    \n",
    "    return results\n",
    "        "
   ]
  },
  {
   "cell_type": "code",
   "execution_count": null,
   "id": "de4a89e8",
   "metadata": {},
   "outputs": [],
   "source": [
    "# now, let's go through each playlist\n",
    "# this will basically be the same as before\n",
    "\n",
    "songs = []\n",
    "\n",
    "for p in playlists:\n",
    "    \n",
    "    results = sp.playlist(p['id'])\n",
    "    \n",
    "    extended_results = user_playlist_tracks_full(user = selected_user, playlist_id = results['id']) # more than 100\n",
    "    \n",
    "    for r in extended_results:\n",
    "        songs.append(r['track']['id']) "
   ]
  },
  {
   "cell_type": "code",
   "execution_count": 47,
   "id": "b4e8997a",
   "metadata": {},
   "outputs": [],
   "source": [
    "def get_tracks_full(songs):\n",
    "    results = []\n",
    "    while len(results) < len(songs):\n",
    "        response = sp.tracks(songs[len(results):len(results) + 50])\n",
    "        results.extend(response)\n",
    "    return results"
   ]
  },
  {
   "cell_type": "code",
   "execution_count": null,
   "id": "94c4a695",
   "metadata": {},
   "outputs": [],
   "source": [
    "song_info = {'id': [], 'title': [], 'artist': [], 'album': [], \n",
    "             'explicit': [], 'popularity': []}\n",
    "\n",
    "songs_meta = get_tracks_full(songs)"
   ]
  },
  {
   "cell_type": "code",
   "execution_count": 37,
   "id": "c64ada55",
   "metadata": {},
   "outputs": [
    {
     "name": "stdout",
     "output_type": "stream",
     "text": [
      "1887\n"
     ]
    }
   ],
   "source": [
    "print(len(songs)) # total songs"
   ]
  },
  {
   "cell_type": "code",
   "execution_count": 38,
   "id": "2a2d040f",
   "metadata": {},
   "outputs": [],
   "source": [
    "def get_audio_features_full(songs):\n",
    "    results = []\n",
    "    while len(results) < len(songs):\n",
    "        response = sp.audio_features(songs[len(results):len(results) + 100])\n",
    "        results.extend(response)\n",
    "    return results"
   ]
  },
  {
   "cell_type": "code",
   "execution_count": 39,
   "id": "f02f9a3f",
   "metadata": {},
   "outputs": [
    {
     "data": {
      "text/plain": [
       "1887"
      ]
     },
     "execution_count": 39,
     "metadata": {},
     "output_type": "execute_result"
    }
   ],
   "source": [
    "len(get_audio_features_full(songs))"
   ]
  },
  {
   "cell_type": "code",
   "execution_count": 42,
   "id": "e7eb51ca",
   "metadata": {},
   "outputs": [
    {
     "name": "stdout",
     "output_type": "stream",
     "text": [
      "[{'danceability': 0.467, 'energy': 0.624, 'key': 10, 'loudness': -8.511, 'mode': 0, 'speechiness': 0.0508, 'acousticness': 0.143, 'instrumentalness': 0.000899, 'liveness': 0.145, 'valence': 0.31, 'tempo': 141.889, 'type': 'audio_features', 'id': '6BQrmjAgPfPTwILoFEK3Hd', 'uri': 'spotify:track:6BQrmjAgPfPTwILoFEK3Hd', 'track_href': 'https://api.spotify.com/v1/tracks/6BQrmjAgPfPTwILoFEK3Hd', 'analysis_url': 'https://api.spotify.com/v1/audio-analysis/6BQrmjAgPfPTwILoFEK3Hd', 'duration_ms': 225947, 'time_signature': 4}, None, None, None, None, None, None, None, None, None, None, None, None, None, None, None, None, None, None, None, None, None]\n"
     ]
    }
   ],
   "source": [
    "print(get_audio_features_full(songs[0]))"
   ]
  },
  {
   "cell_type": "code",
   "execution_count": 43,
   "id": "6f0cfe5a",
   "metadata": {},
   "outputs": [],
   "source": [
    "features_df = pd.DataFrame.from_dict(get_audio_features_full(songs))"
   ]
  }
 ],
 "metadata": {
  "kernelspec": {
   "display_name": "Python 3 (ipykernel)",
   "language": "python",
   "name": "python3"
  },
  "language_info": {
   "codemirror_mode": {
    "name": "ipython",
    "version": 3
   },
   "file_extension": ".py",
   "mimetype": "text/x-python",
   "name": "python",
   "nbconvert_exporter": "python",
   "pygments_lexer": "ipython3",
   "version": "3.9.12"
  }
 },
 "nbformat": 4,
 "nbformat_minor": 5
}
