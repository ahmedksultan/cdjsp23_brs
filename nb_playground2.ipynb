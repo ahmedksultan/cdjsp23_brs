{
 "cells": [
  {
   "cell_type": "markdown",
   "id": "a597fa23",
   "metadata": {},
   "source": [
    "# Big Red Soundscape\n",
    "Notebook Playground 2  \n",
    "_by Ahmed Sultan and Carly Hu, for Cornell Data Journal_"
   ]
  },
  {
   "cell_type": "code",
   "execution_count": null,
   "id": "989954b1",
   "metadata": {},
   "outputs": [],
   "source": [
    "import json\n",
    "import math\n",
    "\n",
    "import numpy as np\n",
    "import pandas as pd\n",
    "import spotipy\n",
    "from spotipy.oauth2 import SpotifyClientCredentials\n",
    "import matplotlib.pyplot as plt\n",
    "import seaborn as sns"
   ]
  },
  {
   "cell_type": "code",
   "execution_count": null,
   "id": "f314d673",
   "metadata": {},
   "outputs": [],
   "source": [
    "# update access keys here for Spotify API here :) \n",
    "client_id = 'f7661e34c0924317a8b928c0f977e6a7'\n",
    "client_secret = 'd068ec3f0a98490e9c32be820916e934'\n",
    "\n",
    "# sp is how we interface with the Spotify API\n",
    "# read the docs here: https://spotipy.readthedocs.io/en/2.22.1/\n",
    "sp = spotipy.Spotify(client_credentials_manager=\\\n",
    "                     SpotifyClientCredentials(client_id, client_secret))"
   ]
  },
  {
   "cell_type": "markdown",
   "id": "d76242ed",
   "metadata": {},
   "source": [
    "<h3> Look at your own stats! </h3>\n",
    "\n",
    "Feel free to put in your own spotify username in `selected_user` below, and if you run every cell, by the end of the notebook you will be able to see the information & statistics for __all of the songs that are on your public playlists__ (with duplicates removed). Have fun!"
   ]
  },
  {
   "cell_type": "code",
   "execution_count": null,
   "id": "2317c901",
   "metadata": {},
   "outputs": [],
   "source": [
    "# Big Data, Machine Learning...\n",
    "# https://www.youtube.com/watch?v=bqqCTC9nQDY\n",
    "\n",
    "# let's aggregate an entire user's public library of songs\n",
    "playlists = []\n",
    "LIMIT = 20\n",
    "selected_user = 'mittfard'\n",
    "\n",
    "query = sp.user_playlists(selected_user, limit=LIMIT)\n",
    "\n",
    "n = 0\n",
    "\n",
    "while len(query['items']) != 0:\n",
    "    n += LIMIT\n",
    "    for i in query['items']:\n",
    "        playlists.append({'title': i['name'],'id': i['id'], 'length': i['tracks']['total']})\n",
    "    if LIMIT == len(query['items']):\n",
    "        query = sp.user_playlists(selected_user, limit=LIMIT, offset=n)\n",
    "    else:\n",
    "        break\n",
    "        \n",
    "# there's definitely a cleaner way to do this that we'll figure out\n",
    "# im definitely lazy"
   ]
  },
  {
   "cell_type": "code",
   "execution_count": null,
   "id": "c35aefc1",
   "metadata": {},
   "outputs": [],
   "source": [
    "playlists"
   ]
  },
  {
   "cell_type": "code",
   "execution_count": null,
   "id": "23d66db8",
   "metadata": {},
   "outputs": [],
   "source": [
    "# number of public playlists\n",
    "print(len(playlists))"
   ]
  },
  {
   "cell_type": "code",
   "execution_count": null,
   "id": "f32f5971",
   "metadata": {},
   "outputs": [],
   "source": [
    "# making sure we can get all songs in a playlist rather than just the first 100\n",
    "# https://stackoverflow.com/questions/55690063/is-there-a-method-to-retrieve-all-tracks-from-a-playlist-using-spotipy \n",
    "\n",
    "def user_playlist_tracks_full(user, playlist_id=None, fields=None):\n",
    "    \"\"\" Get full details of the tracks of a playlist owned by a user.\n",
    "        https://developer.spotify.com/documentation/web-api/reference/playlists/get-playlists-tracks/\n",
    "\n",
    "        Parameters:\n",
    "            - user - the id of the user\n",
    "            - playlist_id - the id of the playlist\n",
    "            - fields - which fields to return\n",
    "    \"\"\"\n",
    "\n",
    "    # first run through also retrieves total no of songs in library\n",
    "    response = sp.user_playlist_tracks(user, playlist_id, fields=None, limit=100)\n",
    "    results = response[\"items\"]\n",
    "\n",
    "    # subsequently runs until it hits the user-defined limit or has read all songs in the library\n",
    "    while len(results) < response[\"total\"]:\n",
    "        response = sp.user_playlist_tracks(\n",
    "            user, playlist_id, fields=fields, limit=100, offset=len(results)\n",
    "        )\n",
    "        results.extend(response[\"items\"])\n",
    "    \n",
    "    return results\n",
    "        "
   ]
  },
  {
   "cell_type": "code",
   "execution_count": null,
   "id": "de4a89e8",
   "metadata": {},
   "outputs": [],
   "source": [
    "# now, let's go through each playlist\n",
    "# this will basically be the same as before\n",
    "\n",
    "songs = []\n",
    "\n",
    "for p in playlists:\n",
    "    \n",
    "    results = sp.playlist(p['id'])\n",
    "    \n",
    "    extended_results = user_playlist_tracks_full(user = selected_user, playlist_id = results['id']) # more than 100\n",
    "    \n",
    "    for r in extended_results:\n",
    "        try:\n",
    "            songs.append(r['track']['id']) \n",
    "        except:\n",
    "            pass\n",
    "\n",
    "print(len(songs)) # this is the total number of songs on your public playlists"
   ]
  },
  {
   "cell_type": "code",
   "execution_count": null,
   "id": "558a47df",
   "metadata": {},
   "outputs": [],
   "source": [
    "# helper function\n",
    "def get_tracks_full(songs):\n",
    "    results = []\n",
    "    while len(results) < len(songs):\n",
    "        response = (sp.tracks(songs[len(results):len(results) + 50]))['tracks']\n",
    "        results.extend(response)\n",
    "    return results"
   ]
  },
  {
   "cell_type": "code",
   "execution_count": null,
   "id": "94c4a695",
   "metadata": {},
   "outputs": [],
   "source": [
    "# this cell is creating a dataframe of your song information: artist, album, popularity, etc.\n",
    "\n",
    "songs_meta = get_tracks_full(songs)\n",
    "\n",
    "song_info = {'id': [], 'title': [], 'artist': [], 'album': [], \n",
    "             'explicit': [], 'popularity': []}\n",
    "    \n",
    "for i in songs_meta:\n",
    "    # append id to id column\n",
    "    song_info['id'].append(i['id'])\n",
    "    \n",
    "    # append song title to title column\n",
    "    song_info['title'].append(i['name'])\n",
    "    \n",
    "    # append artists to artist column\n",
    "    s = ', '\n",
    "    artists = s.join([name['name'] for name \\\n",
    "                     in i['artists']])\n",
    "    song_info['artist'].append(artists)\n",
    "    \n",
    "    # append album title to album column\n",
    "    song_info['album'].append(i['album']['name'])\n",
    "    \n",
    "    # append explicit info to explicit column\n",
    "    song_info['explicit'].append(i['explicit'])\n",
    "    \n",
    "    # append popularity info to popularity column\n",
    "    song_info['popularity'].append(i['popularity'])\n",
    "    \n",
    "# convert song_info dictionary -> Pandas DataFrame\n",
    "song_info_df = pd.DataFrame.from_dict(song_info)\n",
    "\n",
    "song_info_df = song_info_df.drop_duplicates(subset=['id'])\n",
    "song_info_df = song_info_df.dropna()\n",
    "print(song_info_df.columns)\n",
    "print(song_info_df.shape)"
   ]
  },
  {
   "cell_type": "code",
   "execution_count": null,
   "id": "2a2d040f",
   "metadata": {},
   "outputs": [],
   "source": [
    "#helper function \n",
    "\n",
    "def get_audio_features_full(songs):\n",
    "    results = []\n",
    "    while len(results) < len(songs):\n",
    "        response = sp.audio_features(songs[len(results):len(results) + 100])\n",
    "        response = list(filter(None, response))\n",
    "        results.extend(response)\n",
    "    return results"
   ]
  },
  {
   "cell_type": "code",
   "execution_count": null,
   "id": "6f0cfe5a",
   "metadata": {},
   "outputs": [],
   "source": [
    "# this cell is creating a dataframe of your song features: danceability, energy, loudness, etc\n",
    "\n",
    "features_df = pd.DataFrame.from_dict(get_audio_features_full(songs))\n",
    "features_df = features_df.drop_duplicates(subset=['id'])\n",
    "features_df = features_df.dropna()\n",
    "print(features_df.columns)\n",
    "print(features_df.shape)"
   ]
  },
  {
   "cell_type": "code",
   "execution_count": null,
   "id": "564c73a9",
   "metadata": {},
   "outputs": [],
   "source": [
    "# combining the two cleaned dataframes....\n",
    "df = song_info_df.merge(features_df)\n",
    "print(df.shape)\n",
    "df"
   ]
  },
  {
   "cell_type": "code",
   "execution_count": null,
   "id": "91b5de45",
   "metadata": {},
   "outputs": [],
   "source": [
    "features = ['popularity','danceability', 'energy', 'key', 'loudness', 'mode', 'speechiness',\n",
    "       'acousticness', 'instrumentalness', 'liveness', 'valence', 'tempo']\n",
    "\n",
    "feature_averages = []\n",
    "for feature in features:\n",
    "    avg =  df[feature].mean()\n",
    "    feature_averages.append(avg)\n",
    "\n",
    "print(feature_averages)"
   ]
  },
  {
   "cell_type": "code",
   "execution_count": null,
   "id": "4de1b53e",
   "metadata": {},
   "outputs": [],
   "source": []
  }
 ],
 "metadata": {
  "kernelspec": {
   "display_name": "Python 3 (ipykernel)",
   "language": "python",
   "name": "python3"
  },
  "language_info": {
   "codemirror_mode": {
    "name": "ipython",
    "version": 3
   },
   "file_extension": ".py",
   "mimetype": "text/x-python",
   "name": "python",
   "nbconvert_exporter": "python",
   "pygments_lexer": "ipython3",
   "version": "3.9.13"
  }
 },
 "nbformat": 4,
 "nbformat_minor": 5
}
