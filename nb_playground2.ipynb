{
 "cells": [
  {
   "cell_type": "markdown",
   "id": "a597fa23",
   "metadata": {},
   "source": [
    "# Big Red Soundscape\n",
    "Notebook Playground 2  \n",
    "_by Ahmed Sultan AND CARLY HU, for Cornell Data Journal_"
   ]
  },
  {
   "cell_type": "code",
   "execution_count": 149,
   "id": "989954b1",
   "metadata": {},
   "outputs": [],
   "source": [
    "import json\n",
    "import math\n",
    "\n",
    "import numpy as np\n",
    "import pandas as pd\n",
    "import spotipy\n",
    "from spotipy.oauth2 import SpotifyClientCredentials\n",
    "import matplotlib.pyplot as plt\n",
    "import seaborn as sns"
   ]
  },
  {
   "cell_type": "code",
   "execution_count": 150,
   "id": "f314d673",
   "metadata": {},
   "outputs": [],
   "source": [
    "# update access keys here for Spotify API here :) \n",
    "client_id = '860ada55cc094dbf906250fe2d4caf48'\n",
    "client_secret = '75fe4137c4a54541800d19b74dc706fb'\n",
    "\n",
    "# sp is how we interface with the Spotify API\n",
    "# read the docs here: https://spotipy.readthedocs.io/en/2.22.1/\n",
    "sp = spotipy.Spotify(client_credentials_manager=\\\n",
    "                     SpotifyClientCredentials(client_id, client_secret))"
   ]
  },
  {
   "cell_type": "code",
   "execution_count": 151,
   "id": "2317c901",
   "metadata": {},
   "outputs": [],
   "source": [
    "# Big Data, Machine Learning...\n",
    "# https://www.youtube.com/watch?v=bqqCTC9nQDY\n",
    "\n",
    "# let's aggregate an entire user's public library of songs\n",
    "playlists = []\n",
    "LIMIT = 20\n",
    "selected_user = 'mittfard'\n",
    "\n",
    "query = sp.user_playlists(selected_user, limit=LIMIT)\n",
    "\n",
    "n = 0\n",
    "\n",
    "while len(query['items']) != 0:\n",
    "    n += LIMIT\n",
    "    for i in query['items']:\n",
    "        playlists.append({'title': i['name'],'id': i['id'], 'length': i['tracks']['total']})\n",
    "    if LIMIT == len(query['items']):\n",
    "        query = sp.user_playlists(selected_user, limit=LIMIT, offset=n)\n",
    "    else:\n",
    "        break\n",
    "        \n",
    "# there's definitely a cleaner way to do this that we'll figure out\n",
    "# im definitely lazy"
   ]
  },
  {
   "cell_type": "code",
   "execution_count": 152,
   "id": "c35aefc1",
   "metadata": {},
   "outputs": [
    {
     "data": {
      "text/plain": [
       "[{'title': 'breakdown', 'id': '2POGswOpqoTIgAurmdEcyc', 'length': 45},\n",
       " {'title': \"qbert's final stand\",\n",
       "  'id': '2cXSVfvLNhsOkf2H9Z1t5c',\n",
       "  'length': 10},\n",
       " {'title': 'My Playlist #58', 'id': '7vOftmTSDEi6CoTVDXkpnx', 'length': 3701},\n",
       " {'title': 'quirked up white boy anthems',\n",
       "  'id': '2A7E3Qf7cDdmvcgTPtSo66',\n",
       "  'length': 0},\n",
       " {'title': 'cdj anthology', 'id': '5yiyV59j0MgWmOw85LkBAj', 'length': 5},\n",
       " {'title': 'torontgo', 'id': '4yfGFvrZ6cFi3BRV6zHqwX', 'length': 78},\n",
       " {'title': 'reconnaissance', 'id': '41v4e5mHvox6Z9Cgw7RKuq', 'length': 12},\n",
       " {'title': 'winter 22-23', 'id': '5arZaaT0vVmbATHhY2ApTQ', 'length': 19},\n",
       " {'title': 'sultanshocker', 'id': '6PBLr4yQMFvA1F29w0yjNL', 'length': 20},\n",
       " {'title': 'the burning west', 'id': '3eAN10OhUTApqY8ZjNqRYf', 'length': 34},\n",
       " {'title': 'tribulations', 'id': '1r1cUo2YmVFD4fr8LmR02u', 'length': 37},\n",
       " {'title': 'holographic', 'id': '4Yln2F3tsIcS4SPBWRuC0O', 'length': 50},\n",
       " {'title': 'xerox', 'id': '6vsGnUcUIhaHyvnyVpmSSU', 'length': 58},\n",
       " {'title': 'dec22', 'id': '3PIML59Bfgs9nmKRj5yxxk', 'length': 18},\n",
       " {'title': 'dec11', 'id': '1K5T3qL9zKZt680FCoRlAV', 'length': 96},\n",
       " {'title': 'level AKS', 'id': '56odD5coW6t3CozVwmbcK1', 'length': 147},\n",
       " {'title': '/tmp/', 'id': '0X9poJ5pjgF1bfFYHTGRrH', 'length': 27},\n",
       " {'title': '/tmp/120222', 'id': '473TEBmDACdyipXuF4rNE3', 'length': 21},\n",
       " {'title': 'concession', 'id': '1CjULACl4J9bIttNU5ygeL', 'length': 76},\n",
       " {'title': 'supernovae', 'id': '7KPVq0Om3udOJVlTIZakwA', 'length': 121},\n",
       " {'title': '/tmp/110622', 'id': '4lK0avDctasHCe871cI9g8', 'length': 37},\n",
       " {'title': '/tmp/101222', 'id': '1mpc8C7e2dpP44TKF2tYZM', 'length': 128},\n",
       " {'title': '/tmp/100722', 'id': '1OSfphBzo8UDVXsX09Xmam', 'length': 47},\n",
       " {'title': 'ultravillain', 'id': '71yNCqcZKUJXfHtMIR0epC', 'length': 17},\n",
       " {'title': 'channel sultan', 'id': '2chQzVmDva6zSx0t5NsHZI', 'length': 123},\n",
       " {'title': 'cornell COINsulting',\n",
       "  'id': '0S6soqsXkM8ckkCAzal1jd',\n",
       "  'length': 20},\n",
       " {'title': 'trials', 'id': '4DU7EB1z16lumvxDRqLyRJ', 'length': 12},\n",
       " {'title': 'GetReadyWithahmed 09.22.22',\n",
       "  'id': '26Tm2X79wsr4cjINVmBqpZ',\n",
       "  'length': 30},\n",
       " {'title': 'govball study hall',\n",
       "  'id': '3iLxRk9BLvhaLYwPbU4HIO',\n",
       "  'length': 141},\n",
       " {'title': 'off the wall', 'id': '2ZeURaAP7zafCZNbzPXwLP', 'length': 85},\n",
       " {'title': 'lake placid', 'id': '0yMJxlJzoky27AFVpkV6FJ', 'length': 21},\n",
       " {'title': 'the last show', 'id': '1pJvboGZznG7uFYoDRcpJK', 'length': 12},\n",
       " {'title': 'rock the qasbah', 'id': '6duaVAnIkAeX8KDID2vR5d', 'length': 71},\n",
       " {'title': 'spaceman', 'id': '7qE2gPfffeLWxas8wNR9KW', 'length': 48},\n",
       " {'title': 'incorporation', 'id': '3IKQDQAdPfEcGn6d72JUH3', 'length': 42},\n",
       " {'title': 'cruel summer', 'id': '5dznN2ZAIT4XUXEnj8IVOZ', 'length': 82},\n",
       " {'title': \"qbert's doomsday device\",\n",
       "  'id': '6auYUEcUJYRgBSjWYRNEW3',\n",
       "  'length': 39},\n",
       " {'title': 'the void', 'id': '7DxZp3C7ji8ZPVRk3wfSwS', 'length': 113},\n",
       " {'title': 'f for son qbert', 'id': '4kKDngcGfcctoqKuu4Rk7S', 'length': 293},\n",
       " {'title': 'who is qbert', 'id': '7hqqcOWqHCdwm990PHecn9', 'length': 133},\n",
       " {'title': 'the life of qbert', 'id': '7KTMQeG71qHUU2b2fug4mR', 'length': 186},\n",
       " {'title': 'qbertmania II ', 'id': '0MpYHi4SSsSEptWGG7b3PV', 'length': 111},\n",
       " {'title': 'i hate son qbert', 'id': '3b1MWPOFMfcyMfu7FUkUrY', 'length': 177},\n",
       " {'title': 'qbertmania', 'id': '4JIscAIbhuZnFUrIwHuBu1', 'length': 184},\n",
       " {'title': 'stuymun sotd anthology',\n",
       "  'id': '1FJYIHtaKntnEhRfAeU2kc',\n",
       "  'length': 111},\n",
       " {'title': 'whrw log', 'id': '35gL9DnZWxCOLyPYbSTAOU', 'length': 15},\n",
       " {'title': 'u woulda thought', 'id': '6gp2kw5IQceSko6JN9EtKm', 'length': 37},\n",
       " {'title': 'mister not nice II', 'id': '5P9b0MSgYAscDcy6IsGiaK', 'length': 87},\n",
       " {'title': 'mister not nice', 'id': '5UFXUH2FaK8vqx2Acr16iI', 'length': 75},\n",
       " {'title': 'dumb lit III', 'id': '1eN5hpkezKxOK3m2NT4DGj', 'length': 17},\n",
       " {'title': 'dumb lit II', 'id': '2UyshoZx63Ddz1OMh2Mmhw', 'length': 80},\n",
       " {'title': 'dumb lit', 'id': '0VBTmPxnasgP3KbGsFX6DU', 'length': 72}]"
      ]
     },
     "execution_count": 152,
     "metadata": {},
     "output_type": "execute_result"
    }
   ],
   "source": [
    "playlists"
   ]
  },
  {
   "cell_type": "code",
   "execution_count": 153,
   "id": "23d66db8",
   "metadata": {},
   "outputs": [
    {
     "name": "stdout",
     "output_type": "stream",
     "text": [
      "52\n"
     ]
    }
   ],
   "source": [
    "# number of public playlists\n",
    "print(len(playlists))"
   ]
  },
  {
   "cell_type": "code",
   "execution_count": 154,
   "id": "f32f5971",
   "metadata": {},
   "outputs": [],
   "source": [
    "# making sure we can get all songs in a playlist rather than just the first 100\n",
    "# https://stackoverflow.com/questions/55690063/is-there-a-method-to-retrieve-all-tracks-from-a-playlist-using-spotipy \n",
    "\n",
    "def user_playlist_tracks_full(user, playlist_id=None, fields=None):\n",
    "    \"\"\" Get full details of the tracks of a playlist owned by a user.\n",
    "        https://developer.spotify.com/documentation/web-api/reference/playlists/get-playlists-tracks/\n",
    "\n",
    "        Parameters:\n",
    "            - user - the id of the user\n",
    "            - playlist_id - the id of the playlist\n",
    "            - fields - which fields to return\n",
    "    \"\"\"\n",
    "\n",
    "    # first run through also retrieves total no of songs in library\n",
    "    response = sp.user_playlist_tracks(user, playlist_id, fields=None, limit=100)\n",
    "    results = response[\"items\"]\n",
    "\n",
    "    # subsequently runs until it hits the user-defined limit or has read all songs in the library\n",
    "    while len(results) < response[\"total\"]:\n",
    "        response = sp.user_playlist_tracks(\n",
    "            user, playlist_id, fields=fields, limit=100, offset=len(results)\n",
    "        )\n",
    "        results.extend(response[\"items\"])\n",
    "    \n",
    "    return results\n",
    "        "
   ]
  },
  {
   "cell_type": "code",
   "execution_count": 155,
   "id": "de4a89e8",
   "metadata": {},
   "outputs": [],
   "source": [
    "# now, let's go through each playlist\n",
    "# this will basically be the same as before\n",
    "\n",
    "songs = []\n",
    "\n",
    "for p in playlists:\n",
    "    \n",
    "    results = sp.playlist(p['id'])\n",
    "    \n",
    "    extended_results = user_playlist_tracks_full(user = selected_user, playlist_id = results['id']) # more than 100\n",
    "    \n",
    "    for r in extended_results:\n",
    "        songs.append(r['track']['id']) "
   ]
  },
  {
   "cell_type": "code",
   "execution_count": 148,
   "id": "c64ada55",
   "metadata": {},
   "outputs": [
    {
     "name": "stdout",
     "output_type": "stream",
     "text": [
      "7221\n"
     ]
    }
   ],
   "source": [
    "print(len(songs)) # total songs"
   ]
  },
  {
   "cell_type": "code",
   "execution_count": null,
   "id": "31a22247",
   "metadata": {},
   "outputs": [],
   "source": []
  }
 ],
 "metadata": {
  "kernelspec": {
   "display_name": "Python 3 (ipykernel)",
   "language": "python",
   "name": "python3"
  },
  "language_info": {
   "codemirror_mode": {
    "name": "ipython",
    "version": 3
   },
   "file_extension": ".py",
   "mimetype": "text/x-python",
   "name": "python",
   "nbconvert_exporter": "python",
   "pygments_lexer": "ipython3",
   "version": "3.9.12"
  }
 },
 "nbformat": 4,
 "nbformat_minor": 5
}
